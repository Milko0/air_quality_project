{
 "cells": [
  {
   "cell_type": "code",
   "execution_count": 2,
   "metadata": {},
   "outputs": [],
   "source": [
    "import pandas as pd\n",
    "import plotly.graph_objects as go\n",
    "import plotly.express as px\n",
    "from plotly.subplots import make_subplots\n",
    "import ipywidgets as widgets\n",
    "from IPython.display import display"
   ]
  },
  {
   "cell_type": "code",
   "execution_count": 3,
   "metadata": {},
   "outputs": [],
   "source": [
    "# 🔹 1. Cargar y preprocesar el dataset\n",
    "df = pd.read_excel(\"data\\data_emisores_gases_efecto_invernadero.xlsx\")\n",
    "\n",
    "# Preprocesamiento: llenar valores nulos con 0 en columnas numéricas\n",
    "columnas_numericas = [\n",
    "    'DIOXIDO_DE_CARBONO_GGCO2',\n",
    "    'METANO_GGCH4',\n",
    "    'METANO_EQUIVALENTE_GGCO2EQ',\n",
    "    'OXIDO_NITROSO_GGN2O',\n",
    "    'OXIDO_NITROSO_EQUIVALENTE_GGCO2EQ',\n",
    "    'EMISIONES_GEI_GGCO2EQ'\n",
    "]\n",
    "df[columnas_numericas] = df[columnas_numericas].fillna(0)\n",
    "\n",
    "# Llenar valores nulos en columnas categóricas\n",
    "df['SUBCATEGORIA'] = df['SUBCATEGORIA'].fillna('Sin especificar')\n",
    "df['CATEGORIA'] = df['CATEGORIA'].fillna('Sin especificar')\n",
    "df['FUENTE_DE_EMISION'] = df['FUENTE_DE_EMISION'].fillna('Sin especificar')"
   ]
  },
  {
   "cell_type": "code",
   "execution_count": 18,
   "metadata": {},
   "outputs": [
    {
     "data": {
      "application/vnd.plotly.v1+json": {
       "config": {
        "plotlyServerURL": "https://plot.ly"
       },
       "data": [
        {
         "branchvalues": "total",
         "customdata": [
          [
           256.77
          ],
          [
           86.18725586136595
          ],
          [
           1243.86
          ],
          [
           5610.54
          ],
          [
           2039.89
          ],
          [
           121.57
          ],
          [
           780.57
          ],
          [
           52.31000000000001
          ],
          [
           1566.4729641596557
          ],
          [
           6736.614505393213
          ],
          [
           111.38000000000001
          ],
          [
           2974.6161783836124
          ],
          [
           62.39
          ],
          [
           2924.2473128890933
          ],
          [
           24.43
          ],
          [
           1782.14
          ],
          [
           0.03
          ],
          [
           592.1
          ],
          [
           62.44
          ],
          [
           34.39
          ],
          [
           221.01999999999998
          ],
          [
           18.94
          ],
          [
           4607.18
          ],
          [
           13734.071438500448
          ],
          [
           8551.574183903893
          ],
          [
           2208.44
          ],
          [
           397.76
          ],
          [
           5775.559089224124
          ],
          [
           4607.18
          ],
          [
           2875.711053415153
          ],
          [
           3767.6060981578
          ],
          [
           13734.071438500448
          ],
          [
           52.31000000000001
          ],
          [
           460.65489972132127
          ],
          [
           1671.6289640370921
          ],
          [
           0.03
          ],
          [
           1932.0927984038065
          ],
          [
           18.94
          ],
          [
           9714.36385873575
          ],
          [
           3614.8341230770925
          ],
          [
           5271.557056049181
          ],
          [
           1281.4647937724278
          ]
         ],
         "domain": {
          "x": [
           0,
           1
          ],
          "y": [
           0,
           1
          ]
         },
         "hovertemplate": "labels=%{label}<br>EMISIONES_GEI_GGCO2EQ_sum=%{value}<br>parent=%{parent}<br>id=%{id}<br>EMISIONES_GEI_GGCO2EQ=%{color}<extra></extra>",
         "ids": [
          "AGRICULTURA, SILVICULTURA Y OTROS USOS DE LA TIERRA/FUENTES AGREGADAS Y FUENTES DE EMISION NO-CO2 EN LA TIERRA/APLICACION DE UREA",
          "ENERGIA /EMISIONES FUGITIVAS PROVENIENTES DE LA FABRICACION DE COMBUSTIBLES/COMBUSTIBLES SOLIDOS",
          "AGRICULTURA, SILVICULTURA Y OTROS USOS DE LA TIERRA/FUENTES AGREGADAS Y FUENTES DE EMISION NO-CO2 EN LA TIERRA/CULTIVO DE ARROZ",
          "AGRICULTURA, SILVICULTURA Y OTROS USOS DE LA TIERRA/FUENTES AGREGADAS Y FUENTES DE EMISION NO-CO2 EN LA TIERRA/EMISIONES DIRECTAS DE N2O DE SUELOS GESTIONADOS",
          "AGRICULTURA, SILVICULTURA Y OTROS USOS DE LA TIERRA/FUENTES AGREGADAS Y FUENTES DE EMISION NO-CO2 EN LA TIERRA/EMISIONES INDIRECTAS DE N2O DE SUELOS GESTIONADOS",
          "AGRICULTURA, SILVICULTURA Y OTROS USOS DE LA TIERRA/FUENTES AGREGADAS Y FUENTES DE EMISION NO-CO2 EN LA TIERRA/EMISIONES INDIRECTAS DE N2O POR MANEJO DEL ESTIERCOL",
          "AGRICULTURA, SILVICULTURA Y OTROS USOS DE LA TIERRA/FUENTES AGREGADAS Y FUENTES DE EMISION NO-CO2 EN LA TIERRA/EMISIONES POR QUEMA DE BIOMASA ",
          "DESECHOS/INCINERACION E INCINERACION ABIERTA DE DESECHOS SOLIDOS/INCINERACION ABIERTA DE DESECHOS",
          "ENERGIA /ACTIVIDADES DE QUEMA DE COMBUSTIBLES /INDUSTRIAS DE ENERGIA",
          "ENERGIA /ACTIVIDADES DE QUEMA DE COMBUSTIBLES /INDUSTRIAS MANUFACTURERAS Y DE LA CONSTRUCCION",
          "ENERGIA /ACTIVIDADES DE QUEMA DE COMBUSTIBLES /NO ESPECIFICADO",
          "ENERGIA /ACTIVIDADES DE QUEMA DE COMBUSTIBLES /OTROS SECTORES",
          "PROCESOS INDUSTRIALES Y USO DE PRODUCTOS /INDUSTRIA DE LOS MINERALES/OTROS USOS DE CARBONATOS ",
          "ENERGIA /EMISIONES FUGITIVAS PROVENIENTES DE LA FABRICACION DE COMBUSTIBLES/PETROLEO Y GAS NATURAL",
          "PROCESOS INDUSTRIALES Y USO DE PRODUCTOS /INDUSTRIA DE LOS MINERALES/PRODUCCION DE CAL",
          "PROCESOS INDUSTRIALES Y USO DE PRODUCTOS /INDUSTRIA DE LOS MINERALES/PRODUCCION DE CEMENTO",
          "PROCESOS INDUSTRIALES Y USO DE PRODUCTOS /INDUSTRIA QUIMICA/PRODUCCION DE CENIZA DE SOSA (CARBONATO DE SODIO)",
          "PROCESOS INDUSTRIALES Y USO DE PRODUCTOS /INDUSTRIA DE LOS METALES/PRODUCCION DE HIERRO Y ACERO",
          "PROCESOS INDUSTRIALES Y USO DE PRODUCTOS /INDUSTRIA DE LOS METALES/PRODUCCION DE PLOMO",
          "PROCESOS INDUSTRIALES Y USO DE PRODUCTOS /INDUSTRIA DE LOS MINERALES/PRODUCCION DE VIDRIO",
          "PROCESOS INDUSTRIALES Y USO DE PRODUCTOS /INDUSTRIA DE LOS METALES/PRODUCCION DE ZINC",
          "PROCESOS INDUSTRIALES Y USO DE PRODUCTOS /USO DE PRODUCTOS SUSTITUTOS DE LAS SUSTANCIAS QUE AGOTAN LA CAPA DE OZONO/REFRIGERACION Y AIRE ACONDICIONADO",
          "DESECHOS/ELIMINACION DE DESECHOS SOLIDOS/Sin especificar",
          "AGRICULTURA, SILVICULTURA Y OTROS USOS DE LA TIERRA/GANADO/Sin especificar",
          "ENERGIA /ACTIVIDADES DE QUEMA DE COMBUSTIBLES /TRANSPORTE",
          "DESECHOS/TRATAMIENTO Y ELIMINACION DE AGUAS RESIDUALES/TRATAMIENTO Y ELIMINACION DE AGUAS RESIDUALES DOMESTICAS",
          "DESECHOS/TRATAMIENTO Y ELIMINACION DE AGUAS RESIDUALES/TRATAMIENTO Y ELIMINACION DE AGUAS RESIDUALES INDUSTRIALES",
          "ENERGIA /ACTIVIDADES DE QUEMA DE COMBUSTIBLES ",
          "DESECHOS/ELIMINACION DE DESECHOS SOLIDOS",
          "ENERGIA /EMISIONES FUGITIVAS PROVENIENTES DE LA FABRICACION DE COMBUSTIBLES",
          "AGRICULTURA, SILVICULTURA Y OTROS USOS DE LA TIERRA/FUENTES AGREGADAS Y FUENTES DE EMISION NO-CO2 EN LA TIERRA",
          "AGRICULTURA, SILVICULTURA Y OTROS USOS DE LA TIERRA/GANADO",
          "DESECHOS/INCINERACION E INCINERACION ABIERTA DE DESECHOS SOLIDOS",
          "PROCESOS INDUSTRIALES Y USO DE PRODUCTOS /INDUSTRIA DE LOS METALES",
          "PROCESOS INDUSTRIALES Y USO DE PRODUCTOS /INDUSTRIA DE LOS MINERALES",
          "PROCESOS INDUSTRIALES Y USO DE PRODUCTOS /INDUSTRIA QUIMICA",
          "DESECHOS/TRATAMIENTO Y ELIMINACION DE AGUAS RESIDUALES",
          "PROCESOS INDUSTRIALES Y USO DE PRODUCTOS /USO DE PRODUCTOS SUSTITUTOS DE LAS SUSTANCIAS QUE AGOTAN LA CAPA DE OZONO",
          "AGRICULTURA, SILVICULTURA Y OTROS USOS DE LA TIERRA",
          "DESECHOS",
          "ENERGIA ",
          "PROCESOS INDUSTRIALES Y USO DE PRODUCTOS "
         ],
         "labels": [
          "APLICACION DE UREA",
          "COMBUSTIBLES SOLIDOS",
          "CULTIVO DE ARROZ",
          "EMISIONES DIRECTAS DE N2O DE SUELOS GESTIONADOS",
          "EMISIONES INDIRECTAS DE N2O DE SUELOS GESTIONADOS",
          "EMISIONES INDIRECTAS DE N2O POR MANEJO DEL ESTIERCOL",
          "EMISIONES POR QUEMA DE BIOMASA ",
          "INCINERACION ABIERTA DE DESECHOS",
          "INDUSTRIAS DE ENERGIA",
          "INDUSTRIAS MANUFACTURERAS Y DE LA CONSTRUCCION",
          "NO ESPECIFICADO",
          "OTROS SECTORES",
          "OTROS USOS DE CARBONATOS ",
          "PETROLEO Y GAS NATURAL",
          "PRODUCCION DE CAL",
          "PRODUCCION DE CEMENTO",
          "PRODUCCION DE CENIZA DE SOSA (CARBONATO DE SODIO)",
          "PRODUCCION DE HIERRO Y ACERO",
          "PRODUCCION DE PLOMO",
          "PRODUCCION DE VIDRIO",
          "PRODUCCION DE ZINC",
          "REFRIGERACION Y AIRE ACONDICIONADO",
          "Sin especificar",
          "Sin especificar",
          "TRANSPORTE",
          "TRATAMIENTO Y ELIMINACION DE AGUAS RESIDUALES DOMESTICAS",
          "TRATAMIENTO Y ELIMINACION DE AGUAS RESIDUALES INDUSTRIALES",
          "ACTIVIDADES DE QUEMA DE COMBUSTIBLES ",
          "ELIMINACION DE DESECHOS SOLIDOS",
          "EMISIONES FUGITIVAS PROVENIENTES DE LA FABRICACION DE COMBUSTIBLES",
          "FUENTES AGREGADAS Y FUENTES DE EMISION NO-CO2 EN LA TIERRA",
          "GANADO",
          "INCINERACION E INCINERACION ABIERTA DE DESECHOS SOLIDOS",
          "INDUSTRIA DE LOS METALES",
          "INDUSTRIA DE LOS MINERALES",
          "INDUSTRIA QUIMICA",
          "TRATAMIENTO Y ELIMINACION DE AGUAS RESIDUALES",
          "USO DE PRODUCTOS SUSTITUTOS DE LAS SUSTANCIAS QUE AGOTAN LA CAPA DE OZONO",
          "AGRICULTURA, SILVICULTURA Y OTROS USOS DE LA TIERRA",
          "DESECHOS",
          "ENERGIA ",
          "PROCESOS INDUSTRIALES Y USO DE PRODUCTOS "
         ],
         "marker": {
          "coloraxis": "coloraxis",
          "colors": [
           256.77,
           86.18725586136595,
           1243.86,
           5610.54,
           2039.89,
           121.57,
           780.57,
           52.31000000000001,
           1566.4729641596557,
           6736.614505393213,
           111.38000000000001,
           2974.6161783836124,
           62.39,
           2924.2473128890933,
           24.43,
           1782.14,
           0.03,
           592.1,
           62.44,
           34.39,
           221.01999999999998,
           18.94,
           4607.18,
           13734.071438500448,
           8551.574183903893,
           2208.44,
           397.76,
           5775.559089224124,
           4607.18,
           2875.711053415153,
           3767.6060981578,
           13734.071438500448,
           52.31000000000001,
           460.65489972132127,
           1671.6289640370921,
           0.03,
           1932.0927984038065,
           18.94,
           9714.36385873575,
           3614.8341230770925,
           5271.557056049181,
           1281.4647937724278
          ]
         },
         "name": "",
         "parents": [
          "AGRICULTURA, SILVICULTURA Y OTROS USOS DE LA TIERRA/FUENTES AGREGADAS Y FUENTES DE EMISION NO-CO2 EN LA TIERRA",
          "ENERGIA /EMISIONES FUGITIVAS PROVENIENTES DE LA FABRICACION DE COMBUSTIBLES",
          "AGRICULTURA, SILVICULTURA Y OTROS USOS DE LA TIERRA/FUENTES AGREGADAS Y FUENTES DE EMISION NO-CO2 EN LA TIERRA",
          "AGRICULTURA, SILVICULTURA Y OTROS USOS DE LA TIERRA/FUENTES AGREGADAS Y FUENTES DE EMISION NO-CO2 EN LA TIERRA",
          "AGRICULTURA, SILVICULTURA Y OTROS USOS DE LA TIERRA/FUENTES AGREGADAS Y FUENTES DE EMISION NO-CO2 EN LA TIERRA",
          "AGRICULTURA, SILVICULTURA Y OTROS USOS DE LA TIERRA/FUENTES AGREGADAS Y FUENTES DE EMISION NO-CO2 EN LA TIERRA",
          "AGRICULTURA, SILVICULTURA Y OTROS USOS DE LA TIERRA/FUENTES AGREGADAS Y FUENTES DE EMISION NO-CO2 EN LA TIERRA",
          "DESECHOS/INCINERACION E INCINERACION ABIERTA DE DESECHOS SOLIDOS",
          "ENERGIA /ACTIVIDADES DE QUEMA DE COMBUSTIBLES ",
          "ENERGIA /ACTIVIDADES DE QUEMA DE COMBUSTIBLES ",
          "ENERGIA /ACTIVIDADES DE QUEMA DE COMBUSTIBLES ",
          "ENERGIA /ACTIVIDADES DE QUEMA DE COMBUSTIBLES ",
          "PROCESOS INDUSTRIALES Y USO DE PRODUCTOS /INDUSTRIA DE LOS MINERALES",
          "ENERGIA /EMISIONES FUGITIVAS PROVENIENTES DE LA FABRICACION DE COMBUSTIBLES",
          "PROCESOS INDUSTRIALES Y USO DE PRODUCTOS /INDUSTRIA DE LOS MINERALES",
          "PROCESOS INDUSTRIALES Y USO DE PRODUCTOS /INDUSTRIA DE LOS MINERALES",
          "PROCESOS INDUSTRIALES Y USO DE PRODUCTOS /INDUSTRIA QUIMICA",
          "PROCESOS INDUSTRIALES Y USO DE PRODUCTOS /INDUSTRIA DE LOS METALES",
          "PROCESOS INDUSTRIALES Y USO DE PRODUCTOS /INDUSTRIA DE LOS METALES",
          "PROCESOS INDUSTRIALES Y USO DE PRODUCTOS /INDUSTRIA DE LOS MINERALES",
          "PROCESOS INDUSTRIALES Y USO DE PRODUCTOS /INDUSTRIA DE LOS METALES",
          "PROCESOS INDUSTRIALES Y USO DE PRODUCTOS /USO DE PRODUCTOS SUSTITUTOS DE LAS SUSTANCIAS QUE AGOTAN LA CAPA DE OZONO",
          "DESECHOS/ELIMINACION DE DESECHOS SOLIDOS",
          "AGRICULTURA, SILVICULTURA Y OTROS USOS DE LA TIERRA/GANADO",
          "ENERGIA /ACTIVIDADES DE QUEMA DE COMBUSTIBLES ",
          "DESECHOS/TRATAMIENTO Y ELIMINACION DE AGUAS RESIDUALES",
          "DESECHOS/TRATAMIENTO Y ELIMINACION DE AGUAS RESIDUALES",
          "ENERGIA ",
          "DESECHOS",
          "ENERGIA ",
          "AGRICULTURA, SILVICULTURA Y OTROS USOS DE LA TIERRA",
          "AGRICULTURA, SILVICULTURA Y OTROS USOS DE LA TIERRA",
          "DESECHOS",
          "PROCESOS INDUSTRIALES Y USO DE PRODUCTOS ",
          "PROCESOS INDUSTRIALES Y USO DE PRODUCTOS ",
          "PROCESOS INDUSTRIALES Y USO DE PRODUCTOS ",
          "DESECHOS",
          "PROCESOS INDUSTRIALES Y USO DE PRODUCTOS ",
          "",
          "",
          "",
          ""
         ],
         "type": "treemap",
         "values": [
          256.77,
          98.10000000000001,
          1243.86,
          5610.54,
          2039.89,
          121.57,
          780.57,
          52.31,
          4320.55,
          8375.34,
          111.38,
          5267.299999999999,
          62.39,
          5638.1,
          24.43,
          1782.14,
          0.03,
          592.1,
          62.44,
          34.39,
          221.02,
          18.94,
          4607.18,
          14872.71,
          9193.28,
          2208.44,
          397.76,
          27267.85,
          4607.18,
          5736.2,
          10053.2,
          14872.71,
          52.31,
          875.5600000000001,
          1903.3500000000001,
          0.03,
          2606.2,
          18.94,
          24925.91,
          7265.6900000000005,
          33004.05,
          2797.88
         ]
        }
       ],
       "layout": {
        "annotations": [
         {
          "font": {
           "size": 14
          },
          "showarrow": false,
          "text": "Escoger año:",
          "x": 1.05,
          "xref": "paper",
          "y": 1.15,
          "yref": "paper"
         }
        ],
        "coloraxis": {
         "colorbar": {
          "title": {
           "text": "EMISIONES_GEI_GGCO2EQ"
          }
         },
         "colorscale": [
          [
           0,
           "rgb(49,54,149)"
          ],
          [
           0.1,
           "rgb(69,117,180)"
          ],
          [
           0.2,
           "rgb(116,173,209)"
          ],
          [
           0.3,
           "rgb(171,217,233)"
          ],
          [
           0.4,
           "rgb(224,243,248)"
          ],
          [
           0.5,
           "rgb(255,255,191)"
          ],
          [
           0.6,
           "rgb(254,224,144)"
          ],
          [
           0.7,
           "rgb(253,174,97)"
          ],
          [
           0.8,
           "rgb(244,109,67)"
          ],
          [
           0.9,
           "rgb(215,48,39)"
          ],
          [
           1,
           "rgb(165,0,38)"
          ]
         ]
        },
        "height": 700,
        "legend": {
         "tracegroupgap": 0
        },
        "template": {
         "data": {
          "bar": [
           {
            "error_x": {
             "color": "#2a3f5f"
            },
            "error_y": {
             "color": "#2a3f5f"
            },
            "marker": {
             "line": {
              "color": "#E5ECF6",
              "width": 0.5
             },
             "pattern": {
              "fillmode": "overlay",
              "size": 10,
              "solidity": 0.2
             }
            },
            "type": "bar"
           }
          ],
          "barpolar": [
           {
            "marker": {
             "line": {
              "color": "#E5ECF6",
              "width": 0.5
             },
             "pattern": {
              "fillmode": "overlay",
              "size": 10,
              "solidity": 0.2
             }
            },
            "type": "barpolar"
           }
          ],
          "carpet": [
           {
            "aaxis": {
             "endlinecolor": "#2a3f5f",
             "gridcolor": "white",
             "linecolor": "white",
             "minorgridcolor": "white",
             "startlinecolor": "#2a3f5f"
            },
            "baxis": {
             "endlinecolor": "#2a3f5f",
             "gridcolor": "white",
             "linecolor": "white",
             "minorgridcolor": "white",
             "startlinecolor": "#2a3f5f"
            },
            "type": "carpet"
           }
          ],
          "choropleth": [
           {
            "colorbar": {
             "outlinewidth": 0,
             "ticks": ""
            },
            "type": "choropleth"
           }
          ],
          "contour": [
           {
            "colorbar": {
             "outlinewidth": 0,
             "ticks": ""
            },
            "colorscale": [
             [
              0,
              "#0d0887"
             ],
             [
              0.1111111111111111,
              "#46039f"
             ],
             [
              0.2222222222222222,
              "#7201a8"
             ],
             [
              0.3333333333333333,
              "#9c179e"
             ],
             [
              0.4444444444444444,
              "#bd3786"
             ],
             [
              0.5555555555555556,
              "#d8576b"
             ],
             [
              0.6666666666666666,
              "#ed7953"
             ],
             [
              0.7777777777777778,
              "#fb9f3a"
             ],
             [
              0.8888888888888888,
              "#fdca26"
             ],
             [
              1,
              "#f0f921"
             ]
            ],
            "type": "contour"
           }
          ],
          "contourcarpet": [
           {
            "colorbar": {
             "outlinewidth": 0,
             "ticks": ""
            },
            "type": "contourcarpet"
           }
          ],
          "heatmap": [
           {
            "colorbar": {
             "outlinewidth": 0,
             "ticks": ""
            },
            "colorscale": [
             [
              0,
              "#0d0887"
             ],
             [
              0.1111111111111111,
              "#46039f"
             ],
             [
              0.2222222222222222,
              "#7201a8"
             ],
             [
              0.3333333333333333,
              "#9c179e"
             ],
             [
              0.4444444444444444,
              "#bd3786"
             ],
             [
              0.5555555555555556,
              "#d8576b"
             ],
             [
              0.6666666666666666,
              "#ed7953"
             ],
             [
              0.7777777777777778,
              "#fb9f3a"
             ],
             [
              0.8888888888888888,
              "#fdca26"
             ],
             [
              1,
              "#f0f921"
             ]
            ],
            "type": "heatmap"
           }
          ],
          "heatmapgl": [
           {
            "colorbar": {
             "outlinewidth": 0,
             "ticks": ""
            },
            "colorscale": [
             [
              0,
              "#0d0887"
             ],
             [
              0.1111111111111111,
              "#46039f"
             ],
             [
              0.2222222222222222,
              "#7201a8"
             ],
             [
              0.3333333333333333,
              "#9c179e"
             ],
             [
              0.4444444444444444,
              "#bd3786"
             ],
             [
              0.5555555555555556,
              "#d8576b"
             ],
             [
              0.6666666666666666,
              "#ed7953"
             ],
             [
              0.7777777777777778,
              "#fb9f3a"
             ],
             [
              0.8888888888888888,
              "#fdca26"
             ],
             [
              1,
              "#f0f921"
             ]
            ],
            "type": "heatmapgl"
           }
          ],
          "histogram": [
           {
            "marker": {
             "pattern": {
              "fillmode": "overlay",
              "size": 10,
              "solidity": 0.2
             }
            },
            "type": "histogram"
           }
          ],
          "histogram2d": [
           {
            "colorbar": {
             "outlinewidth": 0,
             "ticks": ""
            },
            "colorscale": [
             [
              0,
              "#0d0887"
             ],
             [
              0.1111111111111111,
              "#46039f"
             ],
             [
              0.2222222222222222,
              "#7201a8"
             ],
             [
              0.3333333333333333,
              "#9c179e"
             ],
             [
              0.4444444444444444,
              "#bd3786"
             ],
             [
              0.5555555555555556,
              "#d8576b"
             ],
             [
              0.6666666666666666,
              "#ed7953"
             ],
             [
              0.7777777777777778,
              "#fb9f3a"
             ],
             [
              0.8888888888888888,
              "#fdca26"
             ],
             [
              1,
              "#f0f921"
             ]
            ],
            "type": "histogram2d"
           }
          ],
          "histogram2dcontour": [
           {
            "colorbar": {
             "outlinewidth": 0,
             "ticks": ""
            },
            "colorscale": [
             [
              0,
              "#0d0887"
             ],
             [
              0.1111111111111111,
              "#46039f"
             ],
             [
              0.2222222222222222,
              "#7201a8"
             ],
             [
              0.3333333333333333,
              "#9c179e"
             ],
             [
              0.4444444444444444,
              "#bd3786"
             ],
             [
              0.5555555555555556,
              "#d8576b"
             ],
             [
              0.6666666666666666,
              "#ed7953"
             ],
             [
              0.7777777777777778,
              "#fb9f3a"
             ],
             [
              0.8888888888888888,
              "#fdca26"
             ],
             [
              1,
              "#f0f921"
             ]
            ],
            "type": "histogram2dcontour"
           }
          ],
          "mesh3d": [
           {
            "colorbar": {
             "outlinewidth": 0,
             "ticks": ""
            },
            "type": "mesh3d"
           }
          ],
          "parcoords": [
           {
            "line": {
             "colorbar": {
              "outlinewidth": 0,
              "ticks": ""
             }
            },
            "type": "parcoords"
           }
          ],
          "pie": [
           {
            "automargin": true,
            "type": "pie"
           }
          ],
          "scatter": [
           {
            "fillpattern": {
             "fillmode": "overlay",
             "size": 10,
             "solidity": 0.2
            },
            "type": "scatter"
           }
          ],
          "scatter3d": [
           {
            "line": {
             "colorbar": {
              "outlinewidth": 0,
              "ticks": ""
             }
            },
            "marker": {
             "colorbar": {
              "outlinewidth": 0,
              "ticks": ""
             }
            },
            "type": "scatter3d"
           }
          ],
          "scattercarpet": [
           {
            "marker": {
             "colorbar": {
              "outlinewidth": 0,
              "ticks": ""
             }
            },
            "type": "scattercarpet"
           }
          ],
          "scattergeo": [
           {
            "marker": {
             "colorbar": {
              "outlinewidth": 0,
              "ticks": ""
             }
            },
            "type": "scattergeo"
           }
          ],
          "scattergl": [
           {
            "marker": {
             "colorbar": {
              "outlinewidth": 0,
              "ticks": ""
             }
            },
            "type": "scattergl"
           }
          ],
          "scattermapbox": [
           {
            "marker": {
             "colorbar": {
              "outlinewidth": 0,
              "ticks": ""
             }
            },
            "type": "scattermapbox"
           }
          ],
          "scatterpolar": [
           {
            "marker": {
             "colorbar": {
              "outlinewidth": 0,
              "ticks": ""
             }
            },
            "type": "scatterpolar"
           }
          ],
          "scatterpolargl": [
           {
            "marker": {
             "colorbar": {
              "outlinewidth": 0,
              "ticks": ""
             }
            },
            "type": "scatterpolargl"
           }
          ],
          "scatterternary": [
           {
            "marker": {
             "colorbar": {
              "outlinewidth": 0,
              "ticks": ""
             }
            },
            "type": "scatterternary"
           }
          ],
          "surface": [
           {
            "colorbar": {
             "outlinewidth": 0,
             "ticks": ""
            },
            "colorscale": [
             [
              0,
              "#0d0887"
             ],
             [
              0.1111111111111111,
              "#46039f"
             ],
             [
              0.2222222222222222,
              "#7201a8"
             ],
             [
              0.3333333333333333,
              "#9c179e"
             ],
             [
              0.4444444444444444,
              "#bd3786"
             ],
             [
              0.5555555555555556,
              "#d8576b"
             ],
             [
              0.6666666666666666,
              "#ed7953"
             ],
             [
              0.7777777777777778,
              "#fb9f3a"
             ],
             [
              0.8888888888888888,
              "#fdca26"
             ],
             [
              1,
              "#f0f921"
             ]
            ],
            "type": "surface"
           }
          ],
          "table": [
           {
            "cells": {
             "fill": {
              "color": "#EBF0F8"
             },
             "line": {
              "color": "white"
             }
            },
            "header": {
             "fill": {
              "color": "#C8D4E3"
             },
             "line": {
              "color": "white"
             }
            },
            "type": "table"
           }
          ]
         },
         "layout": {
          "annotationdefaults": {
           "arrowcolor": "#2a3f5f",
           "arrowhead": 0,
           "arrowwidth": 1
          },
          "autotypenumbers": "strict",
          "coloraxis": {
           "colorbar": {
            "outlinewidth": 0,
            "ticks": ""
           }
          },
          "colorscale": {
           "diverging": [
            [
             0,
             "#8e0152"
            ],
            [
             0.1,
             "#c51b7d"
            ],
            [
             0.2,
             "#de77ae"
            ],
            [
             0.3,
             "#f1b6da"
            ],
            [
             0.4,
             "#fde0ef"
            ],
            [
             0.5,
             "#f7f7f7"
            ],
            [
             0.6,
             "#e6f5d0"
            ],
            [
             0.7,
             "#b8e186"
            ],
            [
             0.8,
             "#7fbc41"
            ],
            [
             0.9,
             "#4d9221"
            ],
            [
             1,
             "#276419"
            ]
           ],
           "sequential": [
            [
             0,
             "#0d0887"
            ],
            [
             0.1111111111111111,
             "#46039f"
            ],
            [
             0.2222222222222222,
             "#7201a8"
            ],
            [
             0.3333333333333333,
             "#9c179e"
            ],
            [
             0.4444444444444444,
             "#bd3786"
            ],
            [
             0.5555555555555556,
             "#d8576b"
            ],
            [
             0.6666666666666666,
             "#ed7953"
            ],
            [
             0.7777777777777778,
             "#fb9f3a"
            ],
            [
             0.8888888888888888,
             "#fdca26"
            ],
            [
             1,
             "#f0f921"
            ]
           ],
           "sequentialminus": [
            [
             0,
             "#0d0887"
            ],
            [
             0.1111111111111111,
             "#46039f"
            ],
            [
             0.2222222222222222,
             "#7201a8"
            ],
            [
             0.3333333333333333,
             "#9c179e"
            ],
            [
             0.4444444444444444,
             "#bd3786"
            ],
            [
             0.5555555555555556,
             "#d8576b"
            ],
            [
             0.6666666666666666,
             "#ed7953"
            ],
            [
             0.7777777777777778,
             "#fb9f3a"
            ],
            [
             0.8888888888888888,
             "#fdca26"
            ],
            [
             1,
             "#f0f921"
            ]
           ]
          },
          "colorway": [
           "#636efa",
           "#EF553B",
           "#00cc96",
           "#ab63fa",
           "#FFA15A",
           "#19d3f3",
           "#FF6692",
           "#B6E880",
           "#FF97FF",
           "#FECB52"
          ],
          "font": {
           "color": "#2a3f5f"
          },
          "geo": {
           "bgcolor": "white",
           "lakecolor": "white",
           "landcolor": "#E5ECF6",
           "showlakes": true,
           "showland": true,
           "subunitcolor": "white"
          },
          "hoverlabel": {
           "align": "left"
          },
          "hovermode": "closest",
          "mapbox": {
           "style": "light"
          },
          "paper_bgcolor": "white",
          "plot_bgcolor": "#E5ECF6",
          "polar": {
           "angularaxis": {
            "gridcolor": "white",
            "linecolor": "white",
            "ticks": ""
           },
           "bgcolor": "#E5ECF6",
           "radialaxis": {
            "gridcolor": "white",
            "linecolor": "white",
            "ticks": ""
           }
          },
          "scene": {
           "xaxis": {
            "backgroundcolor": "#E5ECF6",
            "gridcolor": "white",
            "gridwidth": 2,
            "linecolor": "white",
            "showbackground": true,
            "ticks": "",
            "zerolinecolor": "white"
           },
           "yaxis": {
            "backgroundcolor": "#E5ECF6",
            "gridcolor": "white",
            "gridwidth": 2,
            "linecolor": "white",
            "showbackground": true,
            "ticks": "",
            "zerolinecolor": "white"
           },
           "zaxis": {
            "backgroundcolor": "#E5ECF6",
            "gridcolor": "white",
            "gridwidth": 2,
            "linecolor": "white",
            "showbackground": true,
            "ticks": "",
            "zerolinecolor": "white"
           }
          },
          "shapedefaults": {
           "line": {
            "color": "#2a3f5f"
           }
          },
          "ternary": {
           "aaxis": {
            "gridcolor": "white",
            "linecolor": "white",
            "ticks": ""
           },
           "baxis": {
            "gridcolor": "white",
            "linecolor": "white",
            "ticks": ""
           },
           "bgcolor": "#E5ECF6",
           "caxis": {
            "gridcolor": "white",
            "linecolor": "white",
            "ticks": ""
           }
          },
          "title": {
           "x": 0.05
          },
          "xaxis": {
           "automargin": true,
           "gridcolor": "white",
           "linecolor": "white",
           "ticks": "",
           "title": {
            "standoff": 15
           },
           "zerolinecolor": "white",
           "zerolinewidth": 2
          },
          "yaxis": {
           "automargin": true,
           "gridcolor": "white",
           "linecolor": "white",
           "ticks": "",
           "title": {
            "standoff": 15
           },
           "zerolinecolor": "white",
           "zerolinewidth": 2
          }
         }
        },
        "title": {
         "text": "Emisiones de GEI en el Año 2000"
        },
        "updatemenus": [
         {
          "buttons": [
           {
            "args": [
             {
              "ids": [
               [
                "AGRICULTURA, SILVICULTURA Y OTROS USOS DE LA TIERRA/FUENTES AGREGADAS Y FUENTES DE EMISION NO-CO2 EN LA TIERRA/APLICACION DE UREA",
                "ENERGIA /EMISIONES FUGITIVAS PROVENIENTES DE LA FABRICACION DE COMBUSTIBLES/COMBUSTIBLES SOLIDOS",
                "AGRICULTURA, SILVICULTURA Y OTROS USOS DE LA TIERRA/FUENTES AGREGADAS Y FUENTES DE EMISION NO-CO2 EN LA TIERRA/CULTIVO DE ARROZ",
                "AGRICULTURA, SILVICULTURA Y OTROS USOS DE LA TIERRA/FUENTES AGREGADAS Y FUENTES DE EMISION NO-CO2 EN LA TIERRA/EMISIONES DIRECTAS DE N2O DE SUELOS GESTIONADOS",
                "AGRICULTURA, SILVICULTURA Y OTROS USOS DE LA TIERRA/FUENTES AGREGADAS Y FUENTES DE EMISION NO-CO2 EN LA TIERRA/EMISIONES INDIRECTAS DE N2O DE SUELOS GESTIONADOS",
                "AGRICULTURA, SILVICULTURA Y OTROS USOS DE LA TIERRA/FUENTES AGREGADAS Y FUENTES DE EMISION NO-CO2 EN LA TIERRA/EMISIONES INDIRECTAS DE N2O POR MANEJO DEL ESTIERCOL",
                "AGRICULTURA, SILVICULTURA Y OTROS USOS DE LA TIERRA/FUENTES AGREGADAS Y FUENTES DE EMISION NO-CO2 EN LA TIERRA/EMISIONES POR QUEMA DE BIOMASA ",
                "DESECHOS/INCINERACION E INCINERACION ABIERTA DE DESECHOS SOLIDOS/INCINERACION ABIERTA DE DESECHOS",
                "ENERGIA /ACTIVIDADES DE QUEMA DE COMBUSTIBLES /INDUSTRIAS DE ENERGIA",
                "ENERGIA /ACTIVIDADES DE QUEMA DE COMBUSTIBLES /INDUSTRIAS MANUFACTURERAS Y DE LA CONSTRUCCION",
                "ENERGIA /ACTIVIDADES DE QUEMA DE COMBUSTIBLES /NO ESPECIFICADO",
                "ENERGIA /ACTIVIDADES DE QUEMA DE COMBUSTIBLES /OTROS SECTORES",
                "PROCESOS INDUSTRIALES Y USO DE PRODUCTOS /INDUSTRIA DE LOS MINERALES/OTROS USOS DE CARBONATOS ",
                "ENERGIA /EMISIONES FUGITIVAS PROVENIENTES DE LA FABRICACION DE COMBUSTIBLES/PETROLEO Y GAS NATURAL",
                "PROCESOS INDUSTRIALES Y USO DE PRODUCTOS /INDUSTRIA DE LOS MINERALES/PRODUCCION DE CAL",
                "PROCESOS INDUSTRIALES Y USO DE PRODUCTOS /INDUSTRIA DE LOS MINERALES/PRODUCCION DE CEMENTO",
                "PROCESOS INDUSTRIALES Y USO DE PRODUCTOS /INDUSTRIA QUIMICA/PRODUCCION DE CENIZA DE SOSA (CARBONATO DE SODIO)",
                "PROCESOS INDUSTRIALES Y USO DE PRODUCTOS /INDUSTRIA DE LOS METALES/PRODUCCION DE HIERRO Y ACERO",
                "PROCESOS INDUSTRIALES Y USO DE PRODUCTOS /INDUSTRIA DE LOS METALES/PRODUCCION DE PLOMO",
                "PROCESOS INDUSTRIALES Y USO DE PRODUCTOS /INDUSTRIA DE LOS MINERALES/PRODUCCION DE VIDRIO",
                "PROCESOS INDUSTRIALES Y USO DE PRODUCTOS /INDUSTRIA DE LOS METALES/PRODUCCION DE ZINC",
                "PROCESOS INDUSTRIALES Y USO DE PRODUCTOS /USO DE PRODUCTOS SUSTITUTOS DE LAS SUSTANCIAS QUE AGOTAN LA CAPA DE OZONO/REFRIGERACION Y AIRE ACONDICIONADO",
                "DESECHOS/ELIMINACION DE DESECHOS SOLIDOS/Sin especificar",
                "AGRICULTURA, SILVICULTURA Y OTROS USOS DE LA TIERRA/GANADO/Sin especificar",
                "ENERGIA /ACTIVIDADES DE QUEMA DE COMBUSTIBLES /TRANSPORTE",
                "DESECHOS/TRATAMIENTO Y ELIMINACION DE AGUAS RESIDUALES/TRATAMIENTO Y ELIMINACION DE AGUAS RESIDUALES DOMESTICAS",
                "DESECHOS/TRATAMIENTO Y ELIMINACION DE AGUAS RESIDUALES/TRATAMIENTO Y ELIMINACION DE AGUAS RESIDUALES INDUSTRIALES",
                "ENERGIA /ACTIVIDADES DE QUEMA DE COMBUSTIBLES ",
                "DESECHOS/ELIMINACION DE DESECHOS SOLIDOS",
                "ENERGIA /EMISIONES FUGITIVAS PROVENIENTES DE LA FABRICACION DE COMBUSTIBLES",
                "AGRICULTURA, SILVICULTURA Y OTROS USOS DE LA TIERRA/FUENTES AGREGADAS Y FUENTES DE EMISION NO-CO2 EN LA TIERRA",
                "AGRICULTURA, SILVICULTURA Y OTROS USOS DE LA TIERRA/GANADO",
                "DESECHOS/INCINERACION E INCINERACION ABIERTA DE DESECHOS SOLIDOS",
                "PROCESOS INDUSTRIALES Y USO DE PRODUCTOS /INDUSTRIA DE LOS METALES",
                "PROCESOS INDUSTRIALES Y USO DE PRODUCTOS /INDUSTRIA DE LOS MINERALES",
                "PROCESOS INDUSTRIALES Y USO DE PRODUCTOS /INDUSTRIA QUIMICA",
                "DESECHOS/TRATAMIENTO Y ELIMINACION DE AGUAS RESIDUALES",
                "PROCESOS INDUSTRIALES Y USO DE PRODUCTOS /USO DE PRODUCTOS SUSTITUTOS DE LAS SUSTANCIAS QUE AGOTAN LA CAPA DE OZONO",
                "AGRICULTURA, SILVICULTURA Y OTROS USOS DE LA TIERRA",
                "DESECHOS",
                "ENERGIA ",
                "PROCESOS INDUSTRIALES Y USO DE PRODUCTOS "
               ]
              ],
              "labels": [
               [
                "APLICACION DE UREA",
                "COMBUSTIBLES SOLIDOS",
                "CULTIVO DE ARROZ",
                "EMISIONES DIRECTAS DE N2O DE SUELOS GESTIONADOS",
                "EMISIONES INDIRECTAS DE N2O DE SUELOS GESTIONADOS",
                "EMISIONES INDIRECTAS DE N2O POR MANEJO DEL ESTIERCOL",
                "EMISIONES POR QUEMA DE BIOMASA ",
                "INCINERACION ABIERTA DE DESECHOS",
                "INDUSTRIAS DE ENERGIA",
                "INDUSTRIAS MANUFACTURERAS Y DE LA CONSTRUCCION",
                "NO ESPECIFICADO",
                "OTROS SECTORES",
                "OTROS USOS DE CARBONATOS ",
                "PETROLEO Y GAS NATURAL",
                "PRODUCCION DE CAL",
                "PRODUCCION DE CEMENTO",
                "PRODUCCION DE CENIZA DE SOSA (CARBONATO DE SODIO)",
                "PRODUCCION DE HIERRO Y ACERO",
                "PRODUCCION DE PLOMO",
                "PRODUCCION DE VIDRIO",
                "PRODUCCION DE ZINC",
                "REFRIGERACION Y AIRE ACONDICIONADO",
                "Sin especificar",
                "Sin especificar",
                "TRANSPORTE",
                "TRATAMIENTO Y ELIMINACION DE AGUAS RESIDUALES DOMESTICAS",
                "TRATAMIENTO Y ELIMINACION DE AGUAS RESIDUALES INDUSTRIALES",
                "ACTIVIDADES DE QUEMA DE COMBUSTIBLES ",
                "ELIMINACION DE DESECHOS SOLIDOS",
                "EMISIONES FUGITIVAS PROVENIENTES DE LA FABRICACION DE COMBUSTIBLES",
                "FUENTES AGREGADAS Y FUENTES DE EMISION NO-CO2 EN LA TIERRA",
                "GANADO",
                "INCINERACION E INCINERACION ABIERTA DE DESECHOS SOLIDOS",
                "INDUSTRIA DE LOS METALES",
                "INDUSTRIA DE LOS MINERALES",
                "INDUSTRIA QUIMICA",
                "TRATAMIENTO Y ELIMINACION DE AGUAS RESIDUALES",
                "USO DE PRODUCTOS SUSTITUTOS DE LAS SUSTANCIAS QUE AGOTAN LA CAPA DE OZONO",
                "AGRICULTURA, SILVICULTURA Y OTROS USOS DE LA TIERRA",
                "DESECHOS",
                "ENERGIA ",
                "PROCESOS INDUSTRIALES Y USO DE PRODUCTOS "
               ]
              ],
              "parents": [
               [
                "AGRICULTURA, SILVICULTURA Y OTROS USOS DE LA TIERRA/FUENTES AGREGADAS Y FUENTES DE EMISION NO-CO2 EN LA TIERRA",
                "ENERGIA /EMISIONES FUGITIVAS PROVENIENTES DE LA FABRICACION DE COMBUSTIBLES",
                "AGRICULTURA, SILVICULTURA Y OTROS USOS DE LA TIERRA/FUENTES AGREGADAS Y FUENTES DE EMISION NO-CO2 EN LA TIERRA",
                "AGRICULTURA, SILVICULTURA Y OTROS USOS DE LA TIERRA/FUENTES AGREGADAS Y FUENTES DE EMISION NO-CO2 EN LA TIERRA",
                "AGRICULTURA, SILVICULTURA Y OTROS USOS DE LA TIERRA/FUENTES AGREGADAS Y FUENTES DE EMISION NO-CO2 EN LA TIERRA",
                "AGRICULTURA, SILVICULTURA Y OTROS USOS DE LA TIERRA/FUENTES AGREGADAS Y FUENTES DE EMISION NO-CO2 EN LA TIERRA",
                "AGRICULTURA, SILVICULTURA Y OTROS USOS DE LA TIERRA/FUENTES AGREGADAS Y FUENTES DE EMISION NO-CO2 EN LA TIERRA",
                "DESECHOS/INCINERACION E INCINERACION ABIERTA DE DESECHOS SOLIDOS",
                "ENERGIA /ACTIVIDADES DE QUEMA DE COMBUSTIBLES ",
                "ENERGIA /ACTIVIDADES DE QUEMA DE COMBUSTIBLES ",
                "ENERGIA /ACTIVIDADES DE QUEMA DE COMBUSTIBLES ",
                "ENERGIA /ACTIVIDADES DE QUEMA DE COMBUSTIBLES ",
                "PROCESOS INDUSTRIALES Y USO DE PRODUCTOS /INDUSTRIA DE LOS MINERALES",
                "ENERGIA /EMISIONES FUGITIVAS PROVENIENTES DE LA FABRICACION DE COMBUSTIBLES",
                "PROCESOS INDUSTRIALES Y USO DE PRODUCTOS /INDUSTRIA DE LOS MINERALES",
                "PROCESOS INDUSTRIALES Y USO DE PRODUCTOS /INDUSTRIA DE LOS MINERALES",
                "PROCESOS INDUSTRIALES Y USO DE PRODUCTOS /INDUSTRIA QUIMICA",
                "PROCESOS INDUSTRIALES Y USO DE PRODUCTOS /INDUSTRIA DE LOS METALES",
                "PROCESOS INDUSTRIALES Y USO DE PRODUCTOS /INDUSTRIA DE LOS METALES",
                "PROCESOS INDUSTRIALES Y USO DE PRODUCTOS /INDUSTRIA DE LOS MINERALES",
                "PROCESOS INDUSTRIALES Y USO DE PRODUCTOS /INDUSTRIA DE LOS METALES",
                "PROCESOS INDUSTRIALES Y USO DE PRODUCTOS /USO DE PRODUCTOS SUSTITUTOS DE LAS SUSTANCIAS QUE AGOTAN LA CAPA DE OZONO",
                "DESECHOS/ELIMINACION DE DESECHOS SOLIDOS",
                "AGRICULTURA, SILVICULTURA Y OTROS USOS DE LA TIERRA/GANADO",
                "ENERGIA /ACTIVIDADES DE QUEMA DE COMBUSTIBLES ",
                "DESECHOS/TRATAMIENTO Y ELIMINACION DE AGUAS RESIDUALES",
                "DESECHOS/TRATAMIENTO Y ELIMINACION DE AGUAS RESIDUALES",
                "ENERGIA ",
                "DESECHOS",
                "ENERGIA ",
                "AGRICULTURA, SILVICULTURA Y OTROS USOS DE LA TIERRA",
                "AGRICULTURA, SILVICULTURA Y OTROS USOS DE LA TIERRA",
                "DESECHOS",
                "PROCESOS INDUSTRIALES Y USO DE PRODUCTOS ",
                "PROCESOS INDUSTRIALES Y USO DE PRODUCTOS ",
                "PROCESOS INDUSTRIALES Y USO DE PRODUCTOS ",
                "DESECHOS",
                "PROCESOS INDUSTRIALES Y USO DE PRODUCTOS ",
                "",
                "",
                "",
                ""
               ]
              ],
              "type": "treemap",
              "values": [
               [
                256.77,
                98.10000000000001,
                1243.86,
                5610.54,
                2039.89,
                121.57,
                780.57,
                52.31,
                4320.55,
                8375.34,
                111.38,
                5267.299999999999,
                62.39,
                5638.1,
                24.43,
                1782.14,
                0.03,
                592.1,
                62.44,
                34.39,
                221.02,
                18.94,
                4607.18,
                14872.71,
                9193.28,
                2208.44,
                397.76,
                27267.85,
                4607.18,
                5736.2,
                10053.2,
                14872.71,
                52.31,
                875.5600000000001,
                1903.3500000000001,
                0.03,
                2606.2,
                18.94,
                24925.91,
                7265.6900000000005,
                33004.05,
                2797.88
               ]
              ]
             },
             {
              "title": "Emisiones de GEI en el Año 2000"
             }
            ],
            "label": "2000",
            "method": "update"
           },
           {
            "args": [
             {
              "ids": [
               [
                "AGRICULTURA, SILVICULTURA Y OTROS USOS DE LA TIERRA/FUENTES AGREGADAS Y FUENTES DE EMISION NO-CO2 EN LA TIERRA/APLICACION DE UREA",
                "ENERGIA /EMISIONES FUGITIVAS PROVENIENTES DE LA FABRICACION DE COMBUSTIBLES/COMBUSTIBLES SOLIDOS",
                "AGRICULTURA, SILVICULTURA Y OTROS USOS DE LA TIERRA/FUENTES AGREGADAS Y FUENTES DE EMISION NO-CO2 EN LA TIERRA/CULTIVO DE ARROZ",
                "AGRICULTURA, SILVICULTURA Y OTROS USOS DE LA TIERRA/FUENTES AGREGADAS Y FUENTES DE EMISION NO-CO2 EN LA TIERRA/EMISIONES DIRECTAS DE N2O DE SUELOS GESTIONADOS",
                "AGRICULTURA, SILVICULTURA Y OTROS USOS DE LA TIERRA/FUENTES AGREGADAS Y FUENTES DE EMISION NO-CO2 EN LA TIERRA/EMISIONES INDIRECTAS DE N2O DE SUELOS GESTIONADOS",
                "AGRICULTURA, SILVICULTURA Y OTROS USOS DE LA TIERRA/FUENTES AGREGADAS Y FUENTES DE EMISION NO-CO2 EN LA TIERRA/EMISIONES INDIRECTAS DE N2O POR MANEJO DEL ESTIERCOL",
                "AGRICULTURA, SILVICULTURA Y OTROS USOS DE LA TIERRA/FUENTES AGREGADAS Y FUENTES DE EMISION NO-CO2 EN LA TIERRA/EMISIONES POR QUEMA DE BIOMASA ",
                "DESECHOS/INCINERACION E INCINERACION ABIERTA DE DESECHOS SOLIDOS/INCINERACION ABIERTA DE DESECHOS",
                "ENERGIA /ACTIVIDADES DE QUEMA DE COMBUSTIBLES /INDUSTRIAS DE ENERGIA",
                "ENERGIA /ACTIVIDADES DE QUEMA DE COMBUSTIBLES /INDUSTRIAS MANUFACTURERAS Y DE LA CONSTRUCCION",
                "ENERGIA /ACTIVIDADES DE QUEMA DE COMBUSTIBLES /NO ESPECIFICADO",
                "ENERGIA /ACTIVIDADES DE QUEMA DE COMBUSTIBLES /OTROS SECTORES",
                "PROCESOS INDUSTRIALES Y USO DE PRODUCTOS /INDUSTRIA DE LOS MINERALES/OTROS USOS DE CARBONATOS ",
                "ENERGIA /EMISIONES FUGITIVAS PROVENIENTES DE LA FABRICACION DE COMBUSTIBLES/PETROLEO Y GAS NATURAL",
                "PROCESOS INDUSTRIALES Y USO DE PRODUCTOS /INDUSTRIA QUIMICA/PRODUCCION DE ACIDO NITRICO",
                "PROCESOS INDUSTRIALES Y USO DE PRODUCTOS /INDUSTRIA DE LOS MINERALES/PRODUCCION DE CAL",
                "PROCESOS INDUSTRIALES Y USO DE PRODUCTOS /INDUSTRIA DE LOS MINERALES/PRODUCCION DE CEMENTO",
                "PROCESOS INDUSTRIALES Y USO DE PRODUCTOS /INDUSTRIA QUIMICA/PRODUCCION DE CENIZA DE SOSA (CARBONATO DE SODIO)",
                "PROCESOS INDUSTRIALES Y USO DE PRODUCTOS /INDUSTRIA DE LOS METALES/PRODUCCION DE HIERRO Y ACERO",
                "PROCESOS INDUSTRIALES Y USO DE PRODUCTOS /INDUSTRIA DE LOS METALES/PRODUCCION DE PLOMO",
                "PROCESOS INDUSTRIALES Y USO DE PRODUCTOS /INDUSTRIA DE LOS MINERALES/PRODUCCION DE VIDRIO",
                "PROCESOS INDUSTRIALES Y USO DE PRODUCTOS /INDUSTRIA DE LOS METALES/PRODUCCION DE ZINC",
                "PROCESOS INDUSTRIALES Y USO DE PRODUCTOS /USO DE PRODUCTOS SUSTITUTOS DE LAS SUSTANCIAS QUE AGOTAN LA CAPA DE OZONO/REFRIGERACION Y AIRE ACONDICIONADO",
                "DESECHOS/ELIMINACION DE DESECHOS SOLIDOS/Sin especificar",
                "AGRICULTURA, SILVICULTURA Y OTROS USOS DE LA TIERRA/GANADO/Sin especificar",
                "ENERGIA /ACTIVIDADES DE QUEMA DE COMBUSTIBLES /TRANSPORTE",
                "DESECHOS/TRATAMIENTO Y ELIMINACION DE AGUAS RESIDUALES/TRATAMIENTO Y ELIMINACION DE AGUAS RESIDUALES DOMESTICAS",
                "DESECHOS/TRATAMIENTO Y ELIMINACION DE AGUAS RESIDUALES/TRATAMIENTO Y ELIMINACION DE AGUAS RESIDUALES INDUSTRIALES",
                "ENERGIA /ACTIVIDADES DE QUEMA DE COMBUSTIBLES ",
                "DESECHOS/ELIMINACION DE DESECHOS SOLIDOS",
                "ENERGIA /EMISIONES FUGITIVAS PROVENIENTES DE LA FABRICACION DE COMBUSTIBLES",
                "AGRICULTURA, SILVICULTURA Y OTROS USOS DE LA TIERRA/FUENTES AGREGADAS Y FUENTES DE EMISION NO-CO2 EN LA TIERRA",
                "AGRICULTURA, SILVICULTURA Y OTROS USOS DE LA TIERRA/GANADO",
                "DESECHOS/INCINERACION E INCINERACION ABIERTA DE DESECHOS SOLIDOS",
                "PROCESOS INDUSTRIALES Y USO DE PRODUCTOS /INDUSTRIA DE LOS METALES",
                "PROCESOS INDUSTRIALES Y USO DE PRODUCTOS /INDUSTRIA DE LOS MINERALES",
                "PROCESOS INDUSTRIALES Y USO DE PRODUCTOS /INDUSTRIA QUIMICA",
                "DESECHOS/TRATAMIENTO Y ELIMINACION DE AGUAS RESIDUALES",
                "PROCESOS INDUSTRIALES Y USO DE PRODUCTOS /USO DE PRODUCTOS SUSTITUTOS DE LAS SUSTANCIAS QUE AGOTAN LA CAPA DE OZONO",
                "AGRICULTURA, SILVICULTURA Y OTROS USOS DE LA TIERRA",
                "DESECHOS",
                "ENERGIA ",
                "PROCESOS INDUSTRIALES Y USO DE PRODUCTOS "
               ]
              ],
              "labels": [
               [
                "APLICACION DE UREA",
                "COMBUSTIBLES SOLIDOS",
                "CULTIVO DE ARROZ",
                "EMISIONES DIRECTAS DE N2O DE SUELOS GESTIONADOS",
                "EMISIONES INDIRECTAS DE N2O DE SUELOS GESTIONADOS",
                "EMISIONES INDIRECTAS DE N2O POR MANEJO DEL ESTIERCOL",
                "EMISIONES POR QUEMA DE BIOMASA ",
                "INCINERACION ABIERTA DE DESECHOS",
                "INDUSTRIAS DE ENERGIA",
                "INDUSTRIAS MANUFACTURERAS Y DE LA CONSTRUCCION",
                "NO ESPECIFICADO",
                "OTROS SECTORES",
                "OTROS USOS DE CARBONATOS ",
                "PETROLEO Y GAS NATURAL",
                "PRODUCCION DE ACIDO NITRICO",
                "PRODUCCION DE CAL",
                "PRODUCCION DE CEMENTO",
                "PRODUCCION DE CENIZA DE SOSA (CARBONATO DE SODIO)",
                "PRODUCCION DE HIERRO Y ACERO",
                "PRODUCCION DE PLOMO",
                "PRODUCCION DE VIDRIO",
                "PRODUCCION DE ZINC",
                "REFRIGERACION Y AIRE ACONDICIONADO",
                "Sin especificar",
                "Sin especificar",
                "TRANSPORTE",
                "TRATAMIENTO Y ELIMINACION DE AGUAS RESIDUALES DOMESTICAS",
                "TRATAMIENTO Y ELIMINACION DE AGUAS RESIDUALES INDUSTRIALES",
                "ACTIVIDADES DE QUEMA DE COMBUSTIBLES ",
                "ELIMINACION DE DESECHOS SOLIDOS",
                "EMISIONES FUGITIVAS PROVENIENTES DE LA FABRICACION DE COMBUSTIBLES",
                "FUENTES AGREGADAS Y FUENTES DE EMISION NO-CO2 EN LA TIERRA",
                "GANADO",
                "INCINERACION E INCINERACION ABIERTA DE DESECHOS SOLIDOS",
                "INDUSTRIA DE LOS METALES",
                "INDUSTRIA DE LOS MINERALES",
                "INDUSTRIA QUIMICA",
                "TRATAMIENTO Y ELIMINACION DE AGUAS RESIDUALES",
                "USO DE PRODUCTOS SUSTITUTOS DE LAS SUSTANCIAS QUE AGOTAN LA CAPA DE OZONO",
                "AGRICULTURA, SILVICULTURA Y OTROS USOS DE LA TIERRA",
                "DESECHOS",
                "ENERGIA ",
                "PROCESOS INDUSTRIALES Y USO DE PRODUCTOS "
               ]
              ],
              "parents": [
               [
                "AGRICULTURA, SILVICULTURA Y OTROS USOS DE LA TIERRA/FUENTES AGREGADAS Y FUENTES DE EMISION NO-CO2 EN LA TIERRA",
                "ENERGIA /EMISIONES FUGITIVAS PROVENIENTES DE LA FABRICACION DE COMBUSTIBLES",
                "AGRICULTURA, SILVICULTURA Y OTROS USOS DE LA TIERRA/FUENTES AGREGADAS Y FUENTES DE EMISION NO-CO2 EN LA TIERRA",
                "AGRICULTURA, SILVICULTURA Y OTROS USOS DE LA TIERRA/FUENTES AGREGADAS Y FUENTES DE EMISION NO-CO2 EN LA TIERRA",
                "AGRICULTURA, SILVICULTURA Y OTROS USOS DE LA TIERRA/FUENTES AGREGADAS Y FUENTES DE EMISION NO-CO2 EN LA TIERRA",
                "AGRICULTURA, SILVICULTURA Y OTROS USOS DE LA TIERRA/FUENTES AGREGADAS Y FUENTES DE EMISION NO-CO2 EN LA TIERRA",
                "AGRICULTURA, SILVICULTURA Y OTROS USOS DE LA TIERRA/FUENTES AGREGADAS Y FUENTES DE EMISION NO-CO2 EN LA TIERRA",
                "DESECHOS/INCINERACION E INCINERACION ABIERTA DE DESECHOS SOLIDOS",
                "ENERGIA /ACTIVIDADES DE QUEMA DE COMBUSTIBLES ",
                "ENERGIA /ACTIVIDADES DE QUEMA DE COMBUSTIBLES ",
                "ENERGIA /ACTIVIDADES DE QUEMA DE COMBUSTIBLES ",
                "ENERGIA /ACTIVIDADES DE QUEMA DE COMBUSTIBLES ",
                "PROCESOS INDUSTRIALES Y USO DE PRODUCTOS /INDUSTRIA DE LOS MINERALES",
                "ENERGIA /EMISIONES FUGITIVAS PROVENIENTES DE LA FABRICACION DE COMBUSTIBLES",
                "PROCESOS INDUSTRIALES Y USO DE PRODUCTOS /INDUSTRIA QUIMICA",
                "PROCESOS INDUSTRIALES Y USO DE PRODUCTOS /INDUSTRIA DE LOS MINERALES",
                "PROCESOS INDUSTRIALES Y USO DE PRODUCTOS /INDUSTRIA DE LOS MINERALES",
                "PROCESOS INDUSTRIALES Y USO DE PRODUCTOS /INDUSTRIA QUIMICA",
                "PROCESOS INDUSTRIALES Y USO DE PRODUCTOS /INDUSTRIA DE LOS METALES",
                "PROCESOS INDUSTRIALES Y USO DE PRODUCTOS /INDUSTRIA DE LOS METALES",
                "PROCESOS INDUSTRIALES Y USO DE PRODUCTOS /INDUSTRIA DE LOS MINERALES",
                "PROCESOS INDUSTRIALES Y USO DE PRODUCTOS /INDUSTRIA DE LOS METALES",
                "PROCESOS INDUSTRIALES Y USO DE PRODUCTOS /USO DE PRODUCTOS SUSTITUTOS DE LAS SUSTANCIAS QUE AGOTAN LA CAPA DE OZONO",
                "DESECHOS/ELIMINACION DE DESECHOS SOLIDOS",
                "AGRICULTURA, SILVICULTURA Y OTROS USOS DE LA TIERRA/GANADO",
                "ENERGIA /ACTIVIDADES DE QUEMA DE COMBUSTIBLES ",
                "DESECHOS/TRATAMIENTO Y ELIMINACION DE AGUAS RESIDUALES",
                "DESECHOS/TRATAMIENTO Y ELIMINACION DE AGUAS RESIDUALES",
                "ENERGIA ",
                "DESECHOS",
                "ENERGIA ",
                "AGRICULTURA, SILVICULTURA Y OTROS USOS DE LA TIERRA",
                "AGRICULTURA, SILVICULTURA Y OTROS USOS DE LA TIERRA",
                "DESECHOS",
                "PROCESOS INDUSTRIALES Y USO DE PRODUCTOS ",
                "PROCESOS INDUSTRIALES Y USO DE PRODUCTOS ",
                "PROCESOS INDUSTRIALES Y USO DE PRODUCTOS ",
                "DESECHOS",
                "PROCESOS INDUSTRIALES Y USO DE PRODUCTOS ",
                "",
                "",
                "",
                ""
               ]
              ],
              "type": "treemap",
              "values": [
               [
                181.77,
                111.44,
                1547,
                5829.49,
                2130.63,
                134.96,
                791.08,
                52.31,
                6806.139999999999,
                8281.85,
                80.66,
                4399.62,
                79.69,
                7882.47,
                9.73,
                147.44,
                2375.59,
                0.05,
                574.87,
                63.48,
                34.78,
                281.4,
                53.99,
                4844.75,
                15627.92,
                9628.36,
                2583.66,
                415.61,
                29196.63,
                4844.75,
                7993.91,
                10614.93,
                15627.92,
                52.31,
                919.75,
                2637.5,
                9.780000000000001,
                2999.27,
                53.99,
                26242.85,
                7896.33,
                37190.54,
                3621.02
               ]
              ]
             },
             {
              "title": "Emisiones de GEI en el Año 2005"
             }
            ],
            "label": "2005",
            "method": "update"
           },
           {
            "args": [
             {
              "ids": [
               [
                "AGRICULTURA, SILVICULTURA Y OTROS USOS DE LA TIERRA/FUENTES AGREGADAS Y FUENTES DE EMISION NO-CO2 EN LA TIERRA/APLICACION DE UREA",
                "AGRICULTURA, SILVICULTURA Y OTROS USOS DE LA TIERRA/TIERRAS/ASENTAMIENTOS",
                "ENERGIA /EMISIONES FUGITIVAS PROVENIENTES DE LA FABRICACION DE COMBUSTIBLES/COMBUSTIBLES SOLIDOS",
                "AGRICULTURA, SILVICULTURA Y OTROS USOS DE LA TIERRA/FUENTES AGREGADAS Y FUENTES DE EMISION NO-CO2 EN LA TIERRA/CULTIVO DE ARROZ",
                "AGRICULTURA, SILVICULTURA Y OTROS USOS DE LA TIERRA/FUENTES AGREGADAS Y FUENTES DE EMISION NO-CO2 EN LA TIERRA/EMISIONES DIRECTAS DE N2O DE SUELOS GESTIONADOS",
                "AGRICULTURA, SILVICULTURA Y OTROS USOS DE LA TIERRA/FUENTES AGREGADAS Y FUENTES DE EMISION NO-CO2 EN LA TIERRA/EMISIONES INDIRECTAS DE N2O DE SUELOS GESTIONADOS",
                "AGRICULTURA, SILVICULTURA Y OTROS USOS DE LA TIERRA/FUENTES AGREGADAS Y FUENTES DE EMISION NO-CO2 EN LA TIERRA/EMISIONES INDIRECTAS DE N2O POR MANEJO DEL ESTIERCOL",
                "AGRICULTURA, SILVICULTURA Y OTROS USOS DE LA TIERRA/FUENTES AGREGADAS Y FUENTES DE EMISION NO-CO2 EN LA TIERRA/EMISIONES POR QUEMA DE BIOMASA ",
                "DESECHOS/INCINERACION E INCINERACION ABIERTA DE DESECHOS SOLIDOS/INCINERACION ABIERTA DE DESECHOS",
                "ENERGIA /ACTIVIDADES DE QUEMA DE COMBUSTIBLES /INDUSTRIAS DE ENERGIA",
                "ENERGIA /ACTIVIDADES DE QUEMA DE COMBUSTIBLES /INDUSTRIAS MANUFACTURERAS Y DE LA CONSTRUCCION",
                "ENERGIA /ACTIVIDADES DE QUEMA DE COMBUSTIBLES /NO ESPECIFICADO",
                "AGRICULTURA, SILVICULTURA Y OTROS USOS DE LA TIERRA/TIERRAS/OTRAS TIERRAS",
                "ENERGIA /ACTIVIDADES DE QUEMA DE COMBUSTIBLES /OTROS SECTORES",
                "PROCESOS INDUSTRIALES Y USO DE PRODUCTOS /INDUSTRIA DE LOS MINERALES/OTROS USOS DE CARBONATOS ",
                "AGRICULTURA, SILVICULTURA Y OTROS USOS DE LA TIERRA/TIERRAS/PASTIZALES ",
                "ENERGIA /EMISIONES FUGITIVAS PROVENIENTES DE LA FABRICACION DE COMBUSTIBLES/PETROLEO Y GAS NATURAL",
                "PROCESOS INDUSTRIALES Y USO DE PRODUCTOS /INDUSTRIA QUIMICA/PRODUCCION DE ACIDO NITRICO",
                "PROCESOS INDUSTRIALES Y USO DE PRODUCTOS /INDUSTRIA DE LOS MINERALES/PRODUCCION DE CAL",
                "PROCESOS INDUSTRIALES Y USO DE PRODUCTOS /INDUSTRIA DE LOS MINERALES/PRODUCCION DE CEMENTO",
                "PROCESOS INDUSTRIALES Y USO DE PRODUCTOS /INDUSTRIA QUIMICA/PRODUCCION DE CENIZA DE SOSA (CARBONATO DE SODIO)",
                "PROCESOS INDUSTRIALES Y USO DE PRODUCTOS /INDUSTRIA DE LOS METALES/PRODUCCION DE HIERRO Y ACERO",
                "PROCESOS INDUSTRIALES Y USO DE PRODUCTOS /INDUSTRIA DE LOS MINERALES/PRODUCCION DE VIDRIO",
                "PROCESOS INDUSTRIALES Y USO DE PRODUCTOS /INDUSTRIA DE LOS METALES/PRODUCCION DE ZINC",
                "PROCESOS INDUSTRIALES Y USO DE PRODUCTOS /USO DE PRODUCTOS SUSTITUTOS DE LAS SUSTANCIAS QUE AGOTAN LA CAPA DE OZONO/REFRIGERACION Y AIRE ACONDICIONADO",
                "DESECHOS/ELIMINACION DE DESECHOS SOLIDOS/Sin especificar",
                "AGRICULTURA, SILVICULTURA Y OTROS USOS DE LA TIERRA/GANADO/Sin especificar",
                "AGRICULTURA, SILVICULTURA Y OTROS USOS DE LA TIERRA/TIERRAS/TIERRAS DE CULTIVO ",
                "AGRICULTURA, SILVICULTURA Y OTROS USOS DE LA TIERRA/TIERRAS/TIERRAS FORESTALES ",
                "ENERGIA /ACTIVIDADES DE QUEMA DE COMBUSTIBLES /TRANSPORTE",
                "DESECHOS/TRATAMIENTO Y ELIMINACION DE AGUAS RESIDUALES/TRATAMIENTO Y ELIMINACION DE AGUAS RESIDUALES DOMESTICAS",
                "DESECHOS/TRATAMIENTO Y ELIMINACION DE AGUAS RESIDUALES/TRATAMIENTO Y ELIMINACION DE AGUAS RESIDUALES INDUSTRIALES",
                "ENERGIA /ACTIVIDADES DE QUEMA DE COMBUSTIBLES ",
                "DESECHOS/ELIMINACION DE DESECHOS SOLIDOS",
                "ENERGIA /EMISIONES FUGITIVAS PROVENIENTES DE LA FABRICACION DE COMBUSTIBLES",
                "AGRICULTURA, SILVICULTURA Y OTROS USOS DE LA TIERRA/FUENTES AGREGADAS Y FUENTES DE EMISION NO-CO2 EN LA TIERRA",
                "AGRICULTURA, SILVICULTURA Y OTROS USOS DE LA TIERRA/GANADO",
                "DESECHOS/INCINERACION E INCINERACION ABIERTA DE DESECHOS SOLIDOS",
                "PROCESOS INDUSTRIALES Y USO DE PRODUCTOS /INDUSTRIA DE LOS METALES",
                "PROCESOS INDUSTRIALES Y USO DE PRODUCTOS /INDUSTRIA DE LOS MINERALES",
                "PROCESOS INDUSTRIALES Y USO DE PRODUCTOS /INDUSTRIA QUIMICA",
                "AGRICULTURA, SILVICULTURA Y OTROS USOS DE LA TIERRA/TIERRAS",
                "DESECHOS/TRATAMIENTO Y ELIMINACION DE AGUAS RESIDUALES",
                "PROCESOS INDUSTRIALES Y USO DE PRODUCTOS /USO DE PRODUCTOS SUSTITUTOS DE LAS SUSTANCIAS QUE AGOTAN LA CAPA DE OZONO",
                "AGRICULTURA, SILVICULTURA Y OTROS USOS DE LA TIERRA",
                "DESECHOS",
                "ENERGIA ",
                "PROCESOS INDUSTRIALES Y USO DE PRODUCTOS "
               ]
              ],
              "labels": [
               [
                "APLICACION DE UREA",
                "ASENTAMIENTOS",
                "COMBUSTIBLES SOLIDOS",
                "CULTIVO DE ARROZ",
                "EMISIONES DIRECTAS DE N2O DE SUELOS GESTIONADOS",
                "EMISIONES INDIRECTAS DE N2O DE SUELOS GESTIONADOS",
                "EMISIONES INDIRECTAS DE N2O POR MANEJO DEL ESTIERCOL",
                "EMISIONES POR QUEMA DE BIOMASA ",
                "INCINERACION ABIERTA DE DESECHOS",
                "INDUSTRIAS DE ENERGIA",
                "INDUSTRIAS MANUFACTURERAS Y DE LA CONSTRUCCION",
                "NO ESPECIFICADO",
                "OTRAS TIERRAS",
                "OTROS SECTORES",
                "OTROS USOS DE CARBONATOS ",
                "PASTIZALES ",
                "PETROLEO Y GAS NATURAL",
                "PRODUCCION DE ACIDO NITRICO",
                "PRODUCCION DE CAL",
                "PRODUCCION DE CEMENTO",
                "PRODUCCION DE CENIZA DE SOSA (CARBONATO DE SODIO)",
                "PRODUCCION DE HIERRO Y ACERO",
                "PRODUCCION DE VIDRIO",
                "PRODUCCION DE ZINC",
                "REFRIGERACION Y AIRE ACONDICIONADO",
                "Sin especificar",
                "Sin especificar",
                "TIERRAS DE CULTIVO ",
                "TIERRAS FORESTALES ",
                "TRANSPORTE",
                "TRATAMIENTO Y ELIMINACION DE AGUAS RESIDUALES DOMESTICAS",
                "TRATAMIENTO Y ELIMINACION DE AGUAS RESIDUALES INDUSTRIALES",
                "ACTIVIDADES DE QUEMA DE COMBUSTIBLES ",
                "ELIMINACION DE DESECHOS SOLIDOS",
                "EMISIONES FUGITIVAS PROVENIENTES DE LA FABRICACION DE COMBUSTIBLES",
                "FUENTES AGREGADAS Y FUENTES DE EMISION NO-CO2 EN LA TIERRA",
                "GANADO",
                "INCINERACION E INCINERACION ABIERTA DE DESECHOS SOLIDOS",
                "INDUSTRIA DE LOS METALES",
                "INDUSTRIA DE LOS MINERALES",
                "INDUSTRIA QUIMICA",
                "TIERRAS",
                "TRATAMIENTO Y ELIMINACION DE AGUAS RESIDUALES",
                "USO DE PRODUCTOS SUSTITUTOS DE LAS SUSTANCIAS QUE AGOTAN LA CAPA DE OZONO",
                "AGRICULTURA, SILVICULTURA Y OTROS USOS DE LA TIERRA",
                "DESECHOS",
                "ENERGIA ",
                "PROCESOS INDUSTRIALES Y USO DE PRODUCTOS "
               ]
              ],
              "parents": [
               [
                "AGRICULTURA, SILVICULTURA Y OTROS USOS DE LA TIERRA/FUENTES AGREGADAS Y FUENTES DE EMISION NO-CO2 EN LA TIERRA",
                "AGRICULTURA, SILVICULTURA Y OTROS USOS DE LA TIERRA/TIERRAS",
                "ENERGIA /EMISIONES FUGITIVAS PROVENIENTES DE LA FABRICACION DE COMBUSTIBLES",
                "AGRICULTURA, SILVICULTURA Y OTROS USOS DE LA TIERRA/FUENTES AGREGADAS Y FUENTES DE EMISION NO-CO2 EN LA TIERRA",
                "AGRICULTURA, SILVICULTURA Y OTROS USOS DE LA TIERRA/FUENTES AGREGADAS Y FUENTES DE EMISION NO-CO2 EN LA TIERRA",
                "AGRICULTURA, SILVICULTURA Y OTROS USOS DE LA TIERRA/FUENTES AGREGADAS Y FUENTES DE EMISION NO-CO2 EN LA TIERRA",
                "AGRICULTURA, SILVICULTURA Y OTROS USOS DE LA TIERRA/FUENTES AGREGADAS Y FUENTES DE EMISION NO-CO2 EN LA TIERRA",
                "AGRICULTURA, SILVICULTURA Y OTROS USOS DE LA TIERRA/FUENTES AGREGADAS Y FUENTES DE EMISION NO-CO2 EN LA TIERRA",
                "DESECHOS/INCINERACION E INCINERACION ABIERTA DE DESECHOS SOLIDOS",
                "ENERGIA /ACTIVIDADES DE QUEMA DE COMBUSTIBLES ",
                "ENERGIA /ACTIVIDADES DE QUEMA DE COMBUSTIBLES ",
                "ENERGIA /ACTIVIDADES DE QUEMA DE COMBUSTIBLES ",
                "AGRICULTURA, SILVICULTURA Y OTROS USOS DE LA TIERRA/TIERRAS",
                "ENERGIA /ACTIVIDADES DE QUEMA DE COMBUSTIBLES ",
                "PROCESOS INDUSTRIALES Y USO DE PRODUCTOS /INDUSTRIA DE LOS MINERALES",
                "AGRICULTURA, SILVICULTURA Y OTROS USOS DE LA TIERRA/TIERRAS",
                "ENERGIA /EMISIONES FUGITIVAS PROVENIENTES DE LA FABRICACION DE COMBUSTIBLES",
                "PROCESOS INDUSTRIALES Y USO DE PRODUCTOS /INDUSTRIA QUIMICA",
                "PROCESOS INDUSTRIALES Y USO DE PRODUCTOS /INDUSTRIA DE LOS MINERALES",
                "PROCESOS INDUSTRIALES Y USO DE PRODUCTOS /INDUSTRIA DE LOS MINERALES",
                "PROCESOS INDUSTRIALES Y USO DE PRODUCTOS /INDUSTRIA QUIMICA",
                "PROCESOS INDUSTRIALES Y USO DE PRODUCTOS /INDUSTRIA DE LOS METALES",
                "PROCESOS INDUSTRIALES Y USO DE PRODUCTOS /INDUSTRIA DE LOS MINERALES",
                "PROCESOS INDUSTRIALES Y USO DE PRODUCTOS /INDUSTRIA DE LOS METALES",
                "PROCESOS INDUSTRIALES Y USO DE PRODUCTOS /USO DE PRODUCTOS SUSTITUTOS DE LAS SUSTANCIAS QUE AGOTAN LA CAPA DE OZONO",
                "DESECHOS/ELIMINACION DE DESECHOS SOLIDOS",
                "AGRICULTURA, SILVICULTURA Y OTROS USOS DE LA TIERRA/GANADO",
                "AGRICULTURA, SILVICULTURA Y OTROS USOS DE LA TIERRA/TIERRAS",
                "AGRICULTURA, SILVICULTURA Y OTROS USOS DE LA TIERRA/TIERRAS",
                "ENERGIA /ACTIVIDADES DE QUEMA DE COMBUSTIBLES ",
                "DESECHOS/TRATAMIENTO Y ELIMINACION DE AGUAS RESIDUALES",
                "DESECHOS/TRATAMIENTO Y ELIMINACION DE AGUAS RESIDUALES",
                "ENERGIA ",
                "DESECHOS",
                "ENERGIA ",
                "AGRICULTURA, SILVICULTURA Y OTROS USOS DE LA TIERRA",
                "AGRICULTURA, SILVICULTURA Y OTROS USOS DE LA TIERRA",
                "DESECHOS",
                "PROCESOS INDUSTRIALES Y USO DE PRODUCTOS ",
                "PROCESOS INDUSTRIALES Y USO DE PRODUCTOS ",
                "PROCESOS INDUSTRIALES Y USO DE PRODUCTOS ",
                "AGRICULTURA, SILVICULTURA Y OTROS USOS DE LA TIERRA",
                "DESECHOS",
                "PROCESOS INDUSTRIALES Y USO DE PRODUCTOS ",
                "",
                "",
                "",
                ""
               ]
              ],
              "type": "treemap",
              "values": [
               [
                239.83,
                1932.4,
                128.03,
                1679.47,
                6353.88,
                2301.34,
                159.75,
                806.37,
                52.31,
                12599.61,
                7618.36,
                77.22,
                142.25,
                4598.4800000000005,
                124.65,
                16974.67,
                11081.900000000001,
                31.57,
                270.44,
                3339.63,
                0.09,
                185.79,
                34.45,
                383.75,
                134.16,
                4823.33,
                16292.779999999999,
                54135.77,
                20275.26,
                14188.130000000001,
                2821.34,
                625.4,
                39081.8,
                4823.33,
                11209.93,
                11540.64,
                16292.779999999999,
                52.31,
                569.54,
                3769.17,
                31.66,
                93460.34999999999,
                3446.7400000000002,
                134.16,
                121293.76999999999,
                8322.38,
                50291.729999999996,
                4504.53
               ]
              ]
             },
             {
              "title": "Emisiones de GEI en el Año 2010"
             }
            ],
            "label": "2010",
            "method": "update"
           },
           {
            "args": [
             {
              "ids": [
               [
                "AGRICULTURA, SILVICULTURA Y OTROS USOS DE LA TIERRA/FUENTES AGREGADAS Y FUENTES DE EMISION NO-CO2 EN LA TIERRA/APLICACION DE UREA",
                "AGRICULTURA, SILVICULTURA Y OTROS USOS DE LA TIERRA/TIERRAS/ASENTAMIENTOS",
                "ENERGIA /EMISIONES FUGITIVAS PROVENIENTES DE LA FABRICACION DE COMBUSTIBLES/COMBUSTIBLES SOLIDOS",
                "AGRICULTURA, SILVICULTURA Y OTROS USOS DE LA TIERRA/FUENTES AGREGADAS Y FUENTES DE EMISION NO-CO2 EN LA TIERRA/CULTIVO DE ARROZ",
                "AGRICULTURA, SILVICULTURA Y OTROS USOS DE LA TIERRA/FUENTES AGREGADAS Y FUENTES DE EMISION NO-CO2 EN LA TIERRA/EMISIONES DIRECTAS DE N2O DE SUELOS GESTIONADOS",
                "AGRICULTURA, SILVICULTURA Y OTROS USOS DE LA TIERRA/FUENTES AGREGADAS Y FUENTES DE EMISION NO-CO2 EN LA TIERRA/EMISIONES INDIRECTAS DE N2O DE SUELOS GESTIONADOS",
                "AGRICULTURA, SILVICULTURA Y OTROS USOS DE LA TIERRA/FUENTES AGREGADAS Y FUENTES DE EMISION NO-CO2 EN LA TIERRA/EMISIONES INDIRECTAS DE N2O POR MANEJO DEL ESTIERCOL",
                "AGRICULTURA, SILVICULTURA Y OTROS USOS DE LA TIERRA/FUENTES AGREGADAS Y FUENTES DE EMISION NO-CO2 EN LA TIERRA/EMISIONES POR QUEMA DE BIOMASA ",
                "DESECHOS/INCINERACION E INCINERACION ABIERTA DE DESECHOS SOLIDOS/INCINERACION ABIERTA DE DESECHOS",
                "ENERGIA /ACTIVIDADES DE QUEMA DE COMBUSTIBLES /INDUSTRIAS DE ENERGIA",
                "ENERGIA /ACTIVIDADES DE QUEMA DE COMBUSTIBLES /INDUSTRIAS MANUFACTURERAS Y DE LA CONSTRUCCION",
                "ENERGIA /ACTIVIDADES DE QUEMA DE COMBUSTIBLES /NO ESPECIFICADO",
                "AGRICULTURA, SILVICULTURA Y OTROS USOS DE LA TIERRA/TIERRAS/OTRAS TIERRAS",
                "ENERGIA /ACTIVIDADES DE QUEMA DE COMBUSTIBLES /OTROS SECTORES",
                "PROCESOS INDUSTRIALES Y USO DE PRODUCTOS /INDUSTRIA DE LOS MINERALES/OTROS USOS DE CARBONATOS ",
                "AGRICULTURA, SILVICULTURA Y OTROS USOS DE LA TIERRA/TIERRAS/PASTIZALES ",
                "ENERGIA /EMISIONES FUGITIVAS PROVENIENTES DE LA FABRICACION DE COMBUSTIBLES/PETROLEO Y GAS NATURAL",
                "PROCESOS INDUSTRIALES Y USO DE PRODUCTOS /INDUSTRIA QUIMICA/PRODUCCION DE ACIDO NITRICO",
                "PROCESOS INDUSTRIALES Y USO DE PRODUCTOS /INDUSTRIA DE LOS MINERALES/PRODUCCION DE CAL",
                "PROCESOS INDUSTRIALES Y USO DE PRODUCTOS /INDUSTRIA DE LOS MINERALES/PRODUCCION DE CEMENTO",
                "PROCESOS INDUSTRIALES Y USO DE PRODUCTOS /INDUSTRIA QUIMICA/PRODUCCION DE CENIZA DE SOSA (CARBONATO DE SODIO)",
                "PROCESOS INDUSTRIALES Y USO DE PRODUCTOS /INDUSTRIA DE LOS METALES/PRODUCCION DE HIERRO Y ACERO",
                "PROCESOS INDUSTRIALES Y USO DE PRODUCTOS /INDUSTRIA DE LOS MINERALES/PRODUCCION DE VIDRIO",
                "PROCESOS INDUSTRIALES Y USO DE PRODUCTOS /INDUSTRIA DE LOS METALES/PRODUCCION DE ZINC",
                "PROCESOS INDUSTRIALES Y USO DE PRODUCTOS /USO DE PRODUCTOS SUSTITUTOS DE LAS SUSTANCIAS QUE AGOTAN LA CAPA DE OZONO/REFRIGERACION Y AIRE ACONDICIONADO",
                "DESECHOS/ELIMINACION DE DESECHOS SOLIDOS/Sin especificar",
                "AGRICULTURA, SILVICULTURA Y OTROS USOS DE LA TIERRA/GANADO/Sin especificar",
                "AGRICULTURA, SILVICULTURA Y OTROS USOS DE LA TIERRA/TIERRAS/TIERRAS DE CULTIVO ",
                "AGRICULTURA, SILVICULTURA Y OTROS USOS DE LA TIERRA/TIERRAS/TIERRAS FORESTALES ",
                "ENERGIA /ACTIVIDADES DE QUEMA DE COMBUSTIBLES /TRANSPORTE",
                "DESECHOS/TRATAMIENTO Y ELIMINACION DE AGUAS RESIDUALES/TRATAMIENTO Y ELIMINACION DE AGUAS RESIDUALES DOMESTICAS",
                "DESECHOS/TRATAMIENTO Y ELIMINACION DE AGUAS RESIDUALES/TRATAMIENTO Y ELIMINACION DE AGUAS RESIDUALES INDUSTRIALES",
                "ENERGIA /ACTIVIDADES DE QUEMA DE COMBUSTIBLES ",
                "DESECHOS/ELIMINACION DE DESECHOS SOLIDOS",
                "ENERGIA /EMISIONES FUGITIVAS PROVENIENTES DE LA FABRICACION DE COMBUSTIBLES",
                "AGRICULTURA, SILVICULTURA Y OTROS USOS DE LA TIERRA/FUENTES AGREGADAS Y FUENTES DE EMISION NO-CO2 EN LA TIERRA",
                "AGRICULTURA, SILVICULTURA Y OTROS USOS DE LA TIERRA/GANADO",
                "DESECHOS/INCINERACION E INCINERACION ABIERTA DE DESECHOS SOLIDOS",
                "PROCESOS INDUSTRIALES Y USO DE PRODUCTOS /INDUSTRIA DE LOS METALES",
                "PROCESOS INDUSTRIALES Y USO DE PRODUCTOS /INDUSTRIA DE LOS MINERALES",
                "PROCESOS INDUSTRIALES Y USO DE PRODUCTOS /INDUSTRIA QUIMICA",
                "AGRICULTURA, SILVICULTURA Y OTROS USOS DE LA TIERRA/TIERRAS",
                "DESECHOS/TRATAMIENTO Y ELIMINACION DE AGUAS RESIDUALES",
                "PROCESOS INDUSTRIALES Y USO DE PRODUCTOS /USO DE PRODUCTOS SUSTITUTOS DE LAS SUSTANCIAS QUE AGOTAN LA CAPA DE OZONO",
                "AGRICULTURA, SILVICULTURA Y OTROS USOS DE LA TIERRA",
                "DESECHOS",
                "ENERGIA ",
                "PROCESOS INDUSTRIALES Y USO DE PRODUCTOS "
               ]
              ],
              "labels": [
               [
                "APLICACION DE UREA",
                "ASENTAMIENTOS",
                "COMBUSTIBLES SOLIDOS",
                "CULTIVO DE ARROZ",
                "EMISIONES DIRECTAS DE N2O DE SUELOS GESTIONADOS",
                "EMISIONES INDIRECTAS DE N2O DE SUELOS GESTIONADOS",
                "EMISIONES INDIRECTAS DE N2O POR MANEJO DEL ESTIERCOL",
                "EMISIONES POR QUEMA DE BIOMASA ",
                "INCINERACION ABIERTA DE DESECHOS",
                "INDUSTRIAS DE ENERGIA",
                "INDUSTRIAS MANUFACTURERAS Y DE LA CONSTRUCCION",
                "NO ESPECIFICADO",
                "OTRAS TIERRAS",
                "OTROS SECTORES",
                "OTROS USOS DE CARBONATOS ",
                "PASTIZALES ",
                "PETROLEO Y GAS NATURAL",
                "PRODUCCION DE ACIDO NITRICO",
                "PRODUCCION DE CAL",
                "PRODUCCION DE CEMENTO",
                "PRODUCCION DE CENIZA DE SOSA (CARBONATO DE SODIO)",
                "PRODUCCION DE HIERRO Y ACERO",
                "PRODUCCION DE VIDRIO",
                "PRODUCCION DE ZINC",
                "REFRIGERACION Y AIRE ACONDICIONADO",
                "Sin especificar",
                "Sin especificar",
                "TIERRAS DE CULTIVO ",
                "TIERRAS FORESTALES ",
                "TRANSPORTE",
                "TRATAMIENTO Y ELIMINACION DE AGUAS RESIDUALES DOMESTICAS",
                "TRATAMIENTO Y ELIMINACION DE AGUAS RESIDUALES INDUSTRIALES",
                "ACTIVIDADES DE QUEMA DE COMBUSTIBLES ",
                "ELIMINACION DE DESECHOS SOLIDOS",
                "EMISIONES FUGITIVAS PROVENIENTES DE LA FABRICACION DE COMBUSTIBLES",
                "FUENTES AGREGADAS Y FUENTES DE EMISION NO-CO2 EN LA TIERRA",
                "GANADO",
                "INCINERACION E INCINERACION ABIERTA DE DESECHOS SOLIDOS",
                "INDUSTRIA DE LOS METALES",
                "INDUSTRIA DE LOS MINERALES",
                "INDUSTRIA QUIMICA",
                "TIERRAS",
                "TRATAMIENTO Y ELIMINACION DE AGUAS RESIDUALES",
                "USO DE PRODUCTOS SUSTITUTOS DE LAS SUSTANCIAS QUE AGOTAN LA CAPA DE OZONO",
                "AGRICULTURA, SILVICULTURA Y OTROS USOS DE LA TIERRA",
                "DESECHOS",
                "ENERGIA ",
                "PROCESOS INDUSTRIALES Y USO DE PRODUCTOS "
               ]
              ],
              "parents": [
               [
                "AGRICULTURA, SILVICULTURA Y OTROS USOS DE LA TIERRA/FUENTES AGREGADAS Y FUENTES DE EMISION NO-CO2 EN LA TIERRA",
                "AGRICULTURA, SILVICULTURA Y OTROS USOS DE LA TIERRA/TIERRAS",
                "ENERGIA /EMISIONES FUGITIVAS PROVENIENTES DE LA FABRICACION DE COMBUSTIBLES",
                "AGRICULTURA, SILVICULTURA Y OTROS USOS DE LA TIERRA/FUENTES AGREGADAS Y FUENTES DE EMISION NO-CO2 EN LA TIERRA",
                "AGRICULTURA, SILVICULTURA Y OTROS USOS DE LA TIERRA/FUENTES AGREGADAS Y FUENTES DE EMISION NO-CO2 EN LA TIERRA",
                "AGRICULTURA, SILVICULTURA Y OTROS USOS DE LA TIERRA/FUENTES AGREGADAS Y FUENTES DE EMISION NO-CO2 EN LA TIERRA",
                "AGRICULTURA, SILVICULTURA Y OTROS USOS DE LA TIERRA/FUENTES AGREGADAS Y FUENTES DE EMISION NO-CO2 EN LA TIERRA",
                "AGRICULTURA, SILVICULTURA Y OTROS USOS DE LA TIERRA/FUENTES AGREGADAS Y FUENTES DE EMISION NO-CO2 EN LA TIERRA",
                "DESECHOS/INCINERACION E INCINERACION ABIERTA DE DESECHOS SOLIDOS",
                "ENERGIA /ACTIVIDADES DE QUEMA DE COMBUSTIBLES ",
                "ENERGIA /ACTIVIDADES DE QUEMA DE COMBUSTIBLES ",
                "ENERGIA /ACTIVIDADES DE QUEMA DE COMBUSTIBLES ",
                "AGRICULTURA, SILVICULTURA Y OTROS USOS DE LA TIERRA/TIERRAS",
                "ENERGIA /ACTIVIDADES DE QUEMA DE COMBUSTIBLES ",
                "PROCESOS INDUSTRIALES Y USO DE PRODUCTOS /INDUSTRIA DE LOS MINERALES",
                "AGRICULTURA, SILVICULTURA Y OTROS USOS DE LA TIERRA/TIERRAS",
                "ENERGIA /EMISIONES FUGITIVAS PROVENIENTES DE LA FABRICACION DE COMBUSTIBLES",
                "PROCESOS INDUSTRIALES Y USO DE PRODUCTOS /INDUSTRIA QUIMICA",
                "PROCESOS INDUSTRIALES Y USO DE PRODUCTOS /INDUSTRIA DE LOS MINERALES",
                "PROCESOS INDUSTRIALES Y USO DE PRODUCTOS /INDUSTRIA DE LOS MINERALES",
                "PROCESOS INDUSTRIALES Y USO DE PRODUCTOS /INDUSTRIA QUIMICA",
                "PROCESOS INDUSTRIALES Y USO DE PRODUCTOS /INDUSTRIA DE LOS METALES",
                "PROCESOS INDUSTRIALES Y USO DE PRODUCTOS /INDUSTRIA DE LOS MINERALES",
                "PROCESOS INDUSTRIALES Y USO DE PRODUCTOS /INDUSTRIA DE LOS METALES",
                "PROCESOS INDUSTRIALES Y USO DE PRODUCTOS /USO DE PRODUCTOS SUSTITUTOS DE LAS SUSTANCIAS QUE AGOTAN LA CAPA DE OZONO",
                "DESECHOS/ELIMINACION DE DESECHOS SOLIDOS",
                "AGRICULTURA, SILVICULTURA Y OTROS USOS DE LA TIERRA/GANADO",
                "AGRICULTURA, SILVICULTURA Y OTROS USOS DE LA TIERRA/TIERRAS",
                "AGRICULTURA, SILVICULTURA Y OTROS USOS DE LA TIERRA/TIERRAS",
                "ENERGIA /ACTIVIDADES DE QUEMA DE COMBUSTIBLES ",
                "DESECHOS/TRATAMIENTO Y ELIMINACION DE AGUAS RESIDUALES",
                "DESECHOS/TRATAMIENTO Y ELIMINACION DE AGUAS RESIDUALES",
                "ENERGIA ",
                "DESECHOS",
                "ENERGIA ",
                "AGRICULTURA, SILVICULTURA Y OTROS USOS DE LA TIERRA",
                "AGRICULTURA, SILVICULTURA Y OTROS USOS DE LA TIERRA",
                "DESECHOS",
                "PROCESOS INDUSTRIALES Y USO DE PRODUCTOS ",
                "PROCESOS INDUSTRIALES Y USO DE PRODUCTOS ",
                "PROCESOS INDUSTRIALES Y USO DE PRODUCTOS ",
                "AGRICULTURA, SILVICULTURA Y OTROS USOS DE LA TIERRA",
                "DESECHOS",
                "PROCESOS INDUSTRIALES Y USO DE PRODUCTOS ",
                "",
                "",
                "",
                ""
               ]
              ],
              "type": "treemap",
              "values": [
               [
                293.87,
                642.5,
                165.04000000000002,
                1701.91,
                6575.14,
                2352.58,
                165.18,
                809.8,
                52.31,
                13228.380000000001,
                8217.07,
                71.87,
                201.63,
                4535.900000000001,
                130.70000000000002,
                18284.31,
                9678.53,
                32.76,
                319.64,
                3731.34,
                0.11,
                150.83,
                34.81,
                557.58,
                204.85,
                4816.2,
                16244.9,
                61557.52,
                16245.63,
                16230.81,
                2819.09,
                1003.73,
                42284.03,
                4816.2,
                9843.57,
                11898.48,
                16244.9,
                52.31,
                708.4100000000001,
                4216.49,
                32.87,
                96931.59,
                3822.82,
                204.85,
                125074.97,
                8691.33,
                52127.6,
                5162.62
               ]
              ]
             },
             {
              "title": "Emisiones de GEI en el Año 2012"
             }
            ],
            "label": "2012",
            "method": "update"
           },
           {
            "args": [
             {
              "ids": [
               [
                "AGRICULTURA, SILVICULTURA Y OTROS USOS DE LA TIERRA/FUENTES AGREGADAS Y FUENTES DE EMISION NO-CO2 EN LA TIERRA/APLICACION DE UREA",
                "AGRICULTURA, SILVICULTURA Y OTROS USOS DE LA TIERRA/TIERRAS/ASENTAMIENTOS",
                "ENERGIA /EMISIONES FUGITIVAS PROVENIENTES DE LA FABRICACION DE COMBUSTIBLES/COMBUSTIBLES SOLIDOS",
                "AGRICULTURA, SILVICULTURA Y OTROS USOS DE LA TIERRA/FUENTES AGREGADAS Y FUENTES DE EMISION NO-CO2 EN LA TIERRA/CULTIVO DE ARROZ",
                "AGRICULTURA, SILVICULTURA Y OTROS USOS DE LA TIERRA/FUENTES AGREGADAS Y FUENTES DE EMISION NO-CO2 EN LA TIERRA/EMISIONES DIRECTAS DE N2O DE SUELOS GESTIONADOS",
                "AGRICULTURA, SILVICULTURA Y OTROS USOS DE LA TIERRA/FUENTES AGREGADAS Y FUENTES DE EMISION NO-CO2 EN LA TIERRA/EMISIONES INDIRECTAS DE N2O DE SUELOS GESTIONADOS",
                "AGRICULTURA, SILVICULTURA Y OTROS USOS DE LA TIERRA/FUENTES AGREGADAS Y FUENTES DE EMISION NO-CO2 EN LA TIERRA/EMISIONES INDIRECTAS DE N2O POR MANEJO DEL ESTIERCOL",
                "AGRICULTURA, SILVICULTURA Y OTROS USOS DE LA TIERRA/FUENTES AGREGADAS Y FUENTES DE EMISION NO-CO2 EN LA TIERRA/EMISIONES POR QUEMA DE BIOMASA ",
                "DESECHOS/INCINERACION E INCINERACION ABIERTA DE DESECHOS SOLIDOS/INCINERACION ABIERTA DE DESECHOS",
                "ENERGIA /ACTIVIDADES DE QUEMA DE COMBUSTIBLES /INDUSTRIAS DE ENERGIA",
                "ENERGIA /ACTIVIDADES DE QUEMA DE COMBUSTIBLES /INDUSTRIAS MANUFACTURERAS Y DE LA CONSTRUCCION",
                "ENERGIA /ACTIVIDADES DE QUEMA DE COMBUSTIBLES /NO ESPECIFICADO",
                "AGRICULTURA, SILVICULTURA Y OTROS USOS DE LA TIERRA/TIERRAS/OTRAS TIERRAS",
                "ENERGIA /ACTIVIDADES DE QUEMA DE COMBUSTIBLES /OTROS SECTORES",
                "PROCESOS INDUSTRIALES Y USO DE PRODUCTOS /INDUSTRIA DE LOS MINERALES/OTROS USOS DE CARBONATOS ",
                "AGRICULTURA, SILVICULTURA Y OTROS USOS DE LA TIERRA/TIERRAS/PASTIZALES ",
                "ENERGIA /EMISIONES FUGITIVAS PROVENIENTES DE LA FABRICACION DE COMBUSTIBLES/PETROLEO Y GAS NATURAL",
                "PROCESOS INDUSTRIALES Y USO DE PRODUCTOS /INDUSTRIA QUIMICA/PRODUCCION DE ACIDO NITRICO",
                "PROCESOS INDUSTRIALES Y USO DE PRODUCTOS /INDUSTRIA DE LOS MINERALES/PRODUCCION DE CAL",
                "PROCESOS INDUSTRIALES Y USO DE PRODUCTOS /INDUSTRIA DE LOS MINERALES/PRODUCCION DE CEMENTO",
                "PROCESOS INDUSTRIALES Y USO DE PRODUCTOS /INDUSTRIA QUIMICA/PRODUCCION DE CENIZA DE SOSA (CARBONATO DE SODIO)",
                "PROCESOS INDUSTRIALES Y USO DE PRODUCTOS /INDUSTRIA DE LOS METALES/PRODUCCION DE HIERRO Y ACERO",
                "PROCESOS INDUSTRIALES Y USO DE PRODUCTOS /INDUSTRIA DE LOS MINERALES/PRODUCCION DE VIDRIO",
                "PROCESOS INDUSTRIALES Y USO DE PRODUCTOS /INDUSTRIA DE LOS METALES/PRODUCCION DE ZINC",
                "PROCESOS INDUSTRIALES Y USO DE PRODUCTOS /USO DE PRODUCTOS SUSTITUTOS DE LAS SUSTANCIAS QUE AGOTAN LA CAPA DE OZONO/REFRIGERACION Y AIRE ACONDICIONADO",
                "DESECHOS/ELIMINACION DE DESECHOS SOLIDOS/Sin especificar",
                "AGRICULTURA, SILVICULTURA Y OTROS USOS DE LA TIERRA/GANADO/Sin especificar",
                "AGRICULTURA, SILVICULTURA Y OTROS USOS DE LA TIERRA/TIERRAS/TIERRAS DE CULTIVO ",
                "AGRICULTURA, SILVICULTURA Y OTROS USOS DE LA TIERRA/TIERRAS/TIERRAS FORESTALES ",
                "ENERGIA /ACTIVIDADES DE QUEMA DE COMBUSTIBLES /TRANSPORTE",
                "DESECHOS/TRATAMIENTO Y ELIMINACION DE AGUAS RESIDUALES/TRATAMIENTO Y ELIMINACION DE AGUAS RESIDUALES DOMESTICAS",
                "DESECHOS/TRATAMIENTO Y ELIMINACION DE AGUAS RESIDUALES/TRATAMIENTO Y ELIMINACION DE AGUAS RESIDUALES INDUSTRIALES",
                "ENERGIA /ACTIVIDADES DE QUEMA DE COMBUSTIBLES ",
                "DESECHOS/ELIMINACION DE DESECHOS SOLIDOS",
                "ENERGIA /EMISIONES FUGITIVAS PROVENIENTES DE LA FABRICACION DE COMBUSTIBLES",
                "AGRICULTURA, SILVICULTURA Y OTROS USOS DE LA TIERRA/FUENTES AGREGADAS Y FUENTES DE EMISION NO-CO2 EN LA TIERRA",
                "AGRICULTURA, SILVICULTURA Y OTROS USOS DE LA TIERRA/GANADO",
                "DESECHOS/INCINERACION E INCINERACION ABIERTA DE DESECHOS SOLIDOS",
                "PROCESOS INDUSTRIALES Y USO DE PRODUCTOS /INDUSTRIA DE LOS METALES",
                "PROCESOS INDUSTRIALES Y USO DE PRODUCTOS /INDUSTRIA DE LOS MINERALES",
                "PROCESOS INDUSTRIALES Y USO DE PRODUCTOS /INDUSTRIA QUIMICA",
                "AGRICULTURA, SILVICULTURA Y OTROS USOS DE LA TIERRA/TIERRAS",
                "DESECHOS/TRATAMIENTO Y ELIMINACION DE AGUAS RESIDUALES",
                "PROCESOS INDUSTRIALES Y USO DE PRODUCTOS /USO DE PRODUCTOS SUSTITUTOS DE LAS SUSTANCIAS QUE AGOTAN LA CAPA DE OZONO",
                "AGRICULTURA, SILVICULTURA Y OTROS USOS DE LA TIERRA",
                "DESECHOS",
                "ENERGIA ",
                "PROCESOS INDUSTRIALES Y USO DE PRODUCTOS "
               ]
              ],
              "labels": [
               [
                "APLICACION DE UREA",
                "ASENTAMIENTOS",
                "COMBUSTIBLES SOLIDOS",
                "CULTIVO DE ARROZ",
                "EMISIONES DIRECTAS DE N2O DE SUELOS GESTIONADOS",
                "EMISIONES INDIRECTAS DE N2O DE SUELOS GESTIONADOS",
                "EMISIONES INDIRECTAS DE N2O POR MANEJO DEL ESTIERCOL",
                "EMISIONES POR QUEMA DE BIOMASA ",
                "INCINERACION ABIERTA DE DESECHOS",
                "INDUSTRIAS DE ENERGIA",
                "INDUSTRIAS MANUFACTURERAS Y DE LA CONSTRUCCION",
                "NO ESPECIFICADO",
                "OTRAS TIERRAS",
                "OTROS SECTORES",
                "OTROS USOS DE CARBONATOS ",
                "PASTIZALES ",
                "PETROLEO Y GAS NATURAL",
                "PRODUCCION DE ACIDO NITRICO",
                "PRODUCCION DE CAL",
                "PRODUCCION DE CEMENTO",
                "PRODUCCION DE CENIZA DE SOSA (CARBONATO DE SODIO)",
                "PRODUCCION DE HIERRO Y ACERO",
                "PRODUCCION DE VIDRIO",
                "PRODUCCION DE ZINC",
                "REFRIGERACION Y AIRE ACONDICIONADO",
                "Sin especificar",
                "Sin especificar",
                "TIERRAS DE CULTIVO ",
                "TIERRAS FORESTALES ",
                "TRANSPORTE",
                "TRATAMIENTO Y ELIMINACION DE AGUAS RESIDUALES DOMESTICAS",
                "TRATAMIENTO Y ELIMINACION DE AGUAS RESIDUALES INDUSTRIALES",
                "ACTIVIDADES DE QUEMA DE COMBUSTIBLES ",
                "ELIMINACION DE DESECHOS SOLIDOS",
                "EMISIONES FUGITIVAS PROVENIENTES DE LA FABRICACION DE COMBUSTIBLES",
                "FUENTES AGREGADAS Y FUENTES DE EMISION NO-CO2 EN LA TIERRA",
                "GANADO",
                "INCINERACION E INCINERACION ABIERTA DE DESECHOS SOLIDOS",
                "INDUSTRIA DE LOS METALES",
                "INDUSTRIA DE LOS MINERALES",
                "INDUSTRIA QUIMICA",
                "TIERRAS",
                "TRATAMIENTO Y ELIMINACION DE AGUAS RESIDUALES",
                "USO DE PRODUCTOS SUSTITUTOS DE LAS SUSTANCIAS QUE AGOTAN LA CAPA DE OZONO",
                "AGRICULTURA, SILVICULTURA Y OTROS USOS DE LA TIERRA",
                "DESECHOS",
                "ENERGIA ",
                "PROCESOS INDUSTRIALES Y USO DE PRODUCTOS "
               ]
              ],
              "parents": [
               [
                "AGRICULTURA, SILVICULTURA Y OTROS USOS DE LA TIERRA/FUENTES AGREGADAS Y FUENTES DE EMISION NO-CO2 EN LA TIERRA",
                "AGRICULTURA, SILVICULTURA Y OTROS USOS DE LA TIERRA/TIERRAS",
                "ENERGIA /EMISIONES FUGITIVAS PROVENIENTES DE LA FABRICACION DE COMBUSTIBLES",
                "AGRICULTURA, SILVICULTURA Y OTROS USOS DE LA TIERRA/FUENTES AGREGADAS Y FUENTES DE EMISION NO-CO2 EN LA TIERRA",
                "AGRICULTURA, SILVICULTURA Y OTROS USOS DE LA TIERRA/FUENTES AGREGADAS Y FUENTES DE EMISION NO-CO2 EN LA TIERRA",
                "AGRICULTURA, SILVICULTURA Y OTROS USOS DE LA TIERRA/FUENTES AGREGADAS Y FUENTES DE EMISION NO-CO2 EN LA TIERRA",
                "AGRICULTURA, SILVICULTURA Y OTROS USOS DE LA TIERRA/FUENTES AGREGADAS Y FUENTES DE EMISION NO-CO2 EN LA TIERRA",
                "AGRICULTURA, SILVICULTURA Y OTROS USOS DE LA TIERRA/FUENTES AGREGADAS Y FUENTES DE EMISION NO-CO2 EN LA TIERRA",
                "DESECHOS/INCINERACION E INCINERACION ABIERTA DE DESECHOS SOLIDOS",
                "ENERGIA /ACTIVIDADES DE QUEMA DE COMBUSTIBLES ",
                "ENERGIA /ACTIVIDADES DE QUEMA DE COMBUSTIBLES ",
                "ENERGIA /ACTIVIDADES DE QUEMA DE COMBUSTIBLES ",
                "AGRICULTURA, SILVICULTURA Y OTROS USOS DE LA TIERRA/TIERRAS",
                "ENERGIA /ACTIVIDADES DE QUEMA DE COMBUSTIBLES ",
                "PROCESOS INDUSTRIALES Y USO DE PRODUCTOS /INDUSTRIA DE LOS MINERALES",
                "AGRICULTURA, SILVICULTURA Y OTROS USOS DE LA TIERRA/TIERRAS",
                "ENERGIA /EMISIONES FUGITIVAS PROVENIENTES DE LA FABRICACION DE COMBUSTIBLES",
                "PROCESOS INDUSTRIALES Y USO DE PRODUCTOS /INDUSTRIA QUIMICA",
                "PROCESOS INDUSTRIALES Y USO DE PRODUCTOS /INDUSTRIA DE LOS MINERALES",
                "PROCESOS INDUSTRIALES Y USO DE PRODUCTOS /INDUSTRIA DE LOS MINERALES",
                "PROCESOS INDUSTRIALES Y USO DE PRODUCTOS /INDUSTRIA QUIMICA",
                "PROCESOS INDUSTRIALES Y USO DE PRODUCTOS /INDUSTRIA DE LOS METALES",
                "PROCESOS INDUSTRIALES Y USO DE PRODUCTOS /INDUSTRIA DE LOS MINERALES",
                "PROCESOS INDUSTRIALES Y USO DE PRODUCTOS /INDUSTRIA DE LOS METALES",
                "PROCESOS INDUSTRIALES Y USO DE PRODUCTOS /USO DE PRODUCTOS SUSTITUTOS DE LAS SUSTANCIAS QUE AGOTAN LA CAPA DE OZONO",
                "DESECHOS/ELIMINACION DE DESECHOS SOLIDOS",
                "AGRICULTURA, SILVICULTURA Y OTROS USOS DE LA TIERRA/GANADO",
                "AGRICULTURA, SILVICULTURA Y OTROS USOS DE LA TIERRA/TIERRAS",
                "AGRICULTURA, SILVICULTURA Y OTROS USOS DE LA TIERRA/TIERRAS",
                "ENERGIA /ACTIVIDADES DE QUEMA DE COMBUSTIBLES ",
                "DESECHOS/TRATAMIENTO Y ELIMINACION DE AGUAS RESIDUALES",
                "DESECHOS/TRATAMIENTO Y ELIMINACION DE AGUAS RESIDUALES",
                "ENERGIA ",
                "DESECHOS",
                "ENERGIA ",
                "AGRICULTURA, SILVICULTURA Y OTROS USOS DE LA TIERRA",
                "AGRICULTURA, SILVICULTURA Y OTROS USOS DE LA TIERRA",
                "DESECHOS",
                "PROCESOS INDUSTRIALES Y USO DE PRODUCTOS ",
                "PROCESOS INDUSTRIALES Y USO DE PRODUCTOS ",
                "PROCESOS INDUSTRIALES Y USO DE PRODUCTOS ",
                "AGRICULTURA, SILVICULTURA Y OTROS USOS DE LA TIERRA",
                "DESECHOS",
                "PROCESOS INDUSTRIALES Y USO DE PRODUCTOS ",
                "",
                "",
                "",
                ""
               ]
              ],
              "type": "treemap",
              "values": [
               [
                250.73,
                4643.34,
                159.04000000000002,
                1647.77,
                6566.12,
                2347.23,
                170.2,
                814.6,
                52.31,
                14380.289999999999,
                8731.7,
                73.67,
                126.6,
                4758.4800000000005,
                148.29999999999998,
                22126.54,
                11237.25,
                33.19,
                392.26,
                4590.8,
                0.11,
                157.88,
                33.32,
                578.7,
                313.99,
                4980,
                16091.05,
                49599.57,
                13942.48,
                17168.08,
                3302.58,
                1007.86,
                45112.22,
                4980,
                11396.289999999999,
                11796.65,
                16091.05,
                52.31,
                736.58,
                5164.68,
                33.3,
                90438.53,
                4310.44,
                313.99,
                118326.23,
                9342.75,
                56508.509999999995,
                6248.55
               ]
              ]
             },
             {
              "title": "Emisiones de GEI en el Año 2014"
             }
            ],
            "label": "2014",
            "method": "update"
           },
           {
            "args": [
             {
              "ids": [
               [
                "AGRICULTURA, SILVICULTURA Y OTROS USOS DE LA TIERRA/FUENTES AGREGADAS Y FUENTES DE EMISION NO-CO2 EN LA TIERRA/APLICACION DE UREA",
                "AGRICULTURA, SILVICULTURA Y OTROS USOS DE LA TIERRA/TIERRAS/ASENTAMIENTOS",
                "ENERGIA /EMISIONES FUGITIVAS PROVENIENTES DE LA FABRICACION DE COMBUSTIBLES/COMBUSTIBLES SOLIDOS",
                "AGRICULTURA, SILVICULTURA Y OTROS USOS DE LA TIERRA/FUENTES AGREGADAS Y FUENTES DE EMISION NO-CO2 EN LA TIERRA/CULTIVO DE ARROZ",
                "AGRICULTURA, SILVICULTURA Y OTROS USOS DE LA TIERRA/FUENTES AGREGADAS Y FUENTES DE EMISION NO-CO2 EN LA TIERRA/EMISIONES DIRECTAS DE N2O DE SUELOS GESTIONADOS",
                "AGRICULTURA, SILVICULTURA Y OTROS USOS DE LA TIERRA/FUENTES AGREGADAS Y FUENTES DE EMISION NO-CO2 EN LA TIERRA/EMISIONES INDIRECTAS DE N2O DE SUELOS GESTIONADOS",
                "AGRICULTURA, SILVICULTURA Y OTROS USOS DE LA TIERRA/FUENTES AGREGADAS Y FUENTES DE EMISION NO-CO2 EN LA TIERRA/EMISIONES INDIRECTAS DE N2O POR MANEJO DEL ESTIERCOL",
                "AGRICULTURA, SILVICULTURA Y OTROS USOS DE LA TIERRA/FUENTES AGREGADAS Y FUENTES DE EMISION NO-CO2 EN LA TIERRA/EMISIONES POR QUEMA DE BIOMASA ",
                "DESECHOS/INCINERACION E INCINERACION ABIERTA DE DESECHOS SOLIDOS/INCINERACION ABIERTA DE DESECHOS",
                "ENERGIA /ACTIVIDADES DE QUEMA DE COMBUSTIBLES /INDUSTRIAS DE ENERGIA",
                "ENERGIA /ACTIVIDADES DE QUEMA DE COMBUSTIBLES /INDUSTRIAS MANUFACTURERAS Y DE LA CONSTRUCCION",
                "ENERGIA /ACTIVIDADES DE QUEMA DE COMBUSTIBLES /NO ESPECIFICADO",
                "AGRICULTURA, SILVICULTURA Y OTROS USOS DE LA TIERRA/TIERRAS/OTRAS TIERRAS",
                "ENERGIA /ACTIVIDADES DE QUEMA DE COMBUSTIBLES /OTROS SECTORES",
                "PROCESOS INDUSTRIALES Y USO DE PRODUCTOS /INDUSTRIA DE LOS MINERALES/OTROS USOS DE CARBONATOS ",
                "AGRICULTURA, SILVICULTURA Y OTROS USOS DE LA TIERRA/TIERRAS/PASTIZALES ",
                "ENERGIA /EMISIONES FUGITIVAS PROVENIENTES DE LA FABRICACION DE COMBUSTIBLES/PETROLEO Y GAS NATURAL",
                "PROCESOS INDUSTRIALES Y USO DE PRODUCTOS /INDUSTRIA QUIMICA/PRODUCCION DE ACIDO NITRICO",
                "PROCESOS INDUSTRIALES Y USO DE PRODUCTOS /INDUSTRIA DE LOS MINERALES/PRODUCCION DE CAL",
                "PROCESOS INDUSTRIALES Y USO DE PRODUCTOS /INDUSTRIA DE LOS MINERALES/PRODUCCION DE CEMENTO",
                "PROCESOS INDUSTRIALES Y USO DE PRODUCTOS /INDUSTRIA QUIMICA/PRODUCCION DE CENIZA DE SOSA (CARBONATO DE SODIO)",
                "PROCESOS INDUSTRIALES Y USO DE PRODUCTOS /INDUSTRIA DE LOS METALES/PRODUCCION DE HIERRO Y ACERO",
                "PROCESOS INDUSTRIALES Y USO DE PRODUCTOS /INDUSTRIA DE LOS MINERALES/PRODUCCION DE VIDRIO",
                "PROCESOS INDUSTRIALES Y USO DE PRODUCTOS /INDUSTRIA DE LOS METALES/PRODUCCION DE ZINC",
                "PROCESOS INDUSTRIALES Y USO DE PRODUCTOS /USO DE PRODUCTOS SUSTITUTOS DE LAS SUSTANCIAS QUE AGOTAN LA CAPA DE OZONO/REFRIGERACION Y AIRE ACONDICIONADO",
                "DESECHOS/ELIMINACION DE DESECHOS SOLIDOS/Sin especificar",
                "AGRICULTURA, SILVICULTURA Y OTROS USOS DE LA TIERRA/GANADO/Sin especificar",
                "AGRICULTURA, SILVICULTURA Y OTROS USOS DE LA TIERRA/TIERRAS/TIERRAS DE CULTIVO ",
                "AGRICULTURA, SILVICULTURA Y OTROS USOS DE LA TIERRA/TIERRAS/TIERRAS FORESTALES ",
                "ENERGIA /ACTIVIDADES DE QUEMA DE COMBUSTIBLES /TRANSPORTE",
                "DESECHOS/TRATAMIENTO Y ELIMINACION DE AGUAS RESIDUALES/TRATAMIENTO Y ELIMINACION DE AGUAS RESIDUALES DOMESTICAS",
                "DESECHOS/TRATAMIENTO Y ELIMINACION DE AGUAS RESIDUALES/TRATAMIENTO Y ELIMINACION DE AGUAS RESIDUALES INDUSTRIALES",
                "ENERGIA /ACTIVIDADES DE QUEMA DE COMBUSTIBLES ",
                "DESECHOS/ELIMINACION DE DESECHOS SOLIDOS",
                "ENERGIA /EMISIONES FUGITIVAS PROVENIENTES DE LA FABRICACION DE COMBUSTIBLES",
                "AGRICULTURA, SILVICULTURA Y OTROS USOS DE LA TIERRA/FUENTES AGREGADAS Y FUENTES DE EMISION NO-CO2 EN LA TIERRA",
                "AGRICULTURA, SILVICULTURA Y OTROS USOS DE LA TIERRA/GANADO",
                "DESECHOS/INCINERACION E INCINERACION ABIERTA DE DESECHOS SOLIDOS",
                "PROCESOS INDUSTRIALES Y USO DE PRODUCTOS /INDUSTRIA DE LOS METALES",
                "PROCESOS INDUSTRIALES Y USO DE PRODUCTOS /INDUSTRIA DE LOS MINERALES",
                "PROCESOS INDUSTRIALES Y USO DE PRODUCTOS /INDUSTRIA QUIMICA",
                "AGRICULTURA, SILVICULTURA Y OTROS USOS DE LA TIERRA/TIERRAS",
                "DESECHOS/TRATAMIENTO Y ELIMINACION DE AGUAS RESIDUALES",
                "PROCESOS INDUSTRIALES Y USO DE PRODUCTOS /USO DE PRODUCTOS SUSTITUTOS DE LAS SUSTANCIAS QUE AGOTAN LA CAPA DE OZONO",
                "AGRICULTURA, SILVICULTURA Y OTROS USOS DE LA TIERRA",
                "DESECHOS",
                "ENERGIA ",
                "PROCESOS INDUSTRIALES Y USO DE PRODUCTOS "
               ]
              ],
              "labels": [
               [
                "APLICACION DE UREA",
                "ASENTAMIENTOS",
                "COMBUSTIBLES SOLIDOS",
                "CULTIVO DE ARROZ",
                "EMISIONES DIRECTAS DE N2O DE SUELOS GESTIONADOS",
                "EMISIONES INDIRECTAS DE N2O DE SUELOS GESTIONADOS",
                "EMISIONES INDIRECTAS DE N2O POR MANEJO DEL ESTIERCOL",
                "EMISIONES POR QUEMA DE BIOMASA ",
                "INCINERACION ABIERTA DE DESECHOS",
                "INDUSTRIAS DE ENERGIA",
                "INDUSTRIAS MANUFACTURERAS Y DE LA CONSTRUCCION",
                "NO ESPECIFICADO",
                "OTRAS TIERRAS",
                "OTROS SECTORES",
                "OTROS USOS DE CARBONATOS ",
                "PASTIZALES ",
                "PETROLEO Y GAS NATURAL",
                "PRODUCCION DE ACIDO NITRICO",
                "PRODUCCION DE CAL",
                "PRODUCCION DE CEMENTO",
                "PRODUCCION DE CENIZA DE SOSA (CARBONATO DE SODIO)",
                "PRODUCCION DE HIERRO Y ACERO",
                "PRODUCCION DE VIDRIO",
                "PRODUCCION DE ZINC",
                "REFRIGERACION Y AIRE ACONDICIONADO",
                "Sin especificar",
                "Sin especificar",
                "TIERRAS DE CULTIVO ",
                "TIERRAS FORESTALES ",
                "TRANSPORTE",
                "TRATAMIENTO Y ELIMINACION DE AGUAS RESIDUALES DOMESTICAS",
                "TRATAMIENTO Y ELIMINACION DE AGUAS RESIDUALES INDUSTRIALES",
                "ACTIVIDADES DE QUEMA DE COMBUSTIBLES ",
                "ELIMINACION DE DESECHOS SOLIDOS",
                "EMISIONES FUGITIVAS PROVENIENTES DE LA FABRICACION DE COMBUSTIBLES",
                "FUENTES AGREGADAS Y FUENTES DE EMISION NO-CO2 EN LA TIERRA",
                "GANADO",
                "INCINERACION E INCINERACION ABIERTA DE DESECHOS SOLIDOS",
                "INDUSTRIA DE LOS METALES",
                "INDUSTRIA DE LOS MINERALES",
                "INDUSTRIA QUIMICA",
                "TIERRAS",
                "TRATAMIENTO Y ELIMINACION DE AGUAS RESIDUALES",
                "USO DE PRODUCTOS SUSTITUTOS DE LAS SUSTANCIAS QUE AGOTAN LA CAPA DE OZONO",
                "AGRICULTURA, SILVICULTURA Y OTROS USOS DE LA TIERRA",
                "DESECHOS",
                "ENERGIA ",
                "PROCESOS INDUSTRIALES Y USO DE PRODUCTOS "
               ]
              ],
              "parents": [
               [
                "AGRICULTURA, SILVICULTURA Y OTROS USOS DE LA TIERRA/FUENTES AGREGADAS Y FUENTES DE EMISION NO-CO2 EN LA TIERRA",
                "AGRICULTURA, SILVICULTURA Y OTROS USOS DE LA TIERRA/TIERRAS",
                "ENERGIA /EMISIONES FUGITIVAS PROVENIENTES DE LA FABRICACION DE COMBUSTIBLES",
                "AGRICULTURA, SILVICULTURA Y OTROS USOS DE LA TIERRA/FUENTES AGREGADAS Y FUENTES DE EMISION NO-CO2 EN LA TIERRA",
                "AGRICULTURA, SILVICULTURA Y OTROS USOS DE LA TIERRA/FUENTES AGREGADAS Y FUENTES DE EMISION NO-CO2 EN LA TIERRA",
                "AGRICULTURA, SILVICULTURA Y OTROS USOS DE LA TIERRA/FUENTES AGREGADAS Y FUENTES DE EMISION NO-CO2 EN LA TIERRA",
                "AGRICULTURA, SILVICULTURA Y OTROS USOS DE LA TIERRA/FUENTES AGREGADAS Y FUENTES DE EMISION NO-CO2 EN LA TIERRA",
                "AGRICULTURA, SILVICULTURA Y OTROS USOS DE LA TIERRA/FUENTES AGREGADAS Y FUENTES DE EMISION NO-CO2 EN LA TIERRA",
                "DESECHOS/INCINERACION E INCINERACION ABIERTA DE DESECHOS SOLIDOS",
                "ENERGIA /ACTIVIDADES DE QUEMA DE COMBUSTIBLES ",
                "ENERGIA /ACTIVIDADES DE QUEMA DE COMBUSTIBLES ",
                "ENERGIA /ACTIVIDADES DE QUEMA DE COMBUSTIBLES ",
                "AGRICULTURA, SILVICULTURA Y OTROS USOS DE LA TIERRA/TIERRAS",
                "ENERGIA /ACTIVIDADES DE QUEMA DE COMBUSTIBLES ",
                "PROCESOS INDUSTRIALES Y USO DE PRODUCTOS /INDUSTRIA DE LOS MINERALES",
                "AGRICULTURA, SILVICULTURA Y OTROS USOS DE LA TIERRA/TIERRAS",
                "ENERGIA /EMISIONES FUGITIVAS PROVENIENTES DE LA FABRICACION DE COMBUSTIBLES",
                "PROCESOS INDUSTRIALES Y USO DE PRODUCTOS /INDUSTRIA QUIMICA",
                "PROCESOS INDUSTRIALES Y USO DE PRODUCTOS /INDUSTRIA DE LOS MINERALES",
                "PROCESOS INDUSTRIALES Y USO DE PRODUCTOS /INDUSTRIA DE LOS MINERALES",
                "PROCESOS INDUSTRIALES Y USO DE PRODUCTOS /INDUSTRIA QUIMICA",
                "PROCESOS INDUSTRIALES Y USO DE PRODUCTOS /INDUSTRIA DE LOS METALES",
                "PROCESOS INDUSTRIALES Y USO DE PRODUCTOS /INDUSTRIA DE LOS MINERALES",
                "PROCESOS INDUSTRIALES Y USO DE PRODUCTOS /INDUSTRIA DE LOS METALES",
                "PROCESOS INDUSTRIALES Y USO DE PRODUCTOS /USO DE PRODUCTOS SUSTITUTOS DE LAS SUSTANCIAS QUE AGOTAN LA CAPA DE OZONO",
                "DESECHOS/ELIMINACION DE DESECHOS SOLIDOS",
                "AGRICULTURA, SILVICULTURA Y OTROS USOS DE LA TIERRA/GANADO",
                "AGRICULTURA, SILVICULTURA Y OTROS USOS DE LA TIERRA/TIERRAS",
                "AGRICULTURA, SILVICULTURA Y OTROS USOS DE LA TIERRA/TIERRAS",
                "ENERGIA /ACTIVIDADES DE QUEMA DE COMBUSTIBLES ",
                "DESECHOS/TRATAMIENTO Y ELIMINACION DE AGUAS RESIDUALES",
                "DESECHOS/TRATAMIENTO Y ELIMINACION DE AGUAS RESIDUALES",
                "ENERGIA ",
                "DESECHOS",
                "ENERGIA ",
                "AGRICULTURA, SILVICULTURA Y OTROS USOS DE LA TIERRA",
                "AGRICULTURA, SILVICULTURA Y OTROS USOS DE LA TIERRA",
                "DESECHOS",
                "PROCESOS INDUSTRIALES Y USO DE PRODUCTOS ",
                "PROCESOS INDUSTRIALES Y USO DE PRODUCTOS ",
                "PROCESOS INDUSTRIALES Y USO DE PRODUCTOS ",
                "AGRICULTURA, SILVICULTURA Y OTROS USOS DE LA TIERRA",
                "DESECHOS",
                "PROCESOS INDUSTRIALES Y USO DE PRODUCTOS ",
                "",
                "",
                "",
                ""
               ]
              ],
              "type": "treemap",
              "values": [
               [
                262.54,
                4492.54,
                169.76,
                1812.47,
                6543.44,
                2355.11,
                177.95,
                817.46,
                42.88,
                15549.64,
                8820.53,
                10.51,
                107.05,
                4925.42,
                142.12,
                22655.35,
                9498.37,
                30.34,
                702.85,
                4223.48,
                0.06,
                390.54,
                35.24,
                537.22,
                502.35,
                5591.83,
                15931.83,
                64643.22,
                11072.79,
                20769.95,
                3057.6,
                1008.57,
                50076.049999999996,
                5591.83,
                9668.130000000001,
                11968.97,
                15931.83,
                42.88,
                927.76,
                5103.69,
                30.4,
                102970.95,
                4066.17,
                502.35,
                130871.75,
                9700.88,
                59744.18,
                6564.2
               ]
              ]
             },
             {
              "title": "Emisiones de GEI en el Año 2016"
             }
            ],
            "label": "2016",
            "method": "update"
           },
           {
            "args": [
             {
              "ids": [
               [
                "AGRICULTURA, SILVICULTURA Y OTROS USOS DE LA TIERRA/FUENTES AGREGADAS Y FUENTES DE EMISION NO-CO2 EN LA TIERRA/APLICACION DE UREA",
                "AGRICULTURA, SILVICULTURA Y OTROS USOS DE LA TIERRA/TIERRAS/ASENTAMIENTOS",
                "ENERGIA /EMISIONES FUGITIVAS PROVENIENTES DE LA FABRICACION DE COMBUSTIBLES/COMBUSTIBLES SOLIDOS",
                "AGRICULTURA, SILVICULTURA Y OTROS USOS DE LA TIERRA/FUENTES AGREGADAS Y FUENTES DE EMISION NO-CO2 EN LA TIERRA/CULTIVO DE ARROZ",
                "AGRICULTURA, SILVICULTURA Y OTROS USOS DE LA TIERRA/FUENTES AGREGADAS Y FUENTES DE EMISION NO-CO2 EN LA TIERRA/EMISIONES DIRECTAS DE N2O DE SUELOS GESTIONADOS",
                "AGRICULTURA, SILVICULTURA Y OTROS USOS DE LA TIERRA/FUENTES AGREGADAS Y FUENTES DE EMISION NO-CO2 EN LA TIERRA/EMISIONES INDIRECTAS DE N2O DE SUELOS GESTIONADOS",
                "AGRICULTURA, SILVICULTURA Y OTROS USOS DE LA TIERRA/FUENTES AGREGADAS Y FUENTES DE EMISION NO-CO2 EN LA TIERRA/EMISIONES INDIRECTAS DE N2O POR MANEJO DEL ESTIERCOL",
                "AGRICULTURA, SILVICULTURA Y OTROS USOS DE LA TIERRA/FUENTES AGREGADAS Y FUENTES DE EMISION NO-CO2 EN LA TIERRA/EMISIONES POR QUEMA DE BIOMASA ",
                "DESECHOS/INCINERACION E INCINERACION ABIERTA DE DESECHOS SOLIDOS/INCINERACION ABIERTA DE DESECHOS",
                "ENERGIA /ACTIVIDADES DE QUEMA DE COMBUSTIBLES /INDUSTRIAS DE ENERGIA",
                "ENERGIA /ACTIVIDADES DE QUEMA DE COMBUSTIBLES /INDUSTRIAS MANUFACTURERAS Y DE LA CONSTRUCCION",
                "ENERGIA /ACTIVIDADES DE QUEMA DE COMBUSTIBLES /NO ESPECIFICADO",
                "AGRICULTURA, SILVICULTURA Y OTROS USOS DE LA TIERRA/TIERRAS/OTRAS TIERRAS",
                "ENERGIA /ACTIVIDADES DE QUEMA DE COMBUSTIBLES /OTROS SECTORES",
                "PROCESOS INDUSTRIALES Y USO DE PRODUCTOS /INDUSTRIA DE LOS MINERALES/OTROS USOS DE CARBONATOS ",
                "AGRICULTURA, SILVICULTURA Y OTROS USOS DE LA TIERRA/TIERRAS/PASTIZALES ",
                "ENERGIA /EMISIONES FUGITIVAS PROVENIENTES DE LA FABRICACION DE COMBUSTIBLES/PETROLEO Y GAS NATURAL",
                "PROCESOS INDUSTRIALES Y USO DE PRODUCTOS /INDUSTRIA QUIMICA/PRODUCCION DE ACIDO NITRICO",
                "PROCESOS INDUSTRIALES Y USO DE PRODUCTOS /INDUSTRIA DE LOS MINERALES/PRODUCCION DE CAL",
                "PROCESOS INDUSTRIALES Y USO DE PRODUCTOS /INDUSTRIA DE LOS MINERALES/PRODUCCION DE CEMENTO",
                "PROCESOS INDUSTRIALES Y USO DE PRODUCTOS /INDUSTRIA QUIMICA/PRODUCCION DE CENIZA DE SOSA (CARBONATO DE SODIO)",
                "PROCESOS INDUSTRIALES Y USO DE PRODUCTOS /INDUSTRIA DE LOS METALES/PRODUCCION DE HIERRO Y ACERO",
                "PROCESOS INDUSTRIALES Y USO DE PRODUCTOS /INDUSTRIA DE LOS MINERALES/PRODUCCION DE VIDRIO",
                "PROCESOS INDUSTRIALES Y USO DE PRODUCTOS /INDUSTRIA DE LOS METALES/PRODUCCION DE ZINC",
                "PROCESOS INDUSTRIALES Y USO DE PRODUCTOS /USO DE PRODUCTOS SUSTITUTOS DE LAS SUSTANCIAS QUE AGOTAN LA CAPA DE OZONO/REFRIGERACION Y AIRE ACONDICIONADO",
                "DESECHOS/ELIMINACION DE DESECHOS SOLIDOS/Sin especificar",
                "AGRICULTURA, SILVICULTURA Y OTROS USOS DE LA TIERRA/GANADO/Sin especificar",
                "DESECHOS/TRATAMIENTO BIOLOGICO DE DESECHOS SOLIDOS/Sin especificar",
                "AGRICULTURA, SILVICULTURA Y OTROS USOS DE LA TIERRA/TIERRAS/TIERRAS DE CULTIVO ",
                "AGRICULTURA, SILVICULTURA Y OTROS USOS DE LA TIERRA/TIERRAS/TIERRAS FORESTALES ",
                "ENERGIA /ACTIVIDADES DE QUEMA DE COMBUSTIBLES /TRANSPORTE",
                "DESECHOS/TRATAMIENTO Y ELIMINACION DE AGUAS RESIDUALES/TRATAMIENTO Y ELIMINACION DE AGUAS RESIDUALES DOMESTICAS",
                "DESECHOS/TRATAMIENTO Y ELIMINACION DE AGUAS RESIDUALES/TRATAMIENTO Y ELIMINACION DE AGUAS RESIDUALES INDUSTRIALES",
                "ENERGIA /ACTIVIDADES DE QUEMA DE COMBUSTIBLES ",
                "DESECHOS/ELIMINACION DE DESECHOS SOLIDOS",
                "ENERGIA /EMISIONES FUGITIVAS PROVENIENTES DE LA FABRICACION DE COMBUSTIBLES",
                "AGRICULTURA, SILVICULTURA Y OTROS USOS DE LA TIERRA/FUENTES AGREGADAS Y FUENTES DE EMISION NO-CO2 EN LA TIERRA",
                "AGRICULTURA, SILVICULTURA Y OTROS USOS DE LA TIERRA/GANADO",
                "DESECHOS/INCINERACION E INCINERACION ABIERTA DE DESECHOS SOLIDOS",
                "PROCESOS INDUSTRIALES Y USO DE PRODUCTOS /INDUSTRIA DE LOS METALES",
                "PROCESOS INDUSTRIALES Y USO DE PRODUCTOS /INDUSTRIA DE LOS MINERALES",
                "PROCESOS INDUSTRIALES Y USO DE PRODUCTOS /INDUSTRIA QUIMICA",
                "AGRICULTURA, SILVICULTURA Y OTROS USOS DE LA TIERRA/TIERRAS",
                "DESECHOS/TRATAMIENTO BIOLOGICO DE DESECHOS SOLIDOS",
                "DESECHOS/TRATAMIENTO Y ELIMINACION DE AGUAS RESIDUALES",
                "PROCESOS INDUSTRIALES Y USO DE PRODUCTOS /USO DE PRODUCTOS SUSTITUTOS DE LAS SUSTANCIAS QUE AGOTAN LA CAPA DE OZONO",
                "AGRICULTURA, SILVICULTURA Y OTROS USOS DE LA TIERRA",
                "DESECHOS",
                "ENERGIA ",
                "PROCESOS INDUSTRIALES Y USO DE PRODUCTOS "
               ]
              ],
              "labels": [
               [
                "APLICACION DE UREA",
                "ASENTAMIENTOS",
                "COMBUSTIBLES SOLIDOS",
                "CULTIVO DE ARROZ",
                "EMISIONES DIRECTAS DE N2O DE SUELOS GESTIONADOS",
                "EMISIONES INDIRECTAS DE N2O DE SUELOS GESTIONADOS",
                "EMISIONES INDIRECTAS DE N2O POR MANEJO DEL ESTIERCOL",
                "EMISIONES POR QUEMA DE BIOMASA ",
                "INCINERACION ABIERTA DE DESECHOS",
                "INDUSTRIAS DE ENERGIA",
                "INDUSTRIAS MANUFACTURERAS Y DE LA CONSTRUCCION",
                "NO ESPECIFICADO",
                "OTRAS TIERRAS",
                "OTROS SECTORES",
                "OTROS USOS DE CARBONATOS ",
                "PASTIZALES ",
                "PETROLEO Y GAS NATURAL",
                "PRODUCCION DE ACIDO NITRICO",
                "PRODUCCION DE CAL",
                "PRODUCCION DE CEMENTO",
                "PRODUCCION DE CENIZA DE SOSA (CARBONATO DE SODIO)",
                "PRODUCCION DE HIERRO Y ACERO",
                "PRODUCCION DE VIDRIO",
                "PRODUCCION DE ZINC",
                "REFRIGERACION Y AIRE ACONDICIONADO",
                "Sin especificar",
                "Sin especificar",
                "Sin especificar",
                "TIERRAS DE CULTIVO ",
                "TIERRAS FORESTALES ",
                "TRANSPORTE",
                "TRATAMIENTO Y ELIMINACION DE AGUAS RESIDUALES DOMESTICAS",
                "TRATAMIENTO Y ELIMINACION DE AGUAS RESIDUALES INDUSTRIALES",
                "ACTIVIDADES DE QUEMA DE COMBUSTIBLES ",
                "ELIMINACION DE DESECHOS SOLIDOS",
                "EMISIONES FUGITIVAS PROVENIENTES DE LA FABRICACION DE COMBUSTIBLES",
                "FUENTES AGREGADAS Y FUENTES DE EMISION NO-CO2 EN LA TIERRA",
                "GANADO",
                "INCINERACION E INCINERACION ABIERTA DE DESECHOS SOLIDOS",
                "INDUSTRIA DE LOS METALES",
                "INDUSTRIA DE LOS MINERALES",
                "INDUSTRIA QUIMICA",
                "TIERRAS",
                "TRATAMIENTO BIOLOGICO DE DESECHOS SOLIDOS",
                "TRATAMIENTO Y ELIMINACION DE AGUAS RESIDUALES",
                "USO DE PRODUCTOS SUSTITUTOS DE LAS SUSTANCIAS QUE AGOTAN LA CAPA DE OZONO",
                "AGRICULTURA, SILVICULTURA Y OTROS USOS DE LA TIERRA",
                "DESECHOS",
                "ENERGIA ",
                "PROCESOS INDUSTRIALES Y USO DE PRODUCTOS "
               ]
              ],
              "parents": [
               [
                "AGRICULTURA, SILVICULTURA Y OTROS USOS DE LA TIERRA/FUENTES AGREGADAS Y FUENTES DE EMISION NO-CO2 EN LA TIERRA",
                "AGRICULTURA, SILVICULTURA Y OTROS USOS DE LA TIERRA/TIERRAS",
                "ENERGIA /EMISIONES FUGITIVAS PROVENIENTES DE LA FABRICACION DE COMBUSTIBLES",
                "AGRICULTURA, SILVICULTURA Y OTROS USOS DE LA TIERRA/FUENTES AGREGADAS Y FUENTES DE EMISION NO-CO2 EN LA TIERRA",
                "AGRICULTURA, SILVICULTURA Y OTROS USOS DE LA TIERRA/FUENTES AGREGADAS Y FUENTES DE EMISION NO-CO2 EN LA TIERRA",
                "AGRICULTURA, SILVICULTURA Y OTROS USOS DE LA TIERRA/FUENTES AGREGADAS Y FUENTES DE EMISION NO-CO2 EN LA TIERRA",
                "AGRICULTURA, SILVICULTURA Y OTROS USOS DE LA TIERRA/FUENTES AGREGADAS Y FUENTES DE EMISION NO-CO2 EN LA TIERRA",
                "AGRICULTURA, SILVICULTURA Y OTROS USOS DE LA TIERRA/FUENTES AGREGADAS Y FUENTES DE EMISION NO-CO2 EN LA TIERRA",
                "DESECHOS/INCINERACION E INCINERACION ABIERTA DE DESECHOS SOLIDOS",
                "ENERGIA /ACTIVIDADES DE QUEMA DE COMBUSTIBLES ",
                "ENERGIA /ACTIVIDADES DE QUEMA DE COMBUSTIBLES ",
                "ENERGIA /ACTIVIDADES DE QUEMA DE COMBUSTIBLES ",
                "AGRICULTURA, SILVICULTURA Y OTROS USOS DE LA TIERRA/TIERRAS",
                "ENERGIA /ACTIVIDADES DE QUEMA DE COMBUSTIBLES ",
                "PROCESOS INDUSTRIALES Y USO DE PRODUCTOS /INDUSTRIA DE LOS MINERALES",
                "AGRICULTURA, SILVICULTURA Y OTROS USOS DE LA TIERRA/TIERRAS",
                "ENERGIA /EMISIONES FUGITIVAS PROVENIENTES DE LA FABRICACION DE COMBUSTIBLES",
                "PROCESOS INDUSTRIALES Y USO DE PRODUCTOS /INDUSTRIA QUIMICA",
                "PROCESOS INDUSTRIALES Y USO DE PRODUCTOS /INDUSTRIA DE LOS MINERALES",
                "PROCESOS INDUSTRIALES Y USO DE PRODUCTOS /INDUSTRIA DE LOS MINERALES",
                "PROCESOS INDUSTRIALES Y USO DE PRODUCTOS /INDUSTRIA QUIMICA",
                "PROCESOS INDUSTRIALES Y USO DE PRODUCTOS /INDUSTRIA DE LOS METALES",
                "PROCESOS INDUSTRIALES Y USO DE PRODUCTOS /INDUSTRIA DE LOS MINERALES",
                "PROCESOS INDUSTRIALES Y USO DE PRODUCTOS /INDUSTRIA DE LOS METALES",
                "PROCESOS INDUSTRIALES Y USO DE PRODUCTOS /USO DE PRODUCTOS SUSTITUTOS DE LAS SUSTANCIAS QUE AGOTAN LA CAPA DE OZONO",
                "DESECHOS/ELIMINACION DE DESECHOS SOLIDOS",
                "AGRICULTURA, SILVICULTURA Y OTROS USOS DE LA TIERRA/GANADO",
                "DESECHOS/TRATAMIENTO BIOLOGICO DE DESECHOS SOLIDOS",
                "AGRICULTURA, SILVICULTURA Y OTROS USOS DE LA TIERRA/TIERRAS",
                "AGRICULTURA, SILVICULTURA Y OTROS USOS DE LA TIERRA/TIERRAS",
                "ENERGIA /ACTIVIDADES DE QUEMA DE COMBUSTIBLES ",
                "DESECHOS/TRATAMIENTO Y ELIMINACION DE AGUAS RESIDUALES",
                "DESECHOS/TRATAMIENTO Y ELIMINACION DE AGUAS RESIDUALES",
                "ENERGIA ",
                "DESECHOS",
                "ENERGIA ",
                "AGRICULTURA, SILVICULTURA Y OTROS USOS DE LA TIERRA",
                "AGRICULTURA, SILVICULTURA Y OTROS USOS DE LA TIERRA",
                "DESECHOS",
                "PROCESOS INDUSTRIALES Y USO DE PRODUCTOS ",
                "PROCESOS INDUSTRIALES Y USO DE PRODUCTOS ",
                "PROCESOS INDUSTRIALES Y USO DE PRODUCTOS ",
                "AGRICULTURA, SILVICULTURA Y OTROS USOS DE LA TIERRA",
                "DESECHOS",
                "DESECHOS",
                "PROCESOS INDUSTRIALES Y USO DE PRODUCTOS ",
                "",
                "",
                "",
                ""
               ]
              ],
              "type": "treemap",
              "values": [
               [
                292.6,
                7078.75,
                286.12,
                1790.83,
                6853.68,
                2454.34,
                185.41,
                814.8,
                5.94,
                12727.96,
                9253.64,
                7.85,
                428.31,
                5187.24,
                108.79,
                24463.12,
                10129.08,
                33.76,
                756.15,
                4763.47,
                0.01,
                250.46,
                39.01,
                613.91,
                909.91,
                6472.31,
                16086.68,
                4.77,
                62555.94,
                8243.92,
                25646.28,
                2807.64,
                1127.71,
                52822.97,
                6472.31,
                10415.2,
                12391.66,
                16086.68,
                5.94,
                864.37,
                5667.42,
                33.769999999999996,
                102770.04,
                4.77,
                3935.35,
                909.91,
                131248.38,
                10418.37,
                63238.17,
                7475.47
               ]
              ]
             },
             {
              "title": "Emisiones de GEI en el Año 2019"
             }
            ],
            "label": "2019",
            "method": "update"
           }
          ],
          "direction": "down",
          "showactive": true,
          "x": 1.15,
          "y": 1.15
         }
        ]
       }
      }
     },
     "metadata": {},
     "output_type": "display_data"
    }
   ],
   "source": [
    "# Asegurar que la columna de valores no tenga ceros o NaN\n",
    "df = df[df[\"EMISIONES_GEI_GGCO2EQ\"] > 0]\n",
    "\n",
    "# Obtener lista de años únicos con datos válidos\n",
    "years = sorted(df[\"ANIO\"].unique())\n",
    "\n",
    "# Verificar que hay datos para al menos un año\n",
    "if not years:\n",
    "    raise ValueError(\"No hay datos disponibles para mostrar en el treemap.\")\n",
    "\n",
    "# Crear el Treemap inicial con el primer año válido\n",
    "df_year = df[df[\"ANIO\"] == years[0]]\n",
    "\n",
    "fig_treemap = px.treemap(\n",
    "    df_year,\n",
    "    path=['SECTOR', 'CATEGORIA', 'SUBCATEGORIA'],\n",
    "    values='EMISIONES_GEI_GGCO2EQ',\n",
    "    color='EMISIONES_GEI_GGCO2EQ',\n",
    "    color_continuous_scale='RdYlBu_r',\n",
    "    title=f'Emisiones de GEI en el Año {years[0]}'\n",
    ")\n",
    "\n",
    "# Crear los botones del menú para cada año\n",
    "botones = []\n",
    "for year in years:\n",
    "    df_filtered = df[df[\"ANIO\"] == year]\n",
    "    \n",
    "    if df_filtered.empty:\n",
    "        continue  # Si no hay datos para el año, lo omitimos\n",
    "    \n",
    "    # Crear un nuevo Treemap para cada año\n",
    "    treemap_trace = px.treemap(\n",
    "        df_filtered,\n",
    "        path=['SECTOR', 'CATEGORIA', 'SUBCATEGORIA'],\n",
    "        values='EMISIONES_GEI_GGCO2EQ',\n",
    "        color='EMISIONES_GEI_GGCO2EQ',\n",
    "        color_continuous_scale='RdYlBu_r'\n",
    "    ).data[0]  # Extraer la traza del treemap\n",
    "\n",
    "    botones.append(\n",
    "        dict(\n",
    "            label=str(year),\n",
    "            method=\"update\",\n",
    "            args=[{\"type\": \"treemap\", \"parents\": [treemap_trace.parents], \n",
    "                   \"labels\": [treemap_trace.labels], \n",
    "                   \"values\": [treemap_trace.values], \n",
    "                   \"ids\": [treemap_trace.ids]},\n",
    "                  {\"title\": f\"Emisiones de GEI en el Año {year}\"}]\n",
    "        )\n",
    "    )\n",
    "\n",
    "# Agregar el menú desplegable con los años disponibles\n",
    "fig_treemap.update_layout(\n",
    "    updatemenus=[dict(\n",
    "        buttons=botones,\n",
    "        direction=\"down\",\n",
    "        showactive=True,\n",
    "        x=1.15,  # Ajusta la posición para alinear con el texto\n",
    "        y=1.15\n",
    "    )],\n",
    "    annotations=[\n",
    "        dict(\n",
    "            text=\"Escoger año:\",  # Texto que aparecerá junto al botón\n",
    "            x=1.05,  # Posición horizontal\n",
    "            y=1.15,  # Posición vertical (igual que el dropdown)\n",
    "            xref=\"paper\",  # Referencia relativa al gráfico\n",
    "            yref=\"paper\",\n",
    "            showarrow=False,  # Sin flecha\n",
    "            font=dict(size=14)  # Tamaño de la fuente\n",
    "        )\n",
    "    ],\n",
    "    height=700\n",
    ")\n",
    "\n",
    "# Mostrar el gráfico interactivo\n",
    "fig_treemap.show()"
   ]
  },
  {
   "cell_type": "code",
   "execution_count": 39,
   "metadata": {},
   "outputs": [
    {
     "data": {
      "application/vnd.plotly.v1+json": {
       "config": {
        "plotlyServerURL": "https://plot.ly"
       },
       "data": [
        {
         "branchvalues": "total",
         "customdata": [
          [
           139.14
          ],
          [
           256.77
          ],
          [
           208.62
          ],
          [
           62.39
          ],
          [
           1072.86
          ],
          [
           1243.86
          ],
          [
           4607.18
          ],
          [
           5610.54
          ],
          [
           2039.89
          ],
          [
           121.57
          ],
          [
           780.57
          ],
          [
           1474.72
          ],
          [
           14279.75
          ],
          [
           59.43
          ],
          [
           3363.62
          ],
          [
           52.31000000000001
          ],
          [
           7454.799999999999
          ],
          [
           592.96
          ],
          [
           920.54
          ],
          [
           6.37
          ],
          [
           111.38000000000001
          ],
          [
           47.94
          ],
          [
           13.46
          ],
          [
           256.34
          ],
          [
           2274.48
          ],
          [
           1944.38
          ],
          [
           901.45
          ],
          [
           3798.96
          ],
          [
           460.65489972132127
          ],
          [
           30.25326419585175
          ],
          [
           0.03
          ],
          [
           18.94
          ],
          [
           1782.14
          ],
          [
           91.73
          ],
          [
           8863.83
          ],
          [
           2208.44
          ],
          [
           397.76
          ],
          [
           5775.559089224124
          ],
          [
           4607.18
          ],
          [
           2875.711053415153
          ],
          [
           3767.6060981578
          ],
          [
           13734.071438500448
          ],
          [
           52.31000000000001
          ],
          [
           460.65489972132127
          ],
          [
           1671.6289640370921
          ],
          [
           0.03
          ],
          [
           1932.0927984038065
          ],
          [
           18.94
          ],
          [
           9714.36385873575
          ],
          [
           3614.8341230770925
          ],
          [
           5271.557056049181
          ],
          [
           1281.4647937724278
          ]
         ],
         "domain": {
          "x": [
           0,
           1
          ],
          "y": [
           0,
           1
          ]
         },
         "hovertemplate": "\n    <b>%{label}</b><br>\n    Emisiones: %{value:,.2f} GgCO₂eq<br>\n    Porcentaje: %{customdata[0]:.2f}%\n    <extra></extra>\n    ",
         "ids": [
          "ENERGIA /ACTIVIDADES DE QUEMA DE COMBUSTIBLES /AGRICULTURA",
          "AGRICULTURA, SILVICULTURA Y OTROS USOS DE LA TIERRA/FUENTES AGREGADAS Y FUENTES DE EMISION NO-CO2 EN LA TIERRA/APLICACION DE UREA",
          "ENERGIA /ACTIVIDADES DE QUEMA DE COMBUSTIBLES /AVIACION CIVIL",
          "PROCESOS INDUSTRIALES Y USO DE PRODUCTOS /INDUSTRIA DE LOS MINERALES/CERAMICAS (LADRILLOS)",
          "ENERGIA /ACTIVIDADES DE QUEMA DE COMBUSTIBLES /COMERCIAL/INSTITUCIONAL",
          "AGRICULTURA, SILVICULTURA Y OTROS USOS DE LA TIERRA/FUENTES AGREGADAS Y FUENTES DE EMISION NO-CO2 EN LA TIERRA/CULTIVO DE ARROZ",
          "DESECHOS/ELIMINACION DE DESECHOS SOLIDOS/ELIMINACION DE DESECHOS SOLIDOS",
          "AGRICULTURA, SILVICULTURA Y OTROS USOS DE LA TIERRA/FUENTES AGREGADAS Y FUENTES DE EMISION NO-CO2 EN LA TIERRA/EMISIONES DIRECTAS DE N2O DE SUELOS GESTIONADOS",
          "AGRICULTURA, SILVICULTURA Y OTROS USOS DE LA TIERRA/FUENTES AGREGADAS Y FUENTES DE EMISION NO-CO2 EN LA TIERRA/EMISIONES INDIRECTAS DE N2O DE SUELOS GESTIONADOS",
          "AGRICULTURA, SILVICULTURA Y OTROS USOS DE LA TIERRA/FUENTES AGREGADAS Y FUENTES DE EMISION NO-CO2 EN LA TIERRA/EMISIONES INDIRECTAS DE N2O POR MANEJO DEL ESTIERCOL",
          "AGRICULTURA, SILVICULTURA Y OTROS USOS DE LA TIERRA/FUENTES AGREGADAS Y FUENTES DE EMISION NO-CO2 EN LA TIERRA/EMISIONES POR QUEMA DE BIOMASA ",
          "ENERGIA /ACTIVIDADES DE QUEMA DE COMBUSTIBLES /FABRICACION DE COMBUSTIBLES SOLIDOS Y OTRAS INDUSTRIAS ENERGETICAS",
          "AGRICULTURA, SILVICULTURA Y OTROS USOS DE LA TIERRA/GANADO/FERMENTACION ENTERICA",
          "ENERGIA /ACTIVIDADES DE QUEMA DE COMBUSTIBLES /FERROCARRILES",
          "ENERGIA /EMISIONES FUGITIVAS PROVENIENTES DE LA FABRICACION DE COMBUSTIBLES/GAS NATURAL",
          "DESECHOS/INCINERACION E INCINERACION ABIERTA DE DESECHOS SOLIDOS/INCINERACION ABIERTA DE DESECHOS",
          "ENERGIA /ACTIVIDADES DE QUEMA DE COMBUSTIBLES /INDUSTRIA NO ESPECIFICADA",
          "AGRICULTURA, SILVICULTURA Y OTROS USOS DE LA TIERRA/GANADO/MANEJO DE ESTIERCOL",
          "ENERGIA /ACTIVIDADES DE QUEMA DE COMBUSTIBLES /MINERIA (CON EXCEPCION DE COMBUSTIBLES) Y CANTERIA",
          "ENERGIA /EMISIONES FUGITIVAS PROVENIENTES DE LA FABRICACION DE COMBUSTIBLES/MINERIA Y MANEJO DEL CARBON ",
          "ENERGIA /ACTIVIDADES DE QUEMA DE COMBUSTIBLES /MOVIL",
          "ENERGIA /ACTIVIDADES DE QUEMA DE COMBUSTIBLES /NAVEGACION MARITIMA Y FLUVIAL",
          "ENERGIA /ACTIVIDADES DE QUEMA DE COMBUSTIBLES /OTRO TIPO DE TRANSPORTE",
          "ENERGIA /ACTIVIDADES DE QUEMA DE COMBUSTIBLES /PESCA",
          "ENERGIA /EMISIONES FUGITIVAS PROVENIENTES DE LA FABRICACION DE COMBUSTIBLES/PETROLEO",
          "ENERGIA /ACTIVIDADES DE QUEMA DE COMBUSTIBLES /PRODUCCION DE ELECTRICIDAD Y CALOR COMO ACTIVIDAD PRINCIPAL",
          "ENERGIA /ACTIVIDADES DE QUEMA DE COMBUSTIBLES /REFINACION DE PETROLEO",
          "ENERGIA /ACTIVIDADES DE QUEMA DE COMBUSTIBLES /RESIDENCIAL ",
          "PROCESOS INDUSTRIALES Y USO DE PRODUCTOS /INDUSTRIA DE LOS METALES/Sin especificar",
          "PROCESOS INDUSTRIALES Y USO DE PRODUCTOS /INDUSTRIA DE LOS MINERALES/Sin especificar",
          "PROCESOS INDUSTRIALES Y USO DE PRODUCTOS /INDUSTRIA QUIMICA/Sin especificar",
          "PROCESOS INDUSTRIALES Y USO DE PRODUCTOS /USO DE PRODUCTOS SUSTITUTOS DE LAS SUSTANCIAS QUE AGOTAN LA CAPA DE OZONO/Sin especificar",
          "PROCESOS INDUSTRIALES Y USO DE PRODUCTOS /INDUSTRIA DE LOS MINERALES/TODAS LAS FUENTES",
          "ENERGIA /EMISIONES FUGITIVAS PROVENIENTES DE LA FABRICACION DE COMBUSTIBLES/TRANSFORMACION DE COMBUSTIBLES SOLIDOS",
          "ENERGIA /ACTIVIDADES DE QUEMA DE COMBUSTIBLES /TRANSPORTE TERRESTRE",
          "DESECHOS/TRATAMIENTO Y ELIMINACION DE AGUAS RESIDUALES/TRATAMIENTO Y ELIMINACION DE AGUAS RESIDUALES DOMESTICAS",
          "DESECHOS/TRATAMIENTO Y ELIMINACION DE AGUAS RESIDUALES/TRATAMIENTO Y ELIMINACION DE AGUAS RESIDUALES INDUSTRIALES",
          "ENERGIA /ACTIVIDADES DE QUEMA DE COMBUSTIBLES ",
          "DESECHOS/ELIMINACION DE DESECHOS SOLIDOS",
          "ENERGIA /EMISIONES FUGITIVAS PROVENIENTES DE LA FABRICACION DE COMBUSTIBLES",
          "AGRICULTURA, SILVICULTURA Y OTROS USOS DE LA TIERRA/FUENTES AGREGADAS Y FUENTES DE EMISION NO-CO2 EN LA TIERRA",
          "AGRICULTURA, SILVICULTURA Y OTROS USOS DE LA TIERRA/GANADO",
          "DESECHOS/INCINERACION E INCINERACION ABIERTA DE DESECHOS SOLIDOS",
          "PROCESOS INDUSTRIALES Y USO DE PRODUCTOS /INDUSTRIA DE LOS METALES",
          "PROCESOS INDUSTRIALES Y USO DE PRODUCTOS /INDUSTRIA DE LOS MINERALES",
          "PROCESOS INDUSTRIALES Y USO DE PRODUCTOS /INDUSTRIA QUIMICA",
          "DESECHOS/TRATAMIENTO Y ELIMINACION DE AGUAS RESIDUALES",
          "PROCESOS INDUSTRIALES Y USO DE PRODUCTOS /USO DE PRODUCTOS SUSTITUTOS DE LAS SUSTANCIAS QUE AGOTAN LA CAPA DE OZONO",
          "AGRICULTURA, SILVICULTURA Y OTROS USOS DE LA TIERRA",
          "DESECHOS",
          "ENERGIA ",
          "PROCESOS INDUSTRIALES Y USO DE PRODUCTOS "
         ],
         "labels": [
          "AGRICULTURA",
          "APLICACION DE UREA",
          "AVIACION CIVIL",
          "CERAMICAS (LADRILLOS)",
          "COMERCIAL/INSTITUCIONAL",
          "CULTIVO DE ARROZ",
          "ELIMINACION DE DESECHOS SOLIDOS",
          "EMISIONES DIRECTAS DE N2O DE SUELOS GESTIONADOS",
          "EMISIONES INDIRECTAS DE N2O DE SUELOS GESTIONADOS",
          "EMISIONES INDIRECTAS DE N2O POR MANEJO DEL ESTIERCOL",
          "EMISIONES POR QUEMA DE BIOMASA ",
          "FABRICACION DE COMBUSTIBLES SOLIDOS Y OTRAS INDUSTRIAS ENERGETICAS",
          "FERMENTACION ENTERICA",
          "FERROCARRILES",
          "GAS NATURAL",
          "INCINERACION ABIERTA DE DESECHOS",
          "INDUSTRIA NO ESPECIFICADA",
          "MANEJO DE ESTIERCOL",
          "MINERIA (CON EXCEPCION DE COMBUSTIBLES) Y CANTERIA",
          "MINERIA Y MANEJO DEL CARBON ",
          "MOVIL",
          "NAVEGACION MARITIMA Y FLUVIAL",
          "OTRO TIPO DE TRANSPORTE",
          "PESCA",
          "PETROLEO",
          "PRODUCCION DE ELECTRICIDAD Y CALOR COMO ACTIVIDAD PRINCIPAL",
          "REFINACION DE PETROLEO",
          "RESIDENCIAL ",
          "Sin especificar",
          "Sin especificar",
          "Sin especificar",
          "Sin especificar",
          "TODAS LAS FUENTES",
          "TRANSFORMACION DE COMBUSTIBLES SOLIDOS",
          "TRANSPORTE TERRESTRE",
          "TRATAMIENTO Y ELIMINACION DE AGUAS RESIDUALES DOMESTICAS",
          "TRATAMIENTO Y ELIMINACION DE AGUAS RESIDUALES INDUSTRIALES",
          "ACTIVIDADES DE QUEMA DE COMBUSTIBLES ",
          "ELIMINACION DE DESECHOS SOLIDOS",
          "EMISIONES FUGITIVAS PROVENIENTES DE LA FABRICACION DE COMBUSTIBLES",
          "FUENTES AGREGADAS Y FUENTES DE EMISION NO-CO2 EN LA TIERRA",
          "GANADO",
          "INCINERACION E INCINERACION ABIERTA DE DESECHOS SOLIDOS",
          "INDUSTRIA DE LOS METALES",
          "INDUSTRIA DE LOS MINERALES",
          "INDUSTRIA QUIMICA",
          "TRATAMIENTO Y ELIMINACION DE AGUAS RESIDUALES",
          "USO DE PRODUCTOS SUSTITUTOS DE LAS SUSTANCIAS QUE AGOTAN LA CAPA DE OZONO",
          "AGRICULTURA, SILVICULTURA Y OTROS USOS DE LA TIERRA",
          "DESECHOS",
          "ENERGIA ",
          "PROCESOS INDUSTRIALES Y USO DE PRODUCTOS "
         ],
         "marker": {
          "coloraxis": "coloraxis",
          "colors": [
           139.14,
           256.77,
           208.62,
           62.39,
           1072.86,
           1243.86,
           4607.18,
           5610.54,
           2039.89,
           121.57,
           780.57,
           1474.72,
           14279.75,
           59.43,
           3363.62,
           52.31000000000001,
           7454.799999999999,
           592.96,
           920.54,
           6.37,
           111.38000000000001,
           47.94,
           13.46,
           256.34,
           2274.48,
           1944.38,
           901.45,
           3798.96,
           460.65489972132127,
           30.25326419585175,
           0.03,
           18.94,
           1782.14,
           91.73,
           8863.83,
           2208.44,
           397.76,
           5775.559089224124,
           4607.18,
           2875.711053415153,
           3767.6060981578,
           13734.071438500448,
           52.31000000000001,
           460.65489972132127,
           1671.6289640370921,
           0.03,
           1932.0927984038065,
           18.94,
           9714.36385873575,
           3614.8341230770925,
           5271.557056049181,
           1281.4647937724278
          ]
         },
         "maxdepth": 3,
         "name": "",
         "parents": [
          "ENERGIA /ACTIVIDADES DE QUEMA DE COMBUSTIBLES ",
          "AGRICULTURA, SILVICULTURA Y OTROS USOS DE LA TIERRA/FUENTES AGREGADAS Y FUENTES DE EMISION NO-CO2 EN LA TIERRA",
          "ENERGIA /ACTIVIDADES DE QUEMA DE COMBUSTIBLES ",
          "PROCESOS INDUSTRIALES Y USO DE PRODUCTOS /INDUSTRIA DE LOS MINERALES",
          "ENERGIA /ACTIVIDADES DE QUEMA DE COMBUSTIBLES ",
          "AGRICULTURA, SILVICULTURA Y OTROS USOS DE LA TIERRA/FUENTES AGREGADAS Y FUENTES DE EMISION NO-CO2 EN LA TIERRA",
          "DESECHOS/ELIMINACION DE DESECHOS SOLIDOS",
          "AGRICULTURA, SILVICULTURA Y OTROS USOS DE LA TIERRA/FUENTES AGREGADAS Y FUENTES DE EMISION NO-CO2 EN LA TIERRA",
          "AGRICULTURA, SILVICULTURA Y OTROS USOS DE LA TIERRA/FUENTES AGREGADAS Y FUENTES DE EMISION NO-CO2 EN LA TIERRA",
          "AGRICULTURA, SILVICULTURA Y OTROS USOS DE LA TIERRA/FUENTES AGREGADAS Y FUENTES DE EMISION NO-CO2 EN LA TIERRA",
          "AGRICULTURA, SILVICULTURA Y OTROS USOS DE LA TIERRA/FUENTES AGREGADAS Y FUENTES DE EMISION NO-CO2 EN LA TIERRA",
          "ENERGIA /ACTIVIDADES DE QUEMA DE COMBUSTIBLES ",
          "AGRICULTURA, SILVICULTURA Y OTROS USOS DE LA TIERRA/GANADO",
          "ENERGIA /ACTIVIDADES DE QUEMA DE COMBUSTIBLES ",
          "ENERGIA /EMISIONES FUGITIVAS PROVENIENTES DE LA FABRICACION DE COMBUSTIBLES",
          "DESECHOS/INCINERACION E INCINERACION ABIERTA DE DESECHOS SOLIDOS",
          "ENERGIA /ACTIVIDADES DE QUEMA DE COMBUSTIBLES ",
          "AGRICULTURA, SILVICULTURA Y OTROS USOS DE LA TIERRA/GANADO",
          "ENERGIA /ACTIVIDADES DE QUEMA DE COMBUSTIBLES ",
          "ENERGIA /EMISIONES FUGITIVAS PROVENIENTES DE LA FABRICACION DE COMBUSTIBLES",
          "ENERGIA /ACTIVIDADES DE QUEMA DE COMBUSTIBLES ",
          "ENERGIA /ACTIVIDADES DE QUEMA DE COMBUSTIBLES ",
          "ENERGIA /ACTIVIDADES DE QUEMA DE COMBUSTIBLES ",
          "ENERGIA /ACTIVIDADES DE QUEMA DE COMBUSTIBLES ",
          "ENERGIA /EMISIONES FUGITIVAS PROVENIENTES DE LA FABRICACION DE COMBUSTIBLES",
          "ENERGIA /ACTIVIDADES DE QUEMA DE COMBUSTIBLES ",
          "ENERGIA /ACTIVIDADES DE QUEMA DE COMBUSTIBLES ",
          "ENERGIA /ACTIVIDADES DE QUEMA DE COMBUSTIBLES ",
          "PROCESOS INDUSTRIALES Y USO DE PRODUCTOS /INDUSTRIA DE LOS METALES",
          "PROCESOS INDUSTRIALES Y USO DE PRODUCTOS /INDUSTRIA DE LOS MINERALES",
          "PROCESOS INDUSTRIALES Y USO DE PRODUCTOS /INDUSTRIA QUIMICA",
          "PROCESOS INDUSTRIALES Y USO DE PRODUCTOS /USO DE PRODUCTOS SUSTITUTOS DE LAS SUSTANCIAS QUE AGOTAN LA CAPA DE OZONO",
          "PROCESOS INDUSTRIALES Y USO DE PRODUCTOS /INDUSTRIA DE LOS MINERALES",
          "ENERGIA /EMISIONES FUGITIVAS PROVENIENTES DE LA FABRICACION DE COMBUSTIBLES",
          "ENERGIA /ACTIVIDADES DE QUEMA DE COMBUSTIBLES ",
          "DESECHOS/TRATAMIENTO Y ELIMINACION DE AGUAS RESIDUALES",
          "DESECHOS/TRATAMIENTO Y ELIMINACION DE AGUAS RESIDUALES",
          "ENERGIA ",
          "DESECHOS",
          "ENERGIA ",
          "AGRICULTURA, SILVICULTURA Y OTROS USOS DE LA TIERRA",
          "AGRICULTURA, SILVICULTURA Y OTROS USOS DE LA TIERRA",
          "DESECHOS",
          "PROCESOS INDUSTRIALES Y USO DE PRODUCTOS ",
          "PROCESOS INDUSTRIALES Y USO DE PRODUCTOS ",
          "PROCESOS INDUSTRIALES Y USO DE PRODUCTOS ",
          "DESECHOS",
          "PROCESOS INDUSTRIALES Y USO DE PRODUCTOS ",
          "",
          "",
          "",
          ""
         ],
         "textinfo": "label+percent entry",
         "type": "sunburst",
         "values": [
          139.14,
          256.77,
          208.62,
          62.39,
          1072.86,
          1243.86,
          4607.18,
          5610.54,
          2039.89,
          121.57,
          780.57,
          1474.72,
          14279.75,
          59.43,
          3363.62,
          52.31,
          7454.8,
          592.96,
          920.54,
          6.37,
          111.38,
          47.94,
          13.46,
          256.34,
          2274.48,
          1944.38,
          901.45,
          3798.96,
          875.5600000000001,
          58.82,
          0.03,
          18.94,
          1782.14,
          91.73,
          8863.83,
          2208.44,
          397.76,
          27267.85,
          4607.18,
          5736.2,
          10053.2,
          14872.71,
          52.31,
          875.5600000000001,
          1903.3500000000001,
          0.03,
          2606.2,
          18.94,
          24925.91,
          7265.6900000000005,
          33004.05,
          2797.88
         ]
        }
       ],
       "layout": {
        "annotations": [
         {
          "font": {
           "size": 14
          },
          "showarrow": false,
          "text": "Escoger año:",
          "x": 0,
          "xref": "paper",
          "y": 1.15,
          "yref": "paper"
         }
        ],
        "coloraxis": {
         "colorbar": {
          "title": {
           "text": "EMISIONES_GEI_GGCO2EQ"
          }
         },
         "colorscale": [
          [
           0,
           "#440154"
          ],
          [
           0.1111111111111111,
           "#482878"
          ],
          [
           0.2222222222222222,
           "#3e4989"
          ],
          [
           0.3333333333333333,
           "#31688e"
          ],
          [
           0.4444444444444444,
           "#26828e"
          ],
          [
           0.5555555555555556,
           "#1f9e89"
          ],
          [
           0.6666666666666666,
           "#35b779"
          ],
          [
           0.7777777777777778,
           "#6ece58"
          ],
          [
           0.8888888888888888,
           "#b5de2b"
          ],
          [
           1,
           "#fde725"
          ]
         ]
        },
        "height": 800,
        "legend": {
         "tracegroupgap": 0
        },
        "margin": {
         "t": 60
        },
        "template": {
         "data": {
          "bar": [
           {
            "error_x": {
             "color": "#2a3f5f"
            },
            "error_y": {
             "color": "#2a3f5f"
            },
            "marker": {
             "line": {
              "color": "#E5ECF6",
              "width": 0.5
             },
             "pattern": {
              "fillmode": "overlay",
              "size": 10,
              "solidity": 0.2
             }
            },
            "type": "bar"
           }
          ],
          "barpolar": [
           {
            "marker": {
             "line": {
              "color": "#E5ECF6",
              "width": 0.5
             },
             "pattern": {
              "fillmode": "overlay",
              "size": 10,
              "solidity": 0.2
             }
            },
            "type": "barpolar"
           }
          ],
          "carpet": [
           {
            "aaxis": {
             "endlinecolor": "#2a3f5f",
             "gridcolor": "white",
             "linecolor": "white",
             "minorgridcolor": "white",
             "startlinecolor": "#2a3f5f"
            },
            "baxis": {
             "endlinecolor": "#2a3f5f",
             "gridcolor": "white",
             "linecolor": "white",
             "minorgridcolor": "white",
             "startlinecolor": "#2a3f5f"
            },
            "type": "carpet"
           }
          ],
          "choropleth": [
           {
            "colorbar": {
             "outlinewidth": 0,
             "ticks": ""
            },
            "type": "choropleth"
           }
          ],
          "contour": [
           {
            "colorbar": {
             "outlinewidth": 0,
             "ticks": ""
            },
            "colorscale": [
             [
              0,
              "#0d0887"
             ],
             [
              0.1111111111111111,
              "#46039f"
             ],
             [
              0.2222222222222222,
              "#7201a8"
             ],
             [
              0.3333333333333333,
              "#9c179e"
             ],
             [
              0.4444444444444444,
              "#bd3786"
             ],
             [
              0.5555555555555556,
              "#d8576b"
             ],
             [
              0.6666666666666666,
              "#ed7953"
             ],
             [
              0.7777777777777778,
              "#fb9f3a"
             ],
             [
              0.8888888888888888,
              "#fdca26"
             ],
             [
              1,
              "#f0f921"
             ]
            ],
            "type": "contour"
           }
          ],
          "contourcarpet": [
           {
            "colorbar": {
             "outlinewidth": 0,
             "ticks": ""
            },
            "type": "contourcarpet"
           }
          ],
          "heatmap": [
           {
            "colorbar": {
             "outlinewidth": 0,
             "ticks": ""
            },
            "colorscale": [
             [
              0,
              "#0d0887"
             ],
             [
              0.1111111111111111,
              "#46039f"
             ],
             [
              0.2222222222222222,
              "#7201a8"
             ],
             [
              0.3333333333333333,
              "#9c179e"
             ],
             [
              0.4444444444444444,
              "#bd3786"
             ],
             [
              0.5555555555555556,
              "#d8576b"
             ],
             [
              0.6666666666666666,
              "#ed7953"
             ],
             [
              0.7777777777777778,
              "#fb9f3a"
             ],
             [
              0.8888888888888888,
              "#fdca26"
             ],
             [
              1,
              "#f0f921"
             ]
            ],
            "type": "heatmap"
           }
          ],
          "heatmapgl": [
           {
            "colorbar": {
             "outlinewidth": 0,
             "ticks": ""
            },
            "colorscale": [
             [
              0,
              "#0d0887"
             ],
             [
              0.1111111111111111,
              "#46039f"
             ],
             [
              0.2222222222222222,
              "#7201a8"
             ],
             [
              0.3333333333333333,
              "#9c179e"
             ],
             [
              0.4444444444444444,
              "#bd3786"
             ],
             [
              0.5555555555555556,
              "#d8576b"
             ],
             [
              0.6666666666666666,
              "#ed7953"
             ],
             [
              0.7777777777777778,
              "#fb9f3a"
             ],
             [
              0.8888888888888888,
              "#fdca26"
             ],
             [
              1,
              "#f0f921"
             ]
            ],
            "type": "heatmapgl"
           }
          ],
          "histogram": [
           {
            "marker": {
             "pattern": {
              "fillmode": "overlay",
              "size": 10,
              "solidity": 0.2
             }
            },
            "type": "histogram"
           }
          ],
          "histogram2d": [
           {
            "colorbar": {
             "outlinewidth": 0,
             "ticks": ""
            },
            "colorscale": [
             [
              0,
              "#0d0887"
             ],
             [
              0.1111111111111111,
              "#46039f"
             ],
             [
              0.2222222222222222,
              "#7201a8"
             ],
             [
              0.3333333333333333,
              "#9c179e"
             ],
             [
              0.4444444444444444,
              "#bd3786"
             ],
             [
              0.5555555555555556,
              "#d8576b"
             ],
             [
              0.6666666666666666,
              "#ed7953"
             ],
             [
              0.7777777777777778,
              "#fb9f3a"
             ],
             [
              0.8888888888888888,
              "#fdca26"
             ],
             [
              1,
              "#f0f921"
             ]
            ],
            "type": "histogram2d"
           }
          ],
          "histogram2dcontour": [
           {
            "colorbar": {
             "outlinewidth": 0,
             "ticks": ""
            },
            "colorscale": [
             [
              0,
              "#0d0887"
             ],
             [
              0.1111111111111111,
              "#46039f"
             ],
             [
              0.2222222222222222,
              "#7201a8"
             ],
             [
              0.3333333333333333,
              "#9c179e"
             ],
             [
              0.4444444444444444,
              "#bd3786"
             ],
             [
              0.5555555555555556,
              "#d8576b"
             ],
             [
              0.6666666666666666,
              "#ed7953"
             ],
             [
              0.7777777777777778,
              "#fb9f3a"
             ],
             [
              0.8888888888888888,
              "#fdca26"
             ],
             [
              1,
              "#f0f921"
             ]
            ],
            "type": "histogram2dcontour"
           }
          ],
          "mesh3d": [
           {
            "colorbar": {
             "outlinewidth": 0,
             "ticks": ""
            },
            "type": "mesh3d"
           }
          ],
          "parcoords": [
           {
            "line": {
             "colorbar": {
              "outlinewidth": 0,
              "ticks": ""
             }
            },
            "type": "parcoords"
           }
          ],
          "pie": [
           {
            "automargin": true,
            "type": "pie"
           }
          ],
          "scatter": [
           {
            "fillpattern": {
             "fillmode": "overlay",
             "size": 10,
             "solidity": 0.2
            },
            "type": "scatter"
           }
          ],
          "scatter3d": [
           {
            "line": {
             "colorbar": {
              "outlinewidth": 0,
              "ticks": ""
             }
            },
            "marker": {
             "colorbar": {
              "outlinewidth": 0,
              "ticks": ""
             }
            },
            "type": "scatter3d"
           }
          ],
          "scattercarpet": [
           {
            "marker": {
             "colorbar": {
              "outlinewidth": 0,
              "ticks": ""
             }
            },
            "type": "scattercarpet"
           }
          ],
          "scattergeo": [
           {
            "marker": {
             "colorbar": {
              "outlinewidth": 0,
              "ticks": ""
             }
            },
            "type": "scattergeo"
           }
          ],
          "scattergl": [
           {
            "marker": {
             "colorbar": {
              "outlinewidth": 0,
              "ticks": ""
             }
            },
            "type": "scattergl"
           }
          ],
          "scattermapbox": [
           {
            "marker": {
             "colorbar": {
              "outlinewidth": 0,
              "ticks": ""
             }
            },
            "type": "scattermapbox"
           }
          ],
          "scatterpolar": [
           {
            "marker": {
             "colorbar": {
              "outlinewidth": 0,
              "ticks": ""
             }
            },
            "type": "scatterpolar"
           }
          ],
          "scatterpolargl": [
           {
            "marker": {
             "colorbar": {
              "outlinewidth": 0,
              "ticks": ""
             }
            },
            "type": "scatterpolargl"
           }
          ],
          "scatterternary": [
           {
            "marker": {
             "colorbar": {
              "outlinewidth": 0,
              "ticks": ""
             }
            },
            "type": "scatterternary"
           }
          ],
          "surface": [
           {
            "colorbar": {
             "outlinewidth": 0,
             "ticks": ""
            },
            "colorscale": [
             [
              0,
              "#0d0887"
             ],
             [
              0.1111111111111111,
              "#46039f"
             ],
             [
              0.2222222222222222,
              "#7201a8"
             ],
             [
              0.3333333333333333,
              "#9c179e"
             ],
             [
              0.4444444444444444,
              "#bd3786"
             ],
             [
              0.5555555555555556,
              "#d8576b"
             ],
             [
              0.6666666666666666,
              "#ed7953"
             ],
             [
              0.7777777777777778,
              "#fb9f3a"
             ],
             [
              0.8888888888888888,
              "#fdca26"
             ],
             [
              1,
              "#f0f921"
             ]
            ],
            "type": "surface"
           }
          ],
          "table": [
           {
            "cells": {
             "fill": {
              "color": "#EBF0F8"
             },
             "line": {
              "color": "white"
             }
            },
            "header": {
             "fill": {
              "color": "#C8D4E3"
             },
             "line": {
              "color": "white"
             }
            },
            "type": "table"
           }
          ]
         },
         "layout": {
          "annotationdefaults": {
           "arrowcolor": "#2a3f5f",
           "arrowhead": 0,
           "arrowwidth": 1
          },
          "autotypenumbers": "strict",
          "coloraxis": {
           "colorbar": {
            "outlinewidth": 0,
            "ticks": ""
           }
          },
          "colorscale": {
           "diverging": [
            [
             0,
             "#8e0152"
            ],
            [
             0.1,
             "#c51b7d"
            ],
            [
             0.2,
             "#de77ae"
            ],
            [
             0.3,
             "#f1b6da"
            ],
            [
             0.4,
             "#fde0ef"
            ],
            [
             0.5,
             "#f7f7f7"
            ],
            [
             0.6,
             "#e6f5d0"
            ],
            [
             0.7,
             "#b8e186"
            ],
            [
             0.8,
             "#7fbc41"
            ],
            [
             0.9,
             "#4d9221"
            ],
            [
             1,
             "#276419"
            ]
           ],
           "sequential": [
            [
             0,
             "#0d0887"
            ],
            [
             0.1111111111111111,
             "#46039f"
            ],
            [
             0.2222222222222222,
             "#7201a8"
            ],
            [
             0.3333333333333333,
             "#9c179e"
            ],
            [
             0.4444444444444444,
             "#bd3786"
            ],
            [
             0.5555555555555556,
             "#d8576b"
            ],
            [
             0.6666666666666666,
             "#ed7953"
            ],
            [
             0.7777777777777778,
             "#fb9f3a"
            ],
            [
             0.8888888888888888,
             "#fdca26"
            ],
            [
             1,
             "#f0f921"
            ]
           ],
           "sequentialminus": [
            [
             0,
             "#0d0887"
            ],
            [
             0.1111111111111111,
             "#46039f"
            ],
            [
             0.2222222222222222,
             "#7201a8"
            ],
            [
             0.3333333333333333,
             "#9c179e"
            ],
            [
             0.4444444444444444,
             "#bd3786"
            ],
            [
             0.5555555555555556,
             "#d8576b"
            ],
            [
             0.6666666666666666,
             "#ed7953"
            ],
            [
             0.7777777777777778,
             "#fb9f3a"
            ],
            [
             0.8888888888888888,
             "#fdca26"
            ],
            [
             1,
             "#f0f921"
            ]
           ]
          },
          "colorway": [
           "#636efa",
           "#EF553B",
           "#00cc96",
           "#ab63fa",
           "#FFA15A",
           "#19d3f3",
           "#FF6692",
           "#B6E880",
           "#FF97FF",
           "#FECB52"
          ],
          "font": {
           "color": "#2a3f5f"
          },
          "geo": {
           "bgcolor": "white",
           "lakecolor": "white",
           "landcolor": "#E5ECF6",
           "showlakes": true,
           "showland": true,
           "subunitcolor": "white"
          },
          "hoverlabel": {
           "align": "left"
          },
          "hovermode": "closest",
          "mapbox": {
           "style": "light"
          },
          "paper_bgcolor": "white",
          "plot_bgcolor": "#E5ECF6",
          "polar": {
           "angularaxis": {
            "gridcolor": "white",
            "linecolor": "white",
            "ticks": ""
           },
           "bgcolor": "#E5ECF6",
           "radialaxis": {
            "gridcolor": "white",
            "linecolor": "white",
            "ticks": ""
           }
          },
          "scene": {
           "xaxis": {
            "backgroundcolor": "#E5ECF6",
            "gridcolor": "white",
            "gridwidth": 2,
            "linecolor": "white",
            "showbackground": true,
            "ticks": "",
            "zerolinecolor": "white"
           },
           "yaxis": {
            "backgroundcolor": "#E5ECF6",
            "gridcolor": "white",
            "gridwidth": 2,
            "linecolor": "white",
            "showbackground": true,
            "ticks": "",
            "zerolinecolor": "white"
           },
           "zaxis": {
            "backgroundcolor": "#E5ECF6",
            "gridcolor": "white",
            "gridwidth": 2,
            "linecolor": "white",
            "showbackground": true,
            "ticks": "",
            "zerolinecolor": "white"
           }
          },
          "shapedefaults": {
           "line": {
            "color": "#2a3f5f"
           }
          },
          "ternary": {
           "aaxis": {
            "gridcolor": "white",
            "linecolor": "white",
            "ticks": ""
           },
           "baxis": {
            "gridcolor": "white",
            "linecolor": "white",
            "ticks": ""
           },
           "bgcolor": "#E5ECF6",
           "caxis": {
            "gridcolor": "white",
            "linecolor": "white",
            "ticks": ""
           }
          },
          "title": {
           "x": 0.05
          },
          "xaxis": {
           "automargin": true,
           "gridcolor": "white",
           "linecolor": "white",
           "ticks": "",
           "title": {
            "standoff": 15
           },
           "zerolinecolor": "white",
           "zerolinewidth": 2
          },
          "yaxis": {
           "automargin": true,
           "gridcolor": "white",
           "linecolor": "white",
           "ticks": "",
           "title": {
            "standoff": 15
           },
           "zerolinecolor": "white",
           "zerolinewidth": 2
          }
         }
        },
        "title": {
         "font": {
          "color": "#333333",
          "size": 20
         },
         "text": "Análisis Jerárquico de Emisiones de GEI en 2000",
         "x": 0.5,
         "xanchor": "center",
         "y": 0.98,
         "yanchor": "top"
        },
        "updatemenus": [
         {
          "buttons": [
           {
            "args": [
             {
              "ids": [
               [
                "ENERGIA /ACTIVIDADES DE QUEMA DE COMBUSTIBLES /AGRICULTURA",
                "AGRICULTURA, SILVICULTURA Y OTROS USOS DE LA TIERRA/FUENTES AGREGADAS Y FUENTES DE EMISION NO-CO2 EN LA TIERRA/APLICACION DE UREA",
                "ENERGIA /ACTIVIDADES DE QUEMA DE COMBUSTIBLES /AVIACION CIVIL",
                "PROCESOS INDUSTRIALES Y USO DE PRODUCTOS /INDUSTRIA DE LOS MINERALES/CERAMICAS (LADRILLOS)",
                "ENERGIA /ACTIVIDADES DE QUEMA DE COMBUSTIBLES /COMERCIAL/INSTITUCIONAL",
                "AGRICULTURA, SILVICULTURA Y OTROS USOS DE LA TIERRA/FUENTES AGREGADAS Y FUENTES DE EMISION NO-CO2 EN LA TIERRA/CULTIVO DE ARROZ",
                "DESECHOS/ELIMINACION DE DESECHOS SOLIDOS/ELIMINACION DE DESECHOS SOLIDOS",
                "AGRICULTURA, SILVICULTURA Y OTROS USOS DE LA TIERRA/FUENTES AGREGADAS Y FUENTES DE EMISION NO-CO2 EN LA TIERRA/EMISIONES DIRECTAS DE N2O DE SUELOS GESTIONADOS",
                "AGRICULTURA, SILVICULTURA Y OTROS USOS DE LA TIERRA/FUENTES AGREGADAS Y FUENTES DE EMISION NO-CO2 EN LA TIERRA/EMISIONES INDIRECTAS DE N2O DE SUELOS GESTIONADOS",
                "AGRICULTURA, SILVICULTURA Y OTROS USOS DE LA TIERRA/FUENTES AGREGADAS Y FUENTES DE EMISION NO-CO2 EN LA TIERRA/EMISIONES INDIRECTAS DE N2O POR MANEJO DEL ESTIERCOL",
                "AGRICULTURA, SILVICULTURA Y OTROS USOS DE LA TIERRA/FUENTES AGREGADAS Y FUENTES DE EMISION NO-CO2 EN LA TIERRA/EMISIONES POR QUEMA DE BIOMASA ",
                "ENERGIA /ACTIVIDADES DE QUEMA DE COMBUSTIBLES /FABRICACION DE COMBUSTIBLES SOLIDOS Y OTRAS INDUSTRIAS ENERGETICAS",
                "AGRICULTURA, SILVICULTURA Y OTROS USOS DE LA TIERRA/GANADO/FERMENTACION ENTERICA",
                "ENERGIA /ACTIVIDADES DE QUEMA DE COMBUSTIBLES /FERROCARRILES",
                "ENERGIA /EMISIONES FUGITIVAS PROVENIENTES DE LA FABRICACION DE COMBUSTIBLES/GAS NATURAL",
                "DESECHOS/INCINERACION E INCINERACION ABIERTA DE DESECHOS SOLIDOS/INCINERACION ABIERTA DE DESECHOS",
                "ENERGIA /ACTIVIDADES DE QUEMA DE COMBUSTIBLES /INDUSTRIA NO ESPECIFICADA",
                "AGRICULTURA, SILVICULTURA Y OTROS USOS DE LA TIERRA/GANADO/MANEJO DE ESTIERCOL",
                "ENERGIA /ACTIVIDADES DE QUEMA DE COMBUSTIBLES /MINERIA (CON EXCEPCION DE COMBUSTIBLES) Y CANTERIA",
                "ENERGIA /EMISIONES FUGITIVAS PROVENIENTES DE LA FABRICACION DE COMBUSTIBLES/MINERIA Y MANEJO DEL CARBON ",
                "ENERGIA /ACTIVIDADES DE QUEMA DE COMBUSTIBLES /MOVIL",
                "ENERGIA /ACTIVIDADES DE QUEMA DE COMBUSTIBLES /NAVEGACION MARITIMA Y FLUVIAL",
                "ENERGIA /ACTIVIDADES DE QUEMA DE COMBUSTIBLES /OTRO TIPO DE TRANSPORTE",
                "ENERGIA /ACTIVIDADES DE QUEMA DE COMBUSTIBLES /PESCA",
                "ENERGIA /EMISIONES FUGITIVAS PROVENIENTES DE LA FABRICACION DE COMBUSTIBLES/PETROLEO",
                "ENERGIA /ACTIVIDADES DE QUEMA DE COMBUSTIBLES /PRODUCCION DE ELECTRICIDAD Y CALOR COMO ACTIVIDAD PRINCIPAL",
                "ENERGIA /ACTIVIDADES DE QUEMA DE COMBUSTIBLES /REFINACION DE PETROLEO",
                "ENERGIA /ACTIVIDADES DE QUEMA DE COMBUSTIBLES /RESIDENCIAL ",
                "PROCESOS INDUSTRIALES Y USO DE PRODUCTOS /INDUSTRIA DE LOS METALES/Sin especificar",
                "PROCESOS INDUSTRIALES Y USO DE PRODUCTOS /INDUSTRIA DE LOS MINERALES/Sin especificar",
                "PROCESOS INDUSTRIALES Y USO DE PRODUCTOS /INDUSTRIA QUIMICA/Sin especificar",
                "PROCESOS INDUSTRIALES Y USO DE PRODUCTOS /USO DE PRODUCTOS SUSTITUTOS DE LAS SUSTANCIAS QUE AGOTAN LA CAPA DE OZONO/Sin especificar",
                "PROCESOS INDUSTRIALES Y USO DE PRODUCTOS /INDUSTRIA DE LOS MINERALES/TODAS LAS FUENTES",
                "ENERGIA /EMISIONES FUGITIVAS PROVENIENTES DE LA FABRICACION DE COMBUSTIBLES/TRANSFORMACION DE COMBUSTIBLES SOLIDOS",
                "ENERGIA /ACTIVIDADES DE QUEMA DE COMBUSTIBLES /TRANSPORTE TERRESTRE",
                "DESECHOS/TRATAMIENTO Y ELIMINACION DE AGUAS RESIDUALES/TRATAMIENTO Y ELIMINACION DE AGUAS RESIDUALES DOMESTICAS",
                "DESECHOS/TRATAMIENTO Y ELIMINACION DE AGUAS RESIDUALES/TRATAMIENTO Y ELIMINACION DE AGUAS RESIDUALES INDUSTRIALES",
                "ENERGIA /ACTIVIDADES DE QUEMA DE COMBUSTIBLES ",
                "DESECHOS/ELIMINACION DE DESECHOS SOLIDOS",
                "ENERGIA /EMISIONES FUGITIVAS PROVENIENTES DE LA FABRICACION DE COMBUSTIBLES",
                "AGRICULTURA, SILVICULTURA Y OTROS USOS DE LA TIERRA/FUENTES AGREGADAS Y FUENTES DE EMISION NO-CO2 EN LA TIERRA",
                "AGRICULTURA, SILVICULTURA Y OTROS USOS DE LA TIERRA/GANADO",
                "DESECHOS/INCINERACION E INCINERACION ABIERTA DE DESECHOS SOLIDOS",
                "PROCESOS INDUSTRIALES Y USO DE PRODUCTOS /INDUSTRIA DE LOS METALES",
                "PROCESOS INDUSTRIALES Y USO DE PRODUCTOS /INDUSTRIA DE LOS MINERALES",
                "PROCESOS INDUSTRIALES Y USO DE PRODUCTOS /INDUSTRIA QUIMICA",
                "DESECHOS/TRATAMIENTO Y ELIMINACION DE AGUAS RESIDUALES",
                "PROCESOS INDUSTRIALES Y USO DE PRODUCTOS /USO DE PRODUCTOS SUSTITUTOS DE LAS SUSTANCIAS QUE AGOTAN LA CAPA DE OZONO",
                "AGRICULTURA, SILVICULTURA Y OTROS USOS DE LA TIERRA",
                "DESECHOS",
                "ENERGIA ",
                "PROCESOS INDUSTRIALES Y USO DE PRODUCTOS "
               ]
              ],
              "labels": [
               [
                "AGRICULTURA",
                "APLICACION DE UREA",
                "AVIACION CIVIL",
                "CERAMICAS (LADRILLOS)",
                "COMERCIAL/INSTITUCIONAL",
                "CULTIVO DE ARROZ",
                "ELIMINACION DE DESECHOS SOLIDOS",
                "EMISIONES DIRECTAS DE N2O DE SUELOS GESTIONADOS",
                "EMISIONES INDIRECTAS DE N2O DE SUELOS GESTIONADOS",
                "EMISIONES INDIRECTAS DE N2O POR MANEJO DEL ESTIERCOL",
                "EMISIONES POR QUEMA DE BIOMASA ",
                "FABRICACION DE COMBUSTIBLES SOLIDOS Y OTRAS INDUSTRIAS ENERGETICAS",
                "FERMENTACION ENTERICA",
                "FERROCARRILES",
                "GAS NATURAL",
                "INCINERACION ABIERTA DE DESECHOS",
                "INDUSTRIA NO ESPECIFICADA",
                "MANEJO DE ESTIERCOL",
                "MINERIA (CON EXCEPCION DE COMBUSTIBLES) Y CANTERIA",
                "MINERIA Y MANEJO DEL CARBON ",
                "MOVIL",
                "NAVEGACION MARITIMA Y FLUVIAL",
                "OTRO TIPO DE TRANSPORTE",
                "PESCA",
                "PETROLEO",
                "PRODUCCION DE ELECTRICIDAD Y CALOR COMO ACTIVIDAD PRINCIPAL",
                "REFINACION DE PETROLEO",
                "RESIDENCIAL ",
                "Sin especificar",
                "Sin especificar",
                "Sin especificar",
                "Sin especificar",
                "TODAS LAS FUENTES",
                "TRANSFORMACION DE COMBUSTIBLES SOLIDOS",
                "TRANSPORTE TERRESTRE",
                "TRATAMIENTO Y ELIMINACION DE AGUAS RESIDUALES DOMESTICAS",
                "TRATAMIENTO Y ELIMINACION DE AGUAS RESIDUALES INDUSTRIALES",
                "ACTIVIDADES DE QUEMA DE COMBUSTIBLES ",
                "ELIMINACION DE DESECHOS SOLIDOS",
                "EMISIONES FUGITIVAS PROVENIENTES DE LA FABRICACION DE COMBUSTIBLES",
                "FUENTES AGREGADAS Y FUENTES DE EMISION NO-CO2 EN LA TIERRA",
                "GANADO",
                "INCINERACION E INCINERACION ABIERTA DE DESECHOS SOLIDOS",
                "INDUSTRIA DE LOS METALES",
                "INDUSTRIA DE LOS MINERALES",
                "INDUSTRIA QUIMICA",
                "TRATAMIENTO Y ELIMINACION DE AGUAS RESIDUALES",
                "USO DE PRODUCTOS SUSTITUTOS DE LAS SUSTANCIAS QUE AGOTAN LA CAPA DE OZONO",
                "AGRICULTURA, SILVICULTURA Y OTROS USOS DE LA TIERRA",
                "DESECHOS",
                "ENERGIA ",
                "PROCESOS INDUSTRIALES Y USO DE PRODUCTOS "
               ]
              ],
              "parents": [
               [
                "ENERGIA /ACTIVIDADES DE QUEMA DE COMBUSTIBLES ",
                "AGRICULTURA, SILVICULTURA Y OTROS USOS DE LA TIERRA/FUENTES AGREGADAS Y FUENTES DE EMISION NO-CO2 EN LA TIERRA",
                "ENERGIA /ACTIVIDADES DE QUEMA DE COMBUSTIBLES ",
                "PROCESOS INDUSTRIALES Y USO DE PRODUCTOS /INDUSTRIA DE LOS MINERALES",
                "ENERGIA /ACTIVIDADES DE QUEMA DE COMBUSTIBLES ",
                "AGRICULTURA, SILVICULTURA Y OTROS USOS DE LA TIERRA/FUENTES AGREGADAS Y FUENTES DE EMISION NO-CO2 EN LA TIERRA",
                "DESECHOS/ELIMINACION DE DESECHOS SOLIDOS",
                "AGRICULTURA, SILVICULTURA Y OTROS USOS DE LA TIERRA/FUENTES AGREGADAS Y FUENTES DE EMISION NO-CO2 EN LA TIERRA",
                "AGRICULTURA, SILVICULTURA Y OTROS USOS DE LA TIERRA/FUENTES AGREGADAS Y FUENTES DE EMISION NO-CO2 EN LA TIERRA",
                "AGRICULTURA, SILVICULTURA Y OTROS USOS DE LA TIERRA/FUENTES AGREGADAS Y FUENTES DE EMISION NO-CO2 EN LA TIERRA",
                "AGRICULTURA, SILVICULTURA Y OTROS USOS DE LA TIERRA/FUENTES AGREGADAS Y FUENTES DE EMISION NO-CO2 EN LA TIERRA",
                "ENERGIA /ACTIVIDADES DE QUEMA DE COMBUSTIBLES ",
                "AGRICULTURA, SILVICULTURA Y OTROS USOS DE LA TIERRA/GANADO",
                "ENERGIA /ACTIVIDADES DE QUEMA DE COMBUSTIBLES ",
                "ENERGIA /EMISIONES FUGITIVAS PROVENIENTES DE LA FABRICACION DE COMBUSTIBLES",
                "DESECHOS/INCINERACION E INCINERACION ABIERTA DE DESECHOS SOLIDOS",
                "ENERGIA /ACTIVIDADES DE QUEMA DE COMBUSTIBLES ",
                "AGRICULTURA, SILVICULTURA Y OTROS USOS DE LA TIERRA/GANADO",
                "ENERGIA /ACTIVIDADES DE QUEMA DE COMBUSTIBLES ",
                "ENERGIA /EMISIONES FUGITIVAS PROVENIENTES DE LA FABRICACION DE COMBUSTIBLES",
                "ENERGIA /ACTIVIDADES DE QUEMA DE COMBUSTIBLES ",
                "ENERGIA /ACTIVIDADES DE QUEMA DE COMBUSTIBLES ",
                "ENERGIA /ACTIVIDADES DE QUEMA DE COMBUSTIBLES ",
                "ENERGIA /ACTIVIDADES DE QUEMA DE COMBUSTIBLES ",
                "ENERGIA /EMISIONES FUGITIVAS PROVENIENTES DE LA FABRICACION DE COMBUSTIBLES",
                "ENERGIA /ACTIVIDADES DE QUEMA DE COMBUSTIBLES ",
                "ENERGIA /ACTIVIDADES DE QUEMA DE COMBUSTIBLES ",
                "ENERGIA /ACTIVIDADES DE QUEMA DE COMBUSTIBLES ",
                "PROCESOS INDUSTRIALES Y USO DE PRODUCTOS /INDUSTRIA DE LOS METALES",
                "PROCESOS INDUSTRIALES Y USO DE PRODUCTOS /INDUSTRIA DE LOS MINERALES",
                "PROCESOS INDUSTRIALES Y USO DE PRODUCTOS /INDUSTRIA QUIMICA",
                "PROCESOS INDUSTRIALES Y USO DE PRODUCTOS /USO DE PRODUCTOS SUSTITUTOS DE LAS SUSTANCIAS QUE AGOTAN LA CAPA DE OZONO",
                "PROCESOS INDUSTRIALES Y USO DE PRODUCTOS /INDUSTRIA DE LOS MINERALES",
                "ENERGIA /EMISIONES FUGITIVAS PROVENIENTES DE LA FABRICACION DE COMBUSTIBLES",
                "ENERGIA /ACTIVIDADES DE QUEMA DE COMBUSTIBLES ",
                "DESECHOS/TRATAMIENTO Y ELIMINACION DE AGUAS RESIDUALES",
                "DESECHOS/TRATAMIENTO Y ELIMINACION DE AGUAS RESIDUALES",
                "ENERGIA ",
                "DESECHOS",
                "ENERGIA ",
                "AGRICULTURA, SILVICULTURA Y OTROS USOS DE LA TIERRA",
                "AGRICULTURA, SILVICULTURA Y OTROS USOS DE LA TIERRA",
                "DESECHOS",
                "PROCESOS INDUSTRIALES Y USO DE PRODUCTOS ",
                "PROCESOS INDUSTRIALES Y USO DE PRODUCTOS ",
                "PROCESOS INDUSTRIALES Y USO DE PRODUCTOS ",
                "DESECHOS",
                "PROCESOS INDUSTRIALES Y USO DE PRODUCTOS ",
                "",
                "",
                "",
                ""
               ]
              ],
              "type": "sunburst",
              "values": [
               [
                139.14,
                256.77,
                208.62,
                62.39,
                1072.86,
                1243.86,
                4607.18,
                5610.54,
                2039.89,
                121.57,
                780.57,
                1474.72,
                14279.75,
                59.43,
                3363.62,
                52.31,
                7454.8,
                592.96,
                920.54,
                6.37,
                111.38,
                47.94,
                13.46,
                256.34,
                2274.48,
                1944.38,
                901.45,
                3798.96,
                875.5600000000001,
                58.82,
                0.03,
                18.94,
                1782.14,
                91.73,
                8863.83,
                2208.44,
                397.76,
                27267.85,
                4607.18,
                5736.2,
                10053.2,
                14872.71,
                52.31,
                875.5600000000001,
                1903.3500000000001,
                0.03,
                2606.2,
                18.94,
                24925.91,
                7265.6900000000005,
                33004.05,
                2797.88
               ]
              ]
             },
             {
              "title": "Análisis Jerárquico de Emisiones de GEI en 2000"
             }
            ],
            "label": "2000",
            "method": "update"
           },
           {
            "args": [
             {
              "ids": [
               [
                "ENERGIA /ACTIVIDADES DE QUEMA DE COMBUSTIBLES /AGRICULTURA",
                "AGRICULTURA, SILVICULTURA Y OTROS USOS DE LA TIERRA/FUENTES AGREGADAS Y FUENTES DE EMISION NO-CO2 EN LA TIERRA/APLICACION DE UREA",
                "ENERGIA /ACTIVIDADES DE QUEMA DE COMBUSTIBLES /AVIACION CIVIL",
                "PROCESOS INDUSTRIALES Y USO DE PRODUCTOS /INDUSTRIA DE LOS MINERALES/CERAMICAS (LADRILLOS)",
                "ENERGIA /ACTIVIDADES DE QUEMA DE COMBUSTIBLES /COMERCIAL/INSTITUCIONAL",
                "AGRICULTURA, SILVICULTURA Y OTROS USOS DE LA TIERRA/FUENTES AGREGADAS Y FUENTES DE EMISION NO-CO2 EN LA TIERRA/CULTIVO DE ARROZ",
                "DESECHOS/ELIMINACION DE DESECHOS SOLIDOS/ELIMINACION DE DESECHOS SOLIDOS",
                "AGRICULTURA, SILVICULTURA Y OTROS USOS DE LA TIERRA/FUENTES AGREGADAS Y FUENTES DE EMISION NO-CO2 EN LA TIERRA/EMISIONES DIRECTAS DE N2O DE SUELOS GESTIONADOS",
                "AGRICULTURA, SILVICULTURA Y OTROS USOS DE LA TIERRA/FUENTES AGREGADAS Y FUENTES DE EMISION NO-CO2 EN LA TIERRA/EMISIONES INDIRECTAS DE N2O DE SUELOS GESTIONADOS",
                "AGRICULTURA, SILVICULTURA Y OTROS USOS DE LA TIERRA/FUENTES AGREGADAS Y FUENTES DE EMISION NO-CO2 EN LA TIERRA/EMISIONES INDIRECTAS DE N2O POR MANEJO DEL ESTIERCOL",
                "AGRICULTURA, SILVICULTURA Y OTROS USOS DE LA TIERRA/FUENTES AGREGADAS Y FUENTES DE EMISION NO-CO2 EN LA TIERRA/EMISIONES POR QUEMA DE BIOMASA ",
                "ENERGIA /ACTIVIDADES DE QUEMA DE COMBUSTIBLES /FABRICACION DE COMBUSTIBLES SOLIDOS Y OTRAS INDUSTRIAS ENERGETICAS",
                "AGRICULTURA, SILVICULTURA Y OTROS USOS DE LA TIERRA/GANADO/FERMENTACION ENTERICA",
                "ENERGIA /ACTIVIDADES DE QUEMA DE COMBUSTIBLES /FERROCARRILES",
                "ENERGIA /EMISIONES FUGITIVAS PROVENIENTES DE LA FABRICACION DE COMBUSTIBLES/GAS NATURAL",
                "DESECHOS/INCINERACION E INCINERACION ABIERTA DE DESECHOS SOLIDOS/INCINERACION ABIERTA DE DESECHOS",
                "ENERGIA /ACTIVIDADES DE QUEMA DE COMBUSTIBLES /INDUSTRIA NO ESPECIFICADA",
                "AGRICULTURA, SILVICULTURA Y OTROS USOS DE LA TIERRA/GANADO/MANEJO DE ESTIERCOL",
                "ENERGIA /ACTIVIDADES DE QUEMA DE COMBUSTIBLES /MINERIA (CON EXCEPCION DE COMBUSTIBLES) Y CANTERIA",
                "ENERGIA /EMISIONES FUGITIVAS PROVENIENTES DE LA FABRICACION DE COMBUSTIBLES/MINERIA Y MANEJO DEL CARBON ",
                "ENERGIA /ACTIVIDADES DE QUEMA DE COMBUSTIBLES /MOVIL",
                "ENERGIA /ACTIVIDADES DE QUEMA DE COMBUSTIBLES /NAVEGACION MARITIMA Y FLUVIAL",
                "ENERGIA /ACTIVIDADES DE QUEMA DE COMBUSTIBLES /OTRO TIPO DE TRANSPORTE",
                "ENERGIA /ACTIVIDADES DE QUEMA DE COMBUSTIBLES /PESCA",
                "ENERGIA /EMISIONES FUGITIVAS PROVENIENTES DE LA FABRICACION DE COMBUSTIBLES/PETROLEO",
                "ENERGIA /ACTIVIDADES DE QUEMA DE COMBUSTIBLES /PRODUCCION DE ELECTRICIDAD Y CALOR COMO ACTIVIDAD PRINCIPAL",
                "ENERGIA /ACTIVIDADES DE QUEMA DE COMBUSTIBLES /REFINACION DE PETROLEO",
                "ENERGIA /ACTIVIDADES DE QUEMA DE COMBUSTIBLES /RESIDENCIAL ",
                "PROCESOS INDUSTRIALES Y USO DE PRODUCTOS /INDUSTRIA DE LOS METALES/Sin especificar",
                "PROCESOS INDUSTRIALES Y USO DE PRODUCTOS /INDUSTRIA DE LOS MINERALES/Sin especificar",
                "PROCESOS INDUSTRIALES Y USO DE PRODUCTOS /INDUSTRIA QUIMICA/Sin especificar",
                "PROCESOS INDUSTRIALES Y USO DE PRODUCTOS /USO DE PRODUCTOS SUSTITUTOS DE LAS SUSTANCIAS QUE AGOTAN LA CAPA DE OZONO/Sin especificar",
                "PROCESOS INDUSTRIALES Y USO DE PRODUCTOS /INDUSTRIA DE LOS MINERALES/TODAS LAS FUENTES",
                "ENERGIA /EMISIONES FUGITIVAS PROVENIENTES DE LA FABRICACION DE COMBUSTIBLES/TRANSFORMACION DE COMBUSTIBLES SOLIDOS",
                "ENERGIA /ACTIVIDADES DE QUEMA DE COMBUSTIBLES /TRANSPORTE TERRESTRE",
                "DESECHOS/TRATAMIENTO Y ELIMINACION DE AGUAS RESIDUALES/TRATAMIENTO Y ELIMINACION DE AGUAS RESIDUALES DOMESTICAS",
                "DESECHOS/TRATAMIENTO Y ELIMINACION DE AGUAS RESIDUALES/TRATAMIENTO Y ELIMINACION DE AGUAS RESIDUALES INDUSTRIALES",
                "ENERGIA /ACTIVIDADES DE QUEMA DE COMBUSTIBLES ",
                "DESECHOS/ELIMINACION DE DESECHOS SOLIDOS",
                "ENERGIA /EMISIONES FUGITIVAS PROVENIENTES DE LA FABRICACION DE COMBUSTIBLES",
                "AGRICULTURA, SILVICULTURA Y OTROS USOS DE LA TIERRA/FUENTES AGREGADAS Y FUENTES DE EMISION NO-CO2 EN LA TIERRA",
                "AGRICULTURA, SILVICULTURA Y OTROS USOS DE LA TIERRA/GANADO",
                "DESECHOS/INCINERACION E INCINERACION ABIERTA DE DESECHOS SOLIDOS",
                "PROCESOS INDUSTRIALES Y USO DE PRODUCTOS /INDUSTRIA DE LOS METALES",
                "PROCESOS INDUSTRIALES Y USO DE PRODUCTOS /INDUSTRIA DE LOS MINERALES",
                "PROCESOS INDUSTRIALES Y USO DE PRODUCTOS /INDUSTRIA QUIMICA",
                "DESECHOS/TRATAMIENTO Y ELIMINACION DE AGUAS RESIDUALES",
                "PROCESOS INDUSTRIALES Y USO DE PRODUCTOS /USO DE PRODUCTOS SUSTITUTOS DE LAS SUSTANCIAS QUE AGOTAN LA CAPA DE OZONO",
                "AGRICULTURA, SILVICULTURA Y OTROS USOS DE LA TIERRA",
                "DESECHOS",
                "ENERGIA ",
                "PROCESOS INDUSTRIALES Y USO DE PRODUCTOS "
               ]
              ],
              "labels": [
               [
                "AGRICULTURA",
                "APLICACION DE UREA",
                "AVIACION CIVIL",
                "CERAMICAS (LADRILLOS)",
                "COMERCIAL/INSTITUCIONAL",
                "CULTIVO DE ARROZ",
                "ELIMINACION DE DESECHOS SOLIDOS",
                "EMISIONES DIRECTAS DE N2O DE SUELOS GESTIONADOS",
                "EMISIONES INDIRECTAS DE N2O DE SUELOS GESTIONADOS",
                "EMISIONES INDIRECTAS DE N2O POR MANEJO DEL ESTIERCOL",
                "EMISIONES POR QUEMA DE BIOMASA ",
                "FABRICACION DE COMBUSTIBLES SOLIDOS Y OTRAS INDUSTRIAS ENERGETICAS",
                "FERMENTACION ENTERICA",
                "FERROCARRILES",
                "GAS NATURAL",
                "INCINERACION ABIERTA DE DESECHOS",
                "INDUSTRIA NO ESPECIFICADA",
                "MANEJO DE ESTIERCOL",
                "MINERIA (CON EXCEPCION DE COMBUSTIBLES) Y CANTERIA",
                "MINERIA Y MANEJO DEL CARBON ",
                "MOVIL",
                "NAVEGACION MARITIMA Y FLUVIAL",
                "OTRO TIPO DE TRANSPORTE",
                "PESCA",
                "PETROLEO",
                "PRODUCCION DE ELECTRICIDAD Y CALOR COMO ACTIVIDAD PRINCIPAL",
                "REFINACION DE PETROLEO",
                "RESIDENCIAL ",
                "Sin especificar",
                "Sin especificar",
                "Sin especificar",
                "Sin especificar",
                "TODAS LAS FUENTES",
                "TRANSFORMACION DE COMBUSTIBLES SOLIDOS",
                "TRANSPORTE TERRESTRE",
                "TRATAMIENTO Y ELIMINACION DE AGUAS RESIDUALES DOMESTICAS",
                "TRATAMIENTO Y ELIMINACION DE AGUAS RESIDUALES INDUSTRIALES",
                "ACTIVIDADES DE QUEMA DE COMBUSTIBLES ",
                "ELIMINACION DE DESECHOS SOLIDOS",
                "EMISIONES FUGITIVAS PROVENIENTES DE LA FABRICACION DE COMBUSTIBLES",
                "FUENTES AGREGADAS Y FUENTES DE EMISION NO-CO2 EN LA TIERRA",
                "GANADO",
                "INCINERACION E INCINERACION ABIERTA DE DESECHOS SOLIDOS",
                "INDUSTRIA DE LOS METALES",
                "INDUSTRIA DE LOS MINERALES",
                "INDUSTRIA QUIMICA",
                "TRATAMIENTO Y ELIMINACION DE AGUAS RESIDUALES",
                "USO DE PRODUCTOS SUSTITUTOS DE LAS SUSTANCIAS QUE AGOTAN LA CAPA DE OZONO",
                "AGRICULTURA, SILVICULTURA Y OTROS USOS DE LA TIERRA",
                "DESECHOS",
                "ENERGIA ",
                "PROCESOS INDUSTRIALES Y USO DE PRODUCTOS "
               ]
              ],
              "parents": [
               [
                "ENERGIA /ACTIVIDADES DE QUEMA DE COMBUSTIBLES ",
                "AGRICULTURA, SILVICULTURA Y OTROS USOS DE LA TIERRA/FUENTES AGREGADAS Y FUENTES DE EMISION NO-CO2 EN LA TIERRA",
                "ENERGIA /ACTIVIDADES DE QUEMA DE COMBUSTIBLES ",
                "PROCESOS INDUSTRIALES Y USO DE PRODUCTOS /INDUSTRIA DE LOS MINERALES",
                "ENERGIA /ACTIVIDADES DE QUEMA DE COMBUSTIBLES ",
                "AGRICULTURA, SILVICULTURA Y OTROS USOS DE LA TIERRA/FUENTES AGREGADAS Y FUENTES DE EMISION NO-CO2 EN LA TIERRA",
                "DESECHOS/ELIMINACION DE DESECHOS SOLIDOS",
                "AGRICULTURA, SILVICULTURA Y OTROS USOS DE LA TIERRA/FUENTES AGREGADAS Y FUENTES DE EMISION NO-CO2 EN LA TIERRA",
                "AGRICULTURA, SILVICULTURA Y OTROS USOS DE LA TIERRA/FUENTES AGREGADAS Y FUENTES DE EMISION NO-CO2 EN LA TIERRA",
                "AGRICULTURA, SILVICULTURA Y OTROS USOS DE LA TIERRA/FUENTES AGREGADAS Y FUENTES DE EMISION NO-CO2 EN LA TIERRA",
                "AGRICULTURA, SILVICULTURA Y OTROS USOS DE LA TIERRA/FUENTES AGREGADAS Y FUENTES DE EMISION NO-CO2 EN LA TIERRA",
                "ENERGIA /ACTIVIDADES DE QUEMA DE COMBUSTIBLES ",
                "AGRICULTURA, SILVICULTURA Y OTROS USOS DE LA TIERRA/GANADO",
                "ENERGIA /ACTIVIDADES DE QUEMA DE COMBUSTIBLES ",
                "ENERGIA /EMISIONES FUGITIVAS PROVENIENTES DE LA FABRICACION DE COMBUSTIBLES",
                "DESECHOS/INCINERACION E INCINERACION ABIERTA DE DESECHOS SOLIDOS",
                "ENERGIA /ACTIVIDADES DE QUEMA DE COMBUSTIBLES ",
                "AGRICULTURA, SILVICULTURA Y OTROS USOS DE LA TIERRA/GANADO",
                "ENERGIA /ACTIVIDADES DE QUEMA DE COMBUSTIBLES ",
                "ENERGIA /EMISIONES FUGITIVAS PROVENIENTES DE LA FABRICACION DE COMBUSTIBLES",
                "ENERGIA /ACTIVIDADES DE QUEMA DE COMBUSTIBLES ",
                "ENERGIA /ACTIVIDADES DE QUEMA DE COMBUSTIBLES ",
                "ENERGIA /ACTIVIDADES DE QUEMA DE COMBUSTIBLES ",
                "ENERGIA /ACTIVIDADES DE QUEMA DE COMBUSTIBLES ",
                "ENERGIA /EMISIONES FUGITIVAS PROVENIENTES DE LA FABRICACION DE COMBUSTIBLES",
                "ENERGIA /ACTIVIDADES DE QUEMA DE COMBUSTIBLES ",
                "ENERGIA /ACTIVIDADES DE QUEMA DE COMBUSTIBLES ",
                "ENERGIA /ACTIVIDADES DE QUEMA DE COMBUSTIBLES ",
                "PROCESOS INDUSTRIALES Y USO DE PRODUCTOS /INDUSTRIA DE LOS METALES",
                "PROCESOS INDUSTRIALES Y USO DE PRODUCTOS /INDUSTRIA DE LOS MINERALES",
                "PROCESOS INDUSTRIALES Y USO DE PRODUCTOS /INDUSTRIA QUIMICA",
                "PROCESOS INDUSTRIALES Y USO DE PRODUCTOS /USO DE PRODUCTOS SUSTITUTOS DE LAS SUSTANCIAS QUE AGOTAN LA CAPA DE OZONO",
                "PROCESOS INDUSTRIALES Y USO DE PRODUCTOS /INDUSTRIA DE LOS MINERALES",
                "ENERGIA /EMISIONES FUGITIVAS PROVENIENTES DE LA FABRICACION DE COMBUSTIBLES",
                "ENERGIA /ACTIVIDADES DE QUEMA DE COMBUSTIBLES ",
                "DESECHOS/TRATAMIENTO Y ELIMINACION DE AGUAS RESIDUALES",
                "DESECHOS/TRATAMIENTO Y ELIMINACION DE AGUAS RESIDUALES",
                "ENERGIA ",
                "DESECHOS",
                "ENERGIA ",
                "AGRICULTURA, SILVICULTURA Y OTROS USOS DE LA TIERRA",
                "AGRICULTURA, SILVICULTURA Y OTROS USOS DE LA TIERRA",
                "DESECHOS",
                "PROCESOS INDUSTRIALES Y USO DE PRODUCTOS ",
                "PROCESOS INDUSTRIALES Y USO DE PRODUCTOS ",
                "PROCESOS INDUSTRIALES Y USO DE PRODUCTOS ",
                "DESECHOS",
                "PROCESOS INDUSTRIALES Y USO DE PRODUCTOS ",
                "",
                "",
                "",
                ""
               ]
              ],
              "type": "sunburst",
              "values": [
               [
                133.25,
                181.77,
                369.1,
                79.69,
                998.58,
                1547,
                4844.75,
                5829.49,
                2130.63,
                134.96,
                791.08,
                2138.66,
                14994.68,
                60.88,
                4836.14,
                52.31,
                7343.19,
                633.24,
                938.66,
                22.55,
                80.66,
                171.03,
                10.01,
                281.99,
                3046.33,
                3168.15,
                1499.33,
                2985.8,
                919.75,
                182.22,
                9.780000000000001,
                53.99,
                2375.59,
                88.89,
                9017.34,
                2583.66,
                415.61,
                29196.63,
                4844.75,
                7993.91,
                10614.93,
                15627.92,
                52.31,
                919.75,
                2637.5,
                9.780000000000001,
                2999.27,
                53.99,
                26242.85,
                7896.33,
                37190.54,
                3621.02
               ]
              ]
             },
             {
              "title": "Análisis Jerárquico de Emisiones de GEI en 2005"
             }
            ],
            "label": "2005",
            "method": "update"
           },
           {
            "args": [
             {
              "ids": [
               [
                "ENERGIA /ACTIVIDADES DE QUEMA DE COMBUSTIBLES /AGRICULTURA",
                "AGRICULTURA, SILVICULTURA Y OTROS USOS DE LA TIERRA/FUENTES AGREGADAS Y FUENTES DE EMISION NO-CO2 EN LA TIERRA/APLICACION DE UREA",
                "ENERGIA /ACTIVIDADES DE QUEMA DE COMBUSTIBLES /AVIACION CIVIL",
                "PROCESOS INDUSTRIALES Y USO DE PRODUCTOS /INDUSTRIA DE LOS MINERALES/CERAMICAS (LADRILLOS)",
                "ENERGIA /ACTIVIDADES DE QUEMA DE COMBUSTIBLES /COMERCIAL/INSTITUCIONAL",
                "AGRICULTURA, SILVICULTURA Y OTROS USOS DE LA TIERRA/FUENTES AGREGADAS Y FUENTES DE EMISION NO-CO2 EN LA TIERRA/CULTIVO DE ARROZ",
                "DESECHOS/ELIMINACION DE DESECHOS SOLIDOS/ELIMINACION DE DESECHOS SOLIDOS",
                "AGRICULTURA, SILVICULTURA Y OTROS USOS DE LA TIERRA/FUENTES AGREGADAS Y FUENTES DE EMISION NO-CO2 EN LA TIERRA/EMISIONES DIRECTAS DE N2O DE SUELOS GESTIONADOS",
                "AGRICULTURA, SILVICULTURA Y OTROS USOS DE LA TIERRA/FUENTES AGREGADAS Y FUENTES DE EMISION NO-CO2 EN LA TIERRA/EMISIONES INDIRECTAS DE N2O DE SUELOS GESTIONADOS",
                "AGRICULTURA, SILVICULTURA Y OTROS USOS DE LA TIERRA/FUENTES AGREGADAS Y FUENTES DE EMISION NO-CO2 EN LA TIERRA/EMISIONES INDIRECTAS DE N2O POR MANEJO DEL ESTIERCOL",
                "AGRICULTURA, SILVICULTURA Y OTROS USOS DE LA TIERRA/FUENTES AGREGADAS Y FUENTES DE EMISION NO-CO2 EN LA TIERRA/EMISIONES POR QUEMA DE BIOMASA ",
                "ENERGIA /ACTIVIDADES DE QUEMA DE COMBUSTIBLES /FABRICACION DE COMBUSTIBLES SOLIDOS Y OTRAS INDUSTRIAS ENERGETICAS",
                "AGRICULTURA, SILVICULTURA Y OTROS USOS DE LA TIERRA/GANADO/FERMENTACION ENTERICA",
                "ENERGIA /ACTIVIDADES DE QUEMA DE COMBUSTIBLES /FERROCARRILES",
                "ENERGIA /EMISIONES FUGITIVAS PROVENIENTES DE LA FABRICACION DE COMBUSTIBLES/GAS NATURAL",
                "DESECHOS/INCINERACION E INCINERACION ABIERTA DE DESECHOS SOLIDOS/INCINERACION ABIERTA DE DESECHOS",
                "ENERGIA /ACTIVIDADES DE QUEMA DE COMBUSTIBLES /INDUSTRIA NO ESPECIFICADA",
                "AGRICULTURA, SILVICULTURA Y OTROS USOS DE LA TIERRA/GANADO/MANEJO DE ESTIERCOL",
                "ENERGIA /ACTIVIDADES DE QUEMA DE COMBUSTIBLES /MINERIA (CON EXCEPCION DE COMBUSTIBLES) Y CANTERIA",
                "ENERGIA /EMISIONES FUGITIVAS PROVENIENTES DE LA FABRICACION DE COMBUSTIBLES/MINERIA Y MANEJO DEL CARBON ",
                "ENERGIA /ACTIVIDADES DE QUEMA DE COMBUSTIBLES /MOVIL",
                "ENERGIA /ACTIVIDADES DE QUEMA DE COMBUSTIBLES /NAVEGACION MARITIMA Y FLUVIAL",
                "ENERGIA /ACTIVIDADES DE QUEMA DE COMBUSTIBLES /OTRO TIPO DE TRANSPORTE",
                "PROCESOS INDUSTRIALES Y USO DE PRODUCTOS /INDUSTRIA DE LOS MINERALES/OTROS USOS DE LA CENIZA DE SOSA (CARBONATO DE SODIO)",
                "ENERGIA /ACTIVIDADES DE QUEMA DE COMBUSTIBLES /PESCA",
                "ENERGIA /EMISIONES FUGITIVAS PROVENIENTES DE LA FABRICACION DE COMBUSTIBLES/PETROLEO",
                "ENERGIA /ACTIVIDADES DE QUEMA DE COMBUSTIBLES /PRODUCCION DE ELECTRICIDAD Y CALOR COMO ACTIVIDAD PRINCIPAL",
                "ENERGIA /ACTIVIDADES DE QUEMA DE COMBUSTIBLES /REFINACION DE PETROLEO",
                "ENERGIA /ACTIVIDADES DE QUEMA DE COMBUSTIBLES /RESIDENCIAL ",
                "PROCESOS INDUSTRIALES Y USO DE PRODUCTOS /INDUSTRIA DE LOS METALES/Sin especificar",
                "PROCESOS INDUSTRIALES Y USO DE PRODUCTOS /INDUSTRIA DE LOS MINERALES/Sin especificar",
                "PROCESOS INDUSTRIALES Y USO DE PRODUCTOS /INDUSTRIA QUIMICA/Sin especificar",
                "PROCESOS INDUSTRIALES Y USO DE PRODUCTOS /USO DE PRODUCTOS SUSTITUTOS DE LAS SUSTANCIAS QUE AGOTAN LA CAPA DE OZONO/Sin especificar",
                "AGRICULTURA, SILVICULTURA Y OTROS USOS DE LA TIERRA/TIERRAS/TIERRAS CONVERTIDAS EN ASENTAMIENTOS",
                "AGRICULTURA, SILVICULTURA Y OTROS USOS DE LA TIERRA/TIERRAS/TIERRAS CONVERTIDAS EN OTRAS TIERRAS",
                "AGRICULTURA, SILVICULTURA Y OTROS USOS DE LA TIERRA/TIERRAS/TIERRAS CONVERTIDAS EN PASTIZALES ",
                "AGRICULTURA, SILVICULTURA Y OTROS USOS DE LA TIERRA/TIERRAS/TIERRAS CONVERTIDAS EN TIERRAS DE CULTIVO",
                "AGRICULTURA, SILVICULTURA Y OTROS USOS DE LA TIERRA/TIERRAS/TIERRAS FORESTALES QUE PERMANECEN COMO TIERRAS FORESTALES",
                "PROCESOS INDUSTRIALES Y USO DE PRODUCTOS /INDUSTRIA DE LOS MINERALES/TODAS LAS FUENTES",
                "ENERGIA /EMISIONES FUGITIVAS PROVENIENTES DE LA FABRICACION DE COMBUSTIBLES/TRANSFORMACION DE COMBUSTIBLES SOLIDOS",
                "ENERGIA /ACTIVIDADES DE QUEMA DE COMBUSTIBLES /TRANSPORTE TERRESTRE",
                "DESECHOS/TRATAMIENTO Y ELIMINACION DE AGUAS RESIDUALES/TRATAMIENTO Y ELIMINACION DE AGUAS RESIDUALES DOMESTICAS",
                "DESECHOS/TRATAMIENTO Y ELIMINACION DE AGUAS RESIDUALES/TRATAMIENTO Y ELIMINACION DE AGUAS RESIDUALES INDUSTRIALES",
                "ENERGIA /ACTIVIDADES DE QUEMA DE COMBUSTIBLES ",
                "DESECHOS/ELIMINACION DE DESECHOS SOLIDOS",
                "ENERGIA /EMISIONES FUGITIVAS PROVENIENTES DE LA FABRICACION DE COMBUSTIBLES",
                "AGRICULTURA, SILVICULTURA Y OTROS USOS DE LA TIERRA/FUENTES AGREGADAS Y FUENTES DE EMISION NO-CO2 EN LA TIERRA",
                "AGRICULTURA, SILVICULTURA Y OTROS USOS DE LA TIERRA/GANADO",
                "DESECHOS/INCINERACION E INCINERACION ABIERTA DE DESECHOS SOLIDOS",
                "PROCESOS INDUSTRIALES Y USO DE PRODUCTOS /INDUSTRIA DE LOS METALES",
                "PROCESOS INDUSTRIALES Y USO DE PRODUCTOS /INDUSTRIA DE LOS MINERALES",
                "PROCESOS INDUSTRIALES Y USO DE PRODUCTOS /INDUSTRIA QUIMICA",
                "AGRICULTURA, SILVICULTURA Y OTROS USOS DE LA TIERRA/TIERRAS",
                "DESECHOS/TRATAMIENTO Y ELIMINACION DE AGUAS RESIDUALES",
                "PROCESOS INDUSTRIALES Y USO DE PRODUCTOS /USO DE PRODUCTOS SUSTITUTOS DE LAS SUSTANCIAS QUE AGOTAN LA CAPA DE OZONO",
                "AGRICULTURA, SILVICULTURA Y OTROS USOS DE LA TIERRA",
                "DESECHOS",
                "ENERGIA ",
                "PROCESOS INDUSTRIALES Y USO DE PRODUCTOS "
               ]
              ],
              "labels": [
               [
                "AGRICULTURA",
                "APLICACION DE UREA",
                "AVIACION CIVIL",
                "CERAMICAS (LADRILLOS)",
                "COMERCIAL/INSTITUCIONAL",
                "CULTIVO DE ARROZ",
                "ELIMINACION DE DESECHOS SOLIDOS",
                "EMISIONES DIRECTAS DE N2O DE SUELOS GESTIONADOS",
                "EMISIONES INDIRECTAS DE N2O DE SUELOS GESTIONADOS",
                "EMISIONES INDIRECTAS DE N2O POR MANEJO DEL ESTIERCOL",
                "EMISIONES POR QUEMA DE BIOMASA ",
                "FABRICACION DE COMBUSTIBLES SOLIDOS Y OTRAS INDUSTRIAS ENERGETICAS",
                "FERMENTACION ENTERICA",
                "FERROCARRILES",
                "GAS NATURAL",
                "INCINERACION ABIERTA DE DESECHOS",
                "INDUSTRIA NO ESPECIFICADA",
                "MANEJO DE ESTIERCOL",
                "MINERIA (CON EXCEPCION DE COMBUSTIBLES) Y CANTERIA",
                "MINERIA Y MANEJO DEL CARBON ",
                "MOVIL",
                "NAVEGACION MARITIMA Y FLUVIAL",
                "OTRO TIPO DE TRANSPORTE",
                "OTROS USOS DE LA CENIZA DE SOSA (CARBONATO DE SODIO)",
                "PESCA",
                "PETROLEO",
                "PRODUCCION DE ELECTRICIDAD Y CALOR COMO ACTIVIDAD PRINCIPAL",
                "REFINACION DE PETROLEO",
                "RESIDENCIAL ",
                "Sin especificar",
                "Sin especificar",
                "Sin especificar",
                "Sin especificar",
                "TIERRAS CONVERTIDAS EN ASENTAMIENTOS",
                "TIERRAS CONVERTIDAS EN OTRAS TIERRAS",
                "TIERRAS CONVERTIDAS EN PASTIZALES ",
                "TIERRAS CONVERTIDAS EN TIERRAS DE CULTIVO",
                "TIERRAS FORESTALES QUE PERMANECEN COMO TIERRAS FORESTALES",
                "TODAS LAS FUENTES",
                "TRANSFORMACION DE COMBUSTIBLES SOLIDOS",
                "TRANSPORTE TERRESTRE",
                "TRATAMIENTO Y ELIMINACION DE AGUAS RESIDUALES DOMESTICAS",
                "TRATAMIENTO Y ELIMINACION DE AGUAS RESIDUALES INDUSTRIALES",
                "ACTIVIDADES DE QUEMA DE COMBUSTIBLES ",
                "ELIMINACION DE DESECHOS SOLIDOS",
                "EMISIONES FUGITIVAS PROVENIENTES DE LA FABRICACION DE COMBUSTIBLES",
                "FUENTES AGREGADAS Y FUENTES DE EMISION NO-CO2 EN LA TIERRA",
                "GANADO",
                "INCINERACION E INCINERACION ABIERTA DE DESECHOS SOLIDOS",
                "INDUSTRIA DE LOS METALES",
                "INDUSTRIA DE LOS MINERALES",
                "INDUSTRIA QUIMICA",
                "TIERRAS",
                "TRATAMIENTO Y ELIMINACION DE AGUAS RESIDUALES",
                "USO DE PRODUCTOS SUSTITUTOS DE LAS SUSTANCIAS QUE AGOTAN LA CAPA DE OZONO",
                "AGRICULTURA, SILVICULTURA Y OTROS USOS DE LA TIERRA",
                "DESECHOS",
                "ENERGIA ",
                "PROCESOS INDUSTRIALES Y USO DE PRODUCTOS "
               ]
              ],
              "parents": [
               [
                "ENERGIA /ACTIVIDADES DE QUEMA DE COMBUSTIBLES ",
                "AGRICULTURA, SILVICULTURA Y OTROS USOS DE LA TIERRA/FUENTES AGREGADAS Y FUENTES DE EMISION NO-CO2 EN LA TIERRA",
                "ENERGIA /ACTIVIDADES DE QUEMA DE COMBUSTIBLES ",
                "PROCESOS INDUSTRIALES Y USO DE PRODUCTOS /INDUSTRIA DE LOS MINERALES",
                "ENERGIA /ACTIVIDADES DE QUEMA DE COMBUSTIBLES ",
                "AGRICULTURA, SILVICULTURA Y OTROS USOS DE LA TIERRA/FUENTES AGREGADAS Y FUENTES DE EMISION NO-CO2 EN LA TIERRA",
                "DESECHOS/ELIMINACION DE DESECHOS SOLIDOS",
                "AGRICULTURA, SILVICULTURA Y OTROS USOS DE LA TIERRA/FUENTES AGREGADAS Y FUENTES DE EMISION NO-CO2 EN LA TIERRA",
                "AGRICULTURA, SILVICULTURA Y OTROS USOS DE LA TIERRA/FUENTES AGREGADAS Y FUENTES DE EMISION NO-CO2 EN LA TIERRA",
                "AGRICULTURA, SILVICULTURA Y OTROS USOS DE LA TIERRA/FUENTES AGREGADAS Y FUENTES DE EMISION NO-CO2 EN LA TIERRA",
                "AGRICULTURA, SILVICULTURA Y OTROS USOS DE LA TIERRA/FUENTES AGREGADAS Y FUENTES DE EMISION NO-CO2 EN LA TIERRA",
                "ENERGIA /ACTIVIDADES DE QUEMA DE COMBUSTIBLES ",
                "AGRICULTURA, SILVICULTURA Y OTROS USOS DE LA TIERRA/GANADO",
                "ENERGIA /ACTIVIDADES DE QUEMA DE COMBUSTIBLES ",
                "ENERGIA /EMISIONES FUGITIVAS PROVENIENTES DE LA FABRICACION DE COMBUSTIBLES",
                "DESECHOS/INCINERACION E INCINERACION ABIERTA DE DESECHOS SOLIDOS",
                "ENERGIA /ACTIVIDADES DE QUEMA DE COMBUSTIBLES ",
                "AGRICULTURA, SILVICULTURA Y OTROS USOS DE LA TIERRA/GANADO",
                "ENERGIA /ACTIVIDADES DE QUEMA DE COMBUSTIBLES ",
                "ENERGIA /EMISIONES FUGITIVAS PROVENIENTES DE LA FABRICACION DE COMBUSTIBLES",
                "ENERGIA /ACTIVIDADES DE QUEMA DE COMBUSTIBLES ",
                "ENERGIA /ACTIVIDADES DE QUEMA DE COMBUSTIBLES ",
                "ENERGIA /ACTIVIDADES DE QUEMA DE COMBUSTIBLES ",
                "PROCESOS INDUSTRIALES Y USO DE PRODUCTOS /INDUSTRIA DE LOS MINERALES",
                "ENERGIA /ACTIVIDADES DE QUEMA DE COMBUSTIBLES ",
                "ENERGIA /EMISIONES FUGITIVAS PROVENIENTES DE LA FABRICACION DE COMBUSTIBLES",
                "ENERGIA /ACTIVIDADES DE QUEMA DE COMBUSTIBLES ",
                "ENERGIA /ACTIVIDADES DE QUEMA DE COMBUSTIBLES ",
                "ENERGIA /ACTIVIDADES DE QUEMA DE COMBUSTIBLES ",
                "PROCESOS INDUSTRIALES Y USO DE PRODUCTOS /INDUSTRIA DE LOS METALES",
                "PROCESOS INDUSTRIALES Y USO DE PRODUCTOS /INDUSTRIA DE LOS MINERALES",
                "PROCESOS INDUSTRIALES Y USO DE PRODUCTOS /INDUSTRIA QUIMICA",
                "PROCESOS INDUSTRIALES Y USO DE PRODUCTOS /USO DE PRODUCTOS SUSTITUTOS DE LAS SUSTANCIAS QUE AGOTAN LA CAPA DE OZONO",
                "AGRICULTURA, SILVICULTURA Y OTROS USOS DE LA TIERRA/TIERRAS",
                "AGRICULTURA, SILVICULTURA Y OTROS USOS DE LA TIERRA/TIERRAS",
                "AGRICULTURA, SILVICULTURA Y OTROS USOS DE LA TIERRA/TIERRAS",
                "AGRICULTURA, SILVICULTURA Y OTROS USOS DE LA TIERRA/TIERRAS",
                "AGRICULTURA, SILVICULTURA Y OTROS USOS DE LA TIERRA/TIERRAS",
                "PROCESOS INDUSTRIALES Y USO DE PRODUCTOS /INDUSTRIA DE LOS MINERALES",
                "ENERGIA /EMISIONES FUGITIVAS PROVENIENTES DE LA FABRICACION DE COMBUSTIBLES",
                "ENERGIA /ACTIVIDADES DE QUEMA DE COMBUSTIBLES ",
                "DESECHOS/TRATAMIENTO Y ELIMINACION DE AGUAS RESIDUALES",
                "DESECHOS/TRATAMIENTO Y ELIMINACION DE AGUAS RESIDUALES",
                "ENERGIA ",
                "DESECHOS",
                "ENERGIA ",
                "AGRICULTURA, SILVICULTURA Y OTROS USOS DE LA TIERRA",
                "AGRICULTURA, SILVICULTURA Y OTROS USOS DE LA TIERRA",
                "DESECHOS",
                "PROCESOS INDUSTRIALES Y USO DE PRODUCTOS ",
                "PROCESOS INDUSTRIALES Y USO DE PRODUCTOS ",
                "PROCESOS INDUSTRIALES Y USO DE PRODUCTOS ",
                "AGRICULTURA, SILVICULTURA Y OTROS USOS DE LA TIERRA",
                "DESECHOS",
                "PROCESOS INDUSTRIALES Y USO DE PRODUCTOS ",
                "",
                "",
                "",
                ""
               ]
              ],
              "type": "sunburst",
              "values": [
               [
                167.63,
                239.83,
                524.67,
                111.03,
                1133.22,
                1679.47,
                4823.33,
                6353.88,
                2301.34,
                159.75,
                806.37,
                2775.71,
                15625.81,
                84.39,
                8055.64,
                52.31,
                6427.48,
                666.97,
                1190.88,
                46.31,
                77.22,
                430.53,
                8.94,
                13.62,
                484.66,
                3026.26,
                8235.31,
                1588.59,
                2812.97,
                569.54,
                304.89,
                31.66,
                134.16,
                1932.4,
                142.25,
                16974.67,
                54135.77,
                20275.26,
                3339.63,
                81.72,
                13139.6,
                2821.34,
                625.4,
                39081.8,
                4823.33,
                11209.93,
                11540.64,
                16292.779999999999,
                52.31,
                569.54,
                3769.17,
                31.66,
                93460.34999999999,
                3446.7400000000002,
                134.16,
                121293.76999999999,
                8322.38,
                50291.729999999996,
                4504.53
               ]
              ]
             },
             {
              "title": "Análisis Jerárquico de Emisiones de GEI en 2010"
             }
            ],
            "label": "2010",
            "method": "update"
           },
           {
            "args": [
             {
              "ids": [
               [
                "ENERGIA /ACTIVIDADES DE QUEMA DE COMBUSTIBLES /AGRICULTURA",
                "AGRICULTURA, SILVICULTURA Y OTROS USOS DE LA TIERRA/FUENTES AGREGADAS Y FUENTES DE EMISION NO-CO2 EN LA TIERRA/APLICACION DE UREA",
                "ENERGIA /ACTIVIDADES DE QUEMA DE COMBUSTIBLES /AVIACION CIVIL",
                "PROCESOS INDUSTRIALES Y USO DE PRODUCTOS /INDUSTRIA DE LOS MINERALES/CERAMICAS (LADRILLOS)",
                "ENERGIA /ACTIVIDADES DE QUEMA DE COMBUSTIBLES /COMERCIAL/INSTITUCIONAL",
                "AGRICULTURA, SILVICULTURA Y OTROS USOS DE LA TIERRA/FUENTES AGREGADAS Y FUENTES DE EMISION NO-CO2 EN LA TIERRA/CULTIVO DE ARROZ",
                "DESECHOS/ELIMINACION DE DESECHOS SOLIDOS/ELIMINACION DE DESECHOS SOLIDOS",
                "AGRICULTURA, SILVICULTURA Y OTROS USOS DE LA TIERRA/FUENTES AGREGADAS Y FUENTES DE EMISION NO-CO2 EN LA TIERRA/EMISIONES DIRECTAS DE N2O DE SUELOS GESTIONADOS",
                "AGRICULTURA, SILVICULTURA Y OTROS USOS DE LA TIERRA/FUENTES AGREGADAS Y FUENTES DE EMISION NO-CO2 EN LA TIERRA/EMISIONES INDIRECTAS DE N2O DE SUELOS GESTIONADOS",
                "AGRICULTURA, SILVICULTURA Y OTROS USOS DE LA TIERRA/FUENTES AGREGADAS Y FUENTES DE EMISION NO-CO2 EN LA TIERRA/EMISIONES INDIRECTAS DE N2O POR MANEJO DEL ESTIERCOL",
                "AGRICULTURA, SILVICULTURA Y OTROS USOS DE LA TIERRA/FUENTES AGREGADAS Y FUENTES DE EMISION NO-CO2 EN LA TIERRA/EMISIONES POR QUEMA DE BIOMASA ",
                "ENERGIA /ACTIVIDADES DE QUEMA DE COMBUSTIBLES /FABRICACION DE COMBUSTIBLES SOLIDOS Y OTRAS INDUSTRIAS ENERGETICAS",
                "AGRICULTURA, SILVICULTURA Y OTROS USOS DE LA TIERRA/GANADO/FERMENTACION ENTERICA",
                "ENERGIA /ACTIVIDADES DE QUEMA DE COMBUSTIBLES /FERROCARRILES",
                "ENERGIA /EMISIONES FUGITIVAS PROVENIENTES DE LA FABRICACION DE COMBUSTIBLES/GAS NATURAL",
                "DESECHOS/INCINERACION E INCINERACION ABIERTA DE DESECHOS SOLIDOS/INCINERACION ABIERTA DE DESECHOS",
                "ENERGIA /ACTIVIDADES DE QUEMA DE COMBUSTIBLES /INDUSTRIA NO ESPECIFICADA",
                "AGRICULTURA, SILVICULTURA Y OTROS USOS DE LA TIERRA/GANADO/MANEJO DE ESTIERCOL",
                "ENERGIA /ACTIVIDADES DE QUEMA DE COMBUSTIBLES /MINERIA (CON EXCEPCION DE COMBUSTIBLES) Y CANTERIA",
                "ENERGIA /EMISIONES FUGITIVAS PROVENIENTES DE LA FABRICACION DE COMBUSTIBLES/MINERIA Y MANEJO DEL CARBON ",
                "ENERGIA /ACTIVIDADES DE QUEMA DE COMBUSTIBLES /MOVIL",
                "ENERGIA /ACTIVIDADES DE QUEMA DE COMBUSTIBLES /NAVEGACION MARITIMA Y FLUVIAL",
                "ENERGIA /ACTIVIDADES DE QUEMA DE COMBUSTIBLES /OTRO TIPO DE TRANSPORTE",
                "PROCESOS INDUSTRIALES Y USO DE PRODUCTOS /INDUSTRIA DE LOS MINERALES/OTROS USOS DE LA CENIZA DE SOSA (CARBONATO DE SODIO)",
                "ENERGIA /ACTIVIDADES DE QUEMA DE COMBUSTIBLES /PESCA",
                "ENERGIA /EMISIONES FUGITIVAS PROVENIENTES DE LA FABRICACION DE COMBUSTIBLES/PETROLEO",
                "ENERGIA /ACTIVIDADES DE QUEMA DE COMBUSTIBLES /PRODUCCION DE ELECTRICIDAD Y CALOR COMO ACTIVIDAD PRINCIPAL",
                "ENERGIA /ACTIVIDADES DE QUEMA DE COMBUSTIBLES /REFINACION DE PETROLEO",
                "ENERGIA /ACTIVIDADES DE QUEMA DE COMBUSTIBLES /RESIDENCIAL ",
                "PROCESOS INDUSTRIALES Y USO DE PRODUCTOS /INDUSTRIA DE LOS METALES/Sin especificar",
                "PROCESOS INDUSTRIALES Y USO DE PRODUCTOS /INDUSTRIA DE LOS MINERALES/Sin especificar",
                "PROCESOS INDUSTRIALES Y USO DE PRODUCTOS /INDUSTRIA QUIMICA/Sin especificar",
                "PROCESOS INDUSTRIALES Y USO DE PRODUCTOS /USO DE PRODUCTOS SUSTITUTOS DE LAS SUSTANCIAS QUE AGOTAN LA CAPA DE OZONO/Sin especificar",
                "AGRICULTURA, SILVICULTURA Y OTROS USOS DE LA TIERRA/TIERRAS/TIERRAS CONVERTIDAS EN ASENTAMIENTOS",
                "AGRICULTURA, SILVICULTURA Y OTROS USOS DE LA TIERRA/TIERRAS/TIERRAS CONVERTIDAS EN OTRAS TIERRAS",
                "AGRICULTURA, SILVICULTURA Y OTROS USOS DE LA TIERRA/TIERRAS/TIERRAS CONVERTIDAS EN PASTIZALES ",
                "AGRICULTURA, SILVICULTURA Y OTROS USOS DE LA TIERRA/TIERRAS/TIERRAS CONVERTIDAS EN TIERRAS DE CULTIVO",
                "AGRICULTURA, SILVICULTURA Y OTROS USOS DE LA TIERRA/TIERRAS/TIERRAS FORESTALES QUE PERMANECEN COMO TIERRAS FORESTALES",
                "PROCESOS INDUSTRIALES Y USO DE PRODUCTOS /INDUSTRIA DE LOS MINERALES/TODAS LAS FUENTES",
                "ENERGIA /EMISIONES FUGITIVAS PROVENIENTES DE LA FABRICACION DE COMBUSTIBLES/TRANSFORMACION DE COMBUSTIBLES SOLIDOS",
                "ENERGIA /ACTIVIDADES DE QUEMA DE COMBUSTIBLES /TRANSPORTE TERRESTRE",
                "DESECHOS/TRATAMIENTO Y ELIMINACION DE AGUAS RESIDUALES/TRATAMIENTO Y ELIMINACION DE AGUAS RESIDUALES DOMESTICAS",
                "DESECHOS/TRATAMIENTO Y ELIMINACION DE AGUAS RESIDUALES/TRATAMIENTO Y ELIMINACION DE AGUAS RESIDUALES INDUSTRIALES",
                "ENERGIA /ACTIVIDADES DE QUEMA DE COMBUSTIBLES ",
                "DESECHOS/ELIMINACION DE DESECHOS SOLIDOS",
                "ENERGIA /EMISIONES FUGITIVAS PROVENIENTES DE LA FABRICACION DE COMBUSTIBLES",
                "AGRICULTURA, SILVICULTURA Y OTROS USOS DE LA TIERRA/FUENTES AGREGADAS Y FUENTES DE EMISION NO-CO2 EN LA TIERRA",
                "AGRICULTURA, SILVICULTURA Y OTROS USOS DE LA TIERRA/GANADO",
                "DESECHOS/INCINERACION E INCINERACION ABIERTA DE DESECHOS SOLIDOS",
                "PROCESOS INDUSTRIALES Y USO DE PRODUCTOS /INDUSTRIA DE LOS METALES",
                "PROCESOS INDUSTRIALES Y USO DE PRODUCTOS /INDUSTRIA DE LOS MINERALES",
                "PROCESOS INDUSTRIALES Y USO DE PRODUCTOS /INDUSTRIA QUIMICA",
                "AGRICULTURA, SILVICULTURA Y OTROS USOS DE LA TIERRA/TIERRAS",
                "DESECHOS/TRATAMIENTO Y ELIMINACION DE AGUAS RESIDUALES",
                "PROCESOS INDUSTRIALES Y USO DE PRODUCTOS /USO DE PRODUCTOS SUSTITUTOS DE LAS SUSTANCIAS QUE AGOTAN LA CAPA DE OZONO",
                "AGRICULTURA, SILVICULTURA Y OTROS USOS DE LA TIERRA",
                "DESECHOS",
                "ENERGIA ",
                "PROCESOS INDUSTRIALES Y USO DE PRODUCTOS "
               ]
              ],
              "labels": [
               [
                "AGRICULTURA",
                "APLICACION DE UREA",
                "AVIACION CIVIL",
                "CERAMICAS (LADRILLOS)",
                "COMERCIAL/INSTITUCIONAL",
                "CULTIVO DE ARROZ",
                "ELIMINACION DE DESECHOS SOLIDOS",
                "EMISIONES DIRECTAS DE N2O DE SUELOS GESTIONADOS",
                "EMISIONES INDIRECTAS DE N2O DE SUELOS GESTIONADOS",
                "EMISIONES INDIRECTAS DE N2O POR MANEJO DEL ESTIERCOL",
                "EMISIONES POR QUEMA DE BIOMASA ",
                "FABRICACION DE COMBUSTIBLES SOLIDOS Y OTRAS INDUSTRIAS ENERGETICAS",
                "FERMENTACION ENTERICA",
                "FERROCARRILES",
                "GAS NATURAL",
                "INCINERACION ABIERTA DE DESECHOS",
                "INDUSTRIA NO ESPECIFICADA",
                "MANEJO DE ESTIERCOL",
                "MINERIA (CON EXCEPCION DE COMBUSTIBLES) Y CANTERIA",
                "MINERIA Y MANEJO DEL CARBON ",
                "MOVIL",
                "NAVEGACION MARITIMA Y FLUVIAL",
                "OTRO TIPO DE TRANSPORTE",
                "OTROS USOS DE LA CENIZA DE SOSA (CARBONATO DE SODIO)",
                "PESCA",
                "PETROLEO",
                "PRODUCCION DE ELECTRICIDAD Y CALOR COMO ACTIVIDAD PRINCIPAL",
                "REFINACION DE PETROLEO",
                "RESIDENCIAL ",
                "Sin especificar",
                "Sin especificar",
                "Sin especificar",
                "Sin especificar",
                "TIERRAS CONVERTIDAS EN ASENTAMIENTOS",
                "TIERRAS CONVERTIDAS EN OTRAS TIERRAS",
                "TIERRAS CONVERTIDAS EN PASTIZALES ",
                "TIERRAS CONVERTIDAS EN TIERRAS DE CULTIVO",
                "TIERRAS FORESTALES QUE PERMANECEN COMO TIERRAS FORESTALES",
                "TODAS LAS FUENTES",
                "TRANSFORMACION DE COMBUSTIBLES SOLIDOS",
                "TRANSPORTE TERRESTRE",
                "TRATAMIENTO Y ELIMINACION DE AGUAS RESIDUALES DOMESTICAS",
                "TRATAMIENTO Y ELIMINACION DE AGUAS RESIDUALES INDUSTRIALES",
                "ACTIVIDADES DE QUEMA DE COMBUSTIBLES ",
                "ELIMINACION DE DESECHOS SOLIDOS",
                "EMISIONES FUGITIVAS PROVENIENTES DE LA FABRICACION DE COMBUSTIBLES",
                "FUENTES AGREGADAS Y FUENTES DE EMISION NO-CO2 EN LA TIERRA",
                "GANADO",
                "INCINERACION E INCINERACION ABIERTA DE DESECHOS SOLIDOS",
                "INDUSTRIA DE LOS METALES",
                "INDUSTRIA DE LOS MINERALES",
                "INDUSTRIA QUIMICA",
                "TIERRAS",
                "TRATAMIENTO Y ELIMINACION DE AGUAS RESIDUALES",
                "USO DE PRODUCTOS SUSTITUTOS DE LAS SUSTANCIAS QUE AGOTAN LA CAPA DE OZONO",
                "AGRICULTURA, SILVICULTURA Y OTROS USOS DE LA TIERRA",
                "DESECHOS",
                "ENERGIA ",
                "PROCESOS INDUSTRIALES Y USO DE PRODUCTOS "
               ]
              ],
              "parents": [
               [
                "ENERGIA /ACTIVIDADES DE QUEMA DE COMBUSTIBLES ",
                "AGRICULTURA, SILVICULTURA Y OTROS USOS DE LA TIERRA/FUENTES AGREGADAS Y FUENTES DE EMISION NO-CO2 EN LA TIERRA",
                "ENERGIA /ACTIVIDADES DE QUEMA DE COMBUSTIBLES ",
                "PROCESOS INDUSTRIALES Y USO DE PRODUCTOS /INDUSTRIA DE LOS MINERALES",
                "ENERGIA /ACTIVIDADES DE QUEMA DE COMBUSTIBLES ",
                "AGRICULTURA, SILVICULTURA Y OTROS USOS DE LA TIERRA/FUENTES AGREGADAS Y FUENTES DE EMISION NO-CO2 EN LA TIERRA",
                "DESECHOS/ELIMINACION DE DESECHOS SOLIDOS",
                "AGRICULTURA, SILVICULTURA Y OTROS USOS DE LA TIERRA/FUENTES AGREGADAS Y FUENTES DE EMISION NO-CO2 EN LA TIERRA",
                "AGRICULTURA, SILVICULTURA Y OTROS USOS DE LA TIERRA/FUENTES AGREGADAS Y FUENTES DE EMISION NO-CO2 EN LA TIERRA",
                "AGRICULTURA, SILVICULTURA Y OTROS USOS DE LA TIERRA/FUENTES AGREGADAS Y FUENTES DE EMISION NO-CO2 EN LA TIERRA",
                "AGRICULTURA, SILVICULTURA Y OTROS USOS DE LA TIERRA/FUENTES AGREGADAS Y FUENTES DE EMISION NO-CO2 EN LA TIERRA",
                "ENERGIA /ACTIVIDADES DE QUEMA DE COMBUSTIBLES ",
                "AGRICULTURA, SILVICULTURA Y OTROS USOS DE LA TIERRA/GANADO",
                "ENERGIA /ACTIVIDADES DE QUEMA DE COMBUSTIBLES ",
                "ENERGIA /EMISIONES FUGITIVAS PROVENIENTES DE LA FABRICACION DE COMBUSTIBLES",
                "DESECHOS/INCINERACION E INCINERACION ABIERTA DE DESECHOS SOLIDOS",
                "ENERGIA /ACTIVIDADES DE QUEMA DE COMBUSTIBLES ",
                "AGRICULTURA, SILVICULTURA Y OTROS USOS DE LA TIERRA/GANADO",
                "ENERGIA /ACTIVIDADES DE QUEMA DE COMBUSTIBLES ",
                "ENERGIA /EMISIONES FUGITIVAS PROVENIENTES DE LA FABRICACION DE COMBUSTIBLES",
                "ENERGIA /ACTIVIDADES DE QUEMA DE COMBUSTIBLES ",
                "ENERGIA /ACTIVIDADES DE QUEMA DE COMBUSTIBLES ",
                "ENERGIA /ACTIVIDADES DE QUEMA DE COMBUSTIBLES ",
                "PROCESOS INDUSTRIALES Y USO DE PRODUCTOS /INDUSTRIA DE LOS MINERALES",
                "ENERGIA /ACTIVIDADES DE QUEMA DE COMBUSTIBLES ",
                "ENERGIA /EMISIONES FUGITIVAS PROVENIENTES DE LA FABRICACION DE COMBUSTIBLES",
                "ENERGIA /ACTIVIDADES DE QUEMA DE COMBUSTIBLES ",
                "ENERGIA /ACTIVIDADES DE QUEMA DE COMBUSTIBLES ",
                "ENERGIA /ACTIVIDADES DE QUEMA DE COMBUSTIBLES ",
                "PROCESOS INDUSTRIALES Y USO DE PRODUCTOS /INDUSTRIA DE LOS METALES",
                "PROCESOS INDUSTRIALES Y USO DE PRODUCTOS /INDUSTRIA DE LOS MINERALES",
                "PROCESOS INDUSTRIALES Y USO DE PRODUCTOS /INDUSTRIA QUIMICA",
                "PROCESOS INDUSTRIALES Y USO DE PRODUCTOS /USO DE PRODUCTOS SUSTITUTOS DE LAS SUSTANCIAS QUE AGOTAN LA CAPA DE OZONO",
                "AGRICULTURA, SILVICULTURA Y OTROS USOS DE LA TIERRA/TIERRAS",
                "AGRICULTURA, SILVICULTURA Y OTROS USOS DE LA TIERRA/TIERRAS",
                "AGRICULTURA, SILVICULTURA Y OTROS USOS DE LA TIERRA/TIERRAS",
                "AGRICULTURA, SILVICULTURA Y OTROS USOS DE LA TIERRA/TIERRAS",
                "AGRICULTURA, SILVICULTURA Y OTROS USOS DE LA TIERRA/TIERRAS",
                "PROCESOS INDUSTRIALES Y USO DE PRODUCTOS /INDUSTRIA DE LOS MINERALES",
                "ENERGIA /EMISIONES FUGITIVAS PROVENIENTES DE LA FABRICACION DE COMBUSTIBLES",
                "ENERGIA /ACTIVIDADES DE QUEMA DE COMBUSTIBLES ",
                "DESECHOS/TRATAMIENTO Y ELIMINACION DE AGUAS RESIDUALES",
                "DESECHOS/TRATAMIENTO Y ELIMINACION DE AGUAS RESIDUALES",
                "ENERGIA ",
                "DESECHOS",
                "ENERGIA ",
                "AGRICULTURA, SILVICULTURA Y OTROS USOS DE LA TIERRA",
                "AGRICULTURA, SILVICULTURA Y OTROS USOS DE LA TIERRA",
                "DESECHOS",
                "PROCESOS INDUSTRIALES Y USO DE PRODUCTOS ",
                "PROCESOS INDUSTRIALES Y USO DE PRODUCTOS ",
                "PROCESOS INDUSTRIALES Y USO DE PRODUCTOS ",
                "AGRICULTURA, SILVICULTURA Y OTROS USOS DE LA TIERRA",
                "DESECHOS",
                "PROCESOS INDUSTRIALES Y USO DE PRODUCTOS ",
                "",
                "",
                "",
                ""
               ]
              ],
              "type": "sunburst",
              "values": [
               [
                142.21,
                293.87,
                934.92,
                111.43,
                1204.55,
                1701.91,
                4816.2,
                6575.14,
                2352.58,
                165.18,
                809.8,
                2379.8,
                15586.3,
                70,
                6884.22,
                52.31,
                6980.46,
                658.6,
                1236.61,
                86.87,
                71.87,
                456.1,
                8.7,
                19.27,
                216.34,
                2794.31,
                8896.7,
                1951.88,
                2972.8,
                708.4100000000001,
                354.45,
                32.87,
                204.85,
                642.5,
                201.63,
                18284.31,
                61557.52,
                16245.63,
                3731.34,
                78.17,
                14761.09,
                2819.09,
                1003.73,
                42284.03,
                4816.2,
                9843.57,
                11898.48,
                16244.9,
                52.31,
                708.4100000000001,
                4216.49,
                32.87,
                96931.59,
                3822.82,
                204.85,
                125074.97,
                8691.33,
                52127.6,
                5162.62
               ]
              ]
             },
             {
              "title": "Análisis Jerárquico de Emisiones de GEI en 2012"
             }
            ],
            "label": "2012",
            "method": "update"
           },
           {
            "args": [
             {
              "ids": [
               [
                "ENERGIA /ACTIVIDADES DE QUEMA DE COMBUSTIBLES /AGRICULTURA",
                "AGRICULTURA, SILVICULTURA Y OTROS USOS DE LA TIERRA/FUENTES AGREGADAS Y FUENTES DE EMISION NO-CO2 EN LA TIERRA/APLICACION DE UREA",
                "ENERGIA /ACTIVIDADES DE QUEMA DE COMBUSTIBLES /AVIACION CIVIL",
                "PROCESOS INDUSTRIALES Y USO DE PRODUCTOS /INDUSTRIA DE LOS MINERALES/CERAMICAS (LADRILLOS)",
                "ENERGIA /ACTIVIDADES DE QUEMA DE COMBUSTIBLES /COMERCIAL/INSTITUCIONAL",
                "AGRICULTURA, SILVICULTURA Y OTROS USOS DE LA TIERRA/FUENTES AGREGADAS Y FUENTES DE EMISION NO-CO2 EN LA TIERRA/CULTIVO DE ARROZ",
                "DESECHOS/ELIMINACION DE DESECHOS SOLIDOS/ELIMINACION DE DESECHOS SOLIDOS",
                "AGRICULTURA, SILVICULTURA Y OTROS USOS DE LA TIERRA/FUENTES AGREGADAS Y FUENTES DE EMISION NO-CO2 EN LA TIERRA/EMISIONES DIRECTAS DE N2O DE SUELOS GESTIONADOS",
                "AGRICULTURA, SILVICULTURA Y OTROS USOS DE LA TIERRA/FUENTES AGREGADAS Y FUENTES DE EMISION NO-CO2 EN LA TIERRA/EMISIONES INDIRECTAS DE N2O DE SUELOS GESTIONADOS",
                "AGRICULTURA, SILVICULTURA Y OTROS USOS DE LA TIERRA/FUENTES AGREGADAS Y FUENTES DE EMISION NO-CO2 EN LA TIERRA/EMISIONES INDIRECTAS DE N2O POR MANEJO DEL ESTIERCOL",
                "AGRICULTURA, SILVICULTURA Y OTROS USOS DE LA TIERRA/FUENTES AGREGADAS Y FUENTES DE EMISION NO-CO2 EN LA TIERRA/EMISIONES POR QUEMA DE BIOMASA ",
                "ENERGIA /ACTIVIDADES DE QUEMA DE COMBUSTIBLES /FABRICACION DE COMBUSTIBLES SOLIDOS Y OTRAS INDUSTRIAS ENERGETICAS",
                "AGRICULTURA, SILVICULTURA Y OTROS USOS DE LA TIERRA/GANADO/FERMENTACION ENTERICA",
                "ENERGIA /ACTIVIDADES DE QUEMA DE COMBUSTIBLES /FERROCARRILES",
                "ENERGIA /EMISIONES FUGITIVAS PROVENIENTES DE LA FABRICACION DE COMBUSTIBLES/GAS NATURAL",
                "DESECHOS/INCINERACION E INCINERACION ABIERTA DE DESECHOS SOLIDOS/INCINERACION ABIERTA DE DESECHOS",
                "ENERGIA /ACTIVIDADES DE QUEMA DE COMBUSTIBLES /INDUSTRIA NO ESPECIFICADA",
                "AGRICULTURA, SILVICULTURA Y OTROS USOS DE LA TIERRA/GANADO/MANEJO DE ESTIERCOL",
                "ENERGIA /ACTIVIDADES DE QUEMA DE COMBUSTIBLES /MINERIA (CON EXCEPCION DE COMBUSTIBLES) Y CANTERIA",
                "ENERGIA /EMISIONES FUGITIVAS PROVENIENTES DE LA FABRICACION DE COMBUSTIBLES/MINERIA Y MANEJO DEL CARBON ",
                "ENERGIA /ACTIVIDADES DE QUEMA DE COMBUSTIBLES /MOVIL",
                "ENERGIA /ACTIVIDADES DE QUEMA DE COMBUSTIBLES /NAVEGACION MARITIMA Y FLUVIAL",
                "ENERGIA /ACTIVIDADES DE QUEMA DE COMBUSTIBLES /OTRO TIPO DE TRANSPORTE",
                "PROCESOS INDUSTRIALES Y USO DE PRODUCTOS /INDUSTRIA DE LOS MINERALES/OTROS USOS DE LA CENIZA DE SOSA (CARBONATO DE SODIO)",
                "ENERGIA /ACTIVIDADES DE QUEMA DE COMBUSTIBLES /PESCA",
                "ENERGIA /EMISIONES FUGITIVAS PROVENIENTES DE LA FABRICACION DE COMBUSTIBLES/PETROLEO",
                "ENERGIA /ACTIVIDADES DE QUEMA DE COMBUSTIBLES /PRODUCCION DE ELECTRICIDAD Y CALOR COMO ACTIVIDAD PRINCIPAL",
                "ENERGIA /ACTIVIDADES DE QUEMA DE COMBUSTIBLES /REFINACION DE PETROLEO",
                "ENERGIA /ACTIVIDADES DE QUEMA DE COMBUSTIBLES /RESIDENCIAL ",
                "PROCESOS INDUSTRIALES Y USO DE PRODUCTOS /INDUSTRIA DE LOS METALES/Sin especificar",
                "PROCESOS INDUSTRIALES Y USO DE PRODUCTOS /INDUSTRIA DE LOS MINERALES/Sin especificar",
                "PROCESOS INDUSTRIALES Y USO DE PRODUCTOS /INDUSTRIA QUIMICA/Sin especificar",
                "PROCESOS INDUSTRIALES Y USO DE PRODUCTOS /USO DE PRODUCTOS SUSTITUTOS DE LAS SUSTANCIAS QUE AGOTAN LA CAPA DE OZONO/Sin especificar",
                "AGRICULTURA, SILVICULTURA Y OTROS USOS DE LA TIERRA/TIERRAS/TIERRAS CONVERTIDAS EN ASENTAMIENTOS",
                "AGRICULTURA, SILVICULTURA Y OTROS USOS DE LA TIERRA/TIERRAS/TIERRAS CONVERTIDAS EN OTRAS TIERRAS",
                "AGRICULTURA, SILVICULTURA Y OTROS USOS DE LA TIERRA/TIERRAS/TIERRAS CONVERTIDAS EN PASTIZALES ",
                "AGRICULTURA, SILVICULTURA Y OTROS USOS DE LA TIERRA/TIERRAS/TIERRAS CONVERTIDAS EN TIERRAS DE CULTIVO",
                "AGRICULTURA, SILVICULTURA Y OTROS USOS DE LA TIERRA/TIERRAS/TIERRAS FORESTALES QUE PERMANECEN COMO TIERRAS FORESTALES",
                "PROCESOS INDUSTRIALES Y USO DE PRODUCTOS /INDUSTRIA DE LOS MINERALES/TODAS LAS FUENTES",
                "ENERGIA /EMISIONES FUGITIVAS PROVENIENTES DE LA FABRICACION DE COMBUSTIBLES/TRANSFORMACION DE COMBUSTIBLES SOLIDOS",
                "ENERGIA /ACTIVIDADES DE QUEMA DE COMBUSTIBLES /TRANSPORTE TERRESTRE",
                "DESECHOS/TRATAMIENTO Y ELIMINACION DE AGUAS RESIDUALES/TRATAMIENTO Y ELIMINACION DE AGUAS RESIDUALES DOMESTICAS",
                "DESECHOS/TRATAMIENTO Y ELIMINACION DE AGUAS RESIDUALES/TRATAMIENTO Y ELIMINACION DE AGUAS RESIDUALES INDUSTRIALES",
                "ENERGIA /ACTIVIDADES DE QUEMA DE COMBUSTIBLES ",
                "DESECHOS/ELIMINACION DE DESECHOS SOLIDOS",
                "ENERGIA /EMISIONES FUGITIVAS PROVENIENTES DE LA FABRICACION DE COMBUSTIBLES",
                "AGRICULTURA, SILVICULTURA Y OTROS USOS DE LA TIERRA/FUENTES AGREGADAS Y FUENTES DE EMISION NO-CO2 EN LA TIERRA",
                "AGRICULTURA, SILVICULTURA Y OTROS USOS DE LA TIERRA/GANADO",
                "DESECHOS/INCINERACION E INCINERACION ABIERTA DE DESECHOS SOLIDOS",
                "PROCESOS INDUSTRIALES Y USO DE PRODUCTOS /INDUSTRIA DE LOS METALES",
                "PROCESOS INDUSTRIALES Y USO DE PRODUCTOS /INDUSTRIA DE LOS MINERALES",
                "PROCESOS INDUSTRIALES Y USO DE PRODUCTOS /INDUSTRIA QUIMICA",
                "AGRICULTURA, SILVICULTURA Y OTROS USOS DE LA TIERRA/TIERRAS",
                "DESECHOS/TRATAMIENTO Y ELIMINACION DE AGUAS RESIDUALES",
                "PROCESOS INDUSTRIALES Y USO DE PRODUCTOS /USO DE PRODUCTOS SUSTITUTOS DE LAS SUSTANCIAS QUE AGOTAN LA CAPA DE OZONO",
                "AGRICULTURA, SILVICULTURA Y OTROS USOS DE LA TIERRA",
                "DESECHOS",
                "ENERGIA ",
                "PROCESOS INDUSTRIALES Y USO DE PRODUCTOS "
               ]
              ],
              "labels": [
               [
                "AGRICULTURA",
                "APLICACION DE UREA",
                "AVIACION CIVIL",
                "CERAMICAS (LADRILLOS)",
                "COMERCIAL/INSTITUCIONAL",
                "CULTIVO DE ARROZ",
                "ELIMINACION DE DESECHOS SOLIDOS",
                "EMISIONES DIRECTAS DE N2O DE SUELOS GESTIONADOS",
                "EMISIONES INDIRECTAS DE N2O DE SUELOS GESTIONADOS",
                "EMISIONES INDIRECTAS DE N2O POR MANEJO DEL ESTIERCOL",
                "EMISIONES POR QUEMA DE BIOMASA ",
                "FABRICACION DE COMBUSTIBLES SOLIDOS Y OTRAS INDUSTRIAS ENERGETICAS",
                "FERMENTACION ENTERICA",
                "FERROCARRILES",
                "GAS NATURAL",
                "INCINERACION ABIERTA DE DESECHOS",
                "INDUSTRIA NO ESPECIFICADA",
                "MANEJO DE ESTIERCOL",
                "MINERIA (CON EXCEPCION DE COMBUSTIBLES) Y CANTERIA",
                "MINERIA Y MANEJO DEL CARBON ",
                "MOVIL",
                "NAVEGACION MARITIMA Y FLUVIAL",
                "OTRO TIPO DE TRANSPORTE",
                "OTROS USOS DE LA CENIZA DE SOSA (CARBONATO DE SODIO)",
                "PESCA",
                "PETROLEO",
                "PRODUCCION DE ELECTRICIDAD Y CALOR COMO ACTIVIDAD PRINCIPAL",
                "REFINACION DE PETROLEO",
                "RESIDENCIAL ",
                "Sin especificar",
                "Sin especificar",
                "Sin especificar",
                "Sin especificar",
                "TIERRAS CONVERTIDAS EN ASENTAMIENTOS",
                "TIERRAS CONVERTIDAS EN OTRAS TIERRAS",
                "TIERRAS CONVERTIDAS EN PASTIZALES ",
                "TIERRAS CONVERTIDAS EN TIERRAS DE CULTIVO",
                "TIERRAS FORESTALES QUE PERMANECEN COMO TIERRAS FORESTALES",
                "TODAS LAS FUENTES",
                "TRANSFORMACION DE COMBUSTIBLES SOLIDOS",
                "TRANSPORTE TERRESTRE",
                "TRATAMIENTO Y ELIMINACION DE AGUAS RESIDUALES DOMESTICAS",
                "TRATAMIENTO Y ELIMINACION DE AGUAS RESIDUALES INDUSTRIALES",
                "ACTIVIDADES DE QUEMA DE COMBUSTIBLES ",
                "ELIMINACION DE DESECHOS SOLIDOS",
                "EMISIONES FUGITIVAS PROVENIENTES DE LA FABRICACION DE COMBUSTIBLES",
                "FUENTES AGREGADAS Y FUENTES DE EMISION NO-CO2 EN LA TIERRA",
                "GANADO",
                "INCINERACION E INCINERACION ABIERTA DE DESECHOS SOLIDOS",
                "INDUSTRIA DE LOS METALES",
                "INDUSTRIA DE LOS MINERALES",
                "INDUSTRIA QUIMICA",
                "TIERRAS",
                "TRATAMIENTO Y ELIMINACION DE AGUAS RESIDUALES",
                "USO DE PRODUCTOS SUSTITUTOS DE LAS SUSTANCIAS QUE AGOTAN LA CAPA DE OZONO",
                "AGRICULTURA, SILVICULTURA Y OTROS USOS DE LA TIERRA",
                "DESECHOS",
                "ENERGIA ",
                "PROCESOS INDUSTRIALES Y USO DE PRODUCTOS "
               ]
              ],
              "parents": [
               [
                "ENERGIA /ACTIVIDADES DE QUEMA DE COMBUSTIBLES ",
                "AGRICULTURA, SILVICULTURA Y OTROS USOS DE LA TIERRA/FUENTES AGREGADAS Y FUENTES DE EMISION NO-CO2 EN LA TIERRA",
                "ENERGIA /ACTIVIDADES DE QUEMA DE COMBUSTIBLES ",
                "PROCESOS INDUSTRIALES Y USO DE PRODUCTOS /INDUSTRIA DE LOS MINERALES",
                "ENERGIA /ACTIVIDADES DE QUEMA DE COMBUSTIBLES ",
                "AGRICULTURA, SILVICULTURA Y OTROS USOS DE LA TIERRA/FUENTES AGREGADAS Y FUENTES DE EMISION NO-CO2 EN LA TIERRA",
                "DESECHOS/ELIMINACION DE DESECHOS SOLIDOS",
                "AGRICULTURA, SILVICULTURA Y OTROS USOS DE LA TIERRA/FUENTES AGREGADAS Y FUENTES DE EMISION NO-CO2 EN LA TIERRA",
                "AGRICULTURA, SILVICULTURA Y OTROS USOS DE LA TIERRA/FUENTES AGREGADAS Y FUENTES DE EMISION NO-CO2 EN LA TIERRA",
                "AGRICULTURA, SILVICULTURA Y OTROS USOS DE LA TIERRA/FUENTES AGREGADAS Y FUENTES DE EMISION NO-CO2 EN LA TIERRA",
                "AGRICULTURA, SILVICULTURA Y OTROS USOS DE LA TIERRA/FUENTES AGREGADAS Y FUENTES DE EMISION NO-CO2 EN LA TIERRA",
                "ENERGIA /ACTIVIDADES DE QUEMA DE COMBUSTIBLES ",
                "AGRICULTURA, SILVICULTURA Y OTROS USOS DE LA TIERRA/GANADO",
                "ENERGIA /ACTIVIDADES DE QUEMA DE COMBUSTIBLES ",
                "ENERGIA /EMISIONES FUGITIVAS PROVENIENTES DE LA FABRICACION DE COMBUSTIBLES",
                "DESECHOS/INCINERACION E INCINERACION ABIERTA DE DESECHOS SOLIDOS",
                "ENERGIA /ACTIVIDADES DE QUEMA DE COMBUSTIBLES ",
                "AGRICULTURA, SILVICULTURA Y OTROS USOS DE LA TIERRA/GANADO",
                "ENERGIA /ACTIVIDADES DE QUEMA DE COMBUSTIBLES ",
                "ENERGIA /EMISIONES FUGITIVAS PROVENIENTES DE LA FABRICACION DE COMBUSTIBLES",
                "ENERGIA /ACTIVIDADES DE QUEMA DE COMBUSTIBLES ",
                "ENERGIA /ACTIVIDADES DE QUEMA DE COMBUSTIBLES ",
                "ENERGIA /ACTIVIDADES DE QUEMA DE COMBUSTIBLES ",
                "PROCESOS INDUSTRIALES Y USO DE PRODUCTOS /INDUSTRIA DE LOS MINERALES",
                "ENERGIA /ACTIVIDADES DE QUEMA DE COMBUSTIBLES ",
                "ENERGIA /EMISIONES FUGITIVAS PROVENIENTES DE LA FABRICACION DE COMBUSTIBLES",
                "ENERGIA /ACTIVIDADES DE QUEMA DE COMBUSTIBLES ",
                "ENERGIA /ACTIVIDADES DE QUEMA DE COMBUSTIBLES ",
                "ENERGIA /ACTIVIDADES DE QUEMA DE COMBUSTIBLES ",
                "PROCESOS INDUSTRIALES Y USO DE PRODUCTOS /INDUSTRIA DE LOS METALES",
                "PROCESOS INDUSTRIALES Y USO DE PRODUCTOS /INDUSTRIA DE LOS MINERALES",
                "PROCESOS INDUSTRIALES Y USO DE PRODUCTOS /INDUSTRIA QUIMICA",
                "PROCESOS INDUSTRIALES Y USO DE PRODUCTOS /USO DE PRODUCTOS SUSTITUTOS DE LAS SUSTANCIAS QUE AGOTAN LA CAPA DE OZONO",
                "AGRICULTURA, SILVICULTURA Y OTROS USOS DE LA TIERRA/TIERRAS",
                "AGRICULTURA, SILVICULTURA Y OTROS USOS DE LA TIERRA/TIERRAS",
                "AGRICULTURA, SILVICULTURA Y OTROS USOS DE LA TIERRA/TIERRAS",
                "AGRICULTURA, SILVICULTURA Y OTROS USOS DE LA TIERRA/TIERRAS",
                "AGRICULTURA, SILVICULTURA Y OTROS USOS DE LA TIERRA/TIERRAS",
                "PROCESOS INDUSTRIALES Y USO DE PRODUCTOS /INDUSTRIA DE LOS MINERALES",
                "ENERGIA /EMISIONES FUGITIVAS PROVENIENTES DE LA FABRICACION DE COMBUSTIBLES",
                "ENERGIA /ACTIVIDADES DE QUEMA DE COMBUSTIBLES ",
                "DESECHOS/TRATAMIENTO Y ELIMINACION DE AGUAS RESIDUALES",
                "DESECHOS/TRATAMIENTO Y ELIMINACION DE AGUAS RESIDUALES",
                "ENERGIA ",
                "DESECHOS",
                "ENERGIA ",
                "AGRICULTURA, SILVICULTURA Y OTROS USOS DE LA TIERRA",
                "AGRICULTURA, SILVICULTURA Y OTROS USOS DE LA TIERRA",
                "DESECHOS",
                "PROCESOS INDUSTRIALES Y USO DE PRODUCTOS ",
                "PROCESOS INDUSTRIALES Y USO DE PRODUCTOS ",
                "PROCESOS INDUSTRIALES Y USO DE PRODUCTOS ",
                "AGRICULTURA, SILVICULTURA Y OTROS USOS DE LA TIERRA",
                "DESECHOS",
                "PROCESOS INDUSTRIALES Y USO DE PRODUCTOS ",
                "",
                "",
                "",
                ""
               ]
              ],
              "type": "sunburst",
              "values": [
               [
                139.42,
                250.73,
                857.3,
                128.23,
                1331.44,
                1647.77,
                4980,
                6566.12,
                2347.23,
                170.2,
                814.6,
                2726.72,
                15422.98,
                87.69,
                8330.05,
                52.31,
                7453.33,
                668.07,
                1278.37,
                87.76,
                73.67,
                250.62,
                32.27,
                20.07,
                217.11,
                2907.2,
                8841.05,
                2812.52,
                3070.51,
                736.58,
                425.58,
                33.3,
                313.99,
                4643.34,
                126.6,
                22126.54,
                49599.57,
                13942.48,
                4590.8,
                71.28,
                15940.2,
                3302.58,
                1007.86,
                45112.22,
                4980,
                11396.289999999999,
                11796.65,
                16091.05,
                52.31,
                736.58,
                5164.68,
                33.3,
                90438.53,
                4310.44,
                313.99,
                118326.23,
                9342.75,
                56508.509999999995,
                6248.55
               ]
              ]
             },
             {
              "title": "Análisis Jerárquico de Emisiones de GEI en 2014"
             }
            ],
            "label": "2014",
            "method": "update"
           },
           {
            "args": [
             {
              "ids": [
               [
                "ENERGIA /ACTIVIDADES DE QUEMA DE COMBUSTIBLES /AGRICULTURA",
                "AGRICULTURA, SILVICULTURA Y OTROS USOS DE LA TIERRA/FUENTES AGREGADAS Y FUENTES DE EMISION NO-CO2 EN LA TIERRA/APLICACION DE UREA",
                "ENERGIA /ACTIVIDADES DE QUEMA DE COMBUSTIBLES /AVIACION CIVIL",
                "PROCESOS INDUSTRIALES Y USO DE PRODUCTOS /INDUSTRIA DE LOS MINERALES/CERAMICAS (LADRILLOS)",
                "ENERGIA /ACTIVIDADES DE QUEMA DE COMBUSTIBLES /COMERCIAL/INSTITUCIONAL",
                "AGRICULTURA, SILVICULTURA Y OTROS USOS DE LA TIERRA/FUENTES AGREGADAS Y FUENTES DE EMISION NO-CO2 EN LA TIERRA/CULTIVO DE ARROZ",
                "DESECHOS/ELIMINACION DE DESECHOS SOLIDOS/ELIMINACION DE DESECHOS SOLIDOS",
                "AGRICULTURA, SILVICULTURA Y OTROS USOS DE LA TIERRA/FUENTES AGREGADAS Y FUENTES DE EMISION NO-CO2 EN LA TIERRA/EMISIONES DIRECTAS DE N2O DE SUELOS GESTIONADOS",
                "AGRICULTURA, SILVICULTURA Y OTROS USOS DE LA TIERRA/FUENTES AGREGADAS Y FUENTES DE EMISION NO-CO2 EN LA TIERRA/EMISIONES INDIRECTAS DE N2O DE SUELOS GESTIONADOS",
                "AGRICULTURA, SILVICULTURA Y OTROS USOS DE LA TIERRA/FUENTES AGREGADAS Y FUENTES DE EMISION NO-CO2 EN LA TIERRA/EMISIONES INDIRECTAS DE N2O POR MANEJO DEL ESTIERCOL",
                "AGRICULTURA, SILVICULTURA Y OTROS USOS DE LA TIERRA/FUENTES AGREGADAS Y FUENTES DE EMISION NO-CO2 EN LA TIERRA/EMISIONES POR QUEMA DE BIOMASA ",
                "ENERGIA /ACTIVIDADES DE QUEMA DE COMBUSTIBLES /FABRICACION DE COMBUSTIBLES SOLIDOS Y OTRAS INDUSTRIAS ENERGETICAS",
                "AGRICULTURA, SILVICULTURA Y OTROS USOS DE LA TIERRA/GANADO/FERMENTACION ENTERICA",
                "ENERGIA /ACTIVIDADES DE QUEMA DE COMBUSTIBLES /FERROCARRILES",
                "ENERGIA /EMISIONES FUGITIVAS PROVENIENTES DE LA FABRICACION DE COMBUSTIBLES/GAS NATURAL",
                "DESECHOS/INCINERACION E INCINERACION ABIERTA DE DESECHOS SOLIDOS/INCINERACION ABIERTA DE DESECHOS",
                "ENERGIA /ACTIVIDADES DE QUEMA DE COMBUSTIBLES /INDUSTRIA NO ESPECIFICADA",
                "AGRICULTURA, SILVICULTURA Y OTROS USOS DE LA TIERRA/GANADO/MANEJO DE ESTIERCOL",
                "ENERGIA /ACTIVIDADES DE QUEMA DE COMBUSTIBLES /MINERIA (CON EXCEPCION DE COMBUSTIBLES) Y CANTERIA",
                "ENERGIA /EMISIONES FUGITIVAS PROVENIENTES DE LA FABRICACION DE COMBUSTIBLES/MINERIA Y MANEJO DEL CARBON ",
                "ENERGIA /ACTIVIDADES DE QUEMA DE COMBUSTIBLES /MOVIL",
                "ENERGIA /ACTIVIDADES DE QUEMA DE COMBUSTIBLES /NAVEGACION MARITIMA Y FLUVIAL",
                "ENERGIA /ACTIVIDADES DE QUEMA DE COMBUSTIBLES /OTRO TIPO DE TRANSPORTE",
                "PROCESOS INDUSTRIALES Y USO DE PRODUCTOS /INDUSTRIA DE LOS MINERALES/OTROS USOS DE LA CENIZA DE SOSA (CARBONATO DE SODIO)",
                "ENERGIA /ACTIVIDADES DE QUEMA DE COMBUSTIBLES /PESCA",
                "ENERGIA /EMISIONES FUGITIVAS PROVENIENTES DE LA FABRICACION DE COMBUSTIBLES/PETROLEO",
                "ENERGIA /ACTIVIDADES DE QUEMA DE COMBUSTIBLES /PRODUCCION DE ELECTRICIDAD Y CALOR COMO ACTIVIDAD PRINCIPAL",
                "ENERGIA /ACTIVIDADES DE QUEMA DE COMBUSTIBLES /REFINACION DE PETROLEO",
                "ENERGIA /ACTIVIDADES DE QUEMA DE COMBUSTIBLES /RESIDENCIAL ",
                "PROCESOS INDUSTRIALES Y USO DE PRODUCTOS /INDUSTRIA DE LOS METALES/Sin especificar",
                "PROCESOS INDUSTRIALES Y USO DE PRODUCTOS /INDUSTRIA DE LOS MINERALES/Sin especificar",
                "PROCESOS INDUSTRIALES Y USO DE PRODUCTOS /INDUSTRIA QUIMICA/Sin especificar",
                "PROCESOS INDUSTRIALES Y USO DE PRODUCTOS /USO DE PRODUCTOS SUSTITUTOS DE LAS SUSTANCIAS QUE AGOTAN LA CAPA DE OZONO/Sin especificar",
                "AGRICULTURA, SILVICULTURA Y OTROS USOS DE LA TIERRA/TIERRAS/TIERRAS CONVERTIDAS EN ASENTAMIENTOS",
                "AGRICULTURA, SILVICULTURA Y OTROS USOS DE LA TIERRA/TIERRAS/TIERRAS CONVERTIDAS EN OTRAS TIERRAS",
                "AGRICULTURA, SILVICULTURA Y OTROS USOS DE LA TIERRA/TIERRAS/TIERRAS CONVERTIDAS EN PASTIZALES ",
                "AGRICULTURA, SILVICULTURA Y OTROS USOS DE LA TIERRA/TIERRAS/TIERRAS CONVERTIDAS EN TIERRAS DE CULTIVO",
                "AGRICULTURA, SILVICULTURA Y OTROS USOS DE LA TIERRA/TIERRAS/TIERRAS FORESTALES QUE PERMANECEN COMO TIERRAS FORESTALES",
                "PROCESOS INDUSTRIALES Y USO DE PRODUCTOS /INDUSTRIA DE LOS MINERALES/TODAS LAS FUENTES",
                "ENERGIA /EMISIONES FUGITIVAS PROVENIENTES DE LA FABRICACION DE COMBUSTIBLES/TRANSFORMACION DE COMBUSTIBLES SOLIDOS",
                "ENERGIA /ACTIVIDADES DE QUEMA DE COMBUSTIBLES /TRANSPORTE TERRESTRE",
                "DESECHOS/TRATAMIENTO Y ELIMINACION DE AGUAS RESIDUALES/TRATAMIENTO Y ELIMINACION DE AGUAS RESIDUALES DOMESTICAS",
                "DESECHOS/TRATAMIENTO Y ELIMINACION DE AGUAS RESIDUALES/TRATAMIENTO Y ELIMINACION DE AGUAS RESIDUALES INDUSTRIALES",
                "ENERGIA /ACTIVIDADES DE QUEMA DE COMBUSTIBLES ",
                "DESECHOS/ELIMINACION DE DESECHOS SOLIDOS",
                "ENERGIA /EMISIONES FUGITIVAS PROVENIENTES DE LA FABRICACION DE COMBUSTIBLES",
                "AGRICULTURA, SILVICULTURA Y OTROS USOS DE LA TIERRA/FUENTES AGREGADAS Y FUENTES DE EMISION NO-CO2 EN LA TIERRA",
                "AGRICULTURA, SILVICULTURA Y OTROS USOS DE LA TIERRA/GANADO",
                "DESECHOS/INCINERACION E INCINERACION ABIERTA DE DESECHOS SOLIDOS",
                "PROCESOS INDUSTRIALES Y USO DE PRODUCTOS /INDUSTRIA DE LOS METALES",
                "PROCESOS INDUSTRIALES Y USO DE PRODUCTOS /INDUSTRIA DE LOS MINERALES",
                "PROCESOS INDUSTRIALES Y USO DE PRODUCTOS /INDUSTRIA QUIMICA",
                "AGRICULTURA, SILVICULTURA Y OTROS USOS DE LA TIERRA/TIERRAS",
                "DESECHOS/TRATAMIENTO Y ELIMINACION DE AGUAS RESIDUALES",
                "PROCESOS INDUSTRIALES Y USO DE PRODUCTOS /USO DE PRODUCTOS SUSTITUTOS DE LAS SUSTANCIAS QUE AGOTAN LA CAPA DE OZONO",
                "AGRICULTURA, SILVICULTURA Y OTROS USOS DE LA TIERRA",
                "DESECHOS",
                "ENERGIA ",
                "PROCESOS INDUSTRIALES Y USO DE PRODUCTOS "
               ]
              ],
              "labels": [
               [
                "AGRICULTURA",
                "APLICACION DE UREA",
                "AVIACION CIVIL",
                "CERAMICAS (LADRILLOS)",
                "COMERCIAL/INSTITUCIONAL",
                "CULTIVO DE ARROZ",
                "ELIMINACION DE DESECHOS SOLIDOS",
                "EMISIONES DIRECTAS DE N2O DE SUELOS GESTIONADOS",
                "EMISIONES INDIRECTAS DE N2O DE SUELOS GESTIONADOS",
                "EMISIONES INDIRECTAS DE N2O POR MANEJO DEL ESTIERCOL",
                "EMISIONES POR QUEMA DE BIOMASA ",
                "FABRICACION DE COMBUSTIBLES SOLIDOS Y OTRAS INDUSTRIAS ENERGETICAS",
                "FERMENTACION ENTERICA",
                "FERROCARRILES",
                "GAS NATURAL",
                "INCINERACION ABIERTA DE DESECHOS",
                "INDUSTRIA NO ESPECIFICADA",
                "MANEJO DE ESTIERCOL",
                "MINERIA (CON EXCEPCION DE COMBUSTIBLES) Y CANTERIA",
                "MINERIA Y MANEJO DEL CARBON ",
                "MOVIL",
                "NAVEGACION MARITIMA Y FLUVIAL",
                "OTRO TIPO DE TRANSPORTE",
                "OTROS USOS DE LA CENIZA DE SOSA (CARBONATO DE SODIO)",
                "PESCA",
                "PETROLEO",
                "PRODUCCION DE ELECTRICIDAD Y CALOR COMO ACTIVIDAD PRINCIPAL",
                "REFINACION DE PETROLEO",
                "RESIDENCIAL ",
                "Sin especificar",
                "Sin especificar",
                "Sin especificar",
                "Sin especificar",
                "TIERRAS CONVERTIDAS EN ASENTAMIENTOS",
                "TIERRAS CONVERTIDAS EN OTRAS TIERRAS",
                "TIERRAS CONVERTIDAS EN PASTIZALES ",
                "TIERRAS CONVERTIDAS EN TIERRAS DE CULTIVO",
                "TIERRAS FORESTALES QUE PERMANECEN COMO TIERRAS FORESTALES",
                "TODAS LAS FUENTES",
                "TRANSFORMACION DE COMBUSTIBLES SOLIDOS",
                "TRANSPORTE TERRESTRE",
                "TRATAMIENTO Y ELIMINACION DE AGUAS RESIDUALES DOMESTICAS",
                "TRATAMIENTO Y ELIMINACION DE AGUAS RESIDUALES INDUSTRIALES",
                "ACTIVIDADES DE QUEMA DE COMBUSTIBLES ",
                "ELIMINACION DE DESECHOS SOLIDOS",
                "EMISIONES FUGITIVAS PROVENIENTES DE LA FABRICACION DE COMBUSTIBLES",
                "FUENTES AGREGADAS Y FUENTES DE EMISION NO-CO2 EN LA TIERRA",
                "GANADO",
                "INCINERACION E INCINERACION ABIERTA DE DESECHOS SOLIDOS",
                "INDUSTRIA DE LOS METALES",
                "INDUSTRIA DE LOS MINERALES",
                "INDUSTRIA QUIMICA",
                "TIERRAS",
                "TRATAMIENTO Y ELIMINACION DE AGUAS RESIDUALES",
                "USO DE PRODUCTOS SUSTITUTOS DE LAS SUSTANCIAS QUE AGOTAN LA CAPA DE OZONO",
                "AGRICULTURA, SILVICULTURA Y OTROS USOS DE LA TIERRA",
                "DESECHOS",
                "ENERGIA ",
                "PROCESOS INDUSTRIALES Y USO DE PRODUCTOS "
               ]
              ],
              "parents": [
               [
                "ENERGIA /ACTIVIDADES DE QUEMA DE COMBUSTIBLES ",
                "AGRICULTURA, SILVICULTURA Y OTROS USOS DE LA TIERRA/FUENTES AGREGADAS Y FUENTES DE EMISION NO-CO2 EN LA TIERRA",
                "ENERGIA /ACTIVIDADES DE QUEMA DE COMBUSTIBLES ",
                "PROCESOS INDUSTRIALES Y USO DE PRODUCTOS /INDUSTRIA DE LOS MINERALES",
                "ENERGIA /ACTIVIDADES DE QUEMA DE COMBUSTIBLES ",
                "AGRICULTURA, SILVICULTURA Y OTROS USOS DE LA TIERRA/FUENTES AGREGADAS Y FUENTES DE EMISION NO-CO2 EN LA TIERRA",
                "DESECHOS/ELIMINACION DE DESECHOS SOLIDOS",
                "AGRICULTURA, SILVICULTURA Y OTROS USOS DE LA TIERRA/FUENTES AGREGADAS Y FUENTES DE EMISION NO-CO2 EN LA TIERRA",
                "AGRICULTURA, SILVICULTURA Y OTROS USOS DE LA TIERRA/FUENTES AGREGADAS Y FUENTES DE EMISION NO-CO2 EN LA TIERRA",
                "AGRICULTURA, SILVICULTURA Y OTROS USOS DE LA TIERRA/FUENTES AGREGADAS Y FUENTES DE EMISION NO-CO2 EN LA TIERRA",
                "AGRICULTURA, SILVICULTURA Y OTROS USOS DE LA TIERRA/FUENTES AGREGADAS Y FUENTES DE EMISION NO-CO2 EN LA TIERRA",
                "ENERGIA /ACTIVIDADES DE QUEMA DE COMBUSTIBLES ",
                "AGRICULTURA, SILVICULTURA Y OTROS USOS DE LA TIERRA/GANADO",
                "ENERGIA /ACTIVIDADES DE QUEMA DE COMBUSTIBLES ",
                "ENERGIA /EMISIONES FUGITIVAS PROVENIENTES DE LA FABRICACION DE COMBUSTIBLES",
                "DESECHOS/INCINERACION E INCINERACION ABIERTA DE DESECHOS SOLIDOS",
                "ENERGIA /ACTIVIDADES DE QUEMA DE COMBUSTIBLES ",
                "AGRICULTURA, SILVICULTURA Y OTROS USOS DE LA TIERRA/GANADO",
                "ENERGIA /ACTIVIDADES DE QUEMA DE COMBUSTIBLES ",
                "ENERGIA /EMISIONES FUGITIVAS PROVENIENTES DE LA FABRICACION DE COMBUSTIBLES",
                "ENERGIA /ACTIVIDADES DE QUEMA DE COMBUSTIBLES ",
                "ENERGIA /ACTIVIDADES DE QUEMA DE COMBUSTIBLES ",
                "ENERGIA /ACTIVIDADES DE QUEMA DE COMBUSTIBLES ",
                "PROCESOS INDUSTRIALES Y USO DE PRODUCTOS /INDUSTRIA DE LOS MINERALES",
                "ENERGIA /ACTIVIDADES DE QUEMA DE COMBUSTIBLES ",
                "ENERGIA /EMISIONES FUGITIVAS PROVENIENTES DE LA FABRICACION DE COMBUSTIBLES",
                "ENERGIA /ACTIVIDADES DE QUEMA DE COMBUSTIBLES ",
                "ENERGIA /ACTIVIDADES DE QUEMA DE COMBUSTIBLES ",
                "ENERGIA /ACTIVIDADES DE QUEMA DE COMBUSTIBLES ",
                "PROCESOS INDUSTRIALES Y USO DE PRODUCTOS /INDUSTRIA DE LOS METALES",
                "PROCESOS INDUSTRIALES Y USO DE PRODUCTOS /INDUSTRIA DE LOS MINERALES",
                "PROCESOS INDUSTRIALES Y USO DE PRODUCTOS /INDUSTRIA QUIMICA",
                "PROCESOS INDUSTRIALES Y USO DE PRODUCTOS /USO DE PRODUCTOS SUSTITUTOS DE LAS SUSTANCIAS QUE AGOTAN LA CAPA DE OZONO",
                "AGRICULTURA, SILVICULTURA Y OTROS USOS DE LA TIERRA/TIERRAS",
                "AGRICULTURA, SILVICULTURA Y OTROS USOS DE LA TIERRA/TIERRAS",
                "AGRICULTURA, SILVICULTURA Y OTROS USOS DE LA TIERRA/TIERRAS",
                "AGRICULTURA, SILVICULTURA Y OTROS USOS DE LA TIERRA/TIERRAS",
                "AGRICULTURA, SILVICULTURA Y OTROS USOS DE LA TIERRA/TIERRAS",
                "PROCESOS INDUSTRIALES Y USO DE PRODUCTOS /INDUSTRIA DE LOS MINERALES",
                "ENERGIA /EMISIONES FUGITIVAS PROVENIENTES DE LA FABRICACION DE COMBUSTIBLES",
                "ENERGIA /ACTIVIDADES DE QUEMA DE COMBUSTIBLES ",
                "DESECHOS/TRATAMIENTO Y ELIMINACION DE AGUAS RESIDUALES",
                "DESECHOS/TRATAMIENTO Y ELIMINACION DE AGUAS RESIDUALES",
                "ENERGIA ",
                "DESECHOS",
                "ENERGIA ",
                "AGRICULTURA, SILVICULTURA Y OTROS USOS DE LA TIERRA",
                "AGRICULTURA, SILVICULTURA Y OTROS USOS DE LA TIERRA",
                "DESECHOS",
                "PROCESOS INDUSTRIALES Y USO DE PRODUCTOS ",
                "PROCESOS INDUSTRIALES Y USO DE PRODUCTOS ",
                "PROCESOS INDUSTRIALES Y USO DE PRODUCTOS ",
                "AGRICULTURA, SILVICULTURA Y OTROS USOS DE LA TIERRA",
                "DESECHOS",
                "PROCESOS INDUSTRIALES Y USO DE PRODUCTOS ",
                "",
                "",
                "",
                ""
               ]
              ],
              "type": "sunburst",
              "values": [
               [
                138.02,
                262.54,
                1087.31,
                122.61,
                1280.17,
                1812.47,
                5591.83,
                6543.44,
                2355.11,
                177.95,
                817.46,
                2129.14,
                15284.69,
                120.42,
                7858.6,
                42.88,
                7154.72,
                647.14,
                1665.81,
                101.93,
                10.51,
                515.12,
                16.46,
                19.51,
                212.44,
                1639.77,
                11092.3,
                2328.2,
                3294.79,
                927.76,
                738.09,
                30.4,
                502.35,
                4492.54,
                107.05,
                22655.35,
                64643.22,
                11072.79,
                4223.48,
                67.83,
                19030.64,
                3057.6,
                1008.57,
                50076.049999999996,
                5591.83,
                9668.130000000001,
                11968.97,
                15931.83,
                42.88,
                927.76,
                5103.69,
                30.4,
                102970.95,
                4066.17,
                502.35,
                130871.75,
                9700.88,
                59744.18,
                6564.2
               ]
              ]
             },
             {
              "title": "Análisis Jerárquico de Emisiones de GEI en 2016"
             }
            ],
            "label": "2016",
            "method": "update"
           },
           {
            "args": [
             {
              "ids": [
               [
                "ENERGIA /ACTIVIDADES DE QUEMA DE COMBUSTIBLES /AGRICULTURA",
                "AGRICULTURA, SILVICULTURA Y OTROS USOS DE LA TIERRA/FUENTES AGREGADAS Y FUENTES DE EMISION NO-CO2 EN LA TIERRA/APLICACION DE UREA",
                "ENERGIA /ACTIVIDADES DE QUEMA DE COMBUSTIBLES /AVIACION CIVIL",
                "PROCESOS INDUSTRIALES Y USO DE PRODUCTOS /INDUSTRIA DE LOS MINERALES/CERAMICAS (LADRILLOS)",
                "ENERGIA /ACTIVIDADES DE QUEMA DE COMBUSTIBLES /COMERCIAL/INSTITUCIONAL",
                "AGRICULTURA, SILVICULTURA Y OTROS USOS DE LA TIERRA/FUENTES AGREGADAS Y FUENTES DE EMISION NO-CO2 EN LA TIERRA/CULTIVO DE ARROZ",
                "DESECHOS/ELIMINACION DE DESECHOS SOLIDOS/ELIMINACION DE DESECHOS SOLIDOS",
                "AGRICULTURA, SILVICULTURA Y OTROS USOS DE LA TIERRA/FUENTES AGREGADAS Y FUENTES DE EMISION NO-CO2 EN LA TIERRA/EMISIONES DIRECTAS DE N2O DE SUELOS GESTIONADOS",
                "AGRICULTURA, SILVICULTURA Y OTROS USOS DE LA TIERRA/FUENTES AGREGADAS Y FUENTES DE EMISION NO-CO2 EN LA TIERRA/EMISIONES INDIRECTAS DE N2O DE SUELOS GESTIONADOS",
                "AGRICULTURA, SILVICULTURA Y OTROS USOS DE LA TIERRA/FUENTES AGREGADAS Y FUENTES DE EMISION NO-CO2 EN LA TIERRA/EMISIONES INDIRECTAS DE N2O POR MANEJO DEL ESTIERCOL",
                "AGRICULTURA, SILVICULTURA Y OTROS USOS DE LA TIERRA/FUENTES AGREGADAS Y FUENTES DE EMISION NO-CO2 EN LA TIERRA/EMISIONES POR QUEMA DE BIOMASA ",
                "ENERGIA /ACTIVIDADES DE QUEMA DE COMBUSTIBLES /FABRICACION DE COMBUSTIBLES SOLIDOS Y OTRAS INDUSTRIAS ENERGETICAS",
                "AGRICULTURA, SILVICULTURA Y OTROS USOS DE LA TIERRA/GANADO/FERMENTACION ENTERICA",
                "ENERGIA /ACTIVIDADES DE QUEMA DE COMBUSTIBLES /FERROCARRILES",
                "ENERGIA /EMISIONES FUGITIVAS PROVENIENTES DE LA FABRICACION DE COMBUSTIBLES/GAS NATURAL",
                "DESECHOS/INCINERACION E INCINERACION ABIERTA DE DESECHOS SOLIDOS/INCINERACION ABIERTA DE DESECHOS",
                "ENERGIA /ACTIVIDADES DE QUEMA DE COMBUSTIBLES /INDUSTRIA NO ESPECIFICADA",
                "AGRICULTURA, SILVICULTURA Y OTROS USOS DE LA TIERRA/GANADO/MANEJO DE ESTIERCOL",
                "ENERGIA /ACTIVIDADES DE QUEMA DE COMBUSTIBLES /MINERIA (CON EXCEPCION DE COMBUSTIBLES) Y CANTERIA",
                "ENERGIA /EMISIONES FUGITIVAS PROVENIENTES DE LA FABRICACION DE COMBUSTIBLES/MINERIA Y MANEJO DEL CARBON ",
                "ENERGIA /ACTIVIDADES DE QUEMA DE COMBUSTIBLES /MOVIL",
                "ENERGIA /ACTIVIDADES DE QUEMA DE COMBUSTIBLES /NAVEGACION MARITIMA Y FLUVIAL",
                "ENERGIA /ACTIVIDADES DE QUEMA DE COMBUSTIBLES /OTRO TIPO DE TRANSPORTE",
                "PROCESOS INDUSTRIALES Y USO DE PRODUCTOS /INDUSTRIA DE LOS MINERALES/OTROS USOS DE LA CENIZA DE SOSA (CARBONATO DE SODIO)",
                "ENERGIA /ACTIVIDADES DE QUEMA DE COMBUSTIBLES /PESCA",
                "ENERGIA /EMISIONES FUGITIVAS PROVENIENTES DE LA FABRICACION DE COMBUSTIBLES/PETROLEO",
                "ENERGIA /ACTIVIDADES DE QUEMA DE COMBUSTIBLES /PRODUCCION DE ELECTRICIDAD Y CALOR COMO ACTIVIDAD PRINCIPAL",
                "ENERGIA /ACTIVIDADES DE QUEMA DE COMBUSTIBLES /REFINACION DE PETROLEO",
                "ENERGIA /ACTIVIDADES DE QUEMA DE COMBUSTIBLES /RESIDENCIAL ",
                "PROCESOS INDUSTRIALES Y USO DE PRODUCTOS /INDUSTRIA DE LOS METALES/Sin especificar",
                "PROCESOS INDUSTRIALES Y USO DE PRODUCTOS /INDUSTRIA DE LOS MINERALES/Sin especificar",
                "PROCESOS INDUSTRIALES Y USO DE PRODUCTOS /INDUSTRIA QUIMICA/Sin especificar",
                "PROCESOS INDUSTRIALES Y USO DE PRODUCTOS /USO DE PRODUCTOS SUSTITUTOS DE LAS SUSTANCIAS QUE AGOTAN LA CAPA DE OZONO/Sin especificar",
                "AGRICULTURA, SILVICULTURA Y OTROS USOS DE LA TIERRA/TIERRAS/TIERRAS CONVERTIDAS EN ASENTAMIENTOS",
                "AGRICULTURA, SILVICULTURA Y OTROS USOS DE LA TIERRA/TIERRAS/TIERRAS CONVERTIDAS EN OTRAS TIERRAS",
                "AGRICULTURA, SILVICULTURA Y OTROS USOS DE LA TIERRA/TIERRAS/TIERRAS CONVERTIDAS EN PASTIZALES ",
                "AGRICULTURA, SILVICULTURA Y OTROS USOS DE LA TIERRA/TIERRAS/TIERRAS CONVERTIDAS EN TIERRAS DE CULTIVO",
                "AGRICULTURA, SILVICULTURA Y OTROS USOS DE LA TIERRA/TIERRAS/TIERRAS FORESTALES QUE PERMANECEN COMO TIERRAS FORESTALES",
                "PROCESOS INDUSTRIALES Y USO DE PRODUCTOS /INDUSTRIA DE LOS MINERALES/TODAS LAS FUENTES",
                "ENERGIA /EMISIONES FUGITIVAS PROVENIENTES DE LA FABRICACION DE COMBUSTIBLES/TRANSFORMACION DE COMBUSTIBLES SOLIDOS",
                "ENERGIA /ACTIVIDADES DE QUEMA DE COMBUSTIBLES /TRANSPORTE TERRESTRE",
                "DESECHOS/TRATAMIENTO BIOLOGICO DE DESECHOS SOLIDOS/TRATAMIENTO BIOLOGICO DE DESECHOS SOLIDOS",
                "DESECHOS/TRATAMIENTO Y ELIMINACION DE AGUAS RESIDUALES/TRATAMIENTO Y ELIMINACION DE AGUAS RESIDUALES DOMESTICAS",
                "DESECHOS/TRATAMIENTO Y ELIMINACION DE AGUAS RESIDUALES/TRATAMIENTO Y ELIMINACION DE AGUAS RESIDUALES INDUSTRIALES",
                "ENERGIA /ACTIVIDADES DE QUEMA DE COMBUSTIBLES ",
                "DESECHOS/ELIMINACION DE DESECHOS SOLIDOS",
                "ENERGIA /EMISIONES FUGITIVAS PROVENIENTES DE LA FABRICACION DE COMBUSTIBLES",
                "AGRICULTURA, SILVICULTURA Y OTROS USOS DE LA TIERRA/FUENTES AGREGADAS Y FUENTES DE EMISION NO-CO2 EN LA TIERRA",
                "AGRICULTURA, SILVICULTURA Y OTROS USOS DE LA TIERRA/GANADO",
                "DESECHOS/INCINERACION E INCINERACION ABIERTA DE DESECHOS SOLIDOS",
                "PROCESOS INDUSTRIALES Y USO DE PRODUCTOS /INDUSTRIA DE LOS METALES",
                "PROCESOS INDUSTRIALES Y USO DE PRODUCTOS /INDUSTRIA DE LOS MINERALES",
                "PROCESOS INDUSTRIALES Y USO DE PRODUCTOS /INDUSTRIA QUIMICA",
                "AGRICULTURA, SILVICULTURA Y OTROS USOS DE LA TIERRA/TIERRAS",
                "DESECHOS/TRATAMIENTO BIOLOGICO DE DESECHOS SOLIDOS",
                "DESECHOS/TRATAMIENTO Y ELIMINACION DE AGUAS RESIDUALES",
                "PROCESOS INDUSTRIALES Y USO DE PRODUCTOS /USO DE PRODUCTOS SUSTITUTOS DE LAS SUSTANCIAS QUE AGOTAN LA CAPA DE OZONO",
                "AGRICULTURA, SILVICULTURA Y OTROS USOS DE LA TIERRA",
                "DESECHOS",
                "ENERGIA ",
                "PROCESOS INDUSTRIALES Y USO DE PRODUCTOS "
               ]
              ],
              "labels": [
               [
                "AGRICULTURA",
                "APLICACION DE UREA",
                "AVIACION CIVIL",
                "CERAMICAS (LADRILLOS)",
                "COMERCIAL/INSTITUCIONAL",
                "CULTIVO DE ARROZ",
                "ELIMINACION DE DESECHOS SOLIDOS",
                "EMISIONES DIRECTAS DE N2O DE SUELOS GESTIONADOS",
                "EMISIONES INDIRECTAS DE N2O DE SUELOS GESTIONADOS",
                "EMISIONES INDIRECTAS DE N2O POR MANEJO DEL ESTIERCOL",
                "EMISIONES POR QUEMA DE BIOMASA ",
                "FABRICACION DE COMBUSTIBLES SOLIDOS Y OTRAS INDUSTRIAS ENERGETICAS",
                "FERMENTACION ENTERICA",
                "FERROCARRILES",
                "GAS NATURAL",
                "INCINERACION ABIERTA DE DESECHOS",
                "INDUSTRIA NO ESPECIFICADA",
                "MANEJO DE ESTIERCOL",
                "MINERIA (CON EXCEPCION DE COMBUSTIBLES) Y CANTERIA",
                "MINERIA Y MANEJO DEL CARBON ",
                "MOVIL",
                "NAVEGACION MARITIMA Y FLUVIAL",
                "OTRO TIPO DE TRANSPORTE",
                "OTROS USOS DE LA CENIZA DE SOSA (CARBONATO DE SODIO)",
                "PESCA",
                "PETROLEO",
                "PRODUCCION DE ELECTRICIDAD Y CALOR COMO ACTIVIDAD PRINCIPAL",
                "REFINACION DE PETROLEO",
                "RESIDENCIAL ",
                "Sin especificar",
                "Sin especificar",
                "Sin especificar",
                "Sin especificar",
                "TIERRAS CONVERTIDAS EN ASENTAMIENTOS",
                "TIERRAS CONVERTIDAS EN OTRAS TIERRAS",
                "TIERRAS CONVERTIDAS EN PASTIZALES ",
                "TIERRAS CONVERTIDAS EN TIERRAS DE CULTIVO",
                "TIERRAS FORESTALES QUE PERMANECEN COMO TIERRAS FORESTALES",
                "TODAS LAS FUENTES",
                "TRANSFORMACION DE COMBUSTIBLES SOLIDOS",
                "TRANSPORTE TERRESTRE",
                "TRATAMIENTO BIOLOGICO DE DESECHOS SOLIDOS",
                "TRATAMIENTO Y ELIMINACION DE AGUAS RESIDUALES DOMESTICAS",
                "TRATAMIENTO Y ELIMINACION DE AGUAS RESIDUALES INDUSTRIALES",
                "ACTIVIDADES DE QUEMA DE COMBUSTIBLES ",
                "ELIMINACION DE DESECHOS SOLIDOS",
                "EMISIONES FUGITIVAS PROVENIENTES DE LA FABRICACION DE COMBUSTIBLES",
                "FUENTES AGREGADAS Y FUENTES DE EMISION NO-CO2 EN LA TIERRA",
                "GANADO",
                "INCINERACION E INCINERACION ABIERTA DE DESECHOS SOLIDOS",
                "INDUSTRIA DE LOS METALES",
                "INDUSTRIA DE LOS MINERALES",
                "INDUSTRIA QUIMICA",
                "TIERRAS",
                "TRATAMIENTO BIOLOGICO DE DESECHOS SOLIDOS",
                "TRATAMIENTO Y ELIMINACION DE AGUAS RESIDUALES",
                "USO DE PRODUCTOS SUSTITUTOS DE LAS SUSTANCIAS QUE AGOTAN LA CAPA DE OZONO",
                "AGRICULTURA, SILVICULTURA Y OTROS USOS DE LA TIERRA",
                "DESECHOS",
                "ENERGIA ",
                "PROCESOS INDUSTRIALES Y USO DE PRODUCTOS "
               ]
              ],
              "parents": [
               [
                "ENERGIA /ACTIVIDADES DE QUEMA DE COMBUSTIBLES ",
                "AGRICULTURA, SILVICULTURA Y OTROS USOS DE LA TIERRA/FUENTES AGREGADAS Y FUENTES DE EMISION NO-CO2 EN LA TIERRA",
                "ENERGIA /ACTIVIDADES DE QUEMA DE COMBUSTIBLES ",
                "PROCESOS INDUSTRIALES Y USO DE PRODUCTOS /INDUSTRIA DE LOS MINERALES",
                "ENERGIA /ACTIVIDADES DE QUEMA DE COMBUSTIBLES ",
                "AGRICULTURA, SILVICULTURA Y OTROS USOS DE LA TIERRA/FUENTES AGREGADAS Y FUENTES DE EMISION NO-CO2 EN LA TIERRA",
                "DESECHOS/ELIMINACION DE DESECHOS SOLIDOS",
                "AGRICULTURA, SILVICULTURA Y OTROS USOS DE LA TIERRA/FUENTES AGREGADAS Y FUENTES DE EMISION NO-CO2 EN LA TIERRA",
                "AGRICULTURA, SILVICULTURA Y OTROS USOS DE LA TIERRA/FUENTES AGREGADAS Y FUENTES DE EMISION NO-CO2 EN LA TIERRA",
                "AGRICULTURA, SILVICULTURA Y OTROS USOS DE LA TIERRA/FUENTES AGREGADAS Y FUENTES DE EMISION NO-CO2 EN LA TIERRA",
                "AGRICULTURA, SILVICULTURA Y OTROS USOS DE LA TIERRA/FUENTES AGREGADAS Y FUENTES DE EMISION NO-CO2 EN LA TIERRA",
                "ENERGIA /ACTIVIDADES DE QUEMA DE COMBUSTIBLES ",
                "AGRICULTURA, SILVICULTURA Y OTROS USOS DE LA TIERRA/GANADO",
                "ENERGIA /ACTIVIDADES DE QUEMA DE COMBUSTIBLES ",
                "ENERGIA /EMISIONES FUGITIVAS PROVENIENTES DE LA FABRICACION DE COMBUSTIBLES",
                "DESECHOS/INCINERACION E INCINERACION ABIERTA DE DESECHOS SOLIDOS",
                "ENERGIA /ACTIVIDADES DE QUEMA DE COMBUSTIBLES ",
                "AGRICULTURA, SILVICULTURA Y OTROS USOS DE LA TIERRA/GANADO",
                "ENERGIA /ACTIVIDADES DE QUEMA DE COMBUSTIBLES ",
                "ENERGIA /EMISIONES FUGITIVAS PROVENIENTES DE LA FABRICACION DE COMBUSTIBLES",
                "ENERGIA /ACTIVIDADES DE QUEMA DE COMBUSTIBLES ",
                "ENERGIA /ACTIVIDADES DE QUEMA DE COMBUSTIBLES ",
                "ENERGIA /ACTIVIDADES DE QUEMA DE COMBUSTIBLES ",
                "PROCESOS INDUSTRIALES Y USO DE PRODUCTOS /INDUSTRIA DE LOS MINERALES",
                "ENERGIA /ACTIVIDADES DE QUEMA DE COMBUSTIBLES ",
                "ENERGIA /EMISIONES FUGITIVAS PROVENIENTES DE LA FABRICACION DE COMBUSTIBLES",
                "ENERGIA /ACTIVIDADES DE QUEMA DE COMBUSTIBLES ",
                "ENERGIA /ACTIVIDADES DE QUEMA DE COMBUSTIBLES ",
                "ENERGIA /ACTIVIDADES DE QUEMA DE COMBUSTIBLES ",
                "PROCESOS INDUSTRIALES Y USO DE PRODUCTOS /INDUSTRIA DE LOS METALES",
                "PROCESOS INDUSTRIALES Y USO DE PRODUCTOS /INDUSTRIA DE LOS MINERALES",
                "PROCESOS INDUSTRIALES Y USO DE PRODUCTOS /INDUSTRIA QUIMICA",
                "PROCESOS INDUSTRIALES Y USO DE PRODUCTOS /USO DE PRODUCTOS SUSTITUTOS DE LAS SUSTANCIAS QUE AGOTAN LA CAPA DE OZONO",
                "AGRICULTURA, SILVICULTURA Y OTROS USOS DE LA TIERRA/TIERRAS",
                "AGRICULTURA, SILVICULTURA Y OTROS USOS DE LA TIERRA/TIERRAS",
                "AGRICULTURA, SILVICULTURA Y OTROS USOS DE LA TIERRA/TIERRAS",
                "AGRICULTURA, SILVICULTURA Y OTROS USOS DE LA TIERRA/TIERRAS",
                "AGRICULTURA, SILVICULTURA Y OTROS USOS DE LA TIERRA/TIERRAS",
                "PROCESOS INDUSTRIALES Y USO DE PRODUCTOS /INDUSTRIA DE LOS MINERALES",
                "ENERGIA /EMISIONES FUGITIVAS PROVENIENTES DE LA FABRICACION DE COMBUSTIBLES",
                "ENERGIA /ACTIVIDADES DE QUEMA DE COMBUSTIBLES ",
                "DESECHOS/TRATAMIENTO BIOLOGICO DE DESECHOS SOLIDOS",
                "DESECHOS/TRATAMIENTO Y ELIMINACION DE AGUAS RESIDUALES",
                "DESECHOS/TRATAMIENTO Y ELIMINACION DE AGUAS RESIDUALES",
                "ENERGIA ",
                "DESECHOS",
                "ENERGIA ",
                "AGRICULTURA, SILVICULTURA Y OTROS USOS DE LA TIERRA",
                "AGRICULTURA, SILVICULTURA Y OTROS USOS DE LA TIERRA",
                "DESECHOS",
                "PROCESOS INDUSTRIALES Y USO DE PRODUCTOS ",
                "PROCESOS INDUSTRIALES Y USO DE PRODUCTOS ",
                "PROCESOS INDUSTRIALES Y USO DE PRODUCTOS ",
                "AGRICULTURA, SILVICULTURA Y OTROS USOS DE LA TIERRA",
                "DESECHOS",
                "DESECHOS",
                "PROCESOS INDUSTRIALES Y USO DE PRODUCTOS ",
                "",
                "",
                "",
                ""
               ]
              ],
              "type": "sunburst",
              "values": [
               [
                153.34,
                292.6,
                1171.29,
                107,
                1298.6,
                1790.83,
                6472.31,
                6853.68,
                2454.34,
                185.41,
                814.8,
                1953.69,
                15432.44,
                96.13,
                7933.49,
                5.94,
                7759.62,
                654.24,
                1494.02,
                69.31,
                7.85,
                390.85,
                29.05,
                1.79,
                165.43,
                2195.59,
                8799.16,
                1975.11,
                3569.87,
                864.37,
                795.16,
                33.769999999999996,
                909.91,
                7078.75,
                428.31,
                24463.12,
                62555.94,
                8243.92,
                4763.47,
                216.81,
                23958.96,
                4.77,
                2807.64,
                1127.71,
                52822.97,
                6472.31,
                10415.2,
                12391.66,
                16086.68,
                5.94,
                864.37,
                5667.42,
                33.769999999999996,
                102770.04,
                4.77,
                3935.35,
                909.91,
                131248.38,
                10418.37,
                63238.17,
                7475.47
               ]
              ]
             },
             {
              "title": "Análisis Jerárquico de Emisiones de GEI en 2019"
             }
            ],
            "label": "2019",
            "method": "update"
           }
          ],
          "direction": "down",
          "showactive": true,
          "x": 0.22,
          "y": 1.15
         }
        ]
       }
      }
     },
     "metadata": {},
     "output_type": "display_data"
    }
   ],
   "source": [
    "# Asegurar que la columna de valores no tenga ceros o NaN\n",
    "df = df[df[\"EMISIONES_GEI_GGCO2EQ\"] > 0]\n",
    "\n",
    "# Obtener lista de años únicos con datos válidos\n",
    "years = sorted(df[\"ANIO\"].unique())\n",
    "\n",
    "# Verificar que hay datos para al menos un año\n",
    "if not years:\n",
    "    raise ValueError(\"No hay datos disponibles para mostrar en el gráfico.\")\n",
    "\n",
    "# Crear el gráfico Sunburst inicial con el primer año válido\n",
    "df_year = df[df[\"ANIO\"] == years[0]]\n",
    "\n",
    "fig_sunburst = px.sunburst(\n",
    "    df_year,\n",
    "    path=['SECTOR', 'CATEGORIA', 'FUENTE_DE_EMISION'],\n",
    "    values='EMISIONES_GEI_GGCO2EQ',\n",
    "    color='EMISIONES_GEI_GGCO2EQ',\n",
    "    color_continuous_scale='Viridis',\n",
    "    maxdepth=3\n",
    ")\n",
    "\n",
    "# Crear los botones del menú para cada año\n",
    "botones = []\n",
    "for year in years:\n",
    "    df_filtered = df[df[\"ANIO\"] == year]\n",
    "\n",
    "    if df_filtered.empty:\n",
    "        continue  # Si no hay datos para el año, lo omitimos\n",
    "\n",
    "    # Extraer la traza del gráfico Sunburst para el año específico\n",
    "    sunburst_trace = px.sunburst(\n",
    "        df_filtered,\n",
    "        path=['SECTOR', 'CATEGORIA', 'FUENTE_DE_EMISION'],\n",
    "        values='EMISIONES_GEI_GGCO2EQ',\n",
    "        color='EMISIONES_GEI_GGCO2EQ',\n",
    "        color_continuous_scale='Viridis'\n",
    "    ).data[0]  # Extraer la traza del gráfico\n",
    "\n",
    "    # Agregar la opción al menú de selección de año\n",
    "    botones.append(\n",
    "        dict(\n",
    "            label=str(year),\n",
    "            method=\"update\",\n",
    "            args=[{\"type\": \"sunburst\",\n",
    "                   \"parents\": [sunburst_trace.parents], \n",
    "                   \"labels\": [sunburst_trace.labels], \n",
    "                   \"values\": [sunburst_trace.values], \n",
    "                   \"ids\": [sunburst_trace.ids]},\n",
    "                  {\"title\": f\"Análisis Jerárquico de Emisiones de GEI en {year}\"}]\n",
    "        )\n",
    "    )\n",
    "\n",
    "# Agregar el menú desplegable con los años disponibles\n",
    "fig_sunburst.update_layout(\n",
    "    updatemenus=[dict(\n",
    "        buttons=botones,\n",
    "        direction=\"down\",\n",
    "        showactive=True,\n",
    "        x=0.22,\n",
    "        y=1.15\n",
    "    )],annotations=[\n",
    "        dict(\n",
    "            text=\"Escoger año:\",  # Texto que aparecerá junto al botón\n",
    "            x=0,  # Posición horizontal\n",
    "            y=1.15,  # Posición vertical (igual que el dropdown)\n",
    "            xref=\"paper\",  # Referencia relativa al gráfico\n",
    "            yref=\"paper\",\n",
    "            showarrow=False,  # Sin flecha\n",
    "            font=dict(size=14)  # Tamaño de la fuente\n",
    "        )\n",
    "    ],\n",
    "    title={\n",
    "        'text': f'Análisis Jerárquico de Emisiones de GEI en {years[0]}',\n",
    "        'y': 0.98,\n",
    "        'x': 0.5,\n",
    "        'xanchor': 'center',\n",
    "        'yanchor': 'top',\n",
    "        'font': {'size': 20, 'color': '#333333'}\n",
    "    },\n",
    "    height=800\n",
    ")\n",
    "\n",
    "# Personalizar el hover\n",
    "fig_sunburst.update_traces(\n",
    "    hovertemplate=\"\"\"\n",
    "    <b>%{label}</b><br>\n",
    "    Emisiones: %{value:,.2f} GgCO₂eq<br>\n",
    "    Porcentaje: %{customdata[0]:.2f}%\n",
    "    <extra></extra>\n",
    "    \"\"\",\n",
    "    textinfo='label+percent entry'\n",
    ")\n",
    "\n",
    "# Mostrar el gráfico\n",
    "fig_sunburst.show()"
   ]
  },
  {
   "cell_type": "code",
   "execution_count": 18,
   "metadata": {},
   "outputs": [
    {
     "data": {
      "application/vnd.plotly.v1+json": {
       "config": {
        "plotlyServerURL": "https://plot.ly"
       },
       "data": [
        {
         "mode": "lines+markers",
         "name": "CO2",
         "type": "scatter",
         "x": [
          2000,
          2005,
          2010,
          2012,
          2014,
          2016,
          2019
         ],
         "y": [
          29482.59,
          32158.73,
          135532.75999999998,
          141929.16999999998,
          139424.7,
          155630.16,
          159395.36
         ]
        },
        {
         "mode": "lines+markers",
         "name": "CH4 (CO2eq)",
         "type": "scatter",
         "x": [
          2000,
          2005,
          2010,
          2012,
          2014,
          2016,
          2019
         ],
         "y": [
          29533.02,
          33374,
          37510.44,
          36671.89,
          38451.14,
          37536.38,
          39014.01
         ]
        },
        {
         "mode": "lines+markers",
         "name": "N2O (CO2eq)",
         "type": "scatter",
         "x": [
          2000,
          2005,
          2010,
          2012,
          2014,
          2016,
          2019
         ],
         "y": [
          8958.97,
          9364.05,
          10222.960000000001,
          10536.220000000001,
          10554.72,
          10583.92,
          11085.18
         ]
        }
       ],
       "layout": {
        "height": 500,
        "hovermode": "x unified",
        "template": {
         "data": {
          "bar": [
           {
            "error_x": {
             "color": "#2a3f5f"
            },
            "error_y": {
             "color": "#2a3f5f"
            },
            "marker": {
             "line": {
              "color": "#E5ECF6",
              "width": 0.5
             },
             "pattern": {
              "fillmode": "overlay",
              "size": 10,
              "solidity": 0.2
             }
            },
            "type": "bar"
           }
          ],
          "barpolar": [
           {
            "marker": {
             "line": {
              "color": "#E5ECF6",
              "width": 0.5
             },
             "pattern": {
              "fillmode": "overlay",
              "size": 10,
              "solidity": 0.2
             }
            },
            "type": "barpolar"
           }
          ],
          "carpet": [
           {
            "aaxis": {
             "endlinecolor": "#2a3f5f",
             "gridcolor": "white",
             "linecolor": "white",
             "minorgridcolor": "white",
             "startlinecolor": "#2a3f5f"
            },
            "baxis": {
             "endlinecolor": "#2a3f5f",
             "gridcolor": "white",
             "linecolor": "white",
             "minorgridcolor": "white",
             "startlinecolor": "#2a3f5f"
            },
            "type": "carpet"
           }
          ],
          "choropleth": [
           {
            "colorbar": {
             "outlinewidth": 0,
             "ticks": ""
            },
            "type": "choropleth"
           }
          ],
          "contour": [
           {
            "colorbar": {
             "outlinewidth": 0,
             "ticks": ""
            },
            "colorscale": [
             [
              0,
              "#0d0887"
             ],
             [
              0.1111111111111111,
              "#46039f"
             ],
             [
              0.2222222222222222,
              "#7201a8"
             ],
             [
              0.3333333333333333,
              "#9c179e"
             ],
             [
              0.4444444444444444,
              "#bd3786"
             ],
             [
              0.5555555555555556,
              "#d8576b"
             ],
             [
              0.6666666666666666,
              "#ed7953"
             ],
             [
              0.7777777777777778,
              "#fb9f3a"
             ],
             [
              0.8888888888888888,
              "#fdca26"
             ],
             [
              1,
              "#f0f921"
             ]
            ],
            "type": "contour"
           }
          ],
          "contourcarpet": [
           {
            "colorbar": {
             "outlinewidth": 0,
             "ticks": ""
            },
            "type": "contourcarpet"
           }
          ],
          "heatmap": [
           {
            "colorbar": {
             "outlinewidth": 0,
             "ticks": ""
            },
            "colorscale": [
             [
              0,
              "#0d0887"
             ],
             [
              0.1111111111111111,
              "#46039f"
             ],
             [
              0.2222222222222222,
              "#7201a8"
             ],
             [
              0.3333333333333333,
              "#9c179e"
             ],
             [
              0.4444444444444444,
              "#bd3786"
             ],
             [
              0.5555555555555556,
              "#d8576b"
             ],
             [
              0.6666666666666666,
              "#ed7953"
             ],
             [
              0.7777777777777778,
              "#fb9f3a"
             ],
             [
              0.8888888888888888,
              "#fdca26"
             ],
             [
              1,
              "#f0f921"
             ]
            ],
            "type": "heatmap"
           }
          ],
          "heatmapgl": [
           {
            "colorbar": {
             "outlinewidth": 0,
             "ticks": ""
            },
            "colorscale": [
             [
              0,
              "#0d0887"
             ],
             [
              0.1111111111111111,
              "#46039f"
             ],
             [
              0.2222222222222222,
              "#7201a8"
             ],
             [
              0.3333333333333333,
              "#9c179e"
             ],
             [
              0.4444444444444444,
              "#bd3786"
             ],
             [
              0.5555555555555556,
              "#d8576b"
             ],
             [
              0.6666666666666666,
              "#ed7953"
             ],
             [
              0.7777777777777778,
              "#fb9f3a"
             ],
             [
              0.8888888888888888,
              "#fdca26"
             ],
             [
              1,
              "#f0f921"
             ]
            ],
            "type": "heatmapgl"
           }
          ],
          "histogram": [
           {
            "marker": {
             "pattern": {
              "fillmode": "overlay",
              "size": 10,
              "solidity": 0.2
             }
            },
            "type": "histogram"
           }
          ],
          "histogram2d": [
           {
            "colorbar": {
             "outlinewidth": 0,
             "ticks": ""
            },
            "colorscale": [
             [
              0,
              "#0d0887"
             ],
             [
              0.1111111111111111,
              "#46039f"
             ],
             [
              0.2222222222222222,
              "#7201a8"
             ],
             [
              0.3333333333333333,
              "#9c179e"
             ],
             [
              0.4444444444444444,
              "#bd3786"
             ],
             [
              0.5555555555555556,
              "#d8576b"
             ],
             [
              0.6666666666666666,
              "#ed7953"
             ],
             [
              0.7777777777777778,
              "#fb9f3a"
             ],
             [
              0.8888888888888888,
              "#fdca26"
             ],
             [
              1,
              "#f0f921"
             ]
            ],
            "type": "histogram2d"
           }
          ],
          "histogram2dcontour": [
           {
            "colorbar": {
             "outlinewidth": 0,
             "ticks": ""
            },
            "colorscale": [
             [
              0,
              "#0d0887"
             ],
             [
              0.1111111111111111,
              "#46039f"
             ],
             [
              0.2222222222222222,
              "#7201a8"
             ],
             [
              0.3333333333333333,
              "#9c179e"
             ],
             [
              0.4444444444444444,
              "#bd3786"
             ],
             [
              0.5555555555555556,
              "#d8576b"
             ],
             [
              0.6666666666666666,
              "#ed7953"
             ],
             [
              0.7777777777777778,
              "#fb9f3a"
             ],
             [
              0.8888888888888888,
              "#fdca26"
             ],
             [
              1,
              "#f0f921"
             ]
            ],
            "type": "histogram2dcontour"
           }
          ],
          "mesh3d": [
           {
            "colorbar": {
             "outlinewidth": 0,
             "ticks": ""
            },
            "type": "mesh3d"
           }
          ],
          "parcoords": [
           {
            "line": {
             "colorbar": {
              "outlinewidth": 0,
              "ticks": ""
             }
            },
            "type": "parcoords"
           }
          ],
          "pie": [
           {
            "automargin": true,
            "type": "pie"
           }
          ],
          "scatter": [
           {
            "fillpattern": {
             "fillmode": "overlay",
             "size": 10,
             "solidity": 0.2
            },
            "type": "scatter"
           }
          ],
          "scatter3d": [
           {
            "line": {
             "colorbar": {
              "outlinewidth": 0,
              "ticks": ""
             }
            },
            "marker": {
             "colorbar": {
              "outlinewidth": 0,
              "ticks": ""
             }
            },
            "type": "scatter3d"
           }
          ],
          "scattercarpet": [
           {
            "marker": {
             "colorbar": {
              "outlinewidth": 0,
              "ticks": ""
             }
            },
            "type": "scattercarpet"
           }
          ],
          "scattergeo": [
           {
            "marker": {
             "colorbar": {
              "outlinewidth": 0,
              "ticks": ""
             }
            },
            "type": "scattergeo"
           }
          ],
          "scattergl": [
           {
            "marker": {
             "colorbar": {
              "outlinewidth": 0,
              "ticks": ""
             }
            },
            "type": "scattergl"
           }
          ],
          "scattermapbox": [
           {
            "marker": {
             "colorbar": {
              "outlinewidth": 0,
              "ticks": ""
             }
            },
            "type": "scattermapbox"
           }
          ],
          "scatterpolar": [
           {
            "marker": {
             "colorbar": {
              "outlinewidth": 0,
              "ticks": ""
             }
            },
            "type": "scatterpolar"
           }
          ],
          "scatterpolargl": [
           {
            "marker": {
             "colorbar": {
              "outlinewidth": 0,
              "ticks": ""
             }
            },
            "type": "scatterpolargl"
           }
          ],
          "scatterternary": [
           {
            "marker": {
             "colorbar": {
              "outlinewidth": 0,
              "ticks": ""
             }
            },
            "type": "scatterternary"
           }
          ],
          "surface": [
           {
            "colorbar": {
             "outlinewidth": 0,
             "ticks": ""
            },
            "colorscale": [
             [
              0,
              "#0d0887"
             ],
             [
              0.1111111111111111,
              "#46039f"
             ],
             [
              0.2222222222222222,
              "#7201a8"
             ],
             [
              0.3333333333333333,
              "#9c179e"
             ],
             [
              0.4444444444444444,
              "#bd3786"
             ],
             [
              0.5555555555555556,
              "#d8576b"
             ],
             [
              0.6666666666666666,
              "#ed7953"
             ],
             [
              0.7777777777777778,
              "#fb9f3a"
             ],
             [
              0.8888888888888888,
              "#fdca26"
             ],
             [
              1,
              "#f0f921"
             ]
            ],
            "type": "surface"
           }
          ],
          "table": [
           {
            "cells": {
             "fill": {
              "color": "#EBF0F8"
             },
             "line": {
              "color": "white"
             }
            },
            "header": {
             "fill": {
              "color": "#C8D4E3"
             },
             "line": {
              "color": "white"
             }
            },
            "type": "table"
           }
          ]
         },
         "layout": {
          "annotationdefaults": {
           "arrowcolor": "#2a3f5f",
           "arrowhead": 0,
           "arrowwidth": 1
          },
          "autotypenumbers": "strict",
          "coloraxis": {
           "colorbar": {
            "outlinewidth": 0,
            "ticks": ""
           }
          },
          "colorscale": {
           "diverging": [
            [
             0,
             "#8e0152"
            ],
            [
             0.1,
             "#c51b7d"
            ],
            [
             0.2,
             "#de77ae"
            ],
            [
             0.3,
             "#f1b6da"
            ],
            [
             0.4,
             "#fde0ef"
            ],
            [
             0.5,
             "#f7f7f7"
            ],
            [
             0.6,
             "#e6f5d0"
            ],
            [
             0.7,
             "#b8e186"
            ],
            [
             0.8,
             "#7fbc41"
            ],
            [
             0.9,
             "#4d9221"
            ],
            [
             1,
             "#276419"
            ]
           ],
           "sequential": [
            [
             0,
             "#0d0887"
            ],
            [
             0.1111111111111111,
             "#46039f"
            ],
            [
             0.2222222222222222,
             "#7201a8"
            ],
            [
             0.3333333333333333,
             "#9c179e"
            ],
            [
             0.4444444444444444,
             "#bd3786"
            ],
            [
             0.5555555555555556,
             "#d8576b"
            ],
            [
             0.6666666666666666,
             "#ed7953"
            ],
            [
             0.7777777777777778,
             "#fb9f3a"
            ],
            [
             0.8888888888888888,
             "#fdca26"
            ],
            [
             1,
             "#f0f921"
            ]
           ],
           "sequentialminus": [
            [
             0,
             "#0d0887"
            ],
            [
             0.1111111111111111,
             "#46039f"
            ],
            [
             0.2222222222222222,
             "#7201a8"
            ],
            [
             0.3333333333333333,
             "#9c179e"
            ],
            [
             0.4444444444444444,
             "#bd3786"
            ],
            [
             0.5555555555555556,
             "#d8576b"
            ],
            [
             0.6666666666666666,
             "#ed7953"
            ],
            [
             0.7777777777777778,
             "#fb9f3a"
            ],
            [
             0.8888888888888888,
             "#fdca26"
            ],
            [
             1,
             "#f0f921"
            ]
           ]
          },
          "colorway": [
           "#636efa",
           "#EF553B",
           "#00cc96",
           "#ab63fa",
           "#FFA15A",
           "#19d3f3",
           "#FF6692",
           "#B6E880",
           "#FF97FF",
           "#FECB52"
          ],
          "font": {
           "color": "#2a3f5f"
          },
          "geo": {
           "bgcolor": "white",
           "lakecolor": "white",
           "landcolor": "#E5ECF6",
           "showlakes": true,
           "showland": true,
           "subunitcolor": "white"
          },
          "hoverlabel": {
           "align": "left"
          },
          "hovermode": "closest",
          "mapbox": {
           "style": "light"
          },
          "paper_bgcolor": "white",
          "plot_bgcolor": "#E5ECF6",
          "polar": {
           "angularaxis": {
            "gridcolor": "white",
            "linecolor": "white",
            "ticks": ""
           },
           "bgcolor": "#E5ECF6",
           "radialaxis": {
            "gridcolor": "white",
            "linecolor": "white",
            "ticks": ""
           }
          },
          "scene": {
           "xaxis": {
            "backgroundcolor": "#E5ECF6",
            "gridcolor": "white",
            "gridwidth": 2,
            "linecolor": "white",
            "showbackground": true,
            "ticks": "",
            "zerolinecolor": "white"
           },
           "yaxis": {
            "backgroundcolor": "#E5ECF6",
            "gridcolor": "white",
            "gridwidth": 2,
            "linecolor": "white",
            "showbackground": true,
            "ticks": "",
            "zerolinecolor": "white"
           },
           "zaxis": {
            "backgroundcolor": "#E5ECF6",
            "gridcolor": "white",
            "gridwidth": 2,
            "linecolor": "white",
            "showbackground": true,
            "ticks": "",
            "zerolinecolor": "white"
           }
          },
          "shapedefaults": {
           "line": {
            "color": "#2a3f5f"
           }
          },
          "ternary": {
           "aaxis": {
            "gridcolor": "white",
            "linecolor": "white",
            "ticks": ""
           },
           "baxis": {
            "gridcolor": "white",
            "linecolor": "white",
            "ticks": ""
           },
           "bgcolor": "#E5ECF6",
           "caxis": {
            "gridcolor": "white",
            "linecolor": "white",
            "ticks": ""
           }
          },
          "title": {
           "x": 0.05
          },
          "xaxis": {
           "automargin": true,
           "gridcolor": "white",
           "linecolor": "white",
           "ticks": "",
           "title": {
            "standoff": 15
           },
           "zerolinecolor": "white",
           "zerolinewidth": 2
          },
          "yaxis": {
           "automargin": true,
           "gridcolor": "white",
           "linecolor": "white",
           "ticks": "",
           "title": {
            "standoff": 15
           },
           "zerolinecolor": "white",
           "zerolinewidth": 2
          }
         }
        },
        "title": {
         "text": "Evolución Temporal de Emisiones por Tipo de Gas"
        },
        "xaxis": {
         "title": {
          "text": "Año"
         }
        },
        "yaxis": {
         "title": {
          "text": "Emisiones (GgCO2eq)"
         }
        }
       }
      }
     },
     "metadata": {},
     "output_type": "display_data"
    }
   ],
   "source": [
    "# 3. Gráfica temporal\n",
    "# Preparar datos agregados por año\n",
    "temporal = df.groupby('ANIO').agg({\n",
    "    'DIOXIDO_DE_CARBONO_GGCO2': 'sum',\n",
    "    'METANO_EQUIVALENTE_GGCO2EQ': 'sum',\n",
    "    'OXIDO_NITROSO_EQUIVALENTE_GGCO2EQ': 'sum'\n",
    "}).reset_index()\n",
    "\n",
    "fig_temporal = go.Figure()\n",
    "\n",
    "# Añadir líneas para cada tipo de emisión\n",
    "fig_temporal.add_trace(go.Scatter(\n",
    "    x=temporal['ANIO'],\n",
    "    y=temporal['DIOXIDO_DE_CARBONO_GGCO2'],\n",
    "    name='CO2',\n",
    "    mode='lines+markers'\n",
    "))\n",
    "\n",
    "fig_temporal.add_trace(go.Scatter(\n",
    "    x=temporal['ANIO'],\n",
    "    y=temporal['METANO_EQUIVALENTE_GGCO2EQ'],\n",
    "    name='CH4 (CO2eq)',\n",
    "    mode='lines+markers'\n",
    "))\n",
    "\n",
    "fig_temporal.add_trace(go.Scatter(\n",
    "    x=temporal['ANIO'],\n",
    "    y=temporal['OXIDO_NITROSO_EQUIVALENTE_GGCO2EQ'],\n",
    "    name='N2O (CO2eq)',\n",
    "    mode='lines+markers'\n",
    "))\n",
    "\n",
    "# Actualizar el diseño de la gráfica temporal\n",
    "fig_temporal.update_layout(\n",
    "    title='Evolución Temporal de Emisiones por Tipo de Gas',\n",
    "    xaxis_title='Año',\n",
    "    yaxis_title='Emisiones (GgCO2eq)',\n",
    "    height=500,\n",
    "    hovermode='x unified'\n",
    ")\n",
    "fig_temporal.show()"
   ]
  }
 ],
 "metadata": {
  "kernelspec": {
   "display_name": "Python 3",
   "language": "python",
   "name": "python3"
  },
  "language_info": {
   "codemirror_mode": {
    "name": "ipython",
    "version": 3
   },
   "file_extension": ".py",
   "mimetype": "text/x-python",
   "name": "python",
   "nbconvert_exporter": "python",
   "pygments_lexer": "ipython3",
   "version": "3.10.4"
  }
 },
 "nbformat": 4,
 "nbformat_minor": 2
}
