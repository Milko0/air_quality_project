{
 "cells": [
  {
   "cell_type": "code",
   "execution_count": 1,
   "metadata": {},
   "outputs": [],
   "source": [
    "import pandas as pd\n",
    "import numpy as np\n",
    "import plotly.graph_objects as go\n",
    "from plotly.subplots import make_subplots\n",
    "import joblib"
   ]
  },
  {
   "cell_type": "code",
   "execution_count": null,
   "metadata": {},
   "outputs": [],
   "source": [
    "# Cargar el modelo guardado\n",
    "modelo = joblib.load(r\"modelo/modelo_hibrido_new_0.9269.pkl\")\n",
    "\n",
    "# Cargar los datos originales para obtener todas las estaciones y distritos\n",
    "df_original = pd.read_csv(r'data/data_monitoreo_contaminantes_filtrado_best.csv')\n",
    "\n",
    "# Datos históricos de PM10\n",
    "historico_pm10 = {\n",
    "    2015: 68.51, 2016: 71.85, 2017: 73.25, 2018: 69.36, \n",
    "    2019: 56.26, 2020: 53.22, 2021: 60.80, 2022: 56.51,\n",
    "    2023: 41.89, 2024: 46.72\n",
    "}\n",
    "\n",
    "# Datos de arborización SERPAR\n",
    "arboles_serpar = {\n",
    "    2020: 82637,\n",
    "    2021: 160932,\n",
    "    2022: 150136,\n",
    "    2023: 86957,\n",
    "    2024: 115548\n",
    "}\n",
    "\n",
    "# Constantes globales\n",
    "TASA_SUPERVIVENCIA = 0.7\n",
    "ARBOLES_PROMEDIO = np.mean(list(arboles_serpar.values()))\n",
    "VOLUMEN_AIRE = 2819000000 * 10  # área de Lima * altura promedio de mezcla\n",
    "\n",
    "# Nuevos parámetros para niveles objetivo de PM10\n",
    "NIVEL_OBJETIVO_MIN = 27  # nivel mínimo objetivo\n",
    "NIVEL_OBJETIVO_MAX = 40.5  # nivel máximo objetivo (quartil superior)"
   ]
  },
  {
   "cell_type": "code",
   "execution_count": 3,
   "metadata": {},
   "outputs": [],
   "source": [
    "### 3. Preparar escenarios\n",
    "def crear_datos_prediccion(start_year=2025, end_year=2035):\n",
    "    \"\"\"\n",
    "    Crea DataFrame con todas las combinaciones necesarias para la predicción\n",
    "    \"\"\"\n",
    "    # Obtener todas las estaciones y distritos únicos\n",
    "    estaciones = df_original['ESTACION'].unique()\n",
    "    distritos = df_original['DISTRITO'].unique()\n",
    "    \n",
    "    datos = []\n",
    "    for año in range(start_year, end_year + 1):\n",
    "        for mes in range(1, 13):\n",
    "            for estacion, distrito in zip(estaciones, distritos):\n",
    "                for hora in range(24):\n",
    "                    dia_semana = pd.Timestamp(year=año, month=mes, day=1).weekday()\n",
    "                    es_fin_semana = 1 if dia_semana >= 5 else 0\n",
    "                    datos.append({\n",
    "                        'ESTACION': estacion,\n",
    "                        'DISTRITO': distrito,\n",
    "                        'HORA': hora,\n",
    "                        'DIA_SEMANA': dia_semana,\n",
    "                        'MES': mes,\n",
    "                        'AÑO': año,\n",
    "                        'ES_FIN_DE_SEMANA': es_fin_semana\n",
    "                    })\n",
    "    return pd.DataFrame(datos)\n",
    "\n",
    "def calcular_reduccion_por_arbol():\n",
    "    \"\"\"\n",
    "    Calcula la reducción de PM10 por árbol en μg/m³\n",
    "    \"\"\"\n",
    "    # Reducción anual por árbol en gramos\n",
    "    reduccion_anual_gramos = 5217.4\n",
    "    # Convertir a reducción diaria\n",
    "    reduccion_diaria_gramos = reduccion_anual_gramos / 365\n",
    "    # Convertir a reducción de concentración en μg/m³\n",
    "    reduccion_concentracion = (reduccion_diaria_gramos * 1000) / VOLUMEN_AIRE\n",
    "    \n",
    "    return reduccion_concentracion\n",
    "\n",
    "def simular_escenarios(df_pred, arboles_anuales=ARBOLES_PROMEDIO, start_year=2025):\n",
    "    \"\"\"\n",
    "    Simula escenarios con una cantidad específica de árboles plantados anualmente\n",
    "    \"\"\"\n",
    "    prediccion_base = modelo.predict(df_pred)\n",
    "    prediccion_con_arboles = prediccion_base.copy()\n",
    "    \n",
    "    # Calcular reducción por árbol\n",
    "    reduccion_por_arbol = calcular_reduccion_por_arbol()\n",
    "    \n",
    "    años_unicos = df_pred['AÑO'].unique()\n",
    "    arboles_acumulados = {}\n",
    "    \n",
    "    for i, año in enumerate(años_unicos):\n",
    "        # Árboles acumulados considerando supervivencia\n",
    "        n_arboles = int(arboles_anuales * TASA_SUPERVIVENCIA * (i + 1))\n",
    "        arboles_acumulados[año] = n_arboles\n",
    "        \n",
    "        # Reducción total por todos los árboles acumulados\n",
    "        reduccion_concentracion = reduccion_por_arbol * n_arboles\n",
    "        \n",
    "        mask_año = df_pred['AÑO'] == año\n",
    "        prediccion_con_arboles[mask_año] = np.maximum(0, \n",
    "            prediccion_con_arboles[mask_año] - reduccion_concentracion)\n",
    "    \n",
    "    return prediccion_base, prediccion_con_arboles, arboles_acumulados\n",
    "\n",
    "def calcular_arboles_necesarios(df_pred, nivel_objetivo, año_objetivo=2035, max_iteraciones=100):\n",
    "    \"\"\"\n",
    "    Calcula cuántos árboles anuales se necesitan para alcanzar un nivel objetivo de PM10\n",
    "    \"\"\"\n",
    "    # Punto de partida: el promedio actual de SERPAR\n",
    "    arboles_min = ARBOLES_PROMEDIO\n",
    "    arboles_max = ARBOLES_PROMEDIO * 10  # un límite superior inicial\n",
    "    \n",
    "    # Si con el máximo inicial no alcanzamos el objetivo, aumentamos el límite\n",
    "    _, pred_arboles_max, _ = simular_escenarios(df_pred, arboles_max)\n",
    "    mask_año_objetivo = df_pred['AÑO'] == año_objetivo\n",
    "    pm10_con_max_arboles = np.mean(pred_arboles_max[mask_año_objetivo])\n",
    "    \n",
    "    # Si aún con el máximo no alcanzamos el objetivo, aumentamos más\n",
    "    iteracion = 0\n",
    "    while pm10_con_max_arboles > nivel_objetivo and iteracion < 5:\n",
    "        arboles_max *= 5\n",
    "        _, pred_arboles_max, _ = simular_escenarios(df_pred, arboles_max)\n",
    "        pm10_con_max_arboles = np.mean(pred_arboles_max[mask_año_objetivo])\n",
    "        iteracion += 1\n",
    "    \n",
    "    # Búsqueda binaria para encontrar el número óptimo de árboles\n",
    "    for _ in range(max_iteraciones):\n",
    "        arboles_med = (arboles_min + arboles_max) / 2\n",
    "        _, pred_arboles_med, _ = simular_escenarios(df_pred, arboles_med)\n",
    "        mask_año_objetivo = df_pred['AÑO'] == año_objetivo\n",
    "        pm10_con_arboles_med = np.mean(pred_arboles_med[mask_año_objetivo])\n",
    "        \n",
    "        if abs(pm10_con_arboles_med - nivel_objetivo) < 0.1:\n",
    "            # Convergencia encontrada\n",
    "            return int(arboles_med)\n",
    "        \n",
    "        if pm10_con_arboles_med > nivel_objetivo:\n",
    "            # Necesitamos más árboles\n",
    "            arboles_min = arboles_med\n",
    "        else:\n",
    "            # Podemos reducir la cantidad de árboles\n",
    "            arboles_max = arboles_med\n",
    "    \n",
    "    # Devolvemos la mejor aproximación encontrada\n",
    "    return int((arboles_min + arboles_max) / 2)\n",
    "\n",
    "def categorizar_calidad_aire(valor):\n",
    "    if valor <= 54:\n",
    "        return 'Buena'\n",
    "    elif valor <= 154:\n",
    "        return 'Moderada'\n",
    "    elif valor <= 254:\n",
    "        return 'Insalubre para grupos sensibles'\n",
    "    else:\n",
    "        return 'Insalubre'"
   ]
  },
  {
   "cell_type": "code",
   "execution_count": null,
   "metadata": {},
   "outputs": [],
   "source": [
    "# 4. Crear datos para predicción\n",
    "df_prediccion = crear_datos_prediccion(2025, 2035)\n",
    "\n",
    "# Calcular árboles necesarios para niveles objetivo\n",
    "arboles_para_nivel_max = calcular_arboles_necesarios(df_prediccion, NIVEL_OBJETIVO_MAX)\n",
    "arboles_para_nivel_min = calcular_arboles_necesarios(df_prediccion, NIVEL_OBJETIVO_MIN)\n",
    "\n",
    "# Simular con diferentes cantidades de árboles\n",
    "pred_base, pred_arboles_actual, arboles_actual = simular_escenarios(df_prediccion, ARBOLES_PROMEDIO)\n",
    "_, pred_arboles_objetivo_max, arboles_objetivo_max = simular_escenarios(df_prediccion, arboles_para_nivel_max)\n",
    "_, pred_arboles_objetivo_min, arboles_objetivo_min = simular_escenarios(df_prediccion, arboles_para_nivel_min)\n",
    "\n",
    "# Crear visualizaciones\n",
    "fig = make_subplots(rows=2, cols=1,\n",
    "                    subplot_titles=('Evolución histórica y proyección del PM10',\n",
    "                                  'Árboles acumulados según diferentes escenarios'))\n",
    "\n",
    "# Añadir datos históricos\n",
    "fig.add_trace(\n",
    "    go.Scatter(x=list(historico_pm10.keys()),\n",
    "               y=list(historico_pm10.values()),\n",
    "               name='Histórico PM10',\n",
    "               line=dict(color='gray', dash='dash')),\n",
    "    row=1, col=1\n",
    ")\n",
    "\n",
    "# Procesar resultados por año con margen de error\n",
    "margen_error = 0.05  # 5% de margen de error"
   ]
  },
  {
   "cell_type": "code",
   "execution_count": null,
   "metadata": {},
   "outputs": [
    {
     "data": {
      "application/vnd.plotly.v1+json": {
       "config": {
        "plotlyServerURL": "https://plot.ly"
       },
       "data": [
        {
         "line": {
          "color": "gray",
          "dash": "dash"
         },
         "name": "Histórico PM10",
         "type": "scatter",
         "x": [
          2015,
          2016,
          2017,
          2018,
          2019,
          2020,
          2021,
          2022,
          2023,
          2024
         ],
         "xaxis": "x",
         "y": [
          68.51,
          71.85,
          73.25,
          69.36,
          56.26,
          53.22,
          60.8,
          56.51,
          41.89,
          46.72
         ],
         "yaxis": "y"
        },
        {
         "line": {
          "color": "red"
         },
         "name": "Proyección sin árboles",
         "type": "scatter",
         "x": [
          2025,
          2026,
          2027,
          2028,
          2029,
          2030,
          2031,
          2032,
          2033,
          2034,
          2035
         ],
         "xaxis": "x",
         "y": [
          47.654856759009775,
          47.395258027430444,
          47.332708817458354,
          48.25746363666381,
          47.99780918728455,
          47.7682498046244,
          47.654856759009775,
          47.272972624111794,
          47.76756205060106,
          47.88751839023935,
          47.99780918728455
         ],
         "yaxis": "y"
        },
        {
         "fill": "toself",
         "fillcolor": "rgba(255,0,0,0.2)",
         "line": {
          "color": "rgba(255,0,0,0)"
         },
         "name": "Margen de error sin árboles",
         "showlegend": true,
         "type": "scatter",
         "x": [
          2025,
          2026,
          2027,
          2028,
          2029,
          2030,
          2031,
          2032,
          2033,
          2034,
          2035,
          2035,
          2034,
          2033,
          2032,
          2031,
          2030,
          2029,
          2028,
          2027,
          2026,
          2025
         ],
         "xaxis": "x",
         "y": [
          50.03759959696026,
          49.76502092880197,
          49.69934425833127,
          50.670336818497,
          50.39769964664878,
          50.15666229485562,
          50.03759959696026,
          49.63662125531739,
          50.15594015313111,
          50.281894309751316,
          50.39769964664878,
          45.59791872792032,
          45.493142470727385,
          45.379183948071,
          44.9093239929062,
          45.27211392105929,
          45.379837314393185,
          45.59791872792032,
          45.844590454830616,
          44.966073376585435,
          45.02549512605892,
          45.27211392105929
         ],
         "yaxis": "y"
        },
        {
         "line": {
          "color": "green"
         },
         "name": "PM10 con árboles (Actual)",
         "type": "scatter",
         "x": [
          2025,
          2026,
          2027,
          2028,
          2029,
          2030,
          2031,
          2032,
          2033,
          2034,
          2035
         ],
         "xaxis": "x",
         "y": [
          47.61253230113829,
          47.31060911168747,
          47.205734936775904,
          48.08816529810986,
          47.78618588379113,
          47.514302043259505,
          47.35858453977338,
          46.93437543993592,
          47.386640408553696,
          47.46427178325252,
          47.53223812242623
         ],
         "yaxis": "y"
        },
        {
         "marker": {
          "color": "green"
         },
         "name": "Árboles acumulados (Actual)",
         "type": "bar",
         "x": [
          2025,
          2026,
          2027,
          2028,
          2029,
          2030,
          2031,
          2032,
          2033,
          2034,
          2035
         ],
         "xaxis": "x2",
         "y": [
          83469,
          166938,
          250408,
          333877,
          417347,
          500816,
          584285,
          667755,
          751224,
          834694,
          918163
         ],
         "yaxis": "y2"
        },
        {
         "line": {
          "color": "blue"
         },
         "name": "PM10 con árboles (Para nivel 40.5)",
         "type": "scatter",
         "x": [
          2025,
          2026,
          2027,
          2028,
          2029,
          2030,
          2031,
          2032,
          2033,
          2034,
          2035
         ],
         "xaxis": "x",
         "y": [
          46.96443602926494,
          46.0144160608728,
          45.26144612115587,
          45.49577970354849,
          44.54570452442441,
          43.62572390495145,
          42.82191012959198,
          41.74960475788118,
          41.553773454625606,
          40.98330855745108,
          40.40317862475145
         ],
         "yaxis": "y"
        },
        {
         "marker": {
          "color": "blue"
         },
         "name": "Árboles acumulados (Para nivel 40.5)",
         "type": "bar",
         "x": [
          2025,
          2026,
          2027,
          2028,
          2029,
          2030,
          2031,
          2032,
          2033,
          2034,
          2035
         ],
         "xaxis": "x2",
         "y": [
          1361594,
          2723189,
          4084783,
          5446378,
          6807972,
          8169567,
          9531161,
          10892756,
          12254350,
          13615945,
          14977539
         ],
         "yaxis": "y2"
        },
        {
         "line": {
          "color": "purple"
         },
         "name": "PM10 con árboles (Para nivel 27)",
         "type": "scatter",
         "x": [
          2025,
          2026,
          2027,
          2028,
          2029,
          2030,
          2031,
          2032,
          2033,
          2034,
          2035
         ],
         "xaxis": "x",
         "y": [
          45.733052859171586,
          43.55165022775409,
          41.56729661087583,
          40.570247530243094,
          38.38878867395766,
          36.23742539145934,
          34.20576100396239,
          31.89864618561143,
          30.49904425731955,
          28.743299378739696,
          26.97045265139901
         ],
         "yaxis": "y"
        },
        {
         "marker": {
          "color": "purple"
         },
         "name": "Árboles acumulados (Para nivel 27)",
         "type": "bar",
         "x": [
          2025,
          2026,
          2027,
          2028,
          2029,
          2030,
          2031,
          2032,
          2033,
          2034,
          2035
         ],
         "xaxis": "x2",
         "y": [
          3790032,
          7580064,
          11370097,
          15160129,
          18950162,
          22740194,
          26530226,
          30320259,
          34110291,
          37900324,
          41690356
         ],
         "yaxis": "y2"
        }
       ],
       "layout": {
        "annotations": [
         {
          "font": {
           "size": 16
          },
          "showarrow": false,
          "text": "Evolución histórica y proyección del PM10",
          "x": 0.5,
          "xanchor": "center",
          "xref": "paper",
          "y": 1,
          "yanchor": "bottom",
          "yref": "paper"
         },
         {
          "font": {
           "size": 16
          },
          "showarrow": false,
          "text": "Árboles acumulados según diferentes escenarios",
          "x": 0.5,
          "xanchor": "center",
          "xref": "paper",
          "y": 0.375,
          "yanchor": "bottom",
          "yref": "paper"
         },
         {
          "showarrow": false,
          "text": "Nivel objetivo max: 40.5",
          "x": 1,
          "xanchor": "right",
          "xref": "x domain",
          "y": 40.5,
          "yanchor": "bottom",
          "yref": "y"
         },
         {
          "showarrow": false,
          "text": "Nivel objetivo min: 27",
          "x": 1,
          "xanchor": "right",
          "xref": "x domain",
          "y": 27,
          "yanchor": "bottom",
          "yref": "y"
         },
         {
          "showarrow": false,
          "text": "Buena",
          "x": 1,
          "xanchor": "right",
          "xref": "x domain",
          "y": 54,
          "yanchor": "bottom",
          "yref": "y"
         },
         {
          "showarrow": false,
          "text": "Moderada",
          "x": 1,
          "xanchor": "right",
          "xref": "x domain",
          "y": 154,
          "yanchor": "bottom",
          "yref": "y"
         }
        ],
        "height": 800,
        "shapes": [
         {
          "line": {
           "color": "blue",
           "dash": "dot"
          },
          "type": "line",
          "x0": 0,
          "x1": 1,
          "xref": "x domain",
          "y0": 40.5,
          "y1": 40.5,
          "yref": "y"
         },
         {
          "line": {
           "color": "purple",
           "dash": "dot"
          },
          "type": "line",
          "x0": 0,
          "x1": 1,
          "xref": "x domain",
          "y0": 27,
          "y1": 27,
          "yref": "y"
         },
         {
          "line": {
           "color": "gray",
           "dash": "dash"
          },
          "type": "line",
          "x0": 0,
          "x1": 1,
          "xref": "x domain",
          "y0": 54,
          "y1": 54,
          "yref": "y"
         },
         {
          "line": {
           "color": "gray",
           "dash": "dash"
          },
          "type": "line",
          "x0": 0,
          "x1": 1,
          "xref": "x domain",
          "y0": 154,
          "y1": 154,
          "yref": "y"
         }
        ],
        "showlegend": true,
        "template": {
         "data": {
          "bar": [
           {
            "error_x": {
             "color": "#2a3f5f"
            },
            "error_y": {
             "color": "#2a3f5f"
            },
            "marker": {
             "line": {
              "color": "#E5ECF6",
              "width": 0.5
             },
             "pattern": {
              "fillmode": "overlay",
              "size": 10,
              "solidity": 0.2
             }
            },
            "type": "bar"
           }
          ],
          "barpolar": [
           {
            "marker": {
             "line": {
              "color": "#E5ECF6",
              "width": 0.5
             },
             "pattern": {
              "fillmode": "overlay",
              "size": 10,
              "solidity": 0.2
             }
            },
            "type": "barpolar"
           }
          ],
          "carpet": [
           {
            "aaxis": {
             "endlinecolor": "#2a3f5f",
             "gridcolor": "white",
             "linecolor": "white",
             "minorgridcolor": "white",
             "startlinecolor": "#2a3f5f"
            },
            "baxis": {
             "endlinecolor": "#2a3f5f",
             "gridcolor": "white",
             "linecolor": "white",
             "minorgridcolor": "white",
             "startlinecolor": "#2a3f5f"
            },
            "type": "carpet"
           }
          ],
          "choropleth": [
           {
            "colorbar": {
             "outlinewidth": 0,
             "ticks": ""
            },
            "type": "choropleth"
           }
          ],
          "contour": [
           {
            "colorbar": {
             "outlinewidth": 0,
             "ticks": ""
            },
            "colorscale": [
             [
              0,
              "#0d0887"
             ],
             [
              0.1111111111111111,
              "#46039f"
             ],
             [
              0.2222222222222222,
              "#7201a8"
             ],
             [
              0.3333333333333333,
              "#9c179e"
             ],
             [
              0.4444444444444444,
              "#bd3786"
             ],
             [
              0.5555555555555556,
              "#d8576b"
             ],
             [
              0.6666666666666666,
              "#ed7953"
             ],
             [
              0.7777777777777778,
              "#fb9f3a"
             ],
             [
              0.8888888888888888,
              "#fdca26"
             ],
             [
              1,
              "#f0f921"
             ]
            ],
            "type": "contour"
           }
          ],
          "contourcarpet": [
           {
            "colorbar": {
             "outlinewidth": 0,
             "ticks": ""
            },
            "type": "contourcarpet"
           }
          ],
          "heatmap": [
           {
            "colorbar": {
             "outlinewidth": 0,
             "ticks": ""
            },
            "colorscale": [
             [
              0,
              "#0d0887"
             ],
             [
              0.1111111111111111,
              "#46039f"
             ],
             [
              0.2222222222222222,
              "#7201a8"
             ],
             [
              0.3333333333333333,
              "#9c179e"
             ],
             [
              0.4444444444444444,
              "#bd3786"
             ],
             [
              0.5555555555555556,
              "#d8576b"
             ],
             [
              0.6666666666666666,
              "#ed7953"
             ],
             [
              0.7777777777777778,
              "#fb9f3a"
             ],
             [
              0.8888888888888888,
              "#fdca26"
             ],
             [
              1,
              "#f0f921"
             ]
            ],
            "type": "heatmap"
           }
          ],
          "heatmapgl": [
           {
            "colorbar": {
             "outlinewidth": 0,
             "ticks": ""
            },
            "colorscale": [
             [
              0,
              "#0d0887"
             ],
             [
              0.1111111111111111,
              "#46039f"
             ],
             [
              0.2222222222222222,
              "#7201a8"
             ],
             [
              0.3333333333333333,
              "#9c179e"
             ],
             [
              0.4444444444444444,
              "#bd3786"
             ],
             [
              0.5555555555555556,
              "#d8576b"
             ],
             [
              0.6666666666666666,
              "#ed7953"
             ],
             [
              0.7777777777777778,
              "#fb9f3a"
             ],
             [
              0.8888888888888888,
              "#fdca26"
             ],
             [
              1,
              "#f0f921"
             ]
            ],
            "type": "heatmapgl"
           }
          ],
          "histogram": [
           {
            "marker": {
             "pattern": {
              "fillmode": "overlay",
              "size": 10,
              "solidity": 0.2
             }
            },
            "type": "histogram"
           }
          ],
          "histogram2d": [
           {
            "colorbar": {
             "outlinewidth": 0,
             "ticks": ""
            },
            "colorscale": [
             [
              0,
              "#0d0887"
             ],
             [
              0.1111111111111111,
              "#46039f"
             ],
             [
              0.2222222222222222,
              "#7201a8"
             ],
             [
              0.3333333333333333,
              "#9c179e"
             ],
             [
              0.4444444444444444,
              "#bd3786"
             ],
             [
              0.5555555555555556,
              "#d8576b"
             ],
             [
              0.6666666666666666,
              "#ed7953"
             ],
             [
              0.7777777777777778,
              "#fb9f3a"
             ],
             [
              0.8888888888888888,
              "#fdca26"
             ],
             [
              1,
              "#f0f921"
             ]
            ],
            "type": "histogram2d"
           }
          ],
          "histogram2dcontour": [
           {
            "colorbar": {
             "outlinewidth": 0,
             "ticks": ""
            },
            "colorscale": [
             [
              0,
              "#0d0887"
             ],
             [
              0.1111111111111111,
              "#46039f"
             ],
             [
              0.2222222222222222,
              "#7201a8"
             ],
             [
              0.3333333333333333,
              "#9c179e"
             ],
             [
              0.4444444444444444,
              "#bd3786"
             ],
             [
              0.5555555555555556,
              "#d8576b"
             ],
             [
              0.6666666666666666,
              "#ed7953"
             ],
             [
              0.7777777777777778,
              "#fb9f3a"
             ],
             [
              0.8888888888888888,
              "#fdca26"
             ],
             [
              1,
              "#f0f921"
             ]
            ],
            "type": "histogram2dcontour"
           }
          ],
          "mesh3d": [
           {
            "colorbar": {
             "outlinewidth": 0,
             "ticks": ""
            },
            "type": "mesh3d"
           }
          ],
          "parcoords": [
           {
            "line": {
             "colorbar": {
              "outlinewidth": 0,
              "ticks": ""
             }
            },
            "type": "parcoords"
           }
          ],
          "pie": [
           {
            "automargin": true,
            "type": "pie"
           }
          ],
          "scatter": [
           {
            "fillpattern": {
             "fillmode": "overlay",
             "size": 10,
             "solidity": 0.2
            },
            "type": "scatter"
           }
          ],
          "scatter3d": [
           {
            "line": {
             "colorbar": {
              "outlinewidth": 0,
              "ticks": ""
             }
            },
            "marker": {
             "colorbar": {
              "outlinewidth": 0,
              "ticks": ""
             }
            },
            "type": "scatter3d"
           }
          ],
          "scattercarpet": [
           {
            "marker": {
             "colorbar": {
              "outlinewidth": 0,
              "ticks": ""
             }
            },
            "type": "scattercarpet"
           }
          ],
          "scattergeo": [
           {
            "marker": {
             "colorbar": {
              "outlinewidth": 0,
              "ticks": ""
             }
            },
            "type": "scattergeo"
           }
          ],
          "scattergl": [
           {
            "marker": {
             "colorbar": {
              "outlinewidth": 0,
              "ticks": ""
             }
            },
            "type": "scattergl"
           }
          ],
          "scattermapbox": [
           {
            "marker": {
             "colorbar": {
              "outlinewidth": 0,
              "ticks": ""
             }
            },
            "type": "scattermapbox"
           }
          ],
          "scatterpolar": [
           {
            "marker": {
             "colorbar": {
              "outlinewidth": 0,
              "ticks": ""
             }
            },
            "type": "scatterpolar"
           }
          ],
          "scatterpolargl": [
           {
            "marker": {
             "colorbar": {
              "outlinewidth": 0,
              "ticks": ""
             }
            },
            "type": "scatterpolargl"
           }
          ],
          "scatterternary": [
           {
            "marker": {
             "colorbar": {
              "outlinewidth": 0,
              "ticks": ""
             }
            },
            "type": "scatterternary"
           }
          ],
          "surface": [
           {
            "colorbar": {
             "outlinewidth": 0,
             "ticks": ""
            },
            "colorscale": [
             [
              0,
              "#0d0887"
             ],
             [
              0.1111111111111111,
              "#46039f"
             ],
             [
              0.2222222222222222,
              "#7201a8"
             ],
             [
              0.3333333333333333,
              "#9c179e"
             ],
             [
              0.4444444444444444,
              "#bd3786"
             ],
             [
              0.5555555555555556,
              "#d8576b"
             ],
             [
              0.6666666666666666,
              "#ed7953"
             ],
             [
              0.7777777777777778,
              "#fb9f3a"
             ],
             [
              0.8888888888888888,
              "#fdca26"
             ],
             [
              1,
              "#f0f921"
             ]
            ],
            "type": "surface"
           }
          ],
          "table": [
           {
            "cells": {
             "fill": {
              "color": "#EBF0F8"
             },
             "line": {
              "color": "white"
             }
            },
            "header": {
             "fill": {
              "color": "#C8D4E3"
             },
             "line": {
              "color": "white"
             }
            },
            "type": "table"
           }
          ]
         },
         "layout": {
          "annotationdefaults": {
           "arrowcolor": "#2a3f5f",
           "arrowhead": 0,
           "arrowwidth": 1
          },
          "autotypenumbers": "strict",
          "coloraxis": {
           "colorbar": {
            "outlinewidth": 0,
            "ticks": ""
           }
          },
          "colorscale": {
           "diverging": [
            [
             0,
             "#8e0152"
            ],
            [
             0.1,
             "#c51b7d"
            ],
            [
             0.2,
             "#de77ae"
            ],
            [
             0.3,
             "#f1b6da"
            ],
            [
             0.4,
             "#fde0ef"
            ],
            [
             0.5,
             "#f7f7f7"
            ],
            [
             0.6,
             "#e6f5d0"
            ],
            [
             0.7,
             "#b8e186"
            ],
            [
             0.8,
             "#7fbc41"
            ],
            [
             0.9,
             "#4d9221"
            ],
            [
             1,
             "#276419"
            ]
           ],
           "sequential": [
            [
             0,
             "#0d0887"
            ],
            [
             0.1111111111111111,
             "#46039f"
            ],
            [
             0.2222222222222222,
             "#7201a8"
            ],
            [
             0.3333333333333333,
             "#9c179e"
            ],
            [
             0.4444444444444444,
             "#bd3786"
            ],
            [
             0.5555555555555556,
             "#d8576b"
            ],
            [
             0.6666666666666666,
             "#ed7953"
            ],
            [
             0.7777777777777778,
             "#fb9f3a"
            ],
            [
             0.8888888888888888,
             "#fdca26"
            ],
            [
             1,
             "#f0f921"
            ]
           ],
           "sequentialminus": [
            [
             0,
             "#0d0887"
            ],
            [
             0.1111111111111111,
             "#46039f"
            ],
            [
             0.2222222222222222,
             "#7201a8"
            ],
            [
             0.3333333333333333,
             "#9c179e"
            ],
            [
             0.4444444444444444,
             "#bd3786"
            ],
            [
             0.5555555555555556,
             "#d8576b"
            ],
            [
             0.6666666666666666,
             "#ed7953"
            ],
            [
             0.7777777777777778,
             "#fb9f3a"
            ],
            [
             0.8888888888888888,
             "#fdca26"
            ],
            [
             1,
             "#f0f921"
            ]
           ]
          },
          "colorway": [
           "#636efa",
           "#EF553B",
           "#00cc96",
           "#ab63fa",
           "#FFA15A",
           "#19d3f3",
           "#FF6692",
           "#B6E880",
           "#FF97FF",
           "#FECB52"
          ],
          "font": {
           "color": "#2a3f5f"
          },
          "geo": {
           "bgcolor": "white",
           "lakecolor": "white",
           "landcolor": "#E5ECF6",
           "showlakes": true,
           "showland": true,
           "subunitcolor": "white"
          },
          "hoverlabel": {
           "align": "left"
          },
          "hovermode": "closest",
          "mapbox": {
           "style": "light"
          },
          "paper_bgcolor": "white",
          "plot_bgcolor": "#E5ECF6",
          "polar": {
           "angularaxis": {
            "gridcolor": "white",
            "linecolor": "white",
            "ticks": ""
           },
           "bgcolor": "#E5ECF6",
           "radialaxis": {
            "gridcolor": "white",
            "linecolor": "white",
            "ticks": ""
           }
          },
          "scene": {
           "xaxis": {
            "backgroundcolor": "#E5ECF6",
            "gridcolor": "white",
            "gridwidth": 2,
            "linecolor": "white",
            "showbackground": true,
            "ticks": "",
            "zerolinecolor": "white"
           },
           "yaxis": {
            "backgroundcolor": "#E5ECF6",
            "gridcolor": "white",
            "gridwidth": 2,
            "linecolor": "white",
            "showbackground": true,
            "ticks": "",
            "zerolinecolor": "white"
           },
           "zaxis": {
            "backgroundcolor": "#E5ECF6",
            "gridcolor": "white",
            "gridwidth": 2,
            "linecolor": "white",
            "showbackground": true,
            "ticks": "",
            "zerolinecolor": "white"
           }
          },
          "shapedefaults": {
           "line": {
            "color": "#2a3f5f"
           }
          },
          "ternary": {
           "aaxis": {
            "gridcolor": "white",
            "linecolor": "white",
            "ticks": ""
           },
           "baxis": {
            "gridcolor": "white",
            "linecolor": "white",
            "ticks": ""
           },
           "bgcolor": "#E5ECF6",
           "caxis": {
            "gridcolor": "white",
            "linecolor": "white",
            "ticks": ""
           }
          },
          "title": {
           "x": 0.05
          },
          "xaxis": {
           "automargin": true,
           "gridcolor": "white",
           "linecolor": "white",
           "ticks": "",
           "title": {
            "standoff": 15
           },
           "zerolinecolor": "white",
           "zerolinewidth": 2
          },
          "yaxis": {
           "automargin": true,
           "gridcolor": "white",
           "linecolor": "white",
           "ticks": "",
           "title": {
            "standoff": 15
           },
           "zerolinecolor": "white",
           "zerolinewidth": 2
          }
         }
        },
        "title": {
         "text": "Simulación de PM10 en Lima Metropolitana: Árboles Necesarios para Niveles Meta"
        },
        "xaxis": {
         "anchor": "y",
         "domain": [
          0,
          1
         ],
         "rangeslider": {
          "visible": true
         }
        },
        "xaxis2": {
         "anchor": "y2",
         "domain": [
          0,
          1
         ]
        },
        "yaxis": {
         "anchor": "x",
         "domain": [
          0.625,
          1
         ]
        },
        "yaxis2": {
         "anchor": "x2",
         "domain": [
          0,
          0.375
         ]
        }
       }
      }
     },
     "metadata": {},
     "output_type": "display_data"
    }
   ],
   "source": [
    "#5. Función para procesar resultados\n",
    "def procesar_resultados(pred_base, pred_arboles, arboles_acum, etiqueta):\n",
    "    resultados = []\n",
    "    for año in range(2025, 2036):\n",
    "        mask_año = df_prediccion['AÑO'] == año\n",
    "        pm10_sin_arboles = np.mean(pred_base[mask_año])\n",
    "        pm10_con_arboles = np.mean(pred_arboles[mask_año])\n",
    "        \n",
    "        # Calcular márgenes de error\n",
    "        error_sin_arboles = pm10_sin_arboles * margen_error\n",
    "        error_con_arboles = pm10_con_arboles * margen_error\n",
    "        \n",
    "        resultados.append({\n",
    "            'Año': año,\n",
    "            'PM10_Sin_Arboles': pm10_sin_arboles,\n",
    "            'PM10_Sin_Arboles_Min': pm10_sin_arboles - error_sin_arboles,\n",
    "            'PM10_Sin_Arboles_Max': pm10_sin_arboles + error_sin_arboles,\n",
    "            'PM10_Con_Arboles': pm10_con_arboles,\n",
    "            'PM10_Con_Arboles_Min': pm10_con_arboles - error_con_arboles,\n",
    "            'PM10_Con_Arboles_Max': pm10_con_arboles + error_con_arboles,\n",
    "            'Reduccion': pm10_sin_arboles - pm10_con_arboles,\n",
    "            'Arboles_Acumulados': arboles_acum[año],\n",
    "            'Etiqueta': etiqueta\n",
    "        })\n",
    "    return pd.DataFrame(resultados)\n",
    "\n",
    "# Procesar resultados para cada escenario\n",
    "resultados_actual = procesar_resultados(pred_base, pred_arboles_actual, arboles_actual, 'Actual')\n",
    "resultados_objetivo_max = procesar_resultados(pred_base, pred_arboles_objetivo_max, arboles_objetivo_max, f'Para nivel {NIVEL_OBJETIVO_MAX}')\n",
    "resultados_objetivo_min = procesar_resultados(pred_base, pred_arboles_objetivo_min, arboles_objetivo_min, f'Para nivel {NIVEL_OBJETIVO_MIN}')\n",
    "\n",
    "# Combinar resultados\n",
    "resultados_df = pd.concat([resultados_actual, resultados_objetivo_max, resultados_objetivo_min])\n",
    "\n",
    "# Añadir líneas de predicción sin árboles\n",
    "fig.add_trace(\n",
    "    go.Scatter(x=resultados_actual['Año'],\n",
    "               y=resultados_actual['PM10_Sin_Arboles'],\n",
    "               name='Proyección sin árboles',\n",
    "               line=dict(color='red')),\n",
    "    row=1, col=1\n",
    ")\n",
    "\n",
    "# Añadir banda de error para proyección sin árboles\n",
    "fig.add_trace(\n",
    "    go.Scatter(\n",
    "        x=resultados_actual['Año'].tolist() + resultados_actual['Año'].tolist()[::-1],\n",
    "        y=resultados_actual['PM10_Sin_Arboles_Max'].tolist() + resultados_actual['PM10_Sin_Arboles_Min'].tolist()[::-1],\n",
    "        fill='toself',\n",
    "        fillcolor='rgba(255,0,0,0.2)',\n",
    "        line=dict(color='rgba(255,0,0,0)'),\n",
    "        name='Margen de error sin árboles',\n",
    "        showlegend=True\n",
    "    ),\n",
    "    row=1, col=1\n",
    ")\n",
    "\n",
    "# Añadir líneas para cada escenario\n",
    "colores = {\n",
    "    'Actual': 'green',\n",
    "    f'Para nivel {NIVEL_OBJETIVO_MAX}': 'blue',\n",
    "    f'Para nivel {NIVEL_OBJETIVO_MIN}': 'purple'\n",
    "}\n",
    "\n",
    "for etiqueta, color in colores.items():\n",
    "    datos = resultados_df[resultados_df['Etiqueta'] == etiqueta]\n",
    "    fig.add_trace(\n",
    "        go.Scatter(x=datos['Año'],\n",
    "                y=datos['PM10_Con_Arboles'],\n",
    "                name=f'PM10 con árboles ({etiqueta})',\n",
    "                line=dict(color=color)),\n",
    "        row=1, col=1\n",
    "    )\n",
    "    \n",
    "    # Añadir árboles acumulados en el segundo gráfico\n",
    "    fig.add_trace(\n",
    "        go.Bar(x=datos['Año'],\n",
    "            y=datos['Arboles_Acumulados'],\n",
    "            name=f'Árboles acumulados ({etiqueta})',\n",
    "            marker_color=color),\n",
    "        row=2, col=1\n",
    "    )\n",
    "\n",
    "# Añadir líneas de referencia para niveles objetivo\n",
    "fig.add_hline(y=NIVEL_OBJETIVO_MAX, line_dash=\"dot\", line_color=\"blue\",\n",
    "              annotation_text=f\"Nivel objetivo max: {NIVEL_OBJETIVO_MAX}\", row=1, col=1)\n",
    "fig.add_hline(y=NIVEL_OBJETIVO_MIN, line_dash=\"dot\", line_color=\"purple\",\n",
    "              annotation_text=f\"Nivel objetivo min: {NIVEL_OBJETIVO_MIN}\", row=1, col=1)\n",
    "\n",
    "# Añadir líneas de referencia para categorías de calidad del aire\n",
    "categorias = {\n",
    "    'Buena': 54,\n",
    "    'Moderada': 154\n",
    "}\n",
    "\n",
    "for categoria, valor in categorias.items():\n",
    "    fig.add_hline(y=valor, line_dash=\"dash\", line_color=\"gray\",\n",
    "                  annotation_text=categoria, row=1, col=1)\n",
    "\n",
    "# Actualizar diseño\n",
    "fig.update_layout(\n",
    "    title='Simulación de PM10 en Lima Metropolitana: Árboles Necesarios para Niveles Meta',\n",
    "    height=800,\n",
    "    showlegend=True,\n",
    "    xaxis=dict(rangeslider=dict(visible=True))\n",
    ")\n",
    "\n",
    "fig.show()"
   ]
  },
  {
   "cell_type": "code",
   "execution_count": null,
   "metadata": {},
   "outputs": [
    {
     "name": "stdout",
     "output_type": "stream",
     "text": [
      "\n",
      "Estadísticas de la simulación:\n",
      "\n",
      "Promedio actual de árboles plantados por año (SERPAR): 119,242\n",
      "Árboles anuales necesarios para nivel PM10 de 40.5 µg/m³: 1,945,135\n",
      "Árboles anuales necesarios para nivel PM10 de 27 µg/m³: 5,414,332\n",
      "Tasa de supervivencia considerada: 70.0%\n",
      "Margen de error considerado: ±5.0%\n",
      "\n",
      "Reducción de concentración por árbol: 0.00000051 µg/m³\n",
      "\n",
      "=== Escenario actual ===\n",
      "\n",
      "Año 2025:\n",
      "Árboles acumulados: 83,469\n",
      "Reducción promedio: 0.04 µg/m³\n",
      "PM10 sin árboles: 47.65 µg/m³ (±2.38)\n",
      "PM10 con árboles: 47.61 µg/m³ (±2.38)\n",
      "\n",
      "Año 2026:\n",
      "Árboles acumulados: 166,938\n",
      "Reducción promedio: 0.08 µg/m³\n",
      "PM10 sin árboles: 47.40 µg/m³ (±2.37)\n",
      "PM10 con árboles: 47.31 µg/m³ (±2.37)\n",
      "\n",
      "Año 2027:\n",
      "Árboles acumulados: 250,408\n",
      "Reducción promedio: 0.13 µg/m³\n",
      "PM10 sin árboles: 47.33 µg/m³ (±2.37)\n",
      "PM10 con árboles: 47.21 µg/m³ (±2.36)\n",
      "\n",
      "Año 2028:\n",
      "Árboles acumulados: 333,877\n",
      "Reducción promedio: 0.17 µg/m³\n",
      "PM10 sin árboles: 48.26 µg/m³ (±2.41)\n",
      "PM10 con árboles: 48.09 µg/m³ (±2.40)\n",
      "\n",
      "Año 2029:\n",
      "Árboles acumulados: 417,347\n",
      "Reducción promedio: 0.21 µg/m³\n",
      "PM10 sin árboles: 48.00 µg/m³ (±2.40)\n",
      "PM10 con árboles: 47.79 µg/m³ (±2.39)\n",
      "\n",
      "Año 2030:\n",
      "Árboles acumulados: 500,816\n",
      "Reducción promedio: 0.25 µg/m³\n",
      "PM10 sin árboles: 47.77 µg/m³ (±2.39)\n",
      "PM10 con árboles: 47.51 µg/m³ (±2.38)\n",
      "\n",
      "Año 2031:\n",
      "Árboles acumulados: 584,285\n",
      "Reducción promedio: 0.30 µg/m³\n",
      "PM10 sin árboles: 47.65 µg/m³ (±2.38)\n",
      "PM10 con árboles: 47.36 µg/m³ (±2.37)\n",
      "\n",
      "Año 2032:\n",
      "Árboles acumulados: 667,755\n",
      "Reducción promedio: 0.34 µg/m³\n",
      "PM10 sin árboles: 47.27 µg/m³ (±2.36)\n",
      "PM10 con árboles: 46.93 µg/m³ (±2.35)\n",
      "\n",
      "Año 2033:\n",
      "Árboles acumulados: 751,224\n",
      "Reducción promedio: 0.38 µg/m³\n",
      "PM10 sin árboles: 47.77 µg/m³ (±2.39)\n",
      "PM10 con árboles: 47.39 µg/m³ (±2.37)\n",
      "\n",
      "Año 2034:\n",
      "Árboles acumulados: 834,694\n",
      "Reducción promedio: 0.42 µg/m³\n",
      "PM10 sin árboles: 47.89 µg/m³ (±2.39)\n",
      "PM10 con árboles: 47.46 µg/m³ (±2.37)\n",
      "\n",
      "Año 2035:\n",
      "Árboles acumulados: 918,163\n",
      "Reducción promedio: 0.47 µg/m³\n",
      "PM10 sin árboles: 48.00 µg/m³ (±2.40)\n",
      "PM10 con árboles: 47.53 µg/m³ (±2.38)\n",
      "\n",
      "=== Escenario para nivel 40.5 ===\n",
      "\n",
      "Año 2025:\n",
      "Árboles acumulados: 1,361,594\n",
      "Reducción promedio: 0.69 µg/m³\n",
      "PM10 sin árboles: 47.65 µg/m³ (±2.38)\n",
      "PM10 con árboles: 46.96 µg/m³ (±2.35)\n",
      "\n",
      "Año 2026:\n",
      "Árboles acumulados: 2,723,189\n",
      "Reducción promedio: 1.38 µg/m³\n",
      "PM10 sin árboles: 47.40 µg/m³ (±2.37)\n",
      "PM10 con árboles: 46.01 µg/m³ (±2.30)\n",
      "\n",
      "Año 2027:\n",
      "Árboles acumulados: 4,084,783\n",
      "Reducción promedio: 2.07 µg/m³\n",
      "PM10 sin árboles: 47.33 µg/m³ (±2.37)\n",
      "PM10 con árboles: 45.26 µg/m³ (±2.26)\n",
      "\n",
      "Año 2028:\n",
      "Árboles acumulados: 5,446,378\n",
      "Reducción promedio: 2.76 µg/m³\n",
      "PM10 sin árboles: 48.26 µg/m³ (±2.41)\n",
      "PM10 con árboles: 45.50 µg/m³ (±2.27)\n",
      "\n",
      "Año 2029:\n",
      "Árboles acumulados: 6,807,972\n",
      "Reducción promedio: 3.45 µg/m³\n",
      "PM10 sin árboles: 48.00 µg/m³ (±2.40)\n",
      "PM10 con árboles: 44.55 µg/m³ (±2.23)\n",
      "\n",
      "Año 2030:\n",
      "Árboles acumulados: 8,169,567\n",
      "Reducción promedio: 4.14 µg/m³\n",
      "PM10 sin árboles: 47.77 µg/m³ (±2.39)\n",
      "PM10 con árboles: 43.63 µg/m³ (±2.18)\n",
      "\n",
      "Año 2031:\n",
      "Árboles acumulados: 9,531,161\n",
      "Reducción promedio: 4.83 µg/m³\n",
      "PM10 sin árboles: 47.65 µg/m³ (±2.38)\n",
      "PM10 con árboles: 42.82 µg/m³ (±2.14)\n",
      "\n",
      "Año 2032:\n",
      "Árboles acumulados: 10,892,756\n",
      "Reducción promedio: 5.52 µg/m³\n",
      "PM10 sin árboles: 47.27 µg/m³ (±2.36)\n",
      "PM10 con árboles: 41.75 µg/m³ (±2.09)\n",
      "\n",
      "Año 2033:\n",
      "Árboles acumulados: 12,254,350\n",
      "Reducción promedio: 6.21 µg/m³\n",
      "PM10 sin árboles: 47.77 µg/m³ (±2.39)\n",
      "PM10 con árboles: 41.55 µg/m³ (±2.08)\n",
      "\n",
      "Año 2034:\n",
      "Árboles acumulados: 13,615,945\n",
      "Reducción promedio: 6.90 µg/m³\n",
      "PM10 sin árboles: 47.89 µg/m³ (±2.39)\n",
      "PM10 con árboles: 40.98 µg/m³ (±2.05)\n",
      "\n",
      "Año 2035:\n",
      "Árboles acumulados: 14,977,539\n",
      "Reducción promedio: 7.59 µg/m³\n",
      "PM10 sin árboles: 48.00 µg/m³ (±2.40)\n",
      "PM10 con árboles: 40.40 µg/m³ (±2.02)\n",
      "\n",
      "=== Escenario para nivel 27 ===\n",
      "\n",
      "Año 2025:\n",
      "Árboles acumulados: 3,790,032\n",
      "Reducción promedio: 1.92 µg/m³\n",
      "PM10 sin árboles: 47.65 µg/m³ (±2.38)\n",
      "PM10 con árboles: 45.73 µg/m³ (±2.29)\n",
      "\n",
      "Año 2026:\n",
      "Árboles acumulados: 7,580,064\n",
      "Reducción promedio: 3.84 µg/m³\n",
      "PM10 sin árboles: 47.40 µg/m³ (±2.37)\n",
      "PM10 con árboles: 43.55 µg/m³ (±2.18)\n",
      "\n",
      "Año 2027:\n",
      "Árboles acumulados: 11,370,097\n",
      "Reducción promedio: 5.77 µg/m³\n",
      "PM10 sin árboles: 47.33 µg/m³ (±2.37)\n",
      "PM10 con árboles: 41.57 µg/m³ (±2.08)\n",
      "\n",
      "Año 2028:\n",
      "Árboles acumulados: 15,160,129\n",
      "Reducción promedio: 7.69 µg/m³\n",
      "PM10 sin árboles: 48.26 µg/m³ (±2.41)\n",
      "PM10 con árboles: 40.57 µg/m³ (±2.03)\n",
      "\n",
      "Año 2029:\n",
      "Árboles acumulados: 18,950,162\n",
      "Reducción promedio: 9.61 µg/m³\n",
      "PM10 sin árboles: 48.00 µg/m³ (±2.40)\n",
      "PM10 con árboles: 38.39 µg/m³ (±1.92)\n",
      "\n",
      "Año 2030:\n",
      "Árboles acumulados: 22,740,194\n",
      "Reducción promedio: 11.53 µg/m³\n",
      "PM10 sin árboles: 47.77 µg/m³ (±2.39)\n",
      "PM10 con árboles: 36.24 µg/m³ (±1.81)\n",
      "\n",
      "Año 2031:\n",
      "Árboles acumulados: 26,530,226\n",
      "Reducción promedio: 13.45 µg/m³\n",
      "PM10 sin árboles: 47.65 µg/m³ (±2.38)\n",
      "PM10 con árboles: 34.21 µg/m³ (±1.71)\n",
      "\n",
      "Año 2032:\n",
      "Árboles acumulados: 30,320,259\n",
      "Reducción promedio: 15.37 µg/m³\n",
      "PM10 sin árboles: 47.27 µg/m³ (±2.36)\n",
      "PM10 con árboles: 31.90 µg/m³ (±1.59)\n",
      "\n",
      "Año 2033:\n",
      "Árboles acumulados: 34,110,291\n",
      "Reducción promedio: 17.27 µg/m³\n",
      "PM10 sin árboles: 47.77 µg/m³ (±2.39)\n",
      "PM10 con árboles: 30.50 µg/m³ (±1.52)\n",
      "\n",
      "Año 2034:\n",
      "Árboles acumulados: 37,900,324\n",
      "Reducción promedio: 19.14 µg/m³\n",
      "PM10 sin árboles: 47.89 µg/m³ (±2.39)\n",
      "PM10 con árboles: 28.74 µg/m³ (±1.44)\n",
      "\n",
      "Año 2035:\n",
      "Árboles acumulados: 41,690,356\n",
      "Reducción promedio: 21.03 µg/m³\n",
      "PM10 sin árboles: 48.00 µg/m³ (±2.40)\n",
      "PM10 con árboles: 26.97 µg/m³ (±1.35)\n"
     ]
    }
   ],
   "source": [
    "#6. Imprimir estadísticas con margen de error\n",
    "print(\"\\nEstadísticas de la simulación:\")\n",
    "print(f\"\\nPromedio actual de árboles plantados por año (SERPAR): {int(ARBOLES_PROMEDIO):,}\")\n",
    "print(f\"Árboles anuales necesarios para nivel PM10 de {NIVEL_OBJETIVO_MAX} µg/m³: {arboles_para_nivel_max:,}\")\n",
    "print(f\"Árboles anuales necesarios para nivel PM10 de {NIVEL_OBJETIVO_MIN} µg/m³: {arboles_para_nivel_min:,}\")\n",
    "print(f\"Tasa de supervivencia considerada: {TASA_SUPERVIVENCIA*100}%\")\n",
    "print(f\"Margen de error considerado: ±{margen_error*100}%\")\n",
    "\n",
    "# Calcular la reducción por árbol para referencia\n",
    "reduccion_por_arbol = calcular_reduccion_por_arbol()\n",
    "print(f\"\\nReducción de concentración por árbol: {reduccion_por_arbol:.8f} µg/m³\")\n",
    "\n",
    "# Imprimir resultados por escenario\n",
    "for etiqueta, resultados in [('Escenario actual', resultados_actual), \n",
    "                            (f'Escenario para nivel {NIVEL_OBJETIVO_MAX}', resultados_objetivo_max),\n",
    "                            (f'Escenario para nivel {NIVEL_OBJETIVO_MIN}', resultados_objetivo_min)]:\n",
    "    print(f\"\\n=== {etiqueta} ===\")\n",
    "    for _, row in resultados.iterrows():\n",
    "        print(f\"\\nAño {int(row['Año'])}:\")\n",
    "        print(f\"Árboles acumulados: {int(row['Arboles_Acumulados']):,}\")\n",
    "        print(f\"Reducción promedio: {row['Reduccion']:.2f} µg/m³\")\n",
    "        print(f\"PM10 sin árboles: {row['PM10_Sin_Arboles']:.2f} µg/m³ (±{row['PM10_Sin_Arboles']*margen_error:.2f})\")\n",
    "        print(f\"PM10 con árboles: {row['PM10_Con_Arboles']:.2f} µg/m³ (±{row['PM10_Con_Arboles']*margen_error:.2f})\")"
   ]
  },
  {
   "cell_type": "code",
   "execution_count": null,
   "metadata": {},
   "outputs": [],
   "source": []
  }
 ],
 "metadata": {
  "kernelspec": {
   "display_name": "Python 3",
   "language": "python",
   "name": "python3"
  },
  "language_info": {
   "codemirror_mode": {
    "name": "ipython",
    "version": 3
   },
   "file_extension": ".py",
   "mimetype": "text/x-python",
   "name": "python",
   "nbconvert_exporter": "python",
   "pygments_lexer": "ipython3",
   "version": "3.12.8"
  }
 },
 "nbformat": 4,
 "nbformat_minor": 2
}
