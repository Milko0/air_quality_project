{
 "cells": [
  {
   "cell_type": "markdown",
   "metadata": {},
   "source": [
    "### 1. Importar librerías"
   ]
  },
  {
   "cell_type": "code",
   "execution_count": 1,
   "metadata": {},
   "outputs": [],
   "source": [
    "import pandas as pd\n",
    "import numpy as np\n",
    "import plotly.graph_objects as go\n",
    "from plotly.subplots import make_subplots\n",
    "import joblib"
   ]
  },
  {
   "cell_type": "markdown",
   "metadata": {},
   "source": [
    "### 2. Cargar modelo"
   ]
  },
  {
   "cell_type": "code",
   "execution_count": 2,
   "metadata": {},
   "outputs": [
    {
     "name": "stderr",
     "output_type": "stream",
     "text": [
      "<>:2: SyntaxWarning: invalid escape sequence '\\p'\n",
      "<>:5: SyntaxWarning: invalid escape sequence '\\p'\n",
      "<>:2: SyntaxWarning: invalid escape sequence '\\p'\n",
      "<>:5: SyntaxWarning: invalid escape sequence '\\p'\n",
      "C:\\Users\\marli\\AppData\\Local\\Temp\\ipykernel_3104\\3207324733.py:2: SyntaxWarning: invalid escape sequence '\\p'\n",
      "  modelo = joblib.load(\"..\\prediccion_reforestacion\\modelo\\modelo_hibrido_0.9269.pkl\")\n",
      "C:\\Users\\marli\\AppData\\Local\\Temp\\ipykernel_3104\\3207324733.py:5: SyntaxWarning: invalid escape sequence '\\p'\n",
      "  df_original = pd.read_csv('..\\prediccion_reforestacion\\data\\data_monitoreo_contaminantes_filtrado_best.csv')\n",
      "c:\\Users\\marli\\AppData\\Local\\Programs\\Python\\Python312\\Lib\\site-packages\\sklearn\\base.py:380: InconsistentVersionWarning: Trying to unpickle estimator OneHotEncoder from version 1.2.0 when using version 1.6.1. This might lead to breaking code or invalid results. Use at your own risk. For more info please refer to:\n",
      "https://scikit-learn.org/stable/model_persistence.html#security-maintainability-limitations\n",
      "  warnings.warn(\n",
      "c:\\Users\\marli\\AppData\\Local\\Programs\\Python\\Python312\\Lib\\site-packages\\sklearn\\base.py:380: InconsistentVersionWarning: Trying to unpickle estimator StandardScaler from version 1.2.0 when using version 1.6.1. This might lead to breaking code or invalid results. Use at your own risk. For more info please refer to:\n",
      "https://scikit-learn.org/stable/model_persistence.html#security-maintainability-limitations\n",
      "  warnings.warn(\n",
      "c:\\Users\\marli\\AppData\\Local\\Programs\\Python\\Python312\\Lib\\site-packages\\sklearn\\base.py:380: InconsistentVersionWarning: Trying to unpickle estimator ColumnTransformer from version 1.2.0 when using version 1.6.1. This might lead to breaking code or invalid results. Use at your own risk. For more info please refer to:\n",
      "https://scikit-learn.org/stable/model_persistence.html#security-maintainability-limitations\n",
      "  warnings.warn(\n",
      "c:\\Users\\marli\\AppData\\Local\\Programs\\Python\\Python312\\Lib\\site-packages\\sklearn\\base.py:380: InconsistentVersionWarning: Trying to unpickle estimator DecisionTreeRegressor from version 1.2.0 when using version 1.6.1. This might lead to breaking code or invalid results. Use at your own risk. For more info please refer to:\n",
      "https://scikit-learn.org/stable/model_persistence.html#security-maintainability-limitations\n",
      "  warnings.warn(\n",
      "c:\\Users\\marli\\AppData\\Local\\Programs\\Python\\Python312\\Lib\\site-packages\\sklearn\\base.py:380: InconsistentVersionWarning: Trying to unpickle estimator RandomForestRegressor from version 1.2.0 when using version 1.6.1. This might lead to breaking code or invalid results. Use at your own risk. For more info please refer to:\n",
      "https://scikit-learn.org/stable/model_persistence.html#security-maintainability-limitations\n",
      "  warnings.warn(\n",
      "c:\\Users\\marli\\AppData\\Local\\Programs\\Python\\Python312\\Lib\\site-packages\\sklearn\\base.py:380: InconsistentVersionWarning: Trying to unpickle estimator GradientBoostingRegressor from version 1.2.0 when using version 1.6.1. This might lead to breaking code or invalid results. Use at your own risk. For more info please refer to:\n",
      "https://scikit-learn.org/stable/model_persistence.html#security-maintainability-limitations\n",
      "  warnings.warn(\n",
      "C:\\Users\\marli\\AppData\\Local\\Temp\\ipykernel_3104\\3207324733.py:2: SyntaxWarning: invalid escape sequence '\\p'\n",
      "  modelo = joblib.load(\"..\\prediccion_reforestacion\\modelo\\modelo_hibrido_0.9269.pkl\")\n",
      "C:\\Users\\marli\\AppData\\Local\\Temp\\ipykernel_3104\\3207324733.py:5: SyntaxWarning: invalid escape sequence '\\p'\n",
      "  df_original = pd.read_csv('..\\prediccion_reforestacion\\data\\data_monitoreo_contaminantes_filtrado_best.csv')\n"
     ]
    },
    {
     "ename": "ValueError",
     "evalue": "node array from the pickle has an incompatible dtype:\n- expected: {'names': ['left_child', 'right_child', 'feature', 'threshold', 'impurity', 'n_node_samples', 'weighted_n_node_samples', 'missing_go_to_left'], 'formats': ['<i8', '<i8', '<i8', '<f8', '<f8', '<i8', '<f8', 'u1'], 'offsets': [0, 8, 16, 24, 32, 40, 48, 56], 'itemsize': 64}\n- got     : [('left_child', '<i8'), ('right_child', '<i8'), ('feature', '<i8'), ('threshold', '<f8'), ('impurity', '<f8'), ('n_node_samples', '<i8'), ('weighted_n_node_samples', '<f8')]",
     "output_type": "error",
     "traceback": [
      "\u001b[31m---------------------------------------------------------------------------\u001b[39m",
      "\u001b[31mValueError\u001b[39m                                Traceback (most recent call last)",
      "\u001b[36mCell\u001b[39m\u001b[36m \u001b[39m\u001b[32mIn[2]\u001b[39m\u001b[32m, line 2\u001b[39m\n\u001b[32m      1\u001b[39m \u001b[38;5;66;03m# Cargar el modelo guardado\u001b[39;00m\n\u001b[32m----> \u001b[39m\u001b[32m2\u001b[39m modelo = \u001b[43mjoblib\u001b[49m\u001b[43m.\u001b[49m\u001b[43mload\u001b[49m\u001b[43m(\u001b[49m\u001b[33;43m\"\u001b[39;49m\u001b[33;43m..\u001b[39;49m\u001b[33;43m\\\u001b[39;49m\u001b[33;43mprediccion_reforestacion\u001b[39;49m\u001b[33;43m\\\u001b[39;49m\u001b[33;43mmodelo\u001b[39;49m\u001b[33;43m\\\u001b[39;49m\u001b[33;43mmodelo_hibrido_0.9269.pkl\u001b[39;49m\u001b[33;43m\"\u001b[39;49m\u001b[43m)\u001b[49m\n\u001b[32m      4\u001b[39m \u001b[38;5;66;03m# Cargar los datos originales para obtener todas las estaciones y distritos\u001b[39;00m\n\u001b[32m      5\u001b[39m df_original = pd.read_csv(\u001b[33m'\u001b[39m\u001b[33m..\u001b[39m\u001b[33m\\\u001b[39m\u001b[33mprediccion_reforestacion\u001b[39m\u001b[33m\\\u001b[39m\u001b[33mdata\u001b[39m\u001b[33m\\\u001b[39m\u001b[33mdata_monitoreo_contaminantes_filtrado_best.csv\u001b[39m\u001b[33m'\u001b[39m)\n",
      "\u001b[36mFile \u001b[39m\u001b[32mc:\\Users\\marli\\AppData\\Local\\Programs\\Python\\Python312\\Lib\\site-packages\\joblib\\numpy_pickle.py:658\u001b[39m, in \u001b[36mload\u001b[39m\u001b[34m(filename, mmap_mode)\u001b[39m\n\u001b[32m    652\u001b[39m             \u001b[38;5;28;01mif\u001b[39;00m \u001b[38;5;28misinstance\u001b[39m(fobj, \u001b[38;5;28mstr\u001b[39m):\n\u001b[32m    653\u001b[39m                 \u001b[38;5;66;03m# if the returned file object is a string, this means we\u001b[39;00m\n\u001b[32m    654\u001b[39m                 \u001b[38;5;66;03m# try to load a pickle file generated with an version of\u001b[39;00m\n\u001b[32m    655\u001b[39m                 \u001b[38;5;66;03m# Joblib so we load it with joblib compatibility function.\u001b[39;00m\n\u001b[32m    656\u001b[39m                 \u001b[38;5;28;01mreturn\u001b[39;00m load_compatibility(fobj)\n\u001b[32m--> \u001b[39m\u001b[32m658\u001b[39m             obj = \u001b[43m_unpickle\u001b[49m\u001b[43m(\u001b[49m\u001b[43mfobj\u001b[49m\u001b[43m,\u001b[49m\u001b[43m \u001b[49m\u001b[43mfilename\u001b[49m\u001b[43m,\u001b[49m\u001b[43m \u001b[49m\u001b[43mmmap_mode\u001b[49m\u001b[43m)\u001b[49m\n\u001b[32m    659\u001b[39m \u001b[38;5;28;01mreturn\u001b[39;00m obj\n",
      "\u001b[36mFile \u001b[39m\u001b[32mc:\\Users\\marli\\AppData\\Local\\Programs\\Python\\Python312\\Lib\\site-packages\\joblib\\numpy_pickle.py:577\u001b[39m, in \u001b[36m_unpickle\u001b[39m\u001b[34m(fobj, filename, mmap_mode)\u001b[39m\n\u001b[32m    575\u001b[39m obj = \u001b[38;5;28;01mNone\u001b[39;00m\n\u001b[32m    576\u001b[39m \u001b[38;5;28;01mtry\u001b[39;00m:\n\u001b[32m--> \u001b[39m\u001b[32m577\u001b[39m     obj = \u001b[43munpickler\u001b[49m\u001b[43m.\u001b[49m\u001b[43mload\u001b[49m\u001b[43m(\u001b[49m\u001b[43m)\u001b[49m\n\u001b[32m    578\u001b[39m     \u001b[38;5;28;01mif\u001b[39;00m unpickler.compat_mode:\n\u001b[32m    579\u001b[39m         warnings.warn(\u001b[33m\"\u001b[39m\u001b[33mThe file \u001b[39m\u001b[33m'\u001b[39m\u001b[38;5;132;01m%s\u001b[39;00m\u001b[33m'\u001b[39m\u001b[33m has been generated with a \u001b[39m\u001b[33m\"\u001b[39m\n\u001b[32m    580\u001b[39m                       \u001b[33m\"\u001b[39m\u001b[33mjoblib version less than 0.10. \u001b[39m\u001b[33m\"\u001b[39m\n\u001b[32m    581\u001b[39m                       \u001b[33m\"\u001b[39m\u001b[33mPlease regenerate this pickle file.\u001b[39m\u001b[33m\"\u001b[39m\n\u001b[32m    582\u001b[39m                       % filename,\n\u001b[32m    583\u001b[39m                       \u001b[38;5;167;01mDeprecationWarning\u001b[39;00m, stacklevel=\u001b[32m3\u001b[39m)\n",
      "\u001b[36mFile \u001b[39m\u001b[32mc:\\Users\\marli\\AppData\\Local\\Programs\\Python\\Python312\\Lib\\pickle.py:1256\u001b[39m, in \u001b[36m_Unpickler.load\u001b[39m\u001b[34m(self)\u001b[39m\n\u001b[32m   1254\u001b[39m             \u001b[38;5;28;01mraise\u001b[39;00m \u001b[38;5;167;01mEOFError\u001b[39;00m\n\u001b[32m   1255\u001b[39m         \u001b[38;5;28;01massert\u001b[39;00m \u001b[38;5;28misinstance\u001b[39m(key, bytes_types)\n\u001b[32m-> \u001b[39m\u001b[32m1256\u001b[39m         \u001b[43mdispatch\u001b[49m\u001b[43m[\u001b[49m\u001b[43mkey\u001b[49m\u001b[43m[\u001b[49m\u001b[32;43m0\u001b[39;49m\u001b[43m]\u001b[49m\u001b[43m]\u001b[49m\u001b[43m(\u001b[49m\u001b[38;5;28;43mself\u001b[39;49m\u001b[43m)\u001b[49m\n\u001b[32m   1257\u001b[39m \u001b[38;5;28;01mexcept\u001b[39;00m _Stop \u001b[38;5;28;01mas\u001b[39;00m stopinst:\n\u001b[32m   1258\u001b[39m     \u001b[38;5;28;01mreturn\u001b[39;00m stopinst.value\n",
      "\u001b[36mFile \u001b[39m\u001b[32mc:\\Users\\marli\\AppData\\Local\\Programs\\Python\\Python312\\Lib\\site-packages\\joblib\\numpy_pickle.py:402\u001b[39m, in \u001b[36mNumpyUnpickler.load_build\u001b[39m\u001b[34m(self)\u001b[39m\n\u001b[32m    394\u001b[39m \u001b[38;5;28;01mdef\u001b[39;00m\u001b[38;5;250m \u001b[39m\u001b[34mload_build\u001b[39m(\u001b[38;5;28mself\u001b[39m):\n\u001b[32m    395\u001b[39m \u001b[38;5;250m    \u001b[39m\u001b[33;03m\"\"\"Called to set the state of a newly created object.\u001b[39;00m\n\u001b[32m    396\u001b[39m \n\u001b[32m    397\u001b[39m \u001b[33;03m    We capture it to replace our place-holder objects, NDArrayWrapper or\u001b[39;00m\n\u001b[32m   (...)\u001b[39m\u001b[32m    400\u001b[39m \u001b[33;03m    NDArrayWrapper is used for backward compatibility with joblib <= 0.9.\u001b[39;00m\n\u001b[32m    401\u001b[39m \u001b[33;03m    \"\"\"\u001b[39;00m\n\u001b[32m--> \u001b[39m\u001b[32m402\u001b[39m     \u001b[43mUnpickler\u001b[49m\u001b[43m.\u001b[49m\u001b[43mload_build\u001b[49m\u001b[43m(\u001b[49m\u001b[38;5;28;43mself\u001b[39;49m\u001b[43m)\u001b[49m\n\u001b[32m    404\u001b[39m     \u001b[38;5;66;03m# For backward compatibility, we support NDArrayWrapper objects.\u001b[39;00m\n\u001b[32m    405\u001b[39m     \u001b[38;5;28;01mif\u001b[39;00m \u001b[38;5;28misinstance\u001b[39m(\u001b[38;5;28mself\u001b[39m.stack[-\u001b[32m1\u001b[39m], (NDArrayWrapper, NumpyArrayWrapper)):\n",
      "\u001b[36mFile \u001b[39m\u001b[32mc:\\Users\\marli\\AppData\\Local\\Programs\\Python\\Python312\\Lib\\pickle.py:1760\u001b[39m, in \u001b[36m_Unpickler.load_build\u001b[39m\u001b[34m(self)\u001b[39m\n\u001b[32m   1758\u001b[39m setstate = \u001b[38;5;28mgetattr\u001b[39m(inst, \u001b[33m\"\u001b[39m\u001b[33m__setstate__\u001b[39m\u001b[33m\"\u001b[39m, \u001b[38;5;28;01mNone\u001b[39;00m)\n\u001b[32m   1759\u001b[39m \u001b[38;5;28;01mif\u001b[39;00m setstate \u001b[38;5;129;01mis\u001b[39;00m \u001b[38;5;129;01mnot\u001b[39;00m \u001b[38;5;28;01mNone\u001b[39;00m:\n\u001b[32m-> \u001b[39m\u001b[32m1760\u001b[39m     \u001b[43msetstate\u001b[49m\u001b[43m(\u001b[49m\u001b[43mstate\u001b[49m\u001b[43m)\u001b[49m\n\u001b[32m   1761\u001b[39m     \u001b[38;5;28;01mreturn\u001b[39;00m\n\u001b[32m   1762\u001b[39m slotstate = \u001b[38;5;28;01mNone\u001b[39;00m\n",
      "\u001b[36mFile \u001b[39m\u001b[32m_tree.pyx:848\u001b[39m, in \u001b[36msklearn.tree._tree.Tree.__setstate__\u001b[39m\u001b[34m()\u001b[39m\n",
      "\u001b[36mFile \u001b[39m\u001b[32m_tree.pyx:1554\u001b[39m, in \u001b[36msklearn.tree._tree._check_node_ndarray\u001b[39m\u001b[34m()\u001b[39m\n",
      "\u001b[31mValueError\u001b[39m: node array from the pickle has an incompatible dtype:\n- expected: {'names': ['left_child', 'right_child', 'feature', 'threshold', 'impurity', 'n_node_samples', 'weighted_n_node_samples', 'missing_go_to_left'], 'formats': ['<i8', '<i8', '<i8', '<f8', '<f8', '<i8', '<f8', 'u1'], 'offsets': [0, 8, 16, 24, 32, 40, 48, 56], 'itemsize': 64}\n- got     : [('left_child', '<i8'), ('right_child', '<i8'), ('feature', '<i8'), ('threshold', '<f8'), ('impurity', '<f8'), ('n_node_samples', '<i8'), ('weighted_n_node_samples', '<f8')]"
     ]
    }
   ],
   "source": [
    "# Cargar el modelo guardado\n",
    "modelo = joblib.load(\"..\\prediccion_reforestacion\\modelo\\modelo_hibrido_0.9269.pkl\")\n",
    "\n",
    "# Cargar los datos originales para obtener todas las estaciones y distritos\n",
    "df_original = pd.read_csv('..\\prediccion_reforestacion\\data\\data_monitoreo_contaminantes_filtrado_best.csv')\n",
    "\n",
    "# Datos históricos de PM10\n",
    "historico_pm10 = {\n",
    "    2015: 68.51, 2016: 71.85, 2017: 73.25, 2018: 69.36, \n",
    "    2019: 56.26, 2020: 53.22, 2021: 60.80, 2022: 56.51,\n",
    "    2023: 41.89, 2024: 46.72\n",
    "}\n",
    "\n",
    "# Datos de arborización SERPAR\n",
    "arboles_serpar = {\n",
    "    2020: 82637,\n",
    "    2021: 160932,\n",
    "    2022: 150136,\n",
    "    2023: 86957,\n",
    "    2024: 115548\n",
    "}\n",
    "\n",
    "# Constantes globales\n",
    "TASA_SUPERVIVENCIA = 0.7\n",
    "ARBOLES_PROMEDIO = np.mean(list(arboles_serpar.values()))\n",
    "VOLUMEN_AIRE = 2819000000 * 10  # área de Lima * altura promedio de mezcla"
   ]
  },
  {
   "cell_type": "markdown",
   "metadata": {},
   "source": [
    "### 3. Preparar escenarios"
   ]
  },
  {
   "cell_type": "code",
   "execution_count": 16,
   "metadata": {},
   "outputs": [],
   "source": [
    "def crear_datos_prediccion(start_year=2025, end_year=2035):\n",
    "    \"\"\"\n",
    "    Crea DataFrame con todas las combinaciones necesarias para la predicción\n",
    "    \"\"\"\n",
    "# Obtener todas las estaciones y distritos únicos\n",
    "    estaciones = df_original['ESTACION'].unique()\n",
    "    distritos = df_original['DISTRITO'].unique()\n",
    "    \n",
    "    datos = []\n",
    "    for año in range(start_year, end_year + 1):\n",
    "        for mes in range(1, 13):\n",
    "            for estacion, distrito in zip(estaciones, distritos):\n",
    "                for hora in range(24):\n",
    "                    dia_semana = pd.Timestamp(year=año, month=mes, day=1).weekday()\n",
    "                    es_fin_semana = 1 if dia_semana >= 5 else 0\n",
    "                    datos.append({\n",
    "                        'ESTACION': estacion,\n",
    "                        'DISTRITO': distrito,\n",
    "                        'HORA': hora,\n",
    "                        'DIA_SEMANA': dia_semana,\n",
    "                        'MES': mes,\n",
    "                        'AÑO': año,\n",
    "                        'ES_FIN_DE_SEMANA': es_fin_semana\n",
    "                    })\n",
    "    return pd.DataFrame(datos)\n",
    "\n",
    "def simular_escenarios(df_pred, start_year=2025):\n",
    "    \"\"\"\n",
    "    Simula escenarios con datos más realistas\n",
    "    \"\"\"\n",
    "    prediccion_base = modelo.predict(df_pred)\n",
    "    prediccion_con_arboles = prediccion_base.copy()\n",
    "    \n",
    "    # Calcular reducción por árbol (5217.4 g/año)\n",
    "    reduccion_diaria_por_arbol = 5217.4 / 365\n",
    "    \n",
    "    años_unicos = df_pred['AÑO'].unique()\n",
    "    arboles_acumulados = {}\n",
    "    \n",
    "    for i, año in enumerate(años_unicos):\n",
    "        # Árboles acumulados considerando supervivencia\n",
    "        n_arboles = int(ARBOLES_PROMEDIO * TASA_SUPERVIVENCIA * (i + 1))\n",
    "        arboles_acumulados[año] = n_arboles\n",
    "        \n",
    "        reduccion_diaria = reduccion_diaria_por_arbol * n_arboles\n",
    "        reduccion_concentracion = (reduccion_diaria * 1000) / VOLUMEN_AIRE\n",
    "        \n",
    "        mask_año = df_pred['AÑO'] == año\n",
    "        prediccion_con_arboles[mask_año] = np.maximum(0, \n",
    "            prediccion_con_arboles[mask_año] - reduccion_concentracion)\n",
    "    \n",
    "    return prediccion_base, prediccion_con_arboles, arboles_acumulados\n",
    "\n",
    "def categorizar_calidad_aire(valor):\n",
    "    if valor <= 54:\n",
    "        return 'Buena'\n",
    "    elif valor <= 154:\n",
    "        return 'Moderada'\n",
    "    elif valor <= 254:\n",
    "        return 'Insalubre para grupos sensibles'\n",
    "    else:\n",
    "        return 'Insalubre'\n"
   ]
  },
  {
   "cell_type": "code",
   "execution_count": 17,
   "metadata": {},
   "outputs": [
    {
     "data": {
      "application/vnd.plotly.v1+json": {
       "config": {
        "plotlyServerURL": "https://plot.ly"
       },
       "data": [
        {
         "line": {
          "color": "gray",
          "dash": "dash"
         },
         "name": "Histórico PM10",
         "type": "scatter",
         "x": [
          2015,
          2016,
          2017,
          2018,
          2019,
          2020,
          2021,
          2022,
          2023,
          2024
         ],
         "xaxis": "x",
         "y": [
          68.51,
          71.85,
          73.25,
          69.36,
          56.26,
          53.22,
          60.8,
          56.51,
          41.89,
          46.72
         ],
         "yaxis": "y"
        },
        {
         "line": {
          "color": "red"
         },
         "name": "Proyección sin árboles",
         "type": "scatter",
         "x": [
          2025,
          2026,
          2027,
          2028,
          2029,
          2030,
          2031,
          2032,
          2033,
          2034,
          2035
         ],
         "xaxis": "x",
         "y": [
          47.654856759009775,
          47.395258027430444,
          47.332708817458354,
          48.25746363666381,
          47.99780918728455,
          47.7682498046244,
          47.654856759009775,
          47.272972624111794,
          47.76756205060106,
          47.88751839023935,
          47.99780918728455
         ],
         "yaxis": "y"
        },
        {
         "fill": "toself",
         "fillcolor": "rgba(255,0,0,0.2)",
         "line": {
          "color": "rgba(255,0,0,0)"
         },
         "name": "Margen de error sin árboles",
         "showlegend": true,
         "type": "scatter",
         "x": [
          2025,
          2026,
          2027,
          2028,
          2029,
          2030,
          2031,
          2032,
          2033,
          2034,
          2035,
          2035,
          2034,
          2033,
          2032,
          2031,
          2030,
          2029,
          2028,
          2027,
          2026,
          2025
         ],
         "xaxis": "x",
         "y": [
          50.03759959696026,
          49.76502092880197,
          49.69934425833127,
          50.670336818497,
          50.39769964664878,
          50.15666229485562,
          50.03759959696026,
          49.63662125531739,
          50.15594015313111,
          50.281894309751316,
          50.39769964664878,
          45.59791872792032,
          45.493142470727385,
          45.379183948071,
          44.9093239929062,
          45.27211392105929,
          45.379837314393185,
          45.59791872792032,
          45.844590454830616,
          44.966073376585435,
          45.02549512605892,
          45.27211392105929
         ],
         "yaxis": "y"
        },
        {
         "line": {
          "color": "green"
         },
         "name": "Proyección con árboles",
         "type": "scatter",
         "x": [
          2025,
          2026,
          2027,
          2028,
          2029,
          2030,
          2031,
          2032,
          2033,
          2034,
          2035
         ],
         "xaxis": "x",
         "y": [
          47.61253230113829,
          47.31060911168747,
          47.205734936775904,
          48.08816529810986,
          47.78618588379113,
          47.514302043259505,
          47.35858453977338,
          46.93437543993592,
          47.386640408553696,
          47.46427178325252,
          47.53223812242623
         ],
         "yaxis": "y"
        },
        {
         "fill": "toself",
         "fillcolor": "rgba(0,255,0,0.2)",
         "line": {
          "color": "rgba(0,255,0,0)"
         },
         "name": "Margen de error con árboles",
         "showlegend": true,
         "type": "scatter",
         "x": [
          2025,
          2026,
          2027,
          2028,
          2029,
          2030,
          2031,
          2032,
          2033,
          2034,
          2035,
          2035,
          2034,
          2033,
          2032,
          2031,
          2030,
          2029,
          2028,
          2027,
          2026,
          2025
         ],
         "xaxis": "x",
         "y": [
          49.9931589161952,
          49.676139567271846,
          49.5660216836147,
          50.49257356301535,
          50.175495177980686,
          49.89001714542248,
          49.726513766762054,
          49.28109421193272,
          49.75597242898138,
          49.837485372415145,
          49.90885002854754,
          45.15562621630492,
          45.0910581940899,
          45.01730838812601,
          44.58765666793912,
          44.99065531278471,
          45.13858694109653,
          45.39687658960157,
          45.683757033204365,
          44.84544818993711,
          44.94507865610309,
          45.231905686081376
         ],
         "yaxis": "y"
        },
        {
         "marker": {
          "color": "blue"
         },
         "name": "Reducción PM10",
         "type": "bar",
         "x": [
          2025,
          2026,
          2027,
          2028,
          2029,
          2030,
          2031,
          2032,
          2033,
          2034,
          2035
         ],
         "xaxis": "x2",
         "y": [
          0.0423244578714872,
          0.0846489157429744,
          0.1269738806824492,
          0.1692983385539506,
          0.2116233034934254,
          0.2539477613648984,
          0.2962722192363927,
          0.3385971841758746,
          0.3809216420473618,
          0.4232466069868295,
          0.4655710648583238
         ],
         "yaxis": "y2"
        }
       ],
       "layout": {
        "annotations": [
         {
          "font": {
           "size": 16
          },
          "showarrow": false,
          "text": "Evolución histórica y proyección del PM10",
          "x": 0.5,
          "xanchor": "center",
          "xref": "paper",
          "y": 1,
          "yanchor": "bottom",
          "yref": "paper"
         },
         {
          "font": {
           "size": 16
          },
          "showarrow": false,
          "text": "Reducción proyectada por arborización",
          "x": 0.5,
          "xanchor": "center",
          "xref": "paper",
          "y": 0.375,
          "yanchor": "bottom",
          "yref": "paper"
         },
         {
          "showarrow": false,
          "text": "Buena",
          "x": 1,
          "xanchor": "right",
          "xref": "x domain",
          "y": 54,
          "yanchor": "bottom",
          "yref": "y"
         },
         {
          "showarrow": false,
          "text": "Moderada",
          "x": 1,
          "xanchor": "right",
          "xref": "x domain",
          "y": 154,
          "yanchor": "bottom",
          "yref": "y"
         }
        ],
        "height": 800,
        "shapes": [
         {
          "line": {
           "color": "gray",
           "dash": "dash"
          },
          "type": "line",
          "x0": 0,
          "x1": 1,
          "xref": "x domain",
          "y0": 54,
          "y1": 54,
          "yref": "y"
         },
         {
          "line": {
           "color": "gray",
           "dash": "dash"
          },
          "type": "line",
          "x0": 0,
          "x1": 1,
          "xref": "x domain",
          "y0": 154,
          "y1": 154,
          "yref": "y"
         }
        ],
        "showlegend": true,
        "template": {
         "data": {
          "bar": [
           {
            "error_x": {
             "color": "#2a3f5f"
            },
            "error_y": {
             "color": "#2a3f5f"
            },
            "marker": {
             "line": {
              "color": "#E5ECF6",
              "width": 0.5
             },
             "pattern": {
              "fillmode": "overlay",
              "size": 10,
              "solidity": 0.2
             }
            },
            "type": "bar"
           }
          ],
          "barpolar": [
           {
            "marker": {
             "line": {
              "color": "#E5ECF6",
              "width": 0.5
             },
             "pattern": {
              "fillmode": "overlay",
              "size": 10,
              "solidity": 0.2
             }
            },
            "type": "barpolar"
           }
          ],
          "carpet": [
           {
            "aaxis": {
             "endlinecolor": "#2a3f5f",
             "gridcolor": "white",
             "linecolor": "white",
             "minorgridcolor": "white",
             "startlinecolor": "#2a3f5f"
            },
            "baxis": {
             "endlinecolor": "#2a3f5f",
             "gridcolor": "white",
             "linecolor": "white",
             "minorgridcolor": "white",
             "startlinecolor": "#2a3f5f"
            },
            "type": "carpet"
           }
          ],
          "choropleth": [
           {
            "colorbar": {
             "outlinewidth": 0,
             "ticks": ""
            },
            "type": "choropleth"
           }
          ],
          "contour": [
           {
            "colorbar": {
             "outlinewidth": 0,
             "ticks": ""
            },
            "colorscale": [
             [
              0,
              "#0d0887"
             ],
             [
              0.1111111111111111,
              "#46039f"
             ],
             [
              0.2222222222222222,
              "#7201a8"
             ],
             [
              0.3333333333333333,
              "#9c179e"
             ],
             [
              0.4444444444444444,
              "#bd3786"
             ],
             [
              0.5555555555555556,
              "#d8576b"
             ],
             [
              0.6666666666666666,
              "#ed7953"
             ],
             [
              0.7777777777777778,
              "#fb9f3a"
             ],
             [
              0.8888888888888888,
              "#fdca26"
             ],
             [
              1,
              "#f0f921"
             ]
            ],
            "type": "contour"
           }
          ],
          "contourcarpet": [
           {
            "colorbar": {
             "outlinewidth": 0,
             "ticks": ""
            },
            "type": "contourcarpet"
           }
          ],
          "heatmap": [
           {
            "colorbar": {
             "outlinewidth": 0,
             "ticks": ""
            },
            "colorscale": [
             [
              0,
              "#0d0887"
             ],
             [
              0.1111111111111111,
              "#46039f"
             ],
             [
              0.2222222222222222,
              "#7201a8"
             ],
             [
              0.3333333333333333,
              "#9c179e"
             ],
             [
              0.4444444444444444,
              "#bd3786"
             ],
             [
              0.5555555555555556,
              "#d8576b"
             ],
             [
              0.6666666666666666,
              "#ed7953"
             ],
             [
              0.7777777777777778,
              "#fb9f3a"
             ],
             [
              0.8888888888888888,
              "#fdca26"
             ],
             [
              1,
              "#f0f921"
             ]
            ],
            "type": "heatmap"
           }
          ],
          "heatmapgl": [
           {
            "colorbar": {
             "outlinewidth": 0,
             "ticks": ""
            },
            "colorscale": [
             [
              0,
              "#0d0887"
             ],
             [
              0.1111111111111111,
              "#46039f"
             ],
             [
              0.2222222222222222,
              "#7201a8"
             ],
             [
              0.3333333333333333,
              "#9c179e"
             ],
             [
              0.4444444444444444,
              "#bd3786"
             ],
             [
              0.5555555555555556,
              "#d8576b"
             ],
             [
              0.6666666666666666,
              "#ed7953"
             ],
             [
              0.7777777777777778,
              "#fb9f3a"
             ],
             [
              0.8888888888888888,
              "#fdca26"
             ],
             [
              1,
              "#f0f921"
             ]
            ],
            "type": "heatmapgl"
           }
          ],
          "histogram": [
           {
            "marker": {
             "pattern": {
              "fillmode": "overlay",
              "size": 10,
              "solidity": 0.2
             }
            },
            "type": "histogram"
           }
          ],
          "histogram2d": [
           {
            "colorbar": {
             "outlinewidth": 0,
             "ticks": ""
            },
            "colorscale": [
             [
              0,
              "#0d0887"
             ],
             [
              0.1111111111111111,
              "#46039f"
             ],
             [
              0.2222222222222222,
              "#7201a8"
             ],
             [
              0.3333333333333333,
              "#9c179e"
             ],
             [
              0.4444444444444444,
              "#bd3786"
             ],
             [
              0.5555555555555556,
              "#d8576b"
             ],
             [
              0.6666666666666666,
              "#ed7953"
             ],
             [
              0.7777777777777778,
              "#fb9f3a"
             ],
             [
              0.8888888888888888,
              "#fdca26"
             ],
             [
              1,
              "#f0f921"
             ]
            ],
            "type": "histogram2d"
           }
          ],
          "histogram2dcontour": [
           {
            "colorbar": {
             "outlinewidth": 0,
             "ticks": ""
            },
            "colorscale": [
             [
              0,
              "#0d0887"
             ],
             [
              0.1111111111111111,
              "#46039f"
             ],
             [
              0.2222222222222222,
              "#7201a8"
             ],
             [
              0.3333333333333333,
              "#9c179e"
             ],
             [
              0.4444444444444444,
              "#bd3786"
             ],
             [
              0.5555555555555556,
              "#d8576b"
             ],
             [
              0.6666666666666666,
              "#ed7953"
             ],
             [
              0.7777777777777778,
              "#fb9f3a"
             ],
             [
              0.8888888888888888,
              "#fdca26"
             ],
             [
              1,
              "#f0f921"
             ]
            ],
            "type": "histogram2dcontour"
           }
          ],
          "mesh3d": [
           {
            "colorbar": {
             "outlinewidth": 0,
             "ticks": ""
            },
            "type": "mesh3d"
           }
          ],
          "parcoords": [
           {
            "line": {
             "colorbar": {
              "outlinewidth": 0,
              "ticks": ""
             }
            },
            "type": "parcoords"
           }
          ],
          "pie": [
           {
            "automargin": true,
            "type": "pie"
           }
          ],
          "scatter": [
           {
            "fillpattern": {
             "fillmode": "overlay",
             "size": 10,
             "solidity": 0.2
            },
            "type": "scatter"
           }
          ],
          "scatter3d": [
           {
            "line": {
             "colorbar": {
              "outlinewidth": 0,
              "ticks": ""
             }
            },
            "marker": {
             "colorbar": {
              "outlinewidth": 0,
              "ticks": ""
             }
            },
            "type": "scatter3d"
           }
          ],
          "scattercarpet": [
           {
            "marker": {
             "colorbar": {
              "outlinewidth": 0,
              "ticks": ""
             }
            },
            "type": "scattercarpet"
           }
          ],
          "scattergeo": [
           {
            "marker": {
             "colorbar": {
              "outlinewidth": 0,
              "ticks": ""
             }
            },
            "type": "scattergeo"
           }
          ],
          "scattergl": [
           {
            "marker": {
             "colorbar": {
              "outlinewidth": 0,
              "ticks": ""
             }
            },
            "type": "scattergl"
           }
          ],
          "scattermapbox": [
           {
            "marker": {
             "colorbar": {
              "outlinewidth": 0,
              "ticks": ""
             }
            },
            "type": "scattermapbox"
           }
          ],
          "scatterpolar": [
           {
            "marker": {
             "colorbar": {
              "outlinewidth": 0,
              "ticks": ""
             }
            },
            "type": "scatterpolar"
           }
          ],
          "scatterpolargl": [
           {
            "marker": {
             "colorbar": {
              "outlinewidth": 0,
              "ticks": ""
             }
            },
            "type": "scatterpolargl"
           }
          ],
          "scatterternary": [
           {
            "marker": {
             "colorbar": {
              "outlinewidth": 0,
              "ticks": ""
             }
            },
            "type": "scatterternary"
           }
          ],
          "surface": [
           {
            "colorbar": {
             "outlinewidth": 0,
             "ticks": ""
            },
            "colorscale": [
             [
              0,
              "#0d0887"
             ],
             [
              0.1111111111111111,
              "#46039f"
             ],
             [
              0.2222222222222222,
              "#7201a8"
             ],
             [
              0.3333333333333333,
              "#9c179e"
             ],
             [
              0.4444444444444444,
              "#bd3786"
             ],
             [
              0.5555555555555556,
              "#d8576b"
             ],
             [
              0.6666666666666666,
              "#ed7953"
             ],
             [
              0.7777777777777778,
              "#fb9f3a"
             ],
             [
              0.8888888888888888,
              "#fdca26"
             ],
             [
              1,
              "#f0f921"
             ]
            ],
            "type": "surface"
           }
          ],
          "table": [
           {
            "cells": {
             "fill": {
              "color": "#EBF0F8"
             },
             "line": {
              "color": "white"
             }
            },
            "header": {
             "fill": {
              "color": "#C8D4E3"
             },
             "line": {
              "color": "white"
             }
            },
            "type": "table"
           }
          ]
         },
         "layout": {
          "annotationdefaults": {
           "arrowcolor": "#2a3f5f",
           "arrowhead": 0,
           "arrowwidth": 1
          },
          "autotypenumbers": "strict",
          "coloraxis": {
           "colorbar": {
            "outlinewidth": 0,
            "ticks": ""
           }
          },
          "colorscale": {
           "diverging": [
            [
             0,
             "#8e0152"
            ],
            [
             0.1,
             "#c51b7d"
            ],
            [
             0.2,
             "#de77ae"
            ],
            [
             0.3,
             "#f1b6da"
            ],
            [
             0.4,
             "#fde0ef"
            ],
            [
             0.5,
             "#f7f7f7"
            ],
            [
             0.6,
             "#e6f5d0"
            ],
            [
             0.7,
             "#b8e186"
            ],
            [
             0.8,
             "#7fbc41"
            ],
            [
             0.9,
             "#4d9221"
            ],
            [
             1,
             "#276419"
            ]
           ],
           "sequential": [
            [
             0,
             "#0d0887"
            ],
            [
             0.1111111111111111,
             "#46039f"
            ],
            [
             0.2222222222222222,
             "#7201a8"
            ],
            [
             0.3333333333333333,
             "#9c179e"
            ],
            [
             0.4444444444444444,
             "#bd3786"
            ],
            [
             0.5555555555555556,
             "#d8576b"
            ],
            [
             0.6666666666666666,
             "#ed7953"
            ],
            [
             0.7777777777777778,
             "#fb9f3a"
            ],
            [
             0.8888888888888888,
             "#fdca26"
            ],
            [
             1,
             "#f0f921"
            ]
           ],
           "sequentialminus": [
            [
             0,
             "#0d0887"
            ],
            [
             0.1111111111111111,
             "#46039f"
            ],
            [
             0.2222222222222222,
             "#7201a8"
            ],
            [
             0.3333333333333333,
             "#9c179e"
            ],
            [
             0.4444444444444444,
             "#bd3786"
            ],
            [
             0.5555555555555556,
             "#d8576b"
            ],
            [
             0.6666666666666666,
             "#ed7953"
            ],
            [
             0.7777777777777778,
             "#fb9f3a"
            ],
            [
             0.8888888888888888,
             "#fdca26"
            ],
            [
             1,
             "#f0f921"
            ]
           ]
          },
          "colorway": [
           "#636efa",
           "#EF553B",
           "#00cc96",
           "#ab63fa",
           "#FFA15A",
           "#19d3f3",
           "#FF6692",
           "#B6E880",
           "#FF97FF",
           "#FECB52"
          ],
          "font": {
           "color": "#2a3f5f"
          },
          "geo": {
           "bgcolor": "white",
           "lakecolor": "white",
           "landcolor": "#E5ECF6",
           "showlakes": true,
           "showland": true,
           "subunitcolor": "white"
          },
          "hoverlabel": {
           "align": "left"
          },
          "hovermode": "closest",
          "mapbox": {
           "style": "light"
          },
          "paper_bgcolor": "white",
          "plot_bgcolor": "#E5ECF6",
          "polar": {
           "angularaxis": {
            "gridcolor": "white",
            "linecolor": "white",
            "ticks": ""
           },
           "bgcolor": "#E5ECF6",
           "radialaxis": {
            "gridcolor": "white",
            "linecolor": "white",
            "ticks": ""
           }
          },
          "scene": {
           "xaxis": {
            "backgroundcolor": "#E5ECF6",
            "gridcolor": "white",
            "gridwidth": 2,
            "linecolor": "white",
            "showbackground": true,
            "ticks": "",
            "zerolinecolor": "white"
           },
           "yaxis": {
            "backgroundcolor": "#E5ECF6",
            "gridcolor": "white",
            "gridwidth": 2,
            "linecolor": "white",
            "showbackground": true,
            "ticks": "",
            "zerolinecolor": "white"
           },
           "zaxis": {
            "backgroundcolor": "#E5ECF6",
            "gridcolor": "white",
            "gridwidth": 2,
            "linecolor": "white",
            "showbackground": true,
            "ticks": "",
            "zerolinecolor": "white"
           }
          },
          "shapedefaults": {
           "line": {
            "color": "#2a3f5f"
           }
          },
          "ternary": {
           "aaxis": {
            "gridcolor": "white",
            "linecolor": "white",
            "ticks": ""
           },
           "baxis": {
            "gridcolor": "white",
            "linecolor": "white",
            "ticks": ""
           },
           "bgcolor": "#E5ECF6",
           "caxis": {
            "gridcolor": "white",
            "linecolor": "white",
            "ticks": ""
           }
          },
          "title": {
           "x": 0.05
          },
          "xaxis": {
           "automargin": true,
           "gridcolor": "white",
           "linecolor": "white",
           "ticks": "",
           "title": {
            "standoff": 15
           },
           "zerolinecolor": "white",
           "zerolinewidth": 2
          },
          "yaxis": {
           "automargin": true,
           "gridcolor": "white",
           "linecolor": "white",
           "ticks": "",
           "title": {
            "standoff": 15
           },
           "zerolinecolor": "white",
           "zerolinewidth": 2
          }
         }
        },
        "title": {
         "text": "Simulación de PM10 en Lima Metropolitana (2015-2035)"
        },
        "xaxis": {
         "anchor": "y",
         "domain": [
          0,
          1
         ],
         "rangeslider": {
          "visible": true
         }
        },
        "xaxis2": {
         "anchor": "y2",
         "domain": [
          0,
          1
         ]
        },
        "yaxis": {
         "anchor": "x",
         "domain": [
          0.625,
          1
         ]
        },
        "yaxis2": {
         "anchor": "x2",
         "domain": [
          0,
          0.375
         ]
        }
       }
      }
     },
     "metadata": {},
     "output_type": "display_data"
    }
   ],
   "source": [
    "# Crear datos para predicción\n",
    "df_prediccion = crear_datos_prediccion(2025, 2035)\n",
    "\n",
    "# Realizar simulación\n",
    "pred_base, pred_arboles, arboles_acumulados = simular_escenarios(df_prediccion)\n",
    "\n",
    "# Crear visualización\n",
    "fig = make_subplots(rows=2, cols=1,\n",
    "                    subplot_titles=('Evolución histórica y proyección del PM10',\n",
    "                                  'Reducción proyectada por arborización'))\n",
    "\n",
    "# Añadir datos históricos\n",
    "fig.add_trace(\n",
    "    go.Scatter(x=list(historico_pm10.keys()),\n",
    "               y=list(historico_pm10.values()),\n",
    "               name='Histórico PM10',\n",
    "               line=dict(color='gray', dash='dash')),\n",
    "    row=1, col=1\n",
    ")\n",
    "\n",
    "# Procesar resultados por año con margen de error\n",
    "resultados = []\n",
    "margen_error = 0.05  # 5% de margen de error\n",
    "\n",
    "for año in range(2025, 2036):\n",
    "    mask_año = df_prediccion['AÑO'] == año\n",
    "    pm10_sin_arboles = np.mean(pred_base[mask_año])\n",
    "    pm10_con_arboles = np.mean(pred_arboles[mask_año])\n",
    "    \n",
    "    # Calcular márgenes de error\n",
    "    error_sin_arboles = pm10_sin_arboles * margen_error\n",
    "    error_con_arboles = pm10_con_arboles * margen_error\n",
    "    \n",
    "    resultados.append({\n",
    "        'Año': año,\n",
    "        'PM10_Sin_Arboles': pm10_sin_arboles,\n",
    "        'PM10_Sin_Arboles_Min': pm10_sin_arboles - error_sin_arboles,\n",
    "        'PM10_Sin_Arboles_Max': pm10_sin_arboles + error_sin_arboles,\n",
    "        'PM10_Con_Arboles': pm10_con_arboles,\n",
    "        'PM10_Con_Arboles_Min': pm10_con_arboles - error_con_arboles,\n",
    "        'PM10_Con_Arboles_Max': pm10_con_arboles + error_con_arboles,\n",
    "        'Reduccion': pm10_sin_arboles - pm10_con_arboles,\n",
    "        'Arboles_Acumulados': arboles_acumulados[año]\n",
    "    })\n",
    "\n",
    "resultados_df = pd.DataFrame(resultados)\n",
    "\n",
    "# Añadir líneas de predicción con bandas de error\n",
    "fig.add_trace(\n",
    "    go.Scatter(x=resultados_df['Año'],\n",
    "               y=resultados_df['PM10_Sin_Arboles'],\n",
    "               name='Proyección sin árboles',\n",
    "               line=dict(color='red')),\n",
    "    row=1, col=1\n",
    ")\n",
    "\n",
    "# Añadir banda de error para proyección sin árboles\n",
    "fig.add_trace(\n",
    "    go.Scatter(\n",
    "        x=resultados_df['Año'].tolist() + resultados_df['Año'].tolist()[::-1],\n",
    "        y=resultados_df['PM10_Sin_Arboles_Max'].tolist() + resultados_df['PM10_Sin_Arboles_Min'].tolist()[::-1],\n",
    "        fill='toself',\n",
    "        fillcolor='rgba(255,0,0,0.2)',\n",
    "        line=dict(color='rgba(255,0,0,0)'),\n",
    "        name='Margen de error sin árboles',\n",
    "        showlegend=True\n",
    "    ),\n",
    "    row=1, col=1\n",
    ")\n",
    "\n",
    "fig.add_trace(\n",
    "    go.Scatter(x=resultados_df['Año'],\n",
    "               y=resultados_df['PM10_Con_Arboles'],\n",
    "               name='Proyección con árboles',\n",
    "               line=dict(color='green')),\n",
    "    row=1, col=1\n",
    ")\n",
    "\n",
    "# Añadir banda de error para proyección con árboles\n",
    "fig.add_trace(\n",
    "    go.Scatter(\n",
    "        x=resultados_df['Año'].tolist() + resultados_df['Año'].tolist()[::-1],\n",
    "        y=resultados_df['PM10_Con_Arboles_Max'].tolist() + resultados_df['PM10_Con_Arboles_Min'].tolist()[::-1],\n",
    "        fill='toself',\n",
    "        fillcolor='rgba(0,255,0,0.2)',\n",
    "        line=dict(color='rgba(0,255,0,0)'),\n",
    "        name='Margen de error con árboles',\n",
    "        showlegend=True\n",
    "    ),\n",
    "    row=1, col=1\n",
    ")\n",
    "\n",
    "# Añadir barras de reducción\n",
    "fig.add_trace(\n",
    "    go.Bar(x=resultados_df['Año'],\n",
    "           y=resultados_df['Reduccion'],\n",
    "           name='Reducción PM10',\n",
    "           marker_color='blue'),\n",
    "    row=2, col=1\n",
    ")\n",
    "\n",
    "# Añadir líneas de referencia para categorías de calidad del aire\n",
    "categorias = {\n",
    "    'Buena': 54,\n",
    "    'Moderada': 154\n",
    "}\n",
    "\n",
    "for categoria, valor in categorias.items():\n",
    "    fig.add_hline(y=valor, line_dash=\"dash\", line_color=\"gray\",\n",
    "                  annotation_text=categoria, row=1, col=1)\n",
    "\n",
    "# Actualizar diseño\n",
    "fig.update_layout(\n",
    "    title='Simulación de PM10 en Lima Metropolitana (2015-2035)',\n",
    "    height=800,\n",
    "    showlegend=True,\n",
    "    xaxis=dict(rangeslider=dict(visible=True))\n",
    ")\n",
    "\n",
    "fig.show()"
   ]
  },
  {
   "cell_type": "code",
   "execution_count": 18,
   "metadata": {},
   "outputs": [
    {
     "name": "stdout",
     "output_type": "stream",
     "text": [
      "\n",
      "Estadísticas de la simulación:\n",
      "\n",
      "Promedio de árboles plantados por año (SERPAR): 119,242\n",
      "Tasa de supervivencia considerada: 70.0%\n",
      "Margen de error considerado: ±5.0%\n",
      "\n",
      "Año 2025:\n",
      "Árboles acumulados: 83,469\n",
      "Reducción promedio: 0.04 µg/m³\n",
      "PM10 sin árboles: 47.65 µg/m³ (±2.38)\n",
      "PM10 con árboles: 47.61 µg/m³ (±2.38)\n",
      "\n",
      "Año 2026:\n",
      "Árboles acumulados: 166,938\n",
      "Reducción promedio: 0.08 µg/m³\n",
      "PM10 sin árboles: 47.40 µg/m³ (±2.37)\n",
      "PM10 con árboles: 47.31 µg/m³ (±2.37)\n",
      "\n",
      "Año 2027:\n",
      "Árboles acumulados: 250,408\n",
      "Reducción promedio: 0.13 µg/m³\n",
      "PM10 sin árboles: 47.33 µg/m³ (±2.37)\n",
      "PM10 con árboles: 47.21 µg/m³ (±2.36)\n",
      "\n",
      "Año 2028:\n",
      "Árboles acumulados: 333,877\n",
      "Reducción promedio: 0.17 µg/m³\n",
      "PM10 sin árboles: 48.26 µg/m³ (±2.41)\n",
      "PM10 con árboles: 48.09 µg/m³ (±2.40)\n",
      "\n",
      "Año 2029:\n",
      "Árboles acumulados: 417,347\n",
      "Reducción promedio: 0.21 µg/m³\n",
      "PM10 sin árboles: 48.00 µg/m³ (±2.40)\n",
      "PM10 con árboles: 47.79 µg/m³ (±2.39)\n",
      "\n",
      "Año 2030:\n",
      "Árboles acumulados: 500,816\n",
      "Reducción promedio: 0.25 µg/m³\n",
      "PM10 sin árboles: 47.77 µg/m³ (±2.39)\n",
      "PM10 con árboles: 47.51 µg/m³ (±2.38)\n",
      "\n",
      "Año 2031:\n",
      "Árboles acumulados: 584,285\n",
      "Reducción promedio: 0.30 µg/m³\n",
      "PM10 sin árboles: 47.65 µg/m³ (±2.38)\n",
      "PM10 con árboles: 47.36 µg/m³ (±2.37)\n",
      "\n",
      "Año 2032:\n",
      "Árboles acumulados: 667,755\n",
      "Reducción promedio: 0.34 µg/m³\n",
      "PM10 sin árboles: 47.27 µg/m³ (±2.36)\n",
      "PM10 con árboles: 46.93 µg/m³ (±2.35)\n",
      "\n",
      "Año 2033:\n",
      "Árboles acumulados: 751,224\n",
      "Reducción promedio: 0.38 µg/m³\n",
      "PM10 sin árboles: 47.77 µg/m³ (±2.39)\n",
      "PM10 con árboles: 47.39 µg/m³ (±2.37)\n",
      "\n",
      "Año 2034:\n",
      "Árboles acumulados: 834,694\n",
      "Reducción promedio: 0.42 µg/m³\n",
      "PM10 sin árboles: 47.89 µg/m³ (±2.39)\n",
      "PM10 con árboles: 47.46 µg/m³ (±2.37)\n",
      "\n",
      "Año 2035:\n",
      "Árboles acumulados: 918,163\n",
      "Reducción promedio: 0.47 µg/m³\n",
      "PM10 sin árboles: 48.00 µg/m³ (±2.40)\n",
      "PM10 con árboles: 47.53 µg/m³ (±2.38)\n"
     ]
    }
   ],
   "source": [
    "# Imprimir estadísticas con margen de error\n",
    "print(\"\\nEstadísticas de la simulación:\")\n",
    "print(f\"\\nPromedio de árboles plantados por año (SERPAR): {int(ARBOLES_PROMEDIO):,}\")\n",
    "print(f\"Tasa de supervivencia considerada: {TASA_SUPERVIVENCIA*100}%\")\n",
    "print(f\"Margen de error considerado: ±{margen_error*100}%\")\n",
    "\n",
    "for resultado in resultados:\n",
    "    print(f\"\\nAño {resultado['Año']}:\")\n",
    "    print(f\"Árboles acumulados: {resultado['Arboles_Acumulados']:,}\")\n",
    "    print(f\"Reducción promedio: {resultado['Reduccion']:.2f} µg/m³\")\n",
    "    print(f\"PM10 sin árboles: {resultado['PM10_Sin_Arboles']:.2f} µg/m³ (±{resultado['PM10_Sin_Arboles']*margen_error:.2f})\")\n",
    "    print(f\"PM10 con árboles: {resultado['PM10_Con_Arboles']:.2f} µg/m³ (±{resultado['PM10_Con_Arboles']*margen_error:.2f})\")"
   ]
  },
  {
   "cell_type": "code",
   "execution_count": null,
   "metadata": {},
   "outputs": [],
   "source": []
  }
 ],
 "metadata": {
  "kernelspec": {
   "display_name": "Python 3",
   "language": "python",
   "name": "python3"
  },
  "language_info": {
   "codemirror_mode": {
    "name": "ipython",
    "version": 3
   },
   "file_extension": ".py",
   "mimetype": "text/x-python",
   "name": "python",
   "nbconvert_exporter": "python",
   "pygments_lexer": "ipython3",
   "version": "3.12.8"
  }
 },
 "nbformat": 4,
 "nbformat_minor": 2
}
