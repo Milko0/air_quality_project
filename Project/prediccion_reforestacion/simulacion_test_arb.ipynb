{
 "cells": [
  {
   "cell_type": "code",
   "execution_count": 1,
   "metadata": {},
   "outputs": [],
   "source": [
    "import pandas as pd\n",
    "import numpy as np\n",
    "import plotly.graph_objects as go\n",
    "from plotly.subplots import make_subplots\n",
    "import joblib"
   ]
  },
  {
   "cell_type": "code",
   "execution_count": 3,
   "metadata": {},
   "outputs": [
    {
     "name": "stderr",
     "output_type": "stream",
     "text": [
      "<>:2: SyntaxWarning: invalid escape sequence '\\p'\n",
      "<>:5: SyntaxWarning: invalid escape sequence '\\p'\n",
      "<>:2: SyntaxWarning: invalid escape sequence '\\p'\n",
      "<>:5: SyntaxWarning: invalid escape sequence '\\p'\n",
      "C:\\Users\\marli\\AppData\\Local\\Temp\\ipykernel_21388\\836284415.py:2: SyntaxWarning: invalid escape sequence '\\p'\n",
      "  modelo = joblib.load(\"..\\prediccion_reforestacion\\modelo\\modelo_hibrido_0.9269.pkl\")\n",
      "C:\\Users\\marli\\AppData\\Local\\Temp\\ipykernel_21388\\836284415.py:5: SyntaxWarning: invalid escape sequence '\\p'\n",
      "  df_original = pd.read_csv('..\\prediccion_reforestacion\\data\\data_monitoreo_contaminantes_filtrado_best.csv')\n",
      "c:\\Users\\marli\\AppData\\Local\\Programs\\Python\\Python312\\Lib\\site-packages\\sklearn\\base.py:380: InconsistentVersionWarning: Trying to unpickle estimator OneHotEncoder from version 1.2.0 when using version 1.6.1. This might lead to breaking code or invalid results. Use at your own risk. For more info please refer to:\n",
      "https://scikit-learn.org/stable/model_persistence.html#security-maintainability-limitations\n",
      "  warnings.warn(\n",
      "c:\\Users\\marli\\AppData\\Local\\Programs\\Python\\Python312\\Lib\\site-packages\\sklearn\\base.py:380: InconsistentVersionWarning: Trying to unpickle estimator StandardScaler from version 1.2.0 when using version 1.6.1. This might lead to breaking code or invalid results. Use at your own risk. For more info please refer to:\n",
      "https://scikit-learn.org/stable/model_persistence.html#security-maintainability-limitations\n",
      "  warnings.warn(\n",
      "c:\\Users\\marli\\AppData\\Local\\Programs\\Python\\Python312\\Lib\\site-packages\\sklearn\\base.py:380: InconsistentVersionWarning: Trying to unpickle estimator ColumnTransformer from version 1.2.0 when using version 1.6.1. This might lead to breaking code or invalid results. Use at your own risk. For more info please refer to:\n",
      "https://scikit-learn.org/stable/model_persistence.html#security-maintainability-limitations\n",
      "  warnings.warn(\n",
      "c:\\Users\\marli\\AppData\\Local\\Programs\\Python\\Python312\\Lib\\site-packages\\sklearn\\base.py:380: InconsistentVersionWarning: Trying to unpickle estimator DecisionTreeRegressor from version 1.2.0 when using version 1.6.1. This might lead to breaking code or invalid results. Use at your own risk. For more info please refer to:\n",
      "https://scikit-learn.org/stable/model_persistence.html#security-maintainability-limitations\n",
      "  warnings.warn(\n",
      "c:\\Users\\marli\\AppData\\Local\\Programs\\Python\\Python312\\Lib\\site-packages\\sklearn\\base.py:380: InconsistentVersionWarning: Trying to unpickle estimator RandomForestRegressor from version 1.2.0 when using version 1.6.1. This might lead to breaking code or invalid results. Use at your own risk. For more info please refer to:\n",
      "https://scikit-learn.org/stable/model_persistence.html#security-maintainability-limitations\n",
      "  warnings.warn(\n",
      "c:\\Users\\marli\\AppData\\Local\\Programs\\Python\\Python312\\Lib\\site-packages\\sklearn\\base.py:380: InconsistentVersionWarning: Trying to unpickle estimator GradientBoostingRegressor from version 1.2.0 when using version 1.6.1. This might lead to breaking code or invalid results. Use at your own risk. For more info please refer to:\n",
      "https://scikit-learn.org/stable/model_persistence.html#security-maintainability-limitations\n",
      "  warnings.warn(\n"
     ]
    },
    {
     "ename": "ValueError",
     "evalue": "node array from the pickle has an incompatible dtype:\n- expected: {'names': ['left_child', 'right_child', 'feature', 'threshold', 'impurity', 'n_node_samples', 'weighted_n_node_samples', 'missing_go_to_left'], 'formats': ['<i8', '<i8', '<i8', '<f8', '<f8', '<i8', '<f8', 'u1'], 'offsets': [0, 8, 16, 24, 32, 40, 48, 56], 'itemsize': 64}\n- got     : [('left_child', '<i8'), ('right_child', '<i8'), ('feature', '<i8'), ('threshold', '<f8'), ('impurity', '<f8'), ('n_node_samples', '<i8'), ('weighted_n_node_samples', '<f8')]",
     "output_type": "error",
     "traceback": [
      "\u001b[31m---------------------------------------------------------------------------\u001b[39m",
      "\u001b[31mValueError\u001b[39m                                Traceback (most recent call last)",
      "\u001b[36mCell\u001b[39m\u001b[36m \u001b[39m\u001b[32mIn[3]\u001b[39m\u001b[32m, line 2\u001b[39m\n\u001b[32m      1\u001b[39m \u001b[38;5;66;03m# Cargar el modelo guardado\u001b[39;00m\n\u001b[32m----> \u001b[39m\u001b[32m2\u001b[39m modelo = \u001b[43mjoblib\u001b[49m\u001b[43m.\u001b[49m\u001b[43mload\u001b[49m\u001b[43m(\u001b[49m\u001b[33;43m\"\u001b[39;49m\u001b[33;43m..\u001b[39;49m\u001b[33;43m\\\u001b[39;49m\u001b[33;43mprediccion_reforestacion\u001b[39;49m\u001b[33;43m\\\u001b[39;49m\u001b[33;43mmodelo\u001b[39;49m\u001b[33;43m\\\u001b[39;49m\u001b[33;43mmodelo_hibrido_0.9269.pkl\u001b[39;49m\u001b[33;43m\"\u001b[39;49m\u001b[43m)\u001b[49m\n\u001b[32m      4\u001b[39m \u001b[38;5;66;03m# Cargar los datos originales para obtener todas las estaciones y distritos\u001b[39;00m\n\u001b[32m      5\u001b[39m df_original = pd.read_csv(\u001b[33m'\u001b[39m\u001b[33m..\u001b[39m\u001b[33m\\\u001b[39m\u001b[33mprediccion_reforestacion\u001b[39m\u001b[33m\\\u001b[39m\u001b[33mdata\u001b[39m\u001b[33m\\\u001b[39m\u001b[33mdata_monitoreo_contaminantes_filtrado_best.csv\u001b[39m\u001b[33m'\u001b[39m)\n",
      "\u001b[36mFile \u001b[39m\u001b[32mc:\\Users\\marli\\AppData\\Local\\Programs\\Python\\Python312\\Lib\\site-packages\\joblib\\numpy_pickle.py:658\u001b[39m, in \u001b[36mload\u001b[39m\u001b[34m(filename, mmap_mode)\u001b[39m\n\u001b[32m    652\u001b[39m             \u001b[38;5;28;01mif\u001b[39;00m \u001b[38;5;28misinstance\u001b[39m(fobj, \u001b[38;5;28mstr\u001b[39m):\n\u001b[32m    653\u001b[39m                 \u001b[38;5;66;03m# if the returned file object is a string, this means we\u001b[39;00m\n\u001b[32m    654\u001b[39m                 \u001b[38;5;66;03m# try to load a pickle file generated with an version of\u001b[39;00m\n\u001b[32m    655\u001b[39m                 \u001b[38;5;66;03m# Joblib so we load it with joblib compatibility function.\u001b[39;00m\n\u001b[32m    656\u001b[39m                 \u001b[38;5;28;01mreturn\u001b[39;00m load_compatibility(fobj)\n\u001b[32m--> \u001b[39m\u001b[32m658\u001b[39m             obj = \u001b[43m_unpickle\u001b[49m\u001b[43m(\u001b[49m\u001b[43mfobj\u001b[49m\u001b[43m,\u001b[49m\u001b[43m \u001b[49m\u001b[43mfilename\u001b[49m\u001b[43m,\u001b[49m\u001b[43m \u001b[49m\u001b[43mmmap_mode\u001b[49m\u001b[43m)\u001b[49m\n\u001b[32m    659\u001b[39m \u001b[38;5;28;01mreturn\u001b[39;00m obj\n",
      "\u001b[36mFile \u001b[39m\u001b[32mc:\\Users\\marli\\AppData\\Local\\Programs\\Python\\Python312\\Lib\\site-packages\\joblib\\numpy_pickle.py:577\u001b[39m, in \u001b[36m_unpickle\u001b[39m\u001b[34m(fobj, filename, mmap_mode)\u001b[39m\n\u001b[32m    575\u001b[39m obj = \u001b[38;5;28;01mNone\u001b[39;00m\n\u001b[32m    576\u001b[39m \u001b[38;5;28;01mtry\u001b[39;00m:\n\u001b[32m--> \u001b[39m\u001b[32m577\u001b[39m     obj = \u001b[43munpickler\u001b[49m\u001b[43m.\u001b[49m\u001b[43mload\u001b[49m\u001b[43m(\u001b[49m\u001b[43m)\u001b[49m\n\u001b[32m    578\u001b[39m     \u001b[38;5;28;01mif\u001b[39;00m unpickler.compat_mode:\n\u001b[32m    579\u001b[39m         warnings.warn(\u001b[33m\"\u001b[39m\u001b[33mThe file \u001b[39m\u001b[33m'\u001b[39m\u001b[38;5;132;01m%s\u001b[39;00m\u001b[33m'\u001b[39m\u001b[33m has been generated with a \u001b[39m\u001b[33m\"\u001b[39m\n\u001b[32m    580\u001b[39m                       \u001b[33m\"\u001b[39m\u001b[33mjoblib version less than 0.10. \u001b[39m\u001b[33m\"\u001b[39m\n\u001b[32m    581\u001b[39m                       \u001b[33m\"\u001b[39m\u001b[33mPlease regenerate this pickle file.\u001b[39m\u001b[33m\"\u001b[39m\n\u001b[32m    582\u001b[39m                       % filename,\n\u001b[32m    583\u001b[39m                       \u001b[38;5;167;01mDeprecationWarning\u001b[39;00m, stacklevel=\u001b[32m3\u001b[39m)\n",
      "\u001b[36mFile \u001b[39m\u001b[32mc:\\Users\\marli\\AppData\\Local\\Programs\\Python\\Python312\\Lib\\pickle.py:1256\u001b[39m, in \u001b[36m_Unpickler.load\u001b[39m\u001b[34m(self)\u001b[39m\n\u001b[32m   1254\u001b[39m             \u001b[38;5;28;01mraise\u001b[39;00m \u001b[38;5;167;01mEOFError\u001b[39;00m\n\u001b[32m   1255\u001b[39m         \u001b[38;5;28;01massert\u001b[39;00m \u001b[38;5;28misinstance\u001b[39m(key, bytes_types)\n\u001b[32m-> \u001b[39m\u001b[32m1256\u001b[39m         \u001b[43mdispatch\u001b[49m\u001b[43m[\u001b[49m\u001b[43mkey\u001b[49m\u001b[43m[\u001b[49m\u001b[32;43m0\u001b[39;49m\u001b[43m]\u001b[49m\u001b[43m]\u001b[49m\u001b[43m(\u001b[49m\u001b[38;5;28;43mself\u001b[39;49m\u001b[43m)\u001b[49m\n\u001b[32m   1257\u001b[39m \u001b[38;5;28;01mexcept\u001b[39;00m _Stop \u001b[38;5;28;01mas\u001b[39;00m stopinst:\n\u001b[32m   1258\u001b[39m     \u001b[38;5;28;01mreturn\u001b[39;00m stopinst.value\n",
      "\u001b[36mFile \u001b[39m\u001b[32mc:\\Users\\marli\\AppData\\Local\\Programs\\Python\\Python312\\Lib\\site-packages\\joblib\\numpy_pickle.py:402\u001b[39m, in \u001b[36mNumpyUnpickler.load_build\u001b[39m\u001b[34m(self)\u001b[39m\n\u001b[32m    394\u001b[39m \u001b[38;5;28;01mdef\u001b[39;00m\u001b[38;5;250m \u001b[39m\u001b[34mload_build\u001b[39m(\u001b[38;5;28mself\u001b[39m):\n\u001b[32m    395\u001b[39m \u001b[38;5;250m    \u001b[39m\u001b[33;03m\"\"\"Called to set the state of a newly created object.\u001b[39;00m\n\u001b[32m    396\u001b[39m \n\u001b[32m    397\u001b[39m \u001b[33;03m    We capture it to replace our place-holder objects, NDArrayWrapper or\u001b[39;00m\n\u001b[32m   (...)\u001b[39m\u001b[32m    400\u001b[39m \u001b[33;03m    NDArrayWrapper is used for backward compatibility with joblib <= 0.9.\u001b[39;00m\n\u001b[32m    401\u001b[39m \u001b[33;03m    \"\"\"\u001b[39;00m\n\u001b[32m--> \u001b[39m\u001b[32m402\u001b[39m     \u001b[43mUnpickler\u001b[49m\u001b[43m.\u001b[49m\u001b[43mload_build\u001b[49m\u001b[43m(\u001b[49m\u001b[38;5;28;43mself\u001b[39;49m\u001b[43m)\u001b[49m\n\u001b[32m    404\u001b[39m     \u001b[38;5;66;03m# For backward compatibility, we support NDArrayWrapper objects.\u001b[39;00m\n\u001b[32m    405\u001b[39m     \u001b[38;5;28;01mif\u001b[39;00m \u001b[38;5;28misinstance\u001b[39m(\u001b[38;5;28mself\u001b[39m.stack[-\u001b[32m1\u001b[39m], (NDArrayWrapper, NumpyArrayWrapper)):\n",
      "\u001b[36mFile \u001b[39m\u001b[32mc:\\Users\\marli\\AppData\\Local\\Programs\\Python\\Python312\\Lib\\pickle.py:1760\u001b[39m, in \u001b[36m_Unpickler.load_build\u001b[39m\u001b[34m(self)\u001b[39m\n\u001b[32m   1758\u001b[39m setstate = \u001b[38;5;28mgetattr\u001b[39m(inst, \u001b[33m\"\u001b[39m\u001b[33m__setstate__\u001b[39m\u001b[33m\"\u001b[39m, \u001b[38;5;28;01mNone\u001b[39;00m)\n\u001b[32m   1759\u001b[39m \u001b[38;5;28;01mif\u001b[39;00m setstate \u001b[38;5;129;01mis\u001b[39;00m \u001b[38;5;129;01mnot\u001b[39;00m \u001b[38;5;28;01mNone\u001b[39;00m:\n\u001b[32m-> \u001b[39m\u001b[32m1760\u001b[39m     \u001b[43msetstate\u001b[49m\u001b[43m(\u001b[49m\u001b[43mstate\u001b[49m\u001b[43m)\u001b[49m\n\u001b[32m   1761\u001b[39m     \u001b[38;5;28;01mreturn\u001b[39;00m\n\u001b[32m   1762\u001b[39m slotstate = \u001b[38;5;28;01mNone\u001b[39;00m\n",
      "\u001b[36mFile \u001b[39m\u001b[32m_tree.pyx:848\u001b[39m, in \u001b[36msklearn.tree._tree.Tree.__setstate__\u001b[39m\u001b[34m()\u001b[39m\n",
      "\u001b[36mFile \u001b[39m\u001b[32m_tree.pyx:1554\u001b[39m, in \u001b[36msklearn.tree._tree._check_node_ndarray\u001b[39m\u001b[34m()\u001b[39m\n",
      "\u001b[31mValueError\u001b[39m: node array from the pickle has an incompatible dtype:\n- expected: {'names': ['left_child', 'right_child', 'feature', 'threshold', 'impurity', 'n_node_samples', 'weighted_n_node_samples', 'missing_go_to_left'], 'formats': ['<i8', '<i8', '<i8', '<f8', '<f8', '<i8', '<f8', 'u1'], 'offsets': [0, 8, 16, 24, 32, 40, 48, 56], 'itemsize': 64}\n- got     : [('left_child', '<i8'), ('right_child', '<i8'), ('feature', '<i8'), ('threshold', '<f8'), ('impurity', '<f8'), ('n_node_samples', '<i8'), ('weighted_n_node_samples', '<f8')]"
     ]
    }
   ],
   "source": [
    "# Cargar el modelo guardado\n",
    "modelo = joblib.load(\"..\\prediccion_reforestacion\\modelo\\modelo_hibrido_0.9269.pkl\")\n",
    "\n",
    "# Cargar los datos originales para obtener todas las estaciones y distritos\n",
    "df_original = pd.read_csv('..\\prediccion_reforestacion\\data\\data_monitoreo_contaminantes_filtrado_best.csv')\n",
    "\n",
    "# Datos históricos de PM10\n",
    "historico_pm10 = {\n",
    "    2015: 68.51, 2016: 71.85, 2017: 73.25, 2018: 69.36, \n",
    "    2019: 56.26, 2020: 53.22, 2021: 60.80, 2022: 56.51,\n",
    "    2023: 41.89, 2024: 46.72\n",
    "}\n",
    "\n",
    "# Datos de arborización SERPAR\n",
    "arboles_serpar = {\n",
    "    2020: 82637,\n",
    "    2021: 160932,\n",
    "    2022: 150136,\n",
    "    2023: 86957,\n",
    "    2024: 115548\n",
    "}\n",
    "\n",
    "# Constantes globales\n",
    "TASA_SUPERVIVENCIA = 0.7\n",
    "ARBOLES_PROMEDIO = np.mean(list(arboles_serpar.values()))\n",
    "VOLUMEN_AIRE = 2819000000 * 10  # área de Lima * altura promedio de mezcla\n",
    "TARGET_PM10_MIN = 27  # Límite inferior del rango objetivo\n",
    "TARGET_PM10_MAX = 40.5  # Límite superior del rango objetivo"
   ]
  },
  {
   "cell_type": "code",
   "execution_count": 16,
   "metadata": {},
   "outputs": [],
   "source": [
    "### 3. Preparar escenarios\n",
    "def crear_datos_prediccion(start_year=2025, end_year=2035):\n",
    "    \"\"\"\n",
    "    Crea DataFrame con todas las combinaciones necesarias para la predicción\n",
    "    \"\"\"\n",
    "    # Obtener todas las estaciones y distritos únicos\n",
    "    estaciones = df_original['ESTACION'].unique()\n",
    "    distritos = df_original['DISTRITO'].unique()\n",
    "    \n",
    "    datos = []\n",
    "    for año in range(start_year, end_year + 1):\n",
    "        for mes in range(1, 13):\n",
    "            for estacion, distrito in zip(estaciones, distritos):\n",
    "                for hora in range(24):\n",
    "                    dia_semana = pd.Timestamp(year=año, month=mes, day=1).weekday()\n",
    "                    es_fin_semana = 1 if dia_semana >= 5 else 0\n",
    "                    datos.append({\n",
    "                        'ESTACION': estacion,\n",
    "                        'DISTRITO': distrito,\n",
    "                        'HORA': hora,\n",
    "                        'DIA_SEMANA': dia_semana,\n",
    "                        'MES': mes,\n",
    "                        'AÑO': año,\n",
    "                        'ES_FIN_DE_SEMANA': es_fin_semana\n",
    "                    })\n",
    "    return pd.DataFrame(datos)\n",
    "\n",
    "def calcular_arboles_necesarios(df_pred, target_pm10=33.75, start_year=2025):\n",
    "    \"\"\"\n",
    "    Calcula cuántos árboles se necesitan plantar por año para alcanzar el objetivo de PM10\n",
    "    \"\"\"\n",
    "    prediccion_base = modelo.predict(df_pred)\n",
    "    años_unicos = df_pred['AÑO'].unique()\n",
    "    \n",
    "    # Calcular reducción por árbol (5217.4 g/año)\n",
    "    reduccion_diaria_por_arbol = 5217.4 / 365\n",
    "    \n",
    "    arboles_necesarios_por_año = {}\n",
    "    arboles_acumulados = {}\n",
    "    pm10_proyectado = {}\n",
    "    \n",
    "    for i, año in enumerate(años_unicos):\n",
    "        mask_año = df_pred['AÑO'] == año\n",
    "        pm10_base_año = np.mean(prediccion_base[mask_año])\n",
    "        \n",
    "        # Calcular cuánta reducción se necesita\n",
    "        reduccion_necesaria = max(0, pm10_base_año - target_pm10)\n",
    "        \n",
    "        # Calcular cuántos árboles se necesitan para esta reducción\n",
    "        # Considerando los árboles acumulados de años anteriores\n",
    "        arboles_acumulados_previos = sum(arboles_necesarios_por_año.get(a, 0) * TASA_SUPERVIVENCIA for a in range(start_year, año))\n",
    "        \n",
    "        # Calcular reducción ya lograda por árboles previos\n",
    "        reduccion_ya_lograda = (reduccion_diaria_por_arbol * arboles_acumulados_previos * 1000) / VOLUMEN_AIRE\n",
    "        \n",
    "        # Reducción adicional necesaria\n",
    "        reduccion_adicional = max(0, reduccion_necesaria - reduccion_ya_lograda)\n",
    "        \n",
    "        # Árboles nuevos necesarios este año\n",
    "        if reduccion_adicional > 0:\n",
    "            nuevos_arboles = int(np.ceil((reduccion_adicional * VOLUMEN_AIRE) / (reduccion_diaria_por_arbol * 1000)))\n",
    "        else:\n",
    "            nuevos_arboles = 0\n",
    "            \n",
    "        arboles_necesarios_por_año[año] = nuevos_arboles\n",
    "        arboles_acumulados[año] = arboles_acumulados_previos + (nuevos_arboles * TASA_SUPERVIVENCIA)\n",
    "        \n",
    "        # Calcular PM10 proyectado con estos árboles\n",
    "        reduccion_total = (reduccion_diaria_por_arbol * arboles_acumulados[año] * 1000) / VOLUMEN_AIRE\n",
    "        pm10_proyectado[año] = pm10_base_año - reduccion_total\n",
    "    \n",
    "    return arboles_necesarios_por_año, arboles_acumulados, pm10_proyectado, prediccion_base\n",
    "\n",
    "def simular_escenarios_multiple(df_pred, start_year=2025, escenarios_arboles=[120000, 200000, 300000, 400000, 500000]):\n",
    "    \"\"\"\n",
    "    Simula múltiples escenarios con diferentes cantidades de árboles plantados anualmente\n",
    "    \"\"\"\n",
    "    prediccion_base = modelo.predict(df_pred)\n",
    "    resultados_escenarios = {}\n",
    "    \n",
    "    # Calcular reducción por árbol (5217.4 g/año)\n",
    "    reduccion_diaria_por_arbol = 5217.4 / 365\n",
    "    \n",
    "    años_unicos = df_pred['AÑO'].unique()\n",
    "    \n",
    "    for arboles_anuales in escenarios_arboles:\n",
    "        prediccion_escenario = prediccion_base.copy()\n",
    "        arboles_acumulados = {}\n",
    "        \n",
    "        for i, año in enumerate(años_unicos):\n",
    "            # Árboles acumulados considerando supervivencia\n",
    "            n_arboles = int(arboles_anuales * TASA_SUPERVIVENCIA * (i + 1))\n",
    "            arboles_acumulados[año] = n_arboles\n",
    "            \n",
    "            reduccion_diaria = reduccion_diaria_por_arbol * n_arboles\n",
    "            reduccion_concentracion = (reduccion_diaria * 1000) / VOLUMEN_AIRE\n",
    "            \n",
    "            mask_año = df_pred['AÑO'] == año\n",
    "            prediccion_escenario[mask_año] = np.maximum(0, \n",
    "                prediccion_escenario[mask_año] - reduccion_concentracion)\n",
    "        \n",
    "        resultados_escenarios[arboles_anuales] = (prediccion_escenario, arboles_acumulados)\n",
    "    \n",
    "    return prediccion_base, resultados_escenarios\n",
    "\n",
    "def categorizar_calidad_aire(valor):\n",
    "    if valor <= 54:\n",
    "        return 'Buena'\n",
    "    elif valor <= 154:\n",
    "        return 'Moderada'\n",
    "    elif valor <= 254:\n",
    "        return 'Insalubre para grupos sensibles'\n",
    "    else:\n",
    "        return 'Insalubre'\n"
   ]
  },
  {
   "cell_type": "code",
   "execution_count": 17,
   "metadata": {},
   "outputs": [
    {
     "data": {
      "application/vnd.plotly.v1+json": {
       "config": {
        "plotlyServerURL": "https://plot.ly"
       },
       "data": [
        {
         "line": {
          "color": "gray",
          "dash": "dash"
         },
         "name": "Histórico PM10",
         "type": "scatter",
         "x": [
          2015,
          2016,
          2017,
          2018,
          2019,
          2020,
          2021,
          2022,
          2023,
          2024
         ],
         "xaxis": "x",
         "y": [
          68.51,
          71.85,
          73.25,
          69.36,
          56.26,
          53.22,
          60.8,
          56.51,
          41.89,
          46.72
         ],
         "yaxis": "y"
        },
        {
         "line": {
          "color": "red"
         },
         "name": "Proyección sin árboles",
         "type": "scatter",
         "x": [
          2025,
          2026,
          2027,
          2028,
          2029,
          2030,
          2031,
          2032,
          2033,
          2034,
          2035
         ],
         "xaxis": "x",
         "y": [
          47.654856759009775,
          47.395258027430444,
          47.332708817458354,
          48.25746363666381,
          47.99780918728455,
          47.7682498046244,
          47.654856759009775,
          47.272972624111794,
          47.76756205060106,
          47.88751839023935,
          47.99780918728455
         ],
         "yaxis": "y"
        },
        {
         "line": {
          "color": "green"
         },
         "name": "PM10 con árboles necesarios",
         "type": "scatter",
         "x": [
          2025,
          2026,
          2027,
          2028,
          2029,
          2030,
          2031,
          2032,
          2033,
          2034,
          2035
         ],
         "xaxis": "x",
         "y": [
          37.921456930480275,
          34.92355714826704,
          34.0833021477523,
          34.127417084792214,
          33.78532854193378,
          33.55576915927363,
          33.442376113659,
          33.06049197876102,
          33.555081405250284,
          33.67503774488858,
          33.760598278395264
         ],
         "yaxis": "y"
        },
        {
         "fill": "toself",
         "fillcolor": "rgba(0,255,0,0.2)",
         "line": {
          "color": "rgba(0,255,0,0.5)"
         },
         "name": "Rango objetivo (27-40.5 µg/m³)",
         "type": "scatter",
         "x": [
          2025,
          2035,
          2035,
          2025
         ],
         "xaxis": "x",
         "y": [
          27,
          27,
          40.5,
          40.5
         ],
         "yaxis": "y"
        },
        {
         "marker": {
          "color": "blue"
         },
         "name": "Árboles necesarios por año",
         "type": "bar",
         "x": [
          2025,
          2026,
          2027,
          2028,
          2029,
          2030,
          2031,
          2032,
          2033,
          2034,
          2035
         ],
         "xaxis": "x2",
         "y": [
          27422076,
          7714663,
          2191044,
          2481042,
          232243,
          0,
          0,
          0,
          0,
          0,
          69673
         ],
         "yaxis": "y2"
        },
        {
         "line": {
          "color": "orange",
          "dash": "dash"
         },
         "name": "Promedio actual (119,242 árboles/año)",
         "type": "scatter",
         "x": [
          2025,
          2026,
          2027,
          2028,
          2029,
          2030,
          2031,
          2032,
          2033,
          2034,
          2035
         ],
         "xaxis": "x2",
         "y": [
          119242,
          119242,
          119242,
          119242,
          119242,
          119242,
          119242,
          119242,
          119242,
          119242,
          119242
         ],
         "yaxis": "y2"
        }
       ],
       "layout": {
        "annotations": [
         {
          "font": {
           "size": 16
          },
          "showarrow": false,
          "text": "Evolución proyectada de PM10 hacia nivel objetivo",
          "x": 0.5,
          "xanchor": "center",
          "xref": "paper",
          "y": 1,
          "yanchor": "bottom",
          "yref": "paper"
         },
         {
          "font": {
           "size": 16
          },
          "showarrow": false,
          "text": "Árboles necesarios por año para alcanzar objetivo",
          "x": 0.5,
          "xanchor": "center",
          "xref": "paper",
          "y": 0.375,
          "yanchor": "bottom",
          "yref": "paper"
         }
        ],
        "height": 800,
        "showlegend": true,
        "template": {
         "data": {
          "bar": [
           {
            "error_x": {
             "color": "#2a3f5f"
            },
            "error_y": {
             "color": "#2a3f5f"
            },
            "marker": {
             "line": {
              "color": "#E5ECF6",
              "width": 0.5
             },
             "pattern": {
              "fillmode": "overlay",
              "size": 10,
              "solidity": 0.2
             }
            },
            "type": "bar"
           }
          ],
          "barpolar": [
           {
            "marker": {
             "line": {
              "color": "#E5ECF6",
              "width": 0.5
             },
             "pattern": {
              "fillmode": "overlay",
              "size": 10,
              "solidity": 0.2
             }
            },
            "type": "barpolar"
           }
          ],
          "carpet": [
           {
            "aaxis": {
             "endlinecolor": "#2a3f5f",
             "gridcolor": "white",
             "linecolor": "white",
             "minorgridcolor": "white",
             "startlinecolor": "#2a3f5f"
            },
            "baxis": {
             "endlinecolor": "#2a3f5f",
             "gridcolor": "white",
             "linecolor": "white",
             "minorgridcolor": "white",
             "startlinecolor": "#2a3f5f"
            },
            "type": "carpet"
           }
          ],
          "choropleth": [
           {
            "colorbar": {
             "outlinewidth": 0,
             "ticks": ""
            },
            "type": "choropleth"
           }
          ],
          "contour": [
           {
            "colorbar": {
             "outlinewidth": 0,
             "ticks": ""
            },
            "colorscale": [
             [
              0,
              "#0d0887"
             ],
             [
              0.1111111111111111,
              "#46039f"
             ],
             [
              0.2222222222222222,
              "#7201a8"
             ],
             [
              0.3333333333333333,
              "#9c179e"
             ],
             [
              0.4444444444444444,
              "#bd3786"
             ],
             [
              0.5555555555555556,
              "#d8576b"
             ],
             [
              0.6666666666666666,
              "#ed7953"
             ],
             [
              0.7777777777777778,
              "#fb9f3a"
             ],
             [
              0.8888888888888888,
              "#fdca26"
             ],
             [
              1,
              "#f0f921"
             ]
            ],
            "type": "contour"
           }
          ],
          "contourcarpet": [
           {
            "colorbar": {
             "outlinewidth": 0,
             "ticks": ""
            },
            "type": "contourcarpet"
           }
          ],
          "heatmap": [
           {
            "colorbar": {
             "outlinewidth": 0,
             "ticks": ""
            },
            "colorscale": [
             [
              0,
              "#0d0887"
             ],
             [
              0.1111111111111111,
              "#46039f"
             ],
             [
              0.2222222222222222,
              "#7201a8"
             ],
             [
              0.3333333333333333,
              "#9c179e"
             ],
             [
              0.4444444444444444,
              "#bd3786"
             ],
             [
              0.5555555555555556,
              "#d8576b"
             ],
             [
              0.6666666666666666,
              "#ed7953"
             ],
             [
              0.7777777777777778,
              "#fb9f3a"
             ],
             [
              0.8888888888888888,
              "#fdca26"
             ],
             [
              1,
              "#f0f921"
             ]
            ],
            "type": "heatmap"
           }
          ],
          "heatmapgl": [
           {
            "colorbar": {
             "outlinewidth": 0,
             "ticks": ""
            },
            "colorscale": [
             [
              0,
              "#0d0887"
             ],
             [
              0.1111111111111111,
              "#46039f"
             ],
             [
              0.2222222222222222,
              "#7201a8"
             ],
             [
              0.3333333333333333,
              "#9c179e"
             ],
             [
              0.4444444444444444,
              "#bd3786"
             ],
             [
              0.5555555555555556,
              "#d8576b"
             ],
             [
              0.6666666666666666,
              "#ed7953"
             ],
             [
              0.7777777777777778,
              "#fb9f3a"
             ],
             [
              0.8888888888888888,
              "#fdca26"
             ],
             [
              1,
              "#f0f921"
             ]
            ],
            "type": "heatmapgl"
           }
          ],
          "histogram": [
           {
            "marker": {
             "pattern": {
              "fillmode": "overlay",
              "size": 10,
              "solidity": 0.2
             }
            },
            "type": "histogram"
           }
          ],
          "histogram2d": [
           {
            "colorbar": {
             "outlinewidth": 0,
             "ticks": ""
            },
            "colorscale": [
             [
              0,
              "#0d0887"
             ],
             [
              0.1111111111111111,
              "#46039f"
             ],
             [
              0.2222222222222222,
              "#7201a8"
             ],
             [
              0.3333333333333333,
              "#9c179e"
             ],
             [
              0.4444444444444444,
              "#bd3786"
             ],
             [
              0.5555555555555556,
              "#d8576b"
             ],
             [
              0.6666666666666666,
              "#ed7953"
             ],
             [
              0.7777777777777778,
              "#fb9f3a"
             ],
             [
              0.8888888888888888,
              "#fdca26"
             ],
             [
              1,
              "#f0f921"
             ]
            ],
            "type": "histogram2d"
           }
          ],
          "histogram2dcontour": [
           {
            "colorbar": {
             "outlinewidth": 0,
             "ticks": ""
            },
            "colorscale": [
             [
              0,
              "#0d0887"
             ],
             [
              0.1111111111111111,
              "#46039f"
             ],
             [
              0.2222222222222222,
              "#7201a8"
             ],
             [
              0.3333333333333333,
              "#9c179e"
             ],
             [
              0.4444444444444444,
              "#bd3786"
             ],
             [
              0.5555555555555556,
              "#d8576b"
             ],
             [
              0.6666666666666666,
              "#ed7953"
             ],
             [
              0.7777777777777778,
              "#fb9f3a"
             ],
             [
              0.8888888888888888,
              "#fdca26"
             ],
             [
              1,
              "#f0f921"
             ]
            ],
            "type": "histogram2dcontour"
           }
          ],
          "mesh3d": [
           {
            "colorbar": {
             "outlinewidth": 0,
             "ticks": ""
            },
            "type": "mesh3d"
           }
          ],
          "parcoords": [
           {
            "line": {
             "colorbar": {
              "outlinewidth": 0,
              "ticks": ""
             }
            },
            "type": "parcoords"
           }
          ],
          "pie": [
           {
            "automargin": true,
            "type": "pie"
           }
          ],
          "scatter": [
           {
            "fillpattern": {
             "fillmode": "overlay",
             "size": 10,
             "solidity": 0.2
            },
            "type": "scatter"
           }
          ],
          "scatter3d": [
           {
            "line": {
             "colorbar": {
              "outlinewidth": 0,
              "ticks": ""
             }
            },
            "marker": {
             "colorbar": {
              "outlinewidth": 0,
              "ticks": ""
             }
            },
            "type": "scatter3d"
           }
          ],
          "scattercarpet": [
           {
            "marker": {
             "colorbar": {
              "outlinewidth": 0,
              "ticks": ""
             }
            },
            "type": "scattercarpet"
           }
          ],
          "scattergeo": [
           {
            "marker": {
             "colorbar": {
              "outlinewidth": 0,
              "ticks": ""
             }
            },
            "type": "scattergeo"
           }
          ],
          "scattergl": [
           {
            "marker": {
             "colorbar": {
              "outlinewidth": 0,
              "ticks": ""
             }
            },
            "type": "scattergl"
           }
          ],
          "scattermapbox": [
           {
            "marker": {
             "colorbar": {
              "outlinewidth": 0,
              "ticks": ""
             }
            },
            "type": "scattermapbox"
           }
          ],
          "scatterpolar": [
           {
            "marker": {
             "colorbar": {
              "outlinewidth": 0,
              "ticks": ""
             }
            },
            "type": "scatterpolar"
           }
          ],
          "scatterpolargl": [
           {
            "marker": {
             "colorbar": {
              "outlinewidth": 0,
              "ticks": ""
             }
            },
            "type": "scatterpolargl"
           }
          ],
          "scatterternary": [
           {
            "marker": {
             "colorbar": {
              "outlinewidth": 0,
              "ticks": ""
             }
            },
            "type": "scatterternary"
           }
          ],
          "surface": [
           {
            "colorbar": {
             "outlinewidth": 0,
             "ticks": ""
            },
            "colorscale": [
             [
              0,
              "#0d0887"
             ],
             [
              0.1111111111111111,
              "#46039f"
             ],
             [
              0.2222222222222222,
              "#7201a8"
             ],
             [
              0.3333333333333333,
              "#9c179e"
             ],
             [
              0.4444444444444444,
              "#bd3786"
             ],
             [
              0.5555555555555556,
              "#d8576b"
             ],
             [
              0.6666666666666666,
              "#ed7953"
             ],
             [
              0.7777777777777778,
              "#fb9f3a"
             ],
             [
              0.8888888888888888,
              "#fdca26"
             ],
             [
              1,
              "#f0f921"
             ]
            ],
            "type": "surface"
           }
          ],
          "table": [
           {
            "cells": {
             "fill": {
              "color": "#EBF0F8"
             },
             "line": {
              "color": "white"
             }
            },
            "header": {
             "fill": {
              "color": "#C8D4E3"
             },
             "line": {
              "color": "white"
             }
            },
            "type": "table"
           }
          ]
         },
         "layout": {
          "annotationdefaults": {
           "arrowcolor": "#2a3f5f",
           "arrowhead": 0,
           "arrowwidth": 1
          },
          "autotypenumbers": "strict",
          "coloraxis": {
           "colorbar": {
            "outlinewidth": 0,
            "ticks": ""
           }
          },
          "colorscale": {
           "diverging": [
            [
             0,
             "#8e0152"
            ],
            [
             0.1,
             "#c51b7d"
            ],
            [
             0.2,
             "#de77ae"
            ],
            [
             0.3,
             "#f1b6da"
            ],
            [
             0.4,
             "#fde0ef"
            ],
            [
             0.5,
             "#f7f7f7"
            ],
            [
             0.6,
             "#e6f5d0"
            ],
            [
             0.7,
             "#b8e186"
            ],
            [
             0.8,
             "#7fbc41"
            ],
            [
             0.9,
             "#4d9221"
            ],
            [
             1,
             "#276419"
            ]
           ],
           "sequential": [
            [
             0,
             "#0d0887"
            ],
            [
             0.1111111111111111,
             "#46039f"
            ],
            [
             0.2222222222222222,
             "#7201a8"
            ],
            [
             0.3333333333333333,
             "#9c179e"
            ],
            [
             0.4444444444444444,
             "#bd3786"
            ],
            [
             0.5555555555555556,
             "#d8576b"
            ],
            [
             0.6666666666666666,
             "#ed7953"
            ],
            [
             0.7777777777777778,
             "#fb9f3a"
            ],
            [
             0.8888888888888888,
             "#fdca26"
            ],
            [
             1,
             "#f0f921"
            ]
           ],
           "sequentialminus": [
            [
             0,
             "#0d0887"
            ],
            [
             0.1111111111111111,
             "#46039f"
            ],
            [
             0.2222222222222222,
             "#7201a8"
            ],
            [
             0.3333333333333333,
             "#9c179e"
            ],
            [
             0.4444444444444444,
             "#bd3786"
            ],
            [
             0.5555555555555556,
             "#d8576b"
            ],
            [
             0.6666666666666666,
             "#ed7953"
            ],
            [
             0.7777777777777778,
             "#fb9f3a"
            ],
            [
             0.8888888888888888,
             "#fdca26"
            ],
            [
             1,
             "#f0f921"
            ]
           ]
          },
          "colorway": [
           "#636efa",
           "#EF553B",
           "#00cc96",
           "#ab63fa",
           "#FFA15A",
           "#19d3f3",
           "#FF6692",
           "#B6E880",
           "#FF97FF",
           "#FECB52"
          ],
          "font": {
           "color": "#2a3f5f"
          },
          "geo": {
           "bgcolor": "white",
           "lakecolor": "white",
           "landcolor": "#E5ECF6",
           "showlakes": true,
           "showland": true,
           "subunitcolor": "white"
          },
          "hoverlabel": {
           "align": "left"
          },
          "hovermode": "closest",
          "mapbox": {
           "style": "light"
          },
          "paper_bgcolor": "white",
          "plot_bgcolor": "#E5ECF6",
          "polar": {
           "angularaxis": {
            "gridcolor": "white",
            "linecolor": "white",
            "ticks": ""
           },
           "bgcolor": "#E5ECF6",
           "radialaxis": {
            "gridcolor": "white",
            "linecolor": "white",
            "ticks": ""
           }
          },
          "scene": {
           "xaxis": {
            "backgroundcolor": "#E5ECF6",
            "gridcolor": "white",
            "gridwidth": 2,
            "linecolor": "white",
            "showbackground": true,
            "ticks": "",
            "zerolinecolor": "white"
           },
           "yaxis": {
            "backgroundcolor": "#E5ECF6",
            "gridcolor": "white",
            "gridwidth": 2,
            "linecolor": "white",
            "showbackground": true,
            "ticks": "",
            "zerolinecolor": "white"
           },
           "zaxis": {
            "backgroundcolor": "#E5ECF6",
            "gridcolor": "white",
            "gridwidth": 2,
            "linecolor": "white",
            "showbackground": true,
            "ticks": "",
            "zerolinecolor": "white"
           }
          },
          "shapedefaults": {
           "line": {
            "color": "#2a3f5f"
           }
          },
          "ternary": {
           "aaxis": {
            "gridcolor": "white",
            "linecolor": "white",
            "ticks": ""
           },
           "baxis": {
            "gridcolor": "white",
            "linecolor": "white",
            "ticks": ""
           },
           "bgcolor": "#E5ECF6",
           "caxis": {
            "gridcolor": "white",
            "linecolor": "white",
            "ticks": ""
           }
          },
          "title": {
           "x": 0.05
          },
          "xaxis": {
           "automargin": true,
           "gridcolor": "white",
           "linecolor": "white",
           "ticks": "",
           "title": {
            "standoff": 15
           },
           "zerolinecolor": "white",
           "zerolinewidth": 2
          },
          "yaxis": {
           "automargin": true,
           "gridcolor": "white",
           "linecolor": "white",
           "ticks": "",
           "title": {
            "standoff": 15
           },
           "zerolinecolor": "white",
           "zerolinewidth": 2
          }
         }
        },
        "title": {
         "text": "Simulación de árboles necesarios para alcanzar nivel objetivo de PM10"
        },
        "xaxis": {
         "anchor": "y",
         "domain": [
          0,
          1
         ]
        },
        "xaxis2": {
         "anchor": "y2",
         "domain": [
          0,
          1
         ]
        },
        "yaxis": {
         "anchor": "x",
         "domain": [
          0.625,
          1
         ]
        },
        "yaxis2": {
         "anchor": "x2",
         "domain": [
          0,
          0.375
         ]
        }
       }
      }
     },
     "metadata": {},
     "output_type": "display_data"
    }
   ],
   "source": [
    "# Crear datos para predicción\n",
    "df_prediccion = crear_datos_prediccion(2025, 2035)\n",
    "\n",
    "# Calcular árboles necesarios para alcanzar el objetivo de PM10\n",
    "arboles_necesarios, arboles_acumulados, pm10_proyectado, pred_base = calcular_arboles_necesarios(\n",
    "    df_prediccion, target_pm10=(TARGET_PM10_MIN + TARGET_PM10_MAX) / 2\n",
    ")\n",
    "\n",
    "# También simular escenarios con cantidades fijas para comparación\n",
    "escenarios_arboles = [120000, 200000, 300000, 400000, 500000]\n",
    "_, resultados_escenarios = simular_escenarios_multiple(df_prediccion, escenarios_arboles=escenarios_arboles)\n",
    "\n",
    "# Crear visualización para árboles necesarios\n",
    "fig1 = make_subplots(rows=2, cols=1,\n",
    "                    subplot_titles=('Evolución proyectada de PM10 hacia nivel objetivo',\n",
    "                                  'Árboles necesarios por año para alcanzar objetivo'))\n",
    "\n",
    "# Añadir datos históricos\n",
    "fig1.add_trace(\n",
    "    go.Scatter(x=list(historico_pm10.keys()),\n",
    "               y=list(historico_pm10.values()),\n",
    "               name='Histórico PM10',\n",
    "               line=dict(color='gray', dash='dash')),\n",
    "    row=1, col=1\n",
    ")\n",
    "\n",
    "# Añadir línea de predicción base\n",
    "años_proyeccion = list(pm10_proyectado.keys())\n",
    "fig1.add_trace(\n",
    "    go.Scatter(x=años_proyeccion,\n",
    "               y=[np.mean(pred_base[df_prediccion['AÑO'] == año]) for año in años_proyeccion],\n",
    "               name='Proyección sin árboles',\n",
    "               line=dict(color='red')),\n",
    "    row=1, col=1\n",
    ")\n",
    "\n",
    "# Añadir línea de PM10 con árboles necesarios\n",
    "fig1.add_trace(\n",
    "    go.Scatter(x=años_proyeccion,\n",
    "               y=list(pm10_proyectado.values()),\n",
    "               name='PM10 con árboles necesarios',\n",
    "               line=dict(color='green')),\n",
    "    row=1, col=1\n",
    ")\n",
    "\n",
    "# Área objetivo de PM10\n",
    "fig1.add_trace(\n",
    "    go.Scatter(\n",
    "        x=[años_proyeccion[0], años_proyeccion[-1], años_proyeccion[-1], años_proyeccion[0]],\n",
    "        y=[TARGET_PM10_MIN, TARGET_PM10_MIN, TARGET_PM10_MAX, TARGET_PM10_MAX],\n",
    "        fill='toself',\n",
    "        fillcolor='rgba(0,255,0,0.2)',\n",
    "        line=dict(color='rgba(0,255,0,0.5)'),\n",
    "        name=f'Rango objetivo ({TARGET_PM10_MIN}-{TARGET_PM10_MAX} µg/m³)'\n",
    "    ),\n",
    "    row=1, col=1\n",
    ")\n",
    "\n",
    "# Añadir barras de árboles necesarios por año\n",
    "fig1.add_trace(\n",
    "    go.Bar(x=años_proyeccion,\n",
    "           y=list(arboles_necesarios.values()),\n",
    "           name='Árboles necesarios por año',\n",
    "           marker_color='blue'),\n",
    "    row=2, col=1\n",
    ")\n",
    "\n",
    "# Añadir línea de referencia para el promedio actual\n",
    "fig1.add_trace(\n",
    "    go.Scatter(x=años_proyeccion,\n",
    "               y=[ARBOLES_PROMEDIO] * len(años_proyeccion),\n",
    "               name=f'Promedio actual ({int(ARBOLES_PROMEDIO):,} árboles/año)',\n",
    "               line=dict(color='orange', dash='dash')),\n",
    "    row=2, col=1\n",
    ")\n",
    "\n",
    "# Actualizar diseño\n",
    "fig1.update_layout(\n",
    "    title='Simulación de árboles necesarios para alcanzar nivel objetivo de PM10',\n",
    "    height=800,\n",
    "    showlegend=True\n",
    ")\n",
    "\n",
    "fig1.show()"
   ]
  },
  {
   "cell_type": "code",
   "execution_count": 18,
   "metadata": {},
   "outputs": [
    {
     "data": {
      "application/vnd.plotly.v1+json": {
       "config": {
        "plotlyServerURL": "https://plot.ly"
       },
       "data": [
        {
         "line": {
          "color": "gray",
          "dash": "dash"
         },
         "name": "Histórico PM10",
         "type": "scatter",
         "x": [
          2015,
          2016,
          2017,
          2018,
          2019,
          2020,
          2021,
          2022,
          2023,
          2024
         ],
         "y": [
          68.51,
          71.85,
          73.25,
          69.36,
          56.26,
          53.22,
          60.8,
          56.51,
          41.89,
          46.72
         ]
        },
        {
         "line": {
          "color": "red"
         },
         "name": "Proyección sin árboles",
         "type": "scatter",
         "x": [
          2025,
          2026,
          2027,
          2028,
          2029,
          2030,
          2031,
          2032,
          2033,
          2034,
          2035
         ],
         "y": [
          47.654856759009775,
          47.395258027430444,
          47.332708817458354,
          48.25746363666381,
          47.99780918728455,
          47.7682498046244,
          47.654856759009775,
          47.272972624111794,
          47.76756205060106,
          47.88751839023935,
          47.99780918728455
         ]
        },
        {
         "line": {
          "color": "blue"
         },
         "name": "120,000 árboles/año",
         "type": "scatter",
         "x": [
          2025,
          2026,
          2027,
          2028,
          2029,
          2030,
          2031,
          2032,
          2033,
          2034,
          2035
         ],
         "y": [
          47.61226304803678,
          47.310070605484455,
          47.20492768453938,
          48.087088792771816,
          47.784840632419574,
          47.51268753878643,
          47.3567007821988,
          46.93222293632783,
          47.38421865184409,
          47.46158128050939,
          47.529278366581586
         ]
        },
        {
         "line": {
          "color": "green"
         },
         "name": "200,000 árboles/año",
         "type": "scatter",
         "x": [
          2025,
          2026,
          2027,
          2028,
          2029,
          2030,
          2031,
          2032,
          2033,
          2034,
          2035
         ],
         "y": [
          47.58386724072144,
          47.253278990853794,
          47.119740262593375,
          47.97350556351049,
          47.642861595842916,
          47.342312694894446,
          47.15793013099148,
          46.70505647780518,
          47.128656386006114,
          47.177623207356085,
          47.21692448611295
         ]
        },
        {
         "line": {
          "color": "purple"
         },
         "name": "300,000 árboles/año",
         "type": "scatter",
         "x": [
          2025,
          2026,
          2027,
          2028,
          2029,
          2030,
          2031,
          2032,
          2033,
          2034,
          2035
         ],
         "y": [
          47.54837248157728,
          47.18228947256547,
          47.01325598516088,
          47.83152652693384,
          47.465387800122095,
          47.12934414002947,
          46.90946681698234,
          46.421098404651865,
          46.80920355370864,
          46.82267561591444,
          46.826482135527144
         ]
        },
        {
         "line": {
          "color": "orange"
         },
         "name": "400,000 árboles/año",
         "type": "scatter",
         "x": [
          2025,
          2026,
          2027,
          2028,
          2029,
          2030,
          2031,
          2032,
          2033,
          2034,
          2035
         ],
         "y": [
          47.51287772243312,
          47.111299954277136,
          46.90677170772839,
          47.68954749035718,
          47.28791400440129,
          46.91637558516448,
          46.66100350297319,
          46.13714033149856,
          46.48975072141117,
          46.467728024472805,
          46.43603978494136
         ]
        },
        {
         "line": {
          "color": "teal"
         },
         "name": "500,000 árboles/año",
         "type": "scatter",
         "x": [
          2025,
          2026,
          2027,
          2028,
          2029,
          2030,
          2031,
          2032,
          2033,
          2034,
          2035
         ],
         "y": [
          47.47738296328895,
          47.040310435988815,
          46.8002874302959,
          47.54756845378053,
          47.11044020868046,
          46.703407030299495,
          46.412540188964044,
          45.85318225834526,
          46.17029788911369,
          46.112780433031176,
          46.04559743435555
         ]
        },
        {
         "line": {
          "color": "black",
          "width": 2
         },
         "name": "Árboles necesarios calculados",
         "type": "scatter",
         "x": [
          2025,
          2026,
          2027,
          2028,
          2029,
          2030,
          2031,
          2032,
          2033,
          2034,
          2035
         ],
         "y": [
          37.921456930480275,
          34.92355714826704,
          34.0833021477523,
          34.127417084792214,
          33.78532854193378,
          33.55576915927363,
          33.442376113659,
          33.06049197876102,
          33.555081405250284,
          33.67503774488858,
          33.760598278395264
         ]
        },
        {
         "fill": "toself",
         "fillcolor": "rgba(0,255,0,0.2)",
         "line": {
          "color": "rgba(0,255,0,0.5)"
         },
         "name": "Rango objetivo (27-40.5 µg/m³)",
         "type": "scatter",
         "x": [
          2025,
          2035,
          2035,
          2025
         ],
         "y": [
          27,
          27,
          40.5,
          40.5
         ]
        }
       ],
       "layout": {
        "height": 600,
        "showlegend": true,
        "template": {
         "data": {
          "bar": [
           {
            "error_x": {
             "color": "#2a3f5f"
            },
            "error_y": {
             "color": "#2a3f5f"
            },
            "marker": {
             "line": {
              "color": "#E5ECF6",
              "width": 0.5
             },
             "pattern": {
              "fillmode": "overlay",
              "size": 10,
              "solidity": 0.2
             }
            },
            "type": "bar"
           }
          ],
          "barpolar": [
           {
            "marker": {
             "line": {
              "color": "#E5ECF6",
              "width": 0.5
             },
             "pattern": {
              "fillmode": "overlay",
              "size": 10,
              "solidity": 0.2
             }
            },
            "type": "barpolar"
           }
          ],
          "carpet": [
           {
            "aaxis": {
             "endlinecolor": "#2a3f5f",
             "gridcolor": "white",
             "linecolor": "white",
             "minorgridcolor": "white",
             "startlinecolor": "#2a3f5f"
            },
            "baxis": {
             "endlinecolor": "#2a3f5f",
             "gridcolor": "white",
             "linecolor": "white",
             "minorgridcolor": "white",
             "startlinecolor": "#2a3f5f"
            },
            "type": "carpet"
           }
          ],
          "choropleth": [
           {
            "colorbar": {
             "outlinewidth": 0,
             "ticks": ""
            },
            "type": "choropleth"
           }
          ],
          "contour": [
           {
            "colorbar": {
             "outlinewidth": 0,
             "ticks": ""
            },
            "colorscale": [
             [
              0,
              "#0d0887"
             ],
             [
              0.1111111111111111,
              "#46039f"
             ],
             [
              0.2222222222222222,
              "#7201a8"
             ],
             [
              0.3333333333333333,
              "#9c179e"
             ],
             [
              0.4444444444444444,
              "#bd3786"
             ],
             [
              0.5555555555555556,
              "#d8576b"
             ],
             [
              0.6666666666666666,
              "#ed7953"
             ],
             [
              0.7777777777777778,
              "#fb9f3a"
             ],
             [
              0.8888888888888888,
              "#fdca26"
             ],
             [
              1,
              "#f0f921"
             ]
            ],
            "type": "contour"
           }
          ],
          "contourcarpet": [
           {
            "colorbar": {
             "outlinewidth": 0,
             "ticks": ""
            },
            "type": "contourcarpet"
           }
          ],
          "heatmap": [
           {
            "colorbar": {
             "outlinewidth": 0,
             "ticks": ""
            },
            "colorscale": [
             [
              0,
              "#0d0887"
             ],
             [
              0.1111111111111111,
              "#46039f"
             ],
             [
              0.2222222222222222,
              "#7201a8"
             ],
             [
              0.3333333333333333,
              "#9c179e"
             ],
             [
              0.4444444444444444,
              "#bd3786"
             ],
             [
              0.5555555555555556,
              "#d8576b"
             ],
             [
              0.6666666666666666,
              "#ed7953"
             ],
             [
              0.7777777777777778,
              "#fb9f3a"
             ],
             [
              0.8888888888888888,
              "#fdca26"
             ],
             [
              1,
              "#f0f921"
             ]
            ],
            "type": "heatmap"
           }
          ],
          "heatmapgl": [
           {
            "colorbar": {
             "outlinewidth": 0,
             "ticks": ""
            },
            "colorscale": [
             [
              0,
              "#0d0887"
             ],
             [
              0.1111111111111111,
              "#46039f"
             ],
             [
              0.2222222222222222,
              "#7201a8"
             ],
             [
              0.3333333333333333,
              "#9c179e"
             ],
             [
              0.4444444444444444,
              "#bd3786"
             ],
             [
              0.5555555555555556,
              "#d8576b"
             ],
             [
              0.6666666666666666,
              "#ed7953"
             ],
             [
              0.7777777777777778,
              "#fb9f3a"
             ],
             [
              0.8888888888888888,
              "#fdca26"
             ],
             [
              1,
              "#f0f921"
             ]
            ],
            "type": "heatmapgl"
           }
          ],
          "histogram": [
           {
            "marker": {
             "pattern": {
              "fillmode": "overlay",
              "size": 10,
              "solidity": 0.2
             }
            },
            "type": "histogram"
           }
          ],
          "histogram2d": [
           {
            "colorbar": {
             "outlinewidth": 0,
             "ticks": ""
            },
            "colorscale": [
             [
              0,
              "#0d0887"
             ],
             [
              0.1111111111111111,
              "#46039f"
             ],
             [
              0.2222222222222222,
              "#7201a8"
             ],
             [
              0.3333333333333333,
              "#9c179e"
             ],
             [
              0.4444444444444444,
              "#bd3786"
             ],
             [
              0.5555555555555556,
              "#d8576b"
             ],
             [
              0.6666666666666666,
              "#ed7953"
             ],
             [
              0.7777777777777778,
              "#fb9f3a"
             ],
             [
              0.8888888888888888,
              "#fdca26"
             ],
             [
              1,
              "#f0f921"
             ]
            ],
            "type": "histogram2d"
           }
          ],
          "histogram2dcontour": [
           {
            "colorbar": {
             "outlinewidth": 0,
             "ticks": ""
            },
            "colorscale": [
             [
              0,
              "#0d0887"
             ],
             [
              0.1111111111111111,
              "#46039f"
             ],
             [
              0.2222222222222222,
              "#7201a8"
             ],
             [
              0.3333333333333333,
              "#9c179e"
             ],
             [
              0.4444444444444444,
              "#bd3786"
             ],
             [
              0.5555555555555556,
              "#d8576b"
             ],
             [
              0.6666666666666666,
              "#ed7953"
             ],
             [
              0.7777777777777778,
              "#fb9f3a"
             ],
             [
              0.8888888888888888,
              "#fdca26"
             ],
             [
              1,
              "#f0f921"
             ]
            ],
            "type": "histogram2dcontour"
           }
          ],
          "mesh3d": [
           {
            "colorbar": {
             "outlinewidth": 0,
             "ticks": ""
            },
            "type": "mesh3d"
           }
          ],
          "parcoords": [
           {
            "line": {
             "colorbar": {
              "outlinewidth": 0,
              "ticks": ""
             }
            },
            "type": "parcoords"
           }
          ],
          "pie": [
           {
            "automargin": true,
            "type": "pie"
           }
          ],
          "scatter": [
           {
            "fillpattern": {
             "fillmode": "overlay",
             "size": 10,
             "solidity": 0.2
            },
            "type": "scatter"
           }
          ],
          "scatter3d": [
           {
            "line": {
             "colorbar": {
              "outlinewidth": 0,
              "ticks": ""
             }
            },
            "marker": {
             "colorbar": {
              "outlinewidth": 0,
              "ticks": ""
             }
            },
            "type": "scatter3d"
           }
          ],
          "scattercarpet": [
           {
            "marker": {
             "colorbar": {
              "outlinewidth": 0,
              "ticks": ""
             }
            },
            "type": "scattercarpet"
           }
          ],
          "scattergeo": [
           {
            "marker": {
             "colorbar": {
              "outlinewidth": 0,
              "ticks": ""
             }
            },
            "type": "scattergeo"
           }
          ],
          "scattergl": [
           {
            "marker": {
             "colorbar": {
              "outlinewidth": 0,
              "ticks": ""
             }
            },
            "type": "scattergl"
           }
          ],
          "scattermapbox": [
           {
            "marker": {
             "colorbar": {
              "outlinewidth": 0,
              "ticks": ""
             }
            },
            "type": "scattermapbox"
           }
          ],
          "scatterpolar": [
           {
            "marker": {
             "colorbar": {
              "outlinewidth": 0,
              "ticks": ""
             }
            },
            "type": "scatterpolar"
           }
          ],
          "scatterpolargl": [
           {
            "marker": {
             "colorbar": {
              "outlinewidth": 0,
              "ticks": ""
             }
            },
            "type": "scatterpolargl"
           }
          ],
          "scatterternary": [
           {
            "marker": {
             "colorbar": {
              "outlinewidth": 0,
              "ticks": ""
             }
            },
            "type": "scatterternary"
           }
          ],
          "surface": [
           {
            "colorbar": {
             "outlinewidth": 0,
             "ticks": ""
            },
            "colorscale": [
             [
              0,
              "#0d0887"
             ],
             [
              0.1111111111111111,
              "#46039f"
             ],
             [
              0.2222222222222222,
              "#7201a8"
             ],
             [
              0.3333333333333333,
              "#9c179e"
             ],
             [
              0.4444444444444444,
              "#bd3786"
             ],
             [
              0.5555555555555556,
              "#d8576b"
             ],
             [
              0.6666666666666666,
              "#ed7953"
             ],
             [
              0.7777777777777778,
              "#fb9f3a"
             ],
             [
              0.8888888888888888,
              "#fdca26"
             ],
             [
              1,
              "#f0f921"
             ]
            ],
            "type": "surface"
           }
          ],
          "table": [
           {
            "cells": {
             "fill": {
              "color": "#EBF0F8"
             },
             "line": {
              "color": "white"
             }
            },
            "header": {
             "fill": {
              "color": "#C8D4E3"
             },
             "line": {
              "color": "white"
             }
            },
            "type": "table"
           }
          ]
         },
         "layout": {
          "annotationdefaults": {
           "arrowcolor": "#2a3f5f",
           "arrowhead": 0,
           "arrowwidth": 1
          },
          "autotypenumbers": "strict",
          "coloraxis": {
           "colorbar": {
            "outlinewidth": 0,
            "ticks": ""
           }
          },
          "colorscale": {
           "diverging": [
            [
             0,
             "#8e0152"
            ],
            [
             0.1,
             "#c51b7d"
            ],
            [
             0.2,
             "#de77ae"
            ],
            [
             0.3,
             "#f1b6da"
            ],
            [
             0.4,
             "#fde0ef"
            ],
            [
             0.5,
             "#f7f7f7"
            ],
            [
             0.6,
             "#e6f5d0"
            ],
            [
             0.7,
             "#b8e186"
            ],
            [
             0.8,
             "#7fbc41"
            ],
            [
             0.9,
             "#4d9221"
            ],
            [
             1,
             "#276419"
            ]
           ],
           "sequential": [
            [
             0,
             "#0d0887"
            ],
            [
             0.1111111111111111,
             "#46039f"
            ],
            [
             0.2222222222222222,
             "#7201a8"
            ],
            [
             0.3333333333333333,
             "#9c179e"
            ],
            [
             0.4444444444444444,
             "#bd3786"
            ],
            [
             0.5555555555555556,
             "#d8576b"
            ],
            [
             0.6666666666666666,
             "#ed7953"
            ],
            [
             0.7777777777777778,
             "#fb9f3a"
            ],
            [
             0.8888888888888888,
             "#fdca26"
            ],
            [
             1,
             "#f0f921"
            ]
           ],
           "sequentialminus": [
            [
             0,
             "#0d0887"
            ],
            [
             0.1111111111111111,
             "#46039f"
            ],
            [
             0.2222222222222222,
             "#7201a8"
            ],
            [
             0.3333333333333333,
             "#9c179e"
            ],
            [
             0.4444444444444444,
             "#bd3786"
            ],
            [
             0.5555555555555556,
             "#d8576b"
            ],
            [
             0.6666666666666666,
             "#ed7953"
            ],
            [
             0.7777777777777778,
             "#fb9f3a"
            ],
            [
             0.8888888888888888,
             "#fdca26"
            ],
            [
             1,
             "#f0f921"
            ]
           ]
          },
          "colorway": [
           "#636efa",
           "#EF553B",
           "#00cc96",
           "#ab63fa",
           "#FFA15A",
           "#19d3f3",
           "#FF6692",
           "#B6E880",
           "#FF97FF",
           "#FECB52"
          ],
          "font": {
           "color": "#2a3f5f"
          },
          "geo": {
           "bgcolor": "white",
           "lakecolor": "white",
           "landcolor": "#E5ECF6",
           "showlakes": true,
           "showland": true,
           "subunitcolor": "white"
          },
          "hoverlabel": {
           "align": "left"
          },
          "hovermode": "closest",
          "mapbox": {
           "style": "light"
          },
          "paper_bgcolor": "white",
          "plot_bgcolor": "#E5ECF6",
          "polar": {
           "angularaxis": {
            "gridcolor": "white",
            "linecolor": "white",
            "ticks": ""
           },
           "bgcolor": "#E5ECF6",
           "radialaxis": {
            "gridcolor": "white",
            "linecolor": "white",
            "ticks": ""
           }
          },
          "scene": {
           "xaxis": {
            "backgroundcolor": "#E5ECF6",
            "gridcolor": "white",
            "gridwidth": 2,
            "linecolor": "white",
            "showbackground": true,
            "ticks": "",
            "zerolinecolor": "white"
           },
           "yaxis": {
            "backgroundcolor": "#E5ECF6",
            "gridcolor": "white",
            "gridwidth": 2,
            "linecolor": "white",
            "showbackground": true,
            "ticks": "",
            "zerolinecolor": "white"
           },
           "zaxis": {
            "backgroundcolor": "#E5ECF6",
            "gridcolor": "white",
            "gridwidth": 2,
            "linecolor": "white",
            "showbackground": true,
            "ticks": "",
            "zerolinecolor": "white"
           }
          },
          "shapedefaults": {
           "line": {
            "color": "#2a3f5f"
           }
          },
          "ternary": {
           "aaxis": {
            "gridcolor": "white",
            "linecolor": "white",
            "ticks": ""
           },
           "baxis": {
            "gridcolor": "white",
            "linecolor": "white",
            "ticks": ""
           },
           "bgcolor": "#E5ECF6",
           "caxis": {
            "gridcolor": "white",
            "linecolor": "white",
            "ticks": ""
           }
          },
          "title": {
           "x": 0.05
          },
          "xaxis": {
           "automargin": true,
           "gridcolor": "white",
           "linecolor": "white",
           "ticks": "",
           "title": {
            "standoff": 15
           },
           "zerolinecolor": "white",
           "zerolinewidth": 2
          },
          "yaxis": {
           "automargin": true,
           "gridcolor": "white",
           "linecolor": "white",
           "ticks": "",
           "title": {
            "standoff": 15
           },
           "zerolinecolor": "white",
           "zerolinewidth": 2
          }
         }
        },
        "title": {
         "text": "Comparación de escenarios de reforestación y niveles de PM10"
        },
        "xaxis": {
         "title": {
          "text": "Año"
         }
        },
        "yaxis": {
         "title": {
          "text": "PM10 (µg/m³)"
         }
        }
       }
      }
     },
     "metadata": {},
     "output_type": "display_data"
    }
   ],
   "source": [
    "# Crear una segunda visualización para comparar diferentes escenarios\n",
    "fig2 = go.Figure()\n",
    "\n",
    "# Añadir datos históricos\n",
    "fig2.add_trace(\n",
    "    go.Scatter(x=list(historico_pm10.keys()),\n",
    "               y=list(historico_pm10.values()),\n",
    "               name='Histórico PM10',\n",
    "               line=dict(color='gray', dash='dash'))\n",
    ")\n",
    "\n",
    "# Añadir línea de predicción base\n",
    "fig2.add_trace(\n",
    "    go.Scatter(x=años_proyeccion,\n",
    "               y=[np.mean(pred_base[df_prediccion['AÑO'] == año]) for año in años_proyeccion],\n",
    "               name='Proyección sin árboles',\n",
    "               line=dict(color='red'))\n",
    ")\n",
    "\n",
    "# Añadir escenarios\n",
    "colores = ['blue', 'green', 'purple', 'orange', 'teal']\n",
    "for i, arboles in enumerate(escenarios_arboles):\n",
    "    prediccion_escenario, _ = resultados_escenarios[arboles]\n",
    "    pm10_por_año = [np.mean(prediccion_escenario[df_prediccion['AÑO'] == año]) for año in años_proyeccion]\n",
    "    \n",
    "    fig2.add_trace(\n",
    "        go.Scatter(x=años_proyeccion,\n",
    "                   y=pm10_por_año,\n",
    "                   name=f'{arboles:,} árboles/año',\n",
    "                   line=dict(color=colores[i % len(colores)]))\n",
    "    )\n",
    "\n",
    "# Añadir línea para escenario de árboles necesarios calculados\n",
    "fig2.add_trace(\n",
    "    go.Scatter(x=años_proyeccion,\n",
    "               y=list(pm10_proyectado.values()),\n",
    "               name='Árboles necesarios calculados',\n",
    "               line=dict(color='black', width=2))\n",
    ")\n",
    "\n",
    "# Área objetivo de PM10\n",
    "fig2.add_trace(\n",
    "    go.Scatter(\n",
    "        x=[años_proyeccion[0], años_proyeccion[-1], años_proyeccion[-1], años_proyeccion[0]],\n",
    "        y=[TARGET_PM10_MIN, TARGET_PM10_MIN, TARGET_PM10_MAX, TARGET_PM10_MAX],\n",
    "        fill='toself',\n",
    "        fillcolor='rgba(0,255,0,0.2)',\n",
    "        line=dict(color='rgba(0,255,0,0.5)'),\n",
    "        name=f'Rango objetivo ({TARGET_PM10_MIN}-{TARGET_PM10_MAX} µg/m³)'\n",
    "    )\n",
    ")\n",
    "\n",
    "# Actualizar diseño\n",
    "fig2.update_layout(\n",
    "    title='Comparación de escenarios de reforestación y niveles de PM10',\n",
    "    xaxis_title='Año',\n",
    "    yaxis_title='PM10 (µg/m³)',\n",
    "    height=600,\n",
    "    showlegend=True\n",
    ")\n",
    "\n",
    "fig2.show()"
   ]
  },
  {
   "cell_type": "code",
   "execution_count": 19,
   "metadata": {},
   "outputs": [
    {
     "name": "stdout",
     "output_type": "stream",
     "text": [
      "\n",
      "Estadísticas de la simulación:\n",
      "Objetivo de PM10: 27-40.5 µg/m³\n",
      "Promedio actual de árboles plantados por año (SERPAR): 119,242\n",
      "Tasa de supervivencia considerada: 70.0%\n",
      "\n",
      "Árboles necesarios para alcanzar el objetivo:\n",
      "Total de árboles a plantar (2025-2035): 40,110,741\n",
      "Promedio anual necesario: 3,646,431\n",
      "\n",
      "Año 2025:\n",
      "Árboles necesarios: 27,422,076\n",
      "Árboles acumulados (con supervivencia): 19,195,453\n",
      "PM10 sin árboles: 47.65 µg/m³\n",
      "PM10 proyectado: 37.92 µg/m³\n",
      "Reducción: 9.73 µg/m³\n",
      "\n",
      "Año 2026:\n",
      "Árboles necesarios: 7,714,663\n",
      "Árboles acumulados (con supervivencia): 24,595,717\n",
      "PM10 sin árboles: 47.40 µg/m³\n",
      "PM10 proyectado: 34.92 µg/m³\n",
      "Reducción: 12.47 µg/m³\n",
      "\n",
      "Año 2027:\n",
      "Árboles necesarios: 2,191,044\n",
      "Árboles acumulados (con supervivencia): 26,129,448\n",
      "PM10 sin árboles: 47.33 µg/m³\n",
      "PM10 proyectado: 34.08 µg/m³\n",
      "Reducción: 13.25 µg/m³\n",
      "\n",
      "Año 2028:\n",
      "Árboles necesarios: 2,481,042\n",
      "Árboles acumulados (con supervivencia): 27,866,177\n",
      "PM10 sin árboles: 48.26 µg/m³\n",
      "PM10 proyectado: 34.13 µg/m³\n",
      "Reducción: 14.13 µg/m³\n",
      "\n",
      "Año 2029:\n",
      "Árboles necesarios: 232,243\n",
      "Árboles acumulados (con supervivencia): 28,028,747\n",
      "PM10 sin árboles: 48.00 µg/m³\n",
      "PM10 proyectado: 33.79 µg/m³\n",
      "Reducción: 14.21 µg/m³\n",
      "\n",
      "Año 2030:\n",
      "Árboles necesarios: 0\n",
      "Árboles acumulados (con supervivencia): 28,028,747\n",
      "PM10 sin árboles: 47.77 µg/m³\n",
      "PM10 proyectado: 33.56 µg/m³\n",
      "Reducción: 14.21 µg/m³\n",
      "\n",
      "Año 2031:\n",
      "Árboles necesarios: 0\n",
      "Árboles acumulados (con supervivencia): 28,028,747\n",
      "PM10 sin árboles: 47.65 µg/m³\n",
      "PM10 proyectado: 33.44 µg/m³\n",
      "Reducción: 14.21 µg/m³\n",
      "\n",
      "Año 2032:\n",
      "Árboles necesarios: 0\n",
      "Árboles acumulados (con supervivencia): 28,028,747\n",
      "PM10 sin árboles: 47.27 µg/m³\n",
      "PM10 proyectado: 33.06 µg/m³\n",
      "Reducción: 14.21 µg/m³\n",
      "\n",
      "Año 2033:\n",
      "Árboles necesarios: 0\n",
      "Árboles acumulados (con supervivencia): 28,028,747\n",
      "PM10 sin árboles: 47.77 µg/m³\n",
      "PM10 proyectado: 33.56 µg/m³\n",
      "Reducción: 14.21 µg/m³\n",
      "\n",
      "Año 2034:\n",
      "Árboles necesarios: 0\n",
      "Árboles acumulados (con supervivencia): 28,028,747\n",
      "PM10 sin árboles: 47.89 µg/m³\n",
      "PM10 proyectado: 33.68 µg/m³\n",
      "Reducción: 14.21 µg/m³\n",
      "\n",
      "Año 2035:\n",
      "Árboles necesarios: 69,673\n",
      "Árboles acumulados (con supervivencia): 28,077,518\n",
      "PM10 sin árboles: 48.00 µg/m³\n",
      "PM10 proyectado: 33.76 µg/m³\n",
      "Reducción: 14.24 µg/m³\n",
      "\n",
      "Comparación de escenarios:\n",
      "120,000 árboles/año -> PM10 en 2035: 47.53 µg/m³\n",
      "200,000 árboles/año -> PM10 en 2035: 47.22 µg/m³\n",
      "300,000 árboles/año -> PM10 en 2035: 46.83 µg/m³\n",
      "400,000 árboles/año -> PM10 en 2035: 46.44 µg/m³\n",
      "500,000 árboles/año -> PM10 en 2035: 46.05 µg/m³\n"
     ]
    }
   ],
   "source": [
    "# Imprimir estadísticas\n",
    "print(\"\\nEstadísticas de la simulación:\")\n",
    "print(f\"Objetivo de PM10: {TARGET_PM10_MIN}-{TARGET_PM10_MAX} µg/m³\")\n",
    "print(f\"Promedio actual de árboles plantados por año (SERPAR): {int(ARBOLES_PROMEDIO):,}\")\n",
    "print(f\"Tasa de supervivencia considerada: {TASA_SUPERVIVENCIA*100}%\")\n",
    "\n",
    "print(\"\\nÁrboles necesarios para alcanzar el objetivo:\")\n",
    "total_arboles = sum(arboles_necesarios.values())\n",
    "print(f\"Total de árboles a plantar (2025-2035): {total_arboles:,}\")\n",
    "print(f\"Promedio anual necesario: {int(total_arboles/len(arboles_necesarios)):,}\")\n",
    "\n",
    "for año, arboles in arboles_necesarios.items():\n",
    "    print(f\"\\nAño {año}:\")\n",
    "    print(f\"Árboles necesarios: {arboles:,}\")\n",
    "    print(f\"Árboles acumulados (con supervivencia): {int(arboles_acumulados[año]):,}\")\n",
    "    base_pm10 = np.mean(pred_base[df_prediccion['AÑO'] == año])\n",
    "    print(f\"PM10 sin árboles: {base_pm10:.2f} µg/m³\")\n",
    "    print(f\"PM10 proyectado: {pm10_proyectado[año]:.2f} µg/m³\")\n",
    "    reduccion = base_pm10 - pm10_proyectado[año]\n",
    "    print(f\"Reducción: {reduccion:.2f} µg/m³\")\n",
    "\n",
    "print(\"\\nComparación de escenarios:\")\n",
    "for arboles in escenarios_arboles:\n",
    "    prediccion_escenario, _ = resultados_escenarios[arboles]\n",
    "    pm10_2035 = np.mean(prediccion_escenario[df_prediccion['AÑO'] == 2035])\n",
    "    print(f\"{arboles:,} árboles/año -> PM10 en 2035: {pm10_2035:.2f} µg/m³\")"
   ]
  },
  {
   "cell_type": "code",
   "execution_count": null,
   "metadata": {},
   "outputs": [],
   "source": []
  }
 ],
 "metadata": {
  "kernelspec": {
   "display_name": "Python 3",
   "language": "python",
   "name": "python3"
  },
  "language_info": {
   "codemirror_mode": {
    "name": "ipython",
    "version": 3
   },
   "file_extension": ".py",
   "mimetype": "text/x-python",
   "name": "python",
   "nbconvert_exporter": "python",
   "pygments_lexer": "ipython3",
   "version": "3.12.8"
  }
 },
 "nbformat": 4,
 "nbformat_minor": 2
}
