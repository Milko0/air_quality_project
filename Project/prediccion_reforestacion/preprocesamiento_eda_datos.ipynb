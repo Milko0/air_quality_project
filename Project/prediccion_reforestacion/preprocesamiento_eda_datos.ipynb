{
 "cells": [
  {
   "cell_type": "markdown",
   "metadata": {},
   "source": [
    "### 1. Importación de Librerías"
   ]
  },
  {
   "cell_type": "code",
   "execution_count": 1,
   "metadata": {},
   "outputs": [],
   "source": [
    "import pandas as pd\n",
    "import numpy as np\n",
    "import seaborn as sns\n",
    "import plotly.express as px\n",
    "import matplotlib.pyplot as plt\n",
    "import plotly.graph_objs as go"
   ]
  },
  {
   "cell_type": "markdown",
   "metadata": {},
   "source": [
    "### 2. Cargar el dataset"
   ]
  },
  {
   "cell_type": "code",
   "execution_count": null,
   "metadata": {},
   "outputs": [],
   "source": [
    "df = pd.read_excel(\"..\\prediccion_reforestacion\\data\\data_monitoreo_contaminantes.xlsx\")"
   ]
  },
  {
   "cell_type": "markdown",
   "metadata": {},
   "source": [
    "### 3. Preprocesamiento de datos"
   ]
  },
  {
   "cell_type": "code",
   "execution_count": null,
   "metadata": {},
   "outputs": [],
   "source": [
    "# Convertir columna de fecha a datetime\n",
    "df['FECHA'] = pd.to_datetime(df['FECHA'])\n",
    "\n",
    "# Extraer año y mes\n",
    "df['YEAR'] = df['FECHA'].dt.year\n",
    "df['MONTH'] = df['FECHA'].dt.month"
   ]
  },
  {
   "cell_type": "code",
   "execution_count": null,
   "metadata": {},
   "outputs": [],
   "source": [
    "# Limpiar columnas numéricas\n",
    "numeric_cols = ['PM10', 'PM2_5']\n",
    "for col in numeric_cols:\n",
    "    df[col] = pd.to_numeric(df[col], errors='coerce')"
   ]
  },
  {
   "cell_type": "code",
   "execution_count": null,
   "metadata": {},
   "outputs": [],
   "source": [
    "# Rellenar datos vacíos con la media del trimestre\n",
    "def fill_missing_with_quarterly_mean(group):\n",
    "    return group.fillna(group.mean())\n",
    "\n",
    "df[numeric_cols] = df.groupby([df['YEAR'], (df['MONTH']-1)//3])[numeric_cols].transform(fill_missing_with_quarterly_mean)"
   ]
  },
  {
   "cell_type": "code",
   "execution_count": null,
   "metadata": {},
   "outputs": [
    {
     "data": {
      "text/html": [
       "<div>\n",
       "<style scoped>\n",
       "    .dataframe tbody tr th:only-of-type {\n",
       "        vertical-align: middle;\n",
       "    }\n",
       "\n",
       "    .dataframe tbody tr th {\n",
       "        vertical-align: top;\n",
       "    }\n",
       "\n",
       "    .dataframe thead th {\n",
       "        text-align: right;\n",
       "    }\n",
       "</style>\n",
       "<table border=\"1\" class=\"dataframe\">\n",
       "  <thead>\n",
       "    <tr style=\"text-align: right;\">\n",
       "      <th></th>\n",
       "      <th>PM10</th>\n",
       "      <th>PM2_5</th>\n",
       "    </tr>\n",
       "  </thead>\n",
       "  <tbody>\n",
       "    <tr>\n",
       "      <th>count</th>\n",
       "      <td>577794.000000</td>\n",
       "      <td>577794.000000</td>\n",
       "    </tr>\n",
       "    <tr>\n",
       "      <th>mean</th>\n",
       "      <td>60.895577</td>\n",
       "      <td>24.047421</td>\n",
       "    </tr>\n",
       "    <tr>\n",
       "      <th>std</th>\n",
       "      <td>38.453101</td>\n",
       "      <td>12.944777</td>\n",
       "    </tr>\n",
       "    <tr>\n",
       "      <th>min</th>\n",
       "      <td>2.310000</td>\n",
       "      <td>1.730000</td>\n",
       "    </tr>\n",
       "    <tr>\n",
       "      <th>25%</th>\n",
       "      <td>38.250000</td>\n",
       "      <td>16.100000</td>\n",
       "    </tr>\n",
       "    <tr>\n",
       "      <th>50%</th>\n",
       "      <td>54.889553</td>\n",
       "      <td>22.038419</td>\n",
       "    </tr>\n",
       "    <tr>\n",
       "      <th>75%</th>\n",
       "      <td>72.376363</td>\n",
       "      <td>28.610110</td>\n",
       "    </tr>\n",
       "    <tr>\n",
       "      <th>max</th>\n",
       "      <td>974.000000</td>\n",
       "      <td>720.700000</td>\n",
       "    </tr>\n",
       "  </tbody>\n",
       "</table>\n",
       "</div>"
      ],
      "text/plain": [
       "                PM10          PM2_5\n",
       "count  577794.000000  577794.000000\n",
       "mean       60.895577      24.047421\n",
       "std        38.453101      12.944777\n",
       "min         2.310000       1.730000\n",
       "25%        38.250000      16.100000\n",
       "50%        54.889553      22.038419\n",
       "75%        72.376363      28.610110\n",
       "max       974.000000     720.700000"
      ]
     },
     "execution_count": 6,
     "metadata": {},
     "output_type": "execute_result"
    }
   ],
   "source": [
    "# Estadísticas descriptivas\n",
    "df[['DISTRITO', 'PM10', 'PM2_5']].describe()"
   ]
  },
  {
   "cell_type": "code",
   "execution_count": null,
   "metadata": {},
   "outputs": [
    {
     "data": {
      "text/html": [
       "<div>\n",
       "<style scoped>\n",
       "    .dataframe tbody tr th:only-of-type {\n",
       "        vertical-align: middle;\n",
       "    }\n",
       "\n",
       "    .dataframe tbody tr th {\n",
       "        vertical-align: top;\n",
       "    }\n",
       "\n",
       "    .dataframe thead th {\n",
       "        text-align: right;\n",
       "    }\n",
       "</style>\n",
       "<table border=\"1\" class=\"dataframe\">\n",
       "  <thead>\n",
       "    <tr style=\"text-align: right;\">\n",
       "      <th></th>\n",
       "      <th>DISTRITO</th>\n",
       "      <th>PM10</th>\n",
       "      <th>PM2_5</th>\n",
       "    </tr>\n",
       "  </thead>\n",
       "  <tbody>\n",
       "    <tr>\n",
       "      <th>154142</th>\n",
       "      <td>CARABAYLLO</td>\n",
       "      <td>102.000000</td>\n",
       "      <td>47.730000</td>\n",
       "    </tr>\n",
       "    <tr>\n",
       "      <th>123401</th>\n",
       "      <td>CARABAYLLO</td>\n",
       "      <td>51.860719</td>\n",
       "      <td>29.180886</td>\n",
       "    </tr>\n",
       "    <tr>\n",
       "      <th>449056</th>\n",
       "      <td>SAN_MARTIN_DE_PORRES</td>\n",
       "      <td>53.411421</td>\n",
       "      <td>19.457680</td>\n",
       "    </tr>\n",
       "    <tr>\n",
       "      <th>371478</th>\n",
       "      <td>SAN_JUAN_DE_LURIGANCHO</td>\n",
       "      <td>50.470000</td>\n",
       "      <td>29.180886</td>\n",
       "    </tr>\n",
       "    <tr>\n",
       "      <th>564384</th>\n",
       "      <td>VILLA_MARIA_DEL_TRIUNFO</td>\n",
       "      <td>70.140000</td>\n",
       "      <td>28.860000</td>\n",
       "    </tr>\n",
       "    <tr>\n",
       "      <th>182527</th>\n",
       "      <td>SANTA_ANITA</td>\n",
       "      <td>63.460000</td>\n",
       "      <td>29.700000</td>\n",
       "    </tr>\n",
       "    <tr>\n",
       "      <th>431639</th>\n",
       "      <td>SAN_MARTIN_DE_PORRES</td>\n",
       "      <td>18.830000</td>\n",
       "      <td>16.200000</td>\n",
       "    </tr>\n",
       "    <tr>\n",
       "      <th>562553</th>\n",
       "      <td>VILLA_MARIA_DEL_TRIUNFO</td>\n",
       "      <td>72.900000</td>\n",
       "      <td>39.180000</td>\n",
       "    </tr>\n",
       "    <tr>\n",
       "      <th>484615</th>\n",
       "      <td>SAN_MARTIN_DE_PORRES</td>\n",
       "      <td>23.530000</td>\n",
       "      <td>15.710000</td>\n",
       "    </tr>\n",
       "    <tr>\n",
       "      <th>217930</th>\n",
       "      <td>SANTA_ANITA</td>\n",
       "      <td>54.400000</td>\n",
       "      <td>15.773739</td>\n",
       "    </tr>\n",
       "  </tbody>\n",
       "</table>\n",
       "</div>"
      ],
      "text/plain": [
       "                       DISTRITO        PM10      PM2_5\n",
       "154142               CARABAYLLO  102.000000  47.730000\n",
       "123401               CARABAYLLO   51.860719  29.180886\n",
       "449056     SAN_MARTIN_DE_PORRES   53.411421  19.457680\n",
       "371478   SAN_JUAN_DE_LURIGANCHO   50.470000  29.180886\n",
       "564384  VILLA_MARIA_DEL_TRIUNFO   70.140000  28.860000\n",
       "182527              SANTA_ANITA   63.460000  29.700000\n",
       "431639     SAN_MARTIN_DE_PORRES   18.830000  16.200000\n",
       "562553  VILLA_MARIA_DEL_TRIUNFO   72.900000  39.180000\n",
       "484615     SAN_MARTIN_DE_PORRES   23.530000  15.710000\n",
       "217930              SANTA_ANITA   54.400000  15.773739"
      ]
     },
     "execution_count": 7,
     "metadata": {},
     "output_type": "execute_result"
    }
   ],
   "source": [
    "#Muestra de la data\n",
    "df[['DISTRITO', 'PM10', 'PM2_5']].sample(10)"
   ]
  },
  {
   "cell_type": "markdown",
   "metadata": {},
   "source": [
    "### 4. Filtrado de Datos Atípicos"
   ]
  },
  {
   "cell_type": "code",
   "execution_count": null,
   "metadata": {},
   "outputs": [],
   "source": [
    "# Filtrar datos de PM10 dentro del rango de SENAMHI (0 - 424)\n",
    "df_filtrado = df[(df['PM10'] >= 0) & (df['PM10'] <= 424)]\n",
    "# Filtrar datos de PM10 dentro del rango de SENAMHI (0 - 225.4)\n",
    "df_filtrado = df_filtrado[(df_filtrado['PM10'] >= 0) & (df_filtrado['PM10'] <= 225.4)]"
   ]
  },
  {
   "cell_type": "markdown",
   "metadata": {},
   "source": [
    "### 5. Análisis exploratorio de datos"
   ]
  },
  {
   "cell_type": "code",
   "execution_count": 9,
   "metadata": {},
   "outputs": [
    {
     "data": {
      "image/png": "[encoded data removed]",
      "text/plain": [
       "<Figure size 800x600 with 2 Axes>"
      ]
     },
     "metadata": {},
     "output_type": "display_data"
    },
    {
     "name": "stdout",
     "output_type": "stream",
     "text": [
      "Coeficiente de correlación de Pearson: 0.4762\n"
     ]
    },
    {
     "data": {
      "image/png": "[encoded data removed]",
      "text/plain": [
       "<Figure size 1000x600 with 1 Axes>"
      ]
     },
     "metadata": {},
     "output_type": "display_data"
    }
   ],
   "source": [
    "# Calcular correlación\n",
    "correlation_matrix = df_filtrado[['PM10', 'PM2_5']].corr()\n",
    "\n",
    "# Crear heatmap\n",
    "plt.figure(figsize=(8, 6))\n",
    "sns.heatmap(\n",
    "    correlation_matrix, \n",
    "    annot=True,  # Mostrar valores numéricos\n",
    "    cmap='coolwarm',  # Paleta de colores\n",
    "    center=0,  # Centrar en 0\n",
    "    vmin=-1, \n",
    "    vmax=1\n",
    ")\n",
    "plt.title('Correlación entre PM10 y PM2.5')\n",
    "plt.show()\n",
    "\n",
    "# Cálculo del coeficiente de correlación de Pearson\n",
    "pearson_corr = df_filtrado['PM10'].corr(df_filtrado['PM2_5'])\n",
    "print(f\"Coeficiente de correlación de Pearson: {pearson_corr:.4f}\")\n",
    "\n",
    "# Dispersión\n",
    "plt.figure(figsize=(10, 6))\n",
    "plt.scatter(df_filtrado['PM10'], df_filtrado['PM2_5'], alpha=0.5)\n",
    "plt.title('Diagrama de Dispersión: PM10 vs PM2.5')\n",
    "plt.xlabel('PM10')\n",
    "plt.ylabel('PM2.5')\n",
    "plt.show()"
   ]
  },
  {
   "cell_type": "code",
   "execution_count": 10,
   "metadata": {},
   "outputs": [
    {
     "data": {
      "application/vnd.plotly.v1+json": {
       "config": {
        "plotlyServerURL": "https://plot.ly"
       },
       "data": [
        {
         "alignmentgroup": "True",
         "hovertemplate": "YEAR=2015<br>DISTRITO=%{x}<br>Concentración=%{marker.color}<extra></extra>",
         "ids": [
          "CARABAYLLO",
          "JESUS_MARIA",
          "SANTA_ANITA",
          "SAN_BORJA",
          "SAN_JUAN_DE_LURIGANCHO",
          "SAN_MARTIN_DE_PORRES",
          "VILLA_MARIA_DEL_TRIUNFO"
         ],
         "legendgroup": "",
         "marker": {
          "color": [
           76.66285294167027,
           43.73692775454943,
           68.66697188630096,
           64.35258531759024,
           80.19411369892237,
           49.91583172601517,
           84.81036773001296
          ],
          "coloraxis": "coloraxis",
          "pattern": {
           "shape": ""
          }
         },
         "name": "",
         "offsetgroup": "",
         "orientation": "v",
         "showlegend": false,
         "textposition": "auto",
         "type": "bar",
         "x": [
          "CARABAYLLO",
          "JESUS_MARIA",
          "SANTA_ANITA",
          "SAN_BORJA",
          "SAN_JUAN_DE_LURIGANCHO",
          "SAN_MARTIN_DE_PORRES",
          "VILLA_MARIA_DEL_TRIUNFO"
         ],
         "xaxis": "x",
         "y": [
          76.66285294167027,
          43.73692775454943,
          68.66697188630096,
          64.35258531759024,
          80.19411369892237,
          49.91583172601517,
          84.81036773001296
         ],
         "yaxis": "y"
        }
       ],
       "frames": [
        {
         "data": [
          {
           "alignmentgroup": "True",
           "hovertemplate": "YEAR=2015<br>DISTRITO=%{x}<br>Concentración=%{marker.color}<extra></extra>",
           "ids": [
            "CARABAYLLO",
            "JESUS_MARIA",
            "SANTA_ANITA",
            "SAN_BORJA",
            "SAN_JUAN_DE_LURIGANCHO",
            "SAN_MARTIN_DE_PORRES",
            "VILLA_MARIA_DEL_TRIUNFO"
           ],
           "legendgroup": "",
           "marker": {
            "color": [
             76.66285294167027,
             43.73692775454943,
             68.66697188630096,
             64.35258531759024,
             80.19411369892237,
             49.91583172601517,
             84.81036773001296
            ],
            "coloraxis": "coloraxis",
            "pattern": {
             "shape": ""
            }
           },
           "name": "",
           "offsetgroup": "",
           "orientation": "v",
           "showlegend": false,
           "textposition": "auto",
           "type": "bar",
           "x": [
            "CARABAYLLO",
            "JESUS_MARIA",
            "SANTA_ANITA",
            "SAN_BORJA",
            "SAN_JUAN_DE_LURIGANCHO",
            "SAN_MARTIN_DE_PORRES",
            "VILLA_MARIA_DEL_TRIUNFO"
           ],
           "xaxis": "x",
           "y": [
            76.66285294167027,
            43.73692775454943,
            68.66697188630096,
            64.35258531759024,
            80.19411369892237,
            49.91583172601517,
            84.81036773001296
           ],
           "yaxis": "y"
          }
         ],
         "name": "2015"
        },
        {
         "data": [
          {
           "alignmentgroup": "True",
           "hovertemplate": "YEAR=2016<br>DISTRITO=%{x}<br>Concentración=%{marker.color}<extra></extra>",
           "ids": [
            "CARABAYLLO",
            "JESUS_MARIA",
            "SANTA_ANITA",
            "SAN_BORJA",
            "SAN_JUAN_DE_LURIGANCHO",
            "SAN_MARTIN_DE_PORRES",
            "VILLA_MARIA_DEL_TRIUNFO"
           ],
           "legendgroup": "",
           "marker": {
            "color": [
             81.78049151243209,
             39.19955842770254,
             77.57436790421814,
             59.48756290421292,
             84.85110579481703,
             46.843127045556116,
             99.2418812330198
            ],
            "coloraxis": "coloraxis",
            "pattern": {
             "shape": ""
            }
           },
           "name": "",
           "offsetgroup": "",
           "orientation": "v",
           "showlegend": false,
           "textposition": "auto",
           "type": "bar",
           "x": [
            "CARABAYLLO",
            "JESUS_MARIA",
            "SANTA_ANITA",
            "SAN_BORJA",
            "SAN_JUAN_DE_LURIGANCHO",
            "SAN_MARTIN_DE_PORRES",
            "VILLA_MARIA_DEL_TRIUNFO"
           ],
           "xaxis": "x",
           "y": [
            81.78049151243209,
            39.19955842770254,
            77.57436790421814,
            59.48756290421292,
            84.85110579481703,
            46.843127045556116,
            99.2418812330198
           ],
           "yaxis": "y"
          }
         ],
         "name": "2016"
        },
        {
         "data": [
          {
           "alignmentgroup": "True",
           "hovertemplate": "YEAR=2017<br>DISTRITO=%{x}<br>Concentración=%{marker.color}<extra></extra>",
           "ids": [
            "CARABAYLLO",
            "JESUS_MARIA",
            "SANTA_ANITA",
            "SAN_BORJA",
            "SAN_JUAN_DE_LURIGANCHO",
            "SAN_MARTIN_DE_PORRES",
            "VILLA_MARIA_DEL_TRIUNFO"
           ],
           "legendgroup": "",
           "marker": {
            "color": [
             80.67299514329376,
             41.997924740764425,
             74.09439073100157,
             55.531579814876686,
             86.91205277074985,
             52.42956778136928,
             102.50695475729371
            ],
            "coloraxis": "coloraxis",
            "pattern": {
             "shape": ""
            }
           },
           "name": "",
           "offsetgroup": "",
           "orientation": "v",
           "showlegend": false,
           "textposition": "auto",
           "type": "bar",
           "x": [
            "CARABAYLLO",
            "JESUS_MARIA",
            "SANTA_ANITA",
            "SAN_BORJA",
            "SAN_JUAN_DE_LURIGANCHO",
            "SAN_MARTIN_DE_PORRES",
            "VILLA_MARIA_DEL_TRIUNFO"
           ],
           "xaxis": "x",
           "y": [
            80.67299514329376,
            41.997924740764425,
            74.09439073100157,
            55.531579814876686,
            86.91205277074985,
            52.42956778136928,
            102.50695475729371
           ],
           "yaxis": "y"
          }
         ],
         "name": "2017"
        },
        {
         "data": [
          {
           "alignmentgroup": "True",
           "hovertemplate": "YEAR=2018<br>DISTRITO=%{x}<br>Concentración=%{marker.color}<extra></extra>",
           "ids": [
            "CARABAYLLO",
            "JESUS_MARIA",
            "SANTA_ANITA",
            "SAN_BORJA",
            "SAN_JUAN_DE_LURIGANCHO",
            "SAN_MARTIN_DE_PORRES",
            "VILLA_MARIA_DEL_TRIUNFO"
           ],
           "legendgroup": "",
           "marker": {
            "color": [
             82.31170088740049,
             35.138096852050616,
             70.39369849321183,
             60.08723499983901,
             79.40729266735843,
             54.27247567719136,
             89.13181109350442
            ],
            "coloraxis": "coloraxis",
            "pattern": {
             "shape": ""
            }
           },
           "name": "",
           "offsetgroup": "",
           "orientation": "v",
           "showlegend": false,
           "textposition": "auto",
           "type": "bar",
           "x": [
            "CARABAYLLO",
            "JESUS_MARIA",
            "SANTA_ANITA",
            "SAN_BORJA",
            "SAN_JUAN_DE_LURIGANCHO",
            "SAN_MARTIN_DE_PORRES",
            "VILLA_MARIA_DEL_TRIUNFO"
           ],
           "xaxis": "x",
           "y": [
            82.31170088740049,
            35.138096852050616,
            70.39369849321183,
            60.08723499983901,
            79.40729266735843,
            54.27247567719136,
            89.13181109350442
           ],
           "yaxis": "y"
          }
         ],
         "name": "2018"
        },
        {
         "data": [
          {
           "alignmentgroup": "True",
           "hovertemplate": "YEAR=2019<br>DISTRITO=%{x}<br>Concentración=%{marker.color}<extra></extra>",
           "ids": [
            "CARABAYLLO",
            "JESUS_MARIA",
            "SANTA_ANITA",
            "SAN_BORJA",
            "SAN_JUAN_DE_LURIGANCHO",
            "SAN_MARTIN_DE_PORRES",
            "VILLA_MARIA_DEL_TRIUNFO"
           ],
           "legendgroup": "",
           "marker": {
            "color": [
             60.36790708363302,
             27.569297811166813,
             71.0670787590198,
             54.77759526964324,
             59.80071981385725,
             56.340208786229105,
             60.66852723884553
            ],
            "coloraxis": "coloraxis",
            "pattern": {
             "shape": ""
            }
           },
           "name": "",
           "offsetgroup": "",
           "orientation": "v",
           "showlegend": false,
           "textposition": "auto",
           "type": "bar",
           "x": [
            "CARABAYLLO",
            "JESUS_MARIA",
            "SANTA_ANITA",
            "SAN_BORJA",
            "SAN_JUAN_DE_LURIGANCHO",
            "SAN_MARTIN_DE_PORRES",
            "VILLA_MARIA_DEL_TRIUNFO"
           ],
           "xaxis": "x",
           "y": [
            60.36790708363302,
            27.569297811166813,
            71.0670787590198,
            54.77759526964324,
            59.80071981385725,
            56.340208786229105,
            60.66852723884553
           ],
           "yaxis": "y"
          }
         ],
         "name": "2019"
        },
        {
         "data": [
          {
           "alignmentgroup": "True",
           "hovertemplate": "YEAR=2020<br>DISTRITO=%{x}<br>Concentración=%{marker.color}<extra></extra>",
           "ids": [
            "CARABAYLLO",
            "JESUS_MARIA",
            "SANTA_ANITA",
            "SAN_BORJA",
            "SAN_JUAN_DE_LURIGANCHO",
            "SAN_MARTIN_DE_PORRES",
            "VILLA_MARIA_DEL_TRIUNFO"
           ],
           "legendgroup": "",
           "marker": {
            "color": [
             60.62231639319285,
             32.64567986246145,
             41.48579553090627,
             53.15851857404416,
             54.396939641036596,
             53.70188657245773,
             72.24792226537207
            ],
            "coloraxis": "coloraxis",
            "pattern": {
             "shape": ""
            }
           },
           "name": "",
           "offsetgroup": "",
           "orientation": "v",
           "showlegend": false,
           "textposition": "auto",
           "type": "bar",
           "x": [
            "CARABAYLLO",
            "JESUS_MARIA",
            "SANTA_ANITA",
            "SAN_BORJA",
            "SAN_JUAN_DE_LURIGANCHO",
            "SAN_MARTIN_DE_PORRES",
            "VILLA_MARIA_DEL_TRIUNFO"
           ],
           "xaxis": "x",
           "y": [
            60.62231639319285,
            32.64567986246145,
            41.48579553090627,
            53.15851857404416,
            54.396939641036596,
            53.70188657245773,
            72.24792226537207
           ],
           "yaxis": "y"
          }
         ],
         "name": "2020"
        },
        {
         "data": [
          {
           "alignmentgroup": "True",
           "hovertemplate": "YEAR=2021<br>DISTRITO=%{x}<br>Concentración=%{marker.color}<extra></extra>",
           "ids": [
            "CARABAYLLO",
            "JESUS_MARIA",
            "SANTA_ANITA",
            "SAN_BORJA",
            "SAN_JUAN_DE_LURIGANCHO",
            "SAN_MARTIN_DE_PORRES",
            "VILLA_MARIA_DEL_TRIUNFO"
           ],
           "legendgroup": "",
           "marker": {
            "color": [
             60.35111301451771,
             45.1293229339192,
             75.5730638643422,
             60.0821781677354,
             61.39707895363822,
             59.21400110279628,
             62.28740949047642
            ],
            "coloraxis": "coloraxis",
            "pattern": {
             "shape": ""
            }
           },
           "name": "",
           "offsetgroup": "",
           "orientation": "v",
           "showlegend": false,
           "textposition": "auto",
           "type": "bar",
           "x": [
            "CARABAYLLO",
            "JESUS_MARIA",
            "SANTA_ANITA",
            "SAN_BORJA",
            "SAN_JUAN_DE_LURIGANCHO",
            "SAN_MARTIN_DE_PORRES",
            "VILLA_MARIA_DEL_TRIUNFO"
           ],
           "xaxis": "x",
           "y": [
            60.35111301451771,
            45.1293229339192,
            75.5730638643422,
            60.0821781677354,
            61.39707895363822,
            59.21400110279628,
            62.28740949047642
           ],
           "yaxis": "y"
          }
         ],
         "name": "2021"
        },
        {
         "data": [
          {
           "alignmentgroup": "True",
           "hovertemplate": "YEAR=2022<br>DISTRITO=%{x}<br>Concentración=%{marker.color}<extra></extra>",
           "ids": [
            "CARABAYLLO",
            "JESUS_MARIA",
            "SANTA_ANITA",
            "SAN_BORJA",
            "SAN_JUAN_DE_LURIGANCHO",
            "SAN_MARTIN_DE_PORRES",
            "VILLA_MARIA_DEL_TRIUNFO"
           ],
           "legendgroup": "",
           "marker": {
            "color": [
             60.69388353529138,
             27.561435101930044,
             59.86050566910298,
             77.88542151913927,
             65.31951721659885,
             37.90630123622269,
             63.06393640954088
            ],
            "coloraxis": "coloraxis",
            "pattern": {
             "shape": ""
            }
           },
           "name": "",
           "offsetgroup": "",
           "orientation": "v",
           "showlegend": false,
           "textposition": "auto",
           "type": "bar",
           "x": [
            "CARABAYLLO",
            "JESUS_MARIA",
            "SANTA_ANITA",
            "SAN_BORJA",
            "SAN_JUAN_DE_LURIGANCHO",
            "SAN_MARTIN_DE_PORRES",
            "VILLA_MARIA_DEL_TRIUNFO"
           ],
           "xaxis": "x",
           "y": [
            60.69388353529138,
            27.561435101930044,
            59.86050566910298,
            77.88542151913927,
            65.31951721659885,
            37.90630123622269,
            63.06393640954088
           ],
           "yaxis": "y"
          }
         ],
         "name": "2022"
        },
        {
         "data": [
          {
           "alignmentgroup": "True",
           "hovertemplate": "YEAR=2023<br>DISTRITO=%{x}<br>Concentración=%{marker.color}<extra></extra>",
           "ids": [
            "CARABAYLLO",
            "JESUS_MARIA",
            "SANTA_ANITA",
            "SAN_BORJA",
            "SAN_JUAN_DE_LURIGANCHO",
            "SAN_MARTIN_DE_PORRES",
            "VILLA_MARIA_DEL_TRIUNFO"
           ],
           "legendgroup": "",
           "marker": {
            "color": [
             46.61122548527513,
             39.85506584521247,
             35.39384640584256,
             50.3761977962423,
             46.28153282207847,
             32.27252033591797,
             41.992722305453924
            ],
            "coloraxis": "coloraxis",
            "pattern": {
             "shape": ""
            }
           },
           "name": "",
           "offsetgroup": "",
           "orientation": "v",
           "showlegend": false,
           "textposition": "auto",
           "type": "bar",
           "x": [
            "CARABAYLLO",
            "JESUS_MARIA",
            "SANTA_ANITA",
            "SAN_BORJA",
            "SAN_JUAN_DE_LURIGANCHO",
            "SAN_MARTIN_DE_PORRES",
            "VILLA_MARIA_DEL_TRIUNFO"
           ],
           "xaxis": "x",
           "y": [
            46.61122548527513,
            39.85506584521247,
            35.39384640584256,
            50.3761977962423,
            46.28153282207847,
            32.27252033591797,
            41.992722305453924
           ],
           "yaxis": "y"
          }
         ],
         "name": "2023"
        },
        {
         "data": [
          {
           "alignmentgroup": "True",
           "hovertemplate": "YEAR=2024<br>DISTRITO=%{x}<br>Concentración=%{marker.color}<extra></extra>",
           "ids": [
            "CARABAYLLO",
            "JESUS_MARIA",
            "SANTA_ANITA",
            "SAN_BORJA",
            "SAN_JUAN_DE_LURIGANCHO",
            "SAN_MARTIN_DE_PORRES",
            "VILLA_MARIA_DEL_TRIUNFO"
           ],
           "legendgroup": "",
           "marker": {
            "color": [
             46.398570955126424,
             29.702181263681666,
             30.7203988688891,
             67.01407805085688,
             43.722934348302374,
             38.11680947905274,
             35.80642749690863
            ],
            "coloraxis": "coloraxis",
            "pattern": {
             "shape": ""
            }
           },
           "name": "",
           "offsetgroup": "",
           "orientation": "v",
           "showlegend": false,
           "textposition": "auto",
           "type": "bar",
           "x": [
            "CARABAYLLO",
            "JESUS_MARIA",
            "SANTA_ANITA",
            "SAN_BORJA",
            "SAN_JUAN_DE_LURIGANCHO",
            "SAN_MARTIN_DE_PORRES",
            "VILLA_MARIA_DEL_TRIUNFO"
           ],
           "xaxis": "x",
           "y": [
            46.398570955126424,
            29.702181263681666,
            30.7203988688891,
            67.01407805085688,
            43.722934348302374,
            38.11680947905274,
            35.80642749690863
           ],
           "yaxis": "y"
          }
         ],
         "name": "2024"
        }
       ],
       "layout": {
        "barmode": "relative",
        "coloraxis": {
         "colorbar": {
          "title": {
           "text": "Concentración"
          }
         },
         "colorscale": [
          [
           0,
           "rgb(255,247,236)"
          ],
          [
           0.125,
           "rgb(254,232,200)"
          ],
          [
           0.25,
           "rgb(253,212,158)"
          ],
          [
           0.375,
           "rgb(253,187,132)"
          ],
          [
           0.5,
           "rgb(252,141,89)"
          ],
          [
           0.625,
           "rgb(239,101,72)"
          ],
          [
           0.75,
           "rgb(215,48,31)"
          ],
          [
           0.875,
           "rgb(179,0,0)"
          ],
          [
           1,
           "rgb(127,0,0)"
          ]
         ]
        },
        "legend": {
         "tracegroupgap": 0
        },
        "margin": {
         "b": 150
        },
        "sliders": [
         {
          "active": 0,
          "currentvalue": {
           "prefix": "YEAR="
          },
          "len": 0.9,
          "pad": {
           "b": 10,
           "t": 60
          },
          "steps": [
           {
            "args": [
             [
              "2015"
             ],
             {
              "frame": {
               "duration": 0,
               "redraw": true
              },
              "fromcurrent": true,
              "mode": "immediate",
              "transition": {
               "duration": 0,
               "easing": "linear"
              }
             }
            ],
            "label": "2015",
            "method": "animate"
           },
           {
            "args": [
             [
              "2016"
             ],
             {
              "frame": {
               "duration": 0,
               "redraw": true
              },
              "fromcurrent": true,
              "mode": "immediate",
              "transition": {
               "duration": 0,
               "easing": "linear"
              }
             }
            ],
            "label": "2016",
            "method": "animate"
           },
           {
            "args": [
             [
              "2017"
             ],
             {
              "frame": {
               "duration": 0,
               "redraw": true
              },
              "fromcurrent": true,
              "mode": "immediate",
              "transition": {
               "duration": 0,
               "easing": "linear"
              }
             }
            ],
            "label": "2017",
            "method": "animate"
           },
           {
            "args": [
             [
              "2018"
             ],
             {
              "frame": {
               "duration": 0,
               "redraw": true
              },
              "fromcurrent": true,
              "mode": "immediate",
              "transition": {
               "duration": 0,
               "easing": "linear"
              }
             }
            ],
            "label": "2018",
            "method": "animate"
           },
           {
            "args": [
             [
              "2019"
             ],
             {
              "frame": {
               "duration": 0,
               "redraw": true
              },
              "fromcurrent": true,
              "mode": "immediate",
              "transition": {
               "duration": 0,
               "easing": "linear"
              }
             }
            ],
            "label": "2019",
            "method": "animate"
           },
           {
            "args": [
             [
              "2020"
             ],
             {
              "frame": {
               "duration": 0,
               "redraw": true
              },
              "fromcurrent": true,
              "mode": "immediate",
              "transition": {
               "duration": 0,
               "easing": "linear"
              }
             }
            ],
            "label": "2020",
            "method": "animate"
           },
           {
            "args": [
             [
              "2021"
             ],
             {
              "frame": {
               "duration": 0,
               "redraw": true
              },
              "fromcurrent": true,
              "mode": "immediate",
              "transition": {
               "duration": 0,
               "easing": "linear"
              }
             }
            ],
            "label": "2021",
            "method": "animate"
           },
           {
            "args": [
             [
              "2022"
             ],
             {
              "frame": {
               "duration": 0,
               "redraw": true
              },
              "fromcurrent": true,
              "mode": "immediate",
              "transition": {
               "duration": 0,
               "easing": "linear"
              }
             }
            ],
            "label": "2022",
            "method": "animate"
           },
           {
            "args": [
             [
              "2023"
             ],
             {
              "frame": {
               "duration": 0,
               "redraw": true
              },
              "fromcurrent": true,
              "mode": "immediate",
              "transition": {
               "duration": 0,
               "easing": "linear"
              }
             }
            ],
            "label": "2023",
            "method": "animate"
           },
           {
            "args": [
             [
              "2024"
             ],
             {
              "frame": {
               "duration": 0,
               "redraw": true
              },
              "fromcurrent": true,
              "mode": "immediate",
              "transition": {
               "duration": 0,
               "easing": "linear"
              }
             }
            ],
            "label": "2024",
            "method": "animate"
           }
          ],
          "x": 0.1,
          "xanchor": "left",
          "y": 0,
          "yanchor": "top"
         }
        ],
        "template": {
         "data": {
          "bar": [
           {
            "error_x": {
             "color": "#2a3f5f"
            },
            "error_y": {
             "color": "#2a3f5f"
            },
            "marker": {
             "line": {
              "color": "#E5ECF6",
              "width": 0.5
             },
             "pattern": {
              "fillmode": "overlay",
              "size": 10,
              "solidity": 0.2
             }
            },
            "type": "bar"
           }
          ],
          "barpolar": [
           {
            "marker": {
             "line": {
              "color": "#E5ECF6",
              "width": 0.5
             },
             "pattern": {
              "fillmode": "overlay",
              "size": 10,
              "solidity": 0.2
             }
            },
            "type": "barpolar"
           }
          ],
          "carpet": [
           {
            "aaxis": {
             "endlinecolor": "#2a3f5f",
             "gridcolor": "white",
             "linecolor": "white",
             "minorgridcolor": "white",
             "startlinecolor": "#2a3f5f"
            },
            "baxis": {
             "endlinecolor": "#2a3f5f",
             "gridcolor": "white",
             "linecolor": "white",
             "minorgridcolor": "white",
             "startlinecolor": "#2a3f5f"
            },
            "type": "carpet"
           }
          ],
          "choropleth": [
           {
            "colorbar": {
             "outlinewidth": 0,
             "ticks": ""
            },
            "type": "choropleth"
           }
          ],
          "contour": [
           {
            "colorbar": {
             "outlinewidth": 0,
             "ticks": ""
            },
            "colorscale": [
             [
              0,
              "#0d0887"
             ],
             [
              0.1111111111111111,
              "#46039f"
             ],
             [
              0.2222222222222222,
              "#7201a8"
             ],
             [
              0.3333333333333333,
              "#9c179e"
             ],
             [
              0.4444444444444444,
              "#bd3786"
             ],
             [
              0.5555555555555556,
              "#d8576b"
             ],
             [
              0.6666666666666666,
              "#ed7953"
             ],
             [
              0.7777777777777778,
              "#fb9f3a"
             ],
             [
              0.8888888888888888,
              "#fdca26"
             ],
             [
              1,
              "#f0f921"
             ]
            ],
            "type": "contour"
           }
          ],
          "contourcarpet": [
           {
            "colorbar": {
             "outlinewidth": 0,
             "ticks": ""
            },
            "type": "contourcarpet"
           }
          ],
          "heatmap": [
           {
            "colorbar": {
             "outlinewidth": 0,
             "ticks": ""
            },
            "colorscale": [
             [
              0,
              "#0d0887"
             ],
             [
              0.1111111111111111,
              "#46039f"
             ],
             [
              0.2222222222222222,
              "#7201a8"
             ],
             [
              0.3333333333333333,
              "#9c179e"
             ],
             [
              0.4444444444444444,
              "#bd3786"
             ],
             [
              0.5555555555555556,
              "#d8576b"
             ],
             [
              0.6666666666666666,
              "#ed7953"
             ],
             [
              0.7777777777777778,
              "#fb9f3a"
             ],
             [
              0.8888888888888888,
              "#fdca26"
             ],
             [
              1,
              "#f0f921"
             ]
            ],
            "type": "heatmap"
           }
          ],
          "heatmapgl": [
           {
            "colorbar": {
             "outlinewidth": 0,
             "ticks": ""
            },
            "colorscale": [
             [
              0,
              "#0d0887"
             ],
             [
              0.1111111111111111,
              "#46039f"
             ],
             [
              0.2222222222222222,
              "#7201a8"
             ],
             [
              0.3333333333333333,
              "#9c179e"
             ],
             [
              0.4444444444444444,
              "#bd3786"
             ],
             [
              0.5555555555555556,
              "#d8576b"
             ],
             [
              0.6666666666666666,
              "#ed7953"
             ],
             [
              0.7777777777777778,
              "#fb9f3a"
             ],
             [
              0.8888888888888888,
              "#fdca26"
             ],
             [
              1,
              "#f0f921"
             ]
            ],
            "type": "heatmapgl"
           }
          ],
          "histogram": [
           {
            "marker": {
             "pattern": {
              "fillmode": "overlay",
              "size": 10,
              "solidity": 0.2
             }
            },
            "type": "histogram"
           }
          ],
          "histogram2d": [
           {
            "colorbar": {
             "outlinewidth": 0,
             "ticks": ""
            },
            "colorscale": [
             [
              0,
              "#0d0887"
             ],
             [
              0.1111111111111111,
              "#46039f"
             ],
             [
              0.2222222222222222,
              "#7201a8"
             ],
             [
              0.3333333333333333,
              "#9c179e"
             ],
             [
              0.4444444444444444,
              "#bd3786"
             ],
             [
              0.5555555555555556,
              "#d8576b"
             ],
             [
              0.6666666666666666,
              "#ed7953"
             ],
             [
              0.7777777777777778,
              "#fb9f3a"
             ],
             [
              0.8888888888888888,
              "#fdca26"
             ],
             [
              1,
              "#f0f921"
             ]
            ],
            "type": "histogram2d"
           }
          ],
          "histogram2dcontour": [
           {
            "colorbar": {
             "outlinewidth": 0,
             "ticks": ""
            },
            "colorscale": [
             [
              0,
              "#0d0887"
             ],
             [
              0.1111111111111111,
              "#46039f"
             ],
             [
              0.2222222222222222,
              "#7201a8"
             ],
             [
              0.3333333333333333,
              "#9c179e"
             ],
             [
              0.4444444444444444,
              "#bd3786"
             ],
             [
              0.5555555555555556,
              "#d8576b"
             ],
             [
              0.6666666666666666,
              "#ed7953"
             ],
             [
              0.7777777777777778,
              "#fb9f3a"
             ],
             [
              0.8888888888888888,
              "#fdca26"
             ],
             [
              1,
              "#f0f921"
             ]
            ],
            "type": "histogram2dcontour"
           }
          ],
          "mesh3d": [
           {
            "colorbar": {
             "outlinewidth": 0,
             "ticks": ""
            },
            "type": "mesh3d"
           }
          ],
          "parcoords": [
           {
            "line": {
             "colorbar": {
              "outlinewidth": 0,
              "ticks": ""
             }
            },
            "type": "parcoords"
           }
          ],
          "pie": [
           {
            "automargin": true,
            "type": "pie"
           }
          ],
          "scatter": [
           {
            "fillpattern": {
             "fillmode": "overlay",
             "size": 10,
             "solidity": 0.2
            },
            "type": "scatter"
           }
          ],
          "scatter3d": [
           {
            "line": {
             "colorbar": {
              "outlinewidth": 0,
              "ticks": ""
             }
            },
            "marker": {
             "colorbar": {
              "outlinewidth": 0,
              "ticks": ""
             }
            },
            "type": "scatter3d"
           }
          ],
          "scattercarpet": [
           {
            "marker": {
             "colorbar": {
              "outlinewidth": 0,
              "ticks": ""
             }
            },
            "type": "scattercarpet"
           }
          ],
          "scattergeo": [
           {
            "marker": {
             "colorbar": {
              "outlinewidth": 0,
              "ticks": ""
             }
            },
            "type": "scattergeo"
           }
          ],
          "scattergl": [
           {
            "marker": {
             "colorbar": {
              "outlinewidth": 0,
              "ticks": ""
             }
            },
            "type": "scattergl"
           }
          ],
          "scattermapbox": [
           {
            "marker": {
             "colorbar": {
              "outlinewidth": 0,
              "ticks": ""
             }
            },
            "type": "scattermapbox"
           }
          ],
          "scatterpolar": [
           {
            "marker": {
             "colorbar": {
              "outlinewidth": 0,
              "ticks": ""
             }
            },
            "type": "scatterpolar"
           }
          ],
          "scatterpolargl": [
           {
            "marker": {
             "colorbar": {
              "outlinewidth": 0,
              "ticks": ""
             }
            },
            "type": "scatterpolargl"
           }
          ],
          "scatterternary": [
           {
            "marker": {
             "colorbar": {
              "outlinewidth": 0,
              "ticks": ""
             }
            },
            "type": "scatterternary"
           }
          ],
          "surface": [
           {
            "colorbar": {
             "outlinewidth": 0,
             "ticks": ""
            },
            "colorscale": [
             [
              0,
              "#0d0887"
             ],
             [
              0.1111111111111111,
              "#46039f"
             ],
             [
              0.2222222222222222,
              "#7201a8"
             ],
             [
              0.3333333333333333,
              "#9c179e"
             ],
             [
              0.4444444444444444,
              "#bd3786"
             ],
             [
              0.5555555555555556,
              "#d8576b"
             ],
             [
              0.6666666666666666,
              "#ed7953"
             ],
             [
              0.7777777777777778,
              "#fb9f3a"
             ],
             [
              0.8888888888888888,
              "#fdca26"
             ],
             [
              1,
              "#f0f921"
             ]
            ],
            "type": "surface"
           }
          ],
          "table": [
           {
            "cells": {
             "fill": {
              "color": "#EBF0F8"
             },
             "line": {
              "color": "white"
             }
            },
            "header": {
             "fill": {
              "color": "#C8D4E3"
             },
             "line": {
              "color": "white"
             }
            },
            "type": "table"
           }
          ]
         },
         "layout": {
          "annotationdefaults": {
           "arrowcolor": "#2a3f5f",
           "arrowhead": 0,
           "arrowwidth": 1
          },
          "autotypenumbers": "strict",
          "coloraxis": {
           "colorbar": {
            "outlinewidth": 0,
            "ticks": ""
           }
          },
          "colorscale": {
           "diverging": [
            [
             0,
             "#8e0152"
            ],
            [
             0.1,
             "#c51b7d"
            ],
            [
             0.2,
             "#de77ae"
            ],
            [
             0.3,
             "#f1b6da"
            ],
            [
             0.4,
             "#fde0ef"
            ],
            [
             0.5,
             "#f7f7f7"
            ],
            [
             0.6,
             "#e6f5d0"
            ],
            [
             0.7,
             "#b8e186"
            ],
            [
             0.8,
             "#7fbc41"
            ],
            [
             0.9,
             "#4d9221"
            ],
            [
             1,
             "#276419"
            ]
           ],
           "sequential": [
            [
             0,
             "#0d0887"
            ],
            [
             0.1111111111111111,
             "#46039f"
            ],
            [
             0.2222222222222222,
             "#7201a8"
            ],
            [
             0.3333333333333333,
             "#9c179e"
            ],
            [
             0.4444444444444444,
             "#bd3786"
            ],
            [
             0.5555555555555556,
             "#d8576b"
            ],
            [
             0.6666666666666666,
             "#ed7953"
            ],
            [
             0.7777777777777778,
             "#fb9f3a"
            ],
            [
             0.8888888888888888,
             "#fdca26"
            ],
            [
             1,
             "#f0f921"
            ]
           ],
           "sequentialminus": [
            [
             0,
             "#0d0887"
            ],
            [
             0.1111111111111111,
             "#46039f"
            ],
            [
             0.2222222222222222,
             "#7201a8"
            ],
            [
             0.3333333333333333,
             "#9c179e"
            ],
            [
             0.4444444444444444,
             "#bd3786"
            ],
            [
             0.5555555555555556,
             "#d8576b"
            ],
            [
             0.6666666666666666,
             "#ed7953"
            ],
            [
             0.7777777777777778,
             "#fb9f3a"
            ],
            [
             0.8888888888888888,
             "#fdca26"
            ],
            [
             1,
             "#f0f921"
            ]
           ]
          },
          "colorway": [
           "#636efa",
           "#EF553B",
           "#00cc96",
           "#ab63fa",
           "#FFA15A",
           "#19d3f3",
           "#FF6692",
           "#B6E880",
           "#FF97FF",
           "#FECB52"
          ],
          "font": {
           "color": "#2a3f5f"
          },
          "geo": {
           "bgcolor": "white",
           "lakecolor": "white",
           "landcolor": "#E5ECF6",
           "showlakes": true,
           "showland": true,
           "subunitcolor": "white"
          },
          "hoverlabel": {
           "align": "left"
          },
          "hovermode": "closest",
          "mapbox": {
           "style": "light"
          },
          "paper_bgcolor": "white",
          "plot_bgcolor": "#E5ECF6",
          "polar": {
           "angularaxis": {
            "gridcolor": "white",
            "linecolor": "white",
            "ticks": ""
           },
           "bgcolor": "#E5ECF6",
           "radialaxis": {
            "gridcolor": "white",
            "linecolor": "white",
            "ticks": ""
           }
          },
          "scene": {
           "xaxis": {
            "backgroundcolor": "#E5ECF6",
            "gridcolor": "white",
            "gridwidth": 2,
            "linecolor": "white",
            "showbackground": true,
            "ticks": "",
            "zerolinecolor": "white"
           },
           "yaxis": {
            "backgroundcolor": "#E5ECF6",
            "gridcolor": "white",
            "gridwidth": 2,
            "linecolor": "white",
            "showbackground": true,
            "ticks": "",
            "zerolinecolor": "white"
           },
           "zaxis": {
            "backgroundcolor": "#E5ECF6",
            "gridcolor": "white",
            "gridwidth": 2,
            "linecolor": "white",
            "showbackground": true,
            "ticks": "",
            "zerolinecolor": "white"
           }
          },
          "shapedefaults": {
           "line": {
            "color": "#2a3f5f"
           }
          },
          "ternary": {
           "aaxis": {
            "gridcolor": "white",
            "linecolor": "white",
            "ticks": ""
           },
           "baxis": {
            "gridcolor": "white",
            "linecolor": "white",
            "ticks": ""
           },
           "bgcolor": "#E5ECF6",
           "caxis": {
            "gridcolor": "white",
            "linecolor": "white",
            "ticks": ""
           }
          },
          "title": {
           "x": 0.05
          },
          "xaxis": {
           "automargin": true,
           "gridcolor": "white",
           "linecolor": "white",
           "ticks": "",
           "title": {
            "standoff": 15
           },
           "zerolinecolor": "white",
           "zerolinewidth": 2
          },
          "yaxis": {
           "automargin": true,
           "gridcolor": "white",
           "linecolor": "white",
           "ticks": "",
           "title": {
            "standoff": 15
           },
           "zerolinecolor": "white",
           "zerolinewidth": 2
          }
         }
        },
        "title": {
         "text": "Niveles Promedio de Contaminación de PM10 por Distrito"
        },
        "updatemenus": [
         {
          "buttons": [
           {
            "args": [
             null,
             {
              "frame": {
               "duration": 500,
               "redraw": true
              },
              "fromcurrent": true,
              "mode": "immediate",
              "transition": {
               "duration": 500,
               "easing": "linear"
              }
             }
            ],
            "label": "&#9654;",
            "method": "animate"
           },
           {
            "args": [
             [
              null
             ],
             {
              "frame": {
               "duration": 0,
               "redraw": true
              },
              "fromcurrent": true,
              "mode": "immediate",
              "transition": {
               "duration": 0,
               "easing": "linear"
              }
             }
            ],
            "label": "&#9724;",
            "method": "animate"
           }
          ],
          "direction": "left",
          "pad": {
           "r": 10,
           "t": 70
          },
          "showactive": false,
          "type": "buttons",
          "x": 0.1,
          "xanchor": "right",
          "y": 0,
          "yanchor": "top"
         }
        ],
        "xaxis": {
         "anchor": "y",
         "domain": [
          0,
          1
         ],
         "tickangle": 10,
         "title": {
          "text": "Distrito"
         }
        },
        "yaxis": {
         "anchor": "x",
         "domain": [
          0,
          1
         ],
         "title": {
          "text": "Concentración PM10"
         }
        }
       }
      }
     },
     "metadata": {},
     "output_type": "display_data"
    }
   ],
   "source": [
    "# Calcular promedio de contaminantes por distrito y año\n",
    "distrito_pollution = df_filtrado.groupby(['DISTRITO', 'YEAR'])['PM10'].mean().reset_index()\n",
    "\n",
    "# Gráfico de barras con escala de color basada en concentración\n",
    "fig_distrito = px.bar(\n",
    "    distrito_pollution, \n",
    "    x='DISTRITO', \n",
    "    y='PM10', \n",
    "    color='PM10',  # Color basado en concentración\n",
    "    color_continuous_scale='OrRd',  # Escala de color (verde a amarillo a púrpura)\n",
    "    title='Niveles Promedio de Contaminación de PM10 por Distrito',\n",
    "    labels={'PM10': 'Concentración'},\n",
    "    animation_frame='YEAR',  # Slider de año\n",
    "    animation_group='DISTRITO'\n",
    ")\n",
    "\n",
    "fig_distrito.update_layout(\n",
    "    xaxis_title='Distrito',\n",
    "    yaxis_title='Concentración PM10',\n",
    "    xaxis = dict(tickangle = 10), # Rotar etiquetas\n",
    "    margin=dict(b=150) # Aumentar margen inferior\n",
    ")\n",
    "\n",
    "fig_distrito.show()"
   ]
  },
  {
   "cell_type": "code",
   "execution_count": 11,
   "metadata": {},
   "outputs": [
    {
     "data": {
      "application/vnd.plotly.v1+json": {
       "config": {
        "plotlyServerURL": "https://plot.ly"
       },
       "data": [
        {
         "alignmentgroup": "True",
         "hovertemplate": "YEAR=2015<br>DISTRITO=%{x}<br>Concentración=%{marker.color}<extra></extra>",
         "ids": [
          "CARABAYLLO",
          "JESUS_MARIA",
          "SANTA_ANITA",
          "SAN_BORJA",
          "SAN_JUAN_DE_LURIGANCHO",
          "SAN_MARTIN_DE_PORRES",
          "VILLA_MARIA_DEL_TRIUNFO"
         ],
         "legendgroup": "",
         "marker": {
          "color": [
           22.500782348052997,
           16.51716891317808,
           26.21350071027631,
           18.30605882177403,
           27.359233258270873,
           16.967157099922527,
           22.186741546303082
          ],
          "coloraxis": "coloraxis",
          "pattern": {
           "shape": ""
          }
         },
         "name": "",
         "offsetgroup": "",
         "orientation": "v",
         "showlegend": false,
         "textposition": "auto",
         "type": "bar",
         "x": [
          "CARABAYLLO",
          "JESUS_MARIA",
          "SANTA_ANITA",
          "SAN_BORJA",
          "SAN_JUAN_DE_LURIGANCHO",
          "SAN_MARTIN_DE_PORRES",
          "VILLA_MARIA_DEL_TRIUNFO"
         ],
         "xaxis": "x",
         "y": [
          22.500782348052997,
          16.51716891317808,
          26.21350071027631,
          18.30605882177403,
          27.359233258270873,
          16.967157099922527,
          22.186741546303082
         ],
         "yaxis": "y"
        }
       ],
       "frames": [
        {
         "data": [
          {
           "alignmentgroup": "True",
           "hovertemplate": "YEAR=2015<br>DISTRITO=%{x}<br>Concentración=%{marker.color}<extra></extra>",
           "ids": [
            "CARABAYLLO",
            "JESUS_MARIA",
            "SANTA_ANITA",
            "SAN_BORJA",
            "SAN_JUAN_DE_LURIGANCHO",
            "SAN_MARTIN_DE_PORRES",
            "VILLA_MARIA_DEL_TRIUNFO"
           ],
           "legendgroup": "",
           "marker": {
            "color": [
             22.500782348052997,
             16.51716891317808,
             26.21350071027631,
             18.30605882177403,
             27.359233258270873,
             16.967157099922527,
             22.186741546303082
            ],
            "coloraxis": "coloraxis",
            "pattern": {
             "shape": ""
            }
           },
           "name": "",
           "offsetgroup": "",
           "orientation": "v",
           "showlegend": false,
           "textposition": "auto",
           "type": "bar",
           "x": [
            "CARABAYLLO",
            "JESUS_MARIA",
            "SANTA_ANITA",
            "SAN_BORJA",
            "SAN_JUAN_DE_LURIGANCHO",
            "SAN_MARTIN_DE_PORRES",
            "VILLA_MARIA_DEL_TRIUNFO"
           ],
           "xaxis": "x",
           "y": [
            22.500782348052997,
            16.51716891317808,
            26.21350071027631,
            18.30605882177403,
            27.359233258270873,
            16.967157099922527,
            22.186741546303082
           ],
           "yaxis": "y"
          }
         ],
         "name": "2015"
        },
        {
         "data": [
          {
           "alignmentgroup": "True",
           "hovertemplate": "YEAR=2016<br>DISTRITO=%{x}<br>Concentración=%{marker.color}<extra></extra>",
           "ids": [
            "CARABAYLLO",
            "JESUS_MARIA",
            "SANTA_ANITA",
            "SAN_BORJA",
            "SAN_JUAN_DE_LURIGANCHO",
            "SAN_MARTIN_DE_PORRES",
            "VILLA_MARIA_DEL_TRIUNFO"
           ],
           "legendgroup": "",
           "marker": {
            "color": [
             28.066546375894582,
             17.21838037570134,
             31.286088519888484,
             19.999808782260875,
             29.923635146725754,
             18.35786372281605,
             24.394932865832825
            ],
            "coloraxis": "coloraxis",
            "pattern": {
             "shape": ""
            }
           },
           "name": "",
           "offsetgroup": "",
           "orientation": "v",
           "showlegend": false,
           "textposition": "auto",
           "type": "bar",
           "x": [
            "CARABAYLLO",
            "JESUS_MARIA",
            "SANTA_ANITA",
            "SAN_BORJA",
            "SAN_JUAN_DE_LURIGANCHO",
            "SAN_MARTIN_DE_PORRES",
            "VILLA_MARIA_DEL_TRIUNFO"
           ],
           "xaxis": "x",
           "y": [
            28.066546375894582,
            17.21838037570134,
            31.286088519888484,
            19.999808782260875,
            29.923635146725754,
            18.35786372281605,
            24.394932865832825
           ],
           "yaxis": "y"
          }
         ],
         "name": "2016"
        },
        {
         "data": [
          {
           "alignmentgroup": "True",
           "hovertemplate": "YEAR=2017<br>DISTRITO=%{x}<br>Concentración=%{marker.color}<extra></extra>",
           "ids": [
            "CARABAYLLO",
            "JESUS_MARIA",
            "SANTA_ANITA",
            "SAN_BORJA",
            "SAN_JUAN_DE_LURIGANCHO",
            "SAN_MARTIN_DE_PORRES",
            "VILLA_MARIA_DEL_TRIUNFO"
           ],
           "legendgroup": "",
           "marker": {
            "color": [
             22.989679769370664,
             16.002078588028056,
             30.16840843514302,
             16.468452600716756,
             31.764620080688672,
             17.7333080541656,
             23.559682790998874
            ],
            "coloraxis": "coloraxis",
            "pattern": {
             "shape": ""
            }
           },
           "name": "",
           "offsetgroup": "",
           "orientation": "v",
           "showlegend": false,
           "textposition": "auto",
           "type": "bar",
           "x": [
            "CARABAYLLO",
            "JESUS_MARIA",
            "SANTA_ANITA",
            "SAN_BORJA",
            "SAN_JUAN_DE_LURIGANCHO",
            "SAN_MARTIN_DE_PORRES",
            "VILLA_MARIA_DEL_TRIUNFO"
           ],
           "xaxis": "x",
           "y": [
            22.989679769370664,
            16.002078588028056,
            30.16840843514302,
            16.468452600716756,
            31.764620080688672,
            17.7333080541656,
            23.559682790998874
           ],
           "yaxis": "y"
          }
         ],
         "name": "2017"
        },
        {
         "data": [
          {
           "alignmentgroup": "True",
           "hovertemplate": "YEAR=2018<br>DISTRITO=%{x}<br>Concentración=%{marker.color}<extra></extra>",
           "ids": [
            "CARABAYLLO",
            "JESUS_MARIA",
            "SANTA_ANITA",
            "SAN_BORJA",
            "SAN_JUAN_DE_LURIGANCHO",
            "SAN_MARTIN_DE_PORRES",
            "VILLA_MARIA_DEL_TRIUNFO"
           ],
           "legendgroup": "",
           "marker": {
            "color": [
             24.485255243273524,
             20.3881385668917,
             27.573981188668654,
             18.25247731290748,
             29.47749756013677,
             21.39785054904125,
             22.61983183736715
            ],
            "coloraxis": "coloraxis",
            "pattern": {
             "shape": ""
            }
           },
           "name": "",
           "offsetgroup": "",
           "orientation": "v",
           "showlegend": false,
           "textposition": "auto",
           "type": "bar",
           "x": [
            "CARABAYLLO",
            "JESUS_MARIA",
            "SANTA_ANITA",
            "SAN_BORJA",
            "SAN_JUAN_DE_LURIGANCHO",
            "SAN_MARTIN_DE_PORRES",
            "VILLA_MARIA_DEL_TRIUNFO"
           ],
           "xaxis": "x",
           "y": [
            24.485255243273524,
            20.3881385668917,
            27.573981188668654,
            18.25247731290748,
            29.47749756013677,
            21.39785054904125,
            22.61983183736715
           ],
           "yaxis": "y"
          }
         ],
         "name": "2018"
        },
        {
         "data": [
          {
           "alignmentgroup": "True",
           "hovertemplate": "YEAR=2019<br>DISTRITO=%{x}<br>Concentración=%{marker.color}<extra></extra>",
           "ids": [
            "CARABAYLLO",
            "JESUS_MARIA",
            "SANTA_ANITA",
            "SAN_BORJA",
            "SAN_JUAN_DE_LURIGANCHO",
            "SAN_MARTIN_DE_PORRES",
            "VILLA_MARIA_DEL_TRIUNFO"
           ],
           "legendgroup": "",
           "marker": {
            "color": [
             26.855199702424162,
             19.579556233122453,
             26.645819718875703,
             22.842811400968273,
             30.39008317596655,
             24.557745222225783,
             26.031481248015147
            ],
            "coloraxis": "coloraxis",
            "pattern": {
             "shape": ""
            }
           },
           "name": "",
           "offsetgroup": "",
           "orientation": "v",
           "showlegend": false,
           "textposition": "auto",
           "type": "bar",
           "x": [
            "CARABAYLLO",
            "JESUS_MARIA",
            "SANTA_ANITA",
            "SAN_BORJA",
            "SAN_JUAN_DE_LURIGANCHO",
            "SAN_MARTIN_DE_PORRES",
            "VILLA_MARIA_DEL_TRIUNFO"
           ],
           "xaxis": "x",
           "y": [
            26.855199702424162,
            19.579556233122453,
            26.645819718875703,
            22.842811400968273,
            30.39008317596655,
            24.557745222225783,
            26.031481248015147
           ],
           "yaxis": "y"
          }
         ],
         "name": "2019"
        },
        {
         "data": [
          {
           "alignmentgroup": "True",
           "hovertemplate": "YEAR=2020<br>DISTRITO=%{x}<br>Concentración=%{marker.color}<extra></extra>",
           "ids": [
            "CARABAYLLO",
            "JESUS_MARIA",
            "SANTA_ANITA",
            "SAN_BORJA",
            "SAN_JUAN_DE_LURIGANCHO",
            "SAN_MARTIN_DE_PORRES",
            "VILLA_MARIA_DEL_TRIUNFO"
           ],
           "legendgroup": "",
           "marker": {
            "color": [
             18.520680187201346,
             18.171254546409827,
             19.220886877906853,
             17.90447931838933,
             21.197340777964786,
             19.221481901163024,
             20.199149244114352
            ],
            "coloraxis": "coloraxis",
            "pattern": {
             "shape": ""
            }
           },
           "name": "",
           "offsetgroup": "",
           "orientation": "v",
           "showlegend": false,
           "textposition": "auto",
           "type": "bar",
           "x": [
            "CARABAYLLO",
            "JESUS_MARIA",
            "SANTA_ANITA",
            "SAN_BORJA",
            "SAN_JUAN_DE_LURIGANCHO",
            "SAN_MARTIN_DE_PORRES",
            "VILLA_MARIA_DEL_TRIUNFO"
           ],
           "xaxis": "x",
           "y": [
            18.520680187201346,
            18.171254546409827,
            19.220886877906853,
            17.90447931838933,
            21.197340777964786,
            19.221481901163024,
            20.199149244114352
           ],
           "yaxis": "y"
          }
         ],
         "name": "2020"
        },
        {
         "data": [
          {
           "alignmentgroup": "True",
           "hovertemplate": "YEAR=2021<br>DISTRITO=%{x}<br>Concentración=%{marker.color}<extra></extra>",
           "ids": [
            "CARABAYLLO",
            "JESUS_MARIA",
            "SANTA_ANITA",
            "SAN_BORJA",
            "SAN_JUAN_DE_LURIGANCHO",
            "SAN_MARTIN_DE_PORRES",
            "VILLA_MARIA_DEL_TRIUNFO"
           ],
           "legendgroup": "",
           "marker": {
            "color": [
             26.526399303481778,
             23.061463536399813,
             26.34352293746125,
             24.796742924045,
             30.541892291979106,
             25.339914267587666,
             26.079526053537627
            ],
            "coloraxis": "coloraxis",
            "pattern": {
             "shape": ""
            }
           },
           "name": "",
           "offsetgroup": "",
           "orientation": "v",
           "showlegend": false,
           "textposition": "auto",
           "type": "bar",
           "x": [
            "CARABAYLLO",
            "JESUS_MARIA",
            "SANTA_ANITA",
            "SAN_BORJA",
            "SAN_JUAN_DE_LURIGANCHO",
            "SAN_MARTIN_DE_PORRES",
            "VILLA_MARIA_DEL_TRIUNFO"
           ],
           "xaxis": "x",
           "y": [
            26.526399303481778,
            23.061463536399813,
            26.34352293746125,
            24.796742924045,
            30.541892291979106,
            25.339914267587666,
            26.079526053537627
           ],
           "yaxis": "y"
          }
         ],
         "name": "2021"
        },
        {
         "data": [
          {
           "alignmentgroup": "True",
           "hovertemplate": "YEAR=2022<br>DISTRITO=%{x}<br>Concentración=%{marker.color}<extra></extra>",
           "ids": [
            "CARABAYLLO",
            "JESUS_MARIA",
            "SANTA_ANITA",
            "SAN_BORJA",
            "SAN_JUAN_DE_LURIGANCHO",
            "SAN_MARTIN_DE_PORRES",
            "VILLA_MARIA_DEL_TRIUNFO"
           ],
           "legendgroup": "",
           "marker": {
            "color": [
             36.015930067811254,
             19.987949086815973,
             38.10271745069785,
             26.14143950533432,
             40.94346789459795,
             23.65017295954056,
             34.70252821106092
            ],
            "coloraxis": "coloraxis",
            "pattern": {
             "shape": ""
            }
           },
           "name": "",
           "offsetgroup": "",
           "orientation": "v",
           "showlegend": false,
           "textposition": "auto",
           "type": "bar",
           "x": [
            "CARABAYLLO",
            "JESUS_MARIA",
            "SANTA_ANITA",
            "SAN_BORJA",
            "SAN_JUAN_DE_LURIGANCHO",
            "SAN_MARTIN_DE_PORRES",
            "VILLA_MARIA_DEL_TRIUNFO"
           ],
           "xaxis": "x",
           "y": [
            36.015930067811254,
            19.987949086815973,
            38.10271745069785,
            26.14143950533432,
            40.94346789459795,
            23.65017295954056,
            34.70252821106092
           ],
           "yaxis": "y"
          }
         ],
         "name": "2022"
        },
        {
         "data": [
          {
           "alignmentgroup": "True",
           "hovertemplate": "YEAR=2023<br>DISTRITO=%{x}<br>Concentración=%{marker.color}<extra></extra>",
           "ids": [
            "CARABAYLLO",
            "JESUS_MARIA",
            "SANTA_ANITA",
            "SAN_BORJA",
            "SAN_JUAN_DE_LURIGANCHO",
            "SAN_MARTIN_DE_PORRES",
            "VILLA_MARIA_DEL_TRIUNFO"
           ],
           "legendgroup": "",
           "marker": {
            "color": [
             28.11777349415557,
             20.895951448198286,
             23.781259376495655,
             19.24099315478416,
             25.053676820654722,
             19.482192113911186,
             22.4188974749606
            ],
            "coloraxis": "coloraxis",
            "pattern": {
             "shape": ""
            }
           },
           "name": "",
           "offsetgroup": "",
           "orientation": "v",
           "showlegend": false,
           "textposition": "auto",
           "type": "bar",
           "x": [
            "CARABAYLLO",
            "JESUS_MARIA",
            "SANTA_ANITA",
            "SAN_BORJA",
            "SAN_JUAN_DE_LURIGANCHO",
            "SAN_MARTIN_DE_PORRES",
            "VILLA_MARIA_DEL_TRIUNFO"
           ],
           "xaxis": "x",
           "y": [
            28.11777349415557,
            20.895951448198286,
            23.781259376495655,
            19.24099315478416,
            25.053676820654722,
            19.482192113911186,
            22.4188974749606
           ],
           "yaxis": "y"
          }
         ],
         "name": "2023"
        },
        {
         "data": [
          {
           "alignmentgroup": "True",
           "hovertemplate": "YEAR=2024<br>DISTRITO=%{x}<br>Concentración=%{marker.color}<extra></extra>",
           "ids": [
            "CARABAYLLO",
            "JESUS_MARIA",
            "SANTA_ANITA",
            "SAN_BORJA",
            "SAN_JUAN_DE_LURIGANCHO",
            "SAN_MARTIN_DE_PORRES",
            "VILLA_MARIA_DEL_TRIUNFO"
           ],
           "legendgroup": "",
           "marker": {
            "color": [
             26.743703607770865,
             17.2676136492121,
             20.94806394340806,
             18.370756240394893,
             23.15234815253022,
             20.86060300152994,
             18.988955207101988
            ],
            "coloraxis": "coloraxis",
            "pattern": {
             "shape": ""
            }
           },
           "name": "",
           "offsetgroup": "",
           "orientation": "v",
           "showlegend": false,
           "textposition": "auto",
           "type": "bar",
           "x": [
            "CARABAYLLO",
            "JESUS_MARIA",
            "SANTA_ANITA",
            "SAN_BORJA",
            "SAN_JUAN_DE_LURIGANCHO",
            "SAN_MARTIN_DE_PORRES",
            "VILLA_MARIA_DEL_TRIUNFO"
           ],
           "xaxis": "x",
           "y": [
            26.743703607770865,
            17.2676136492121,
            20.94806394340806,
            18.370756240394893,
            23.15234815253022,
            20.86060300152994,
            18.988955207101988
           ],
           "yaxis": "y"
          }
         ],
         "name": "2024"
        }
       ],
       "layout": {
        "barmode": "relative",
        "coloraxis": {
         "colorbar": {
          "title": {
           "text": "Concentración"
          }
         },
         "colorscale": [
          [
           0,
           "rgb(255,247,236)"
          ],
          [
           0.125,
           "rgb(254,232,200)"
          ],
          [
           0.25,
           "rgb(253,212,158)"
          ],
          [
           0.375,
           "rgb(253,187,132)"
          ],
          [
           0.5,
           "rgb(252,141,89)"
          ],
          [
           0.625,
           "rgb(239,101,72)"
          ],
          [
           0.75,
           "rgb(215,48,31)"
          ],
          [
           0.875,
           "rgb(179,0,0)"
          ],
          [
           1,
           "rgb(127,0,0)"
          ]
         ]
        },
        "legend": {
         "tracegroupgap": 0
        },
        "margin": {
         "b": 150
        },
        "sliders": [
         {
          "active": 0,
          "currentvalue": {
           "prefix": "YEAR="
          },
          "len": 0.9,
          "pad": {
           "b": 10,
           "t": 60
          },
          "steps": [
           {
            "args": [
             [
              "2015"
             ],
             {
              "frame": {
               "duration": 0,
               "redraw": true
              },
              "fromcurrent": true,
              "mode": "immediate",
              "transition": {
               "duration": 0,
               "easing": "linear"
              }
             }
            ],
            "label": "2015",
            "method": "animate"
           },
           {
            "args": [
             [
              "2016"
             ],
             {
              "frame": {
               "duration": 0,
               "redraw": true
              },
              "fromcurrent": true,
              "mode": "immediate",
              "transition": {
               "duration": 0,
               "easing": "linear"
              }
             }
            ],
            "label": "2016",
            "method": "animate"
           },
           {
            "args": [
             [
              "2017"
             ],
             {
              "frame": {
               "duration": 0,
               "redraw": true
              },
              "fromcurrent": true,
              "mode": "immediate",
              "transition": {
               "duration": 0,
               "easing": "linear"
              }
             }
            ],
            "label": "2017",
            "method": "animate"
           },
           {
            "args": [
             [
              "2018"
             ],
             {
              "frame": {
               "duration": 0,
               "redraw": true
              },
              "fromcurrent": true,
              "mode": "immediate",
              "transition": {
               "duration": 0,
               "easing": "linear"
              }
             }
            ],
            "label": "2018",
            "method": "animate"
           },
           {
            "args": [
             [
              "2019"
             ],
             {
              "frame": {
               "duration": 0,
               "redraw": true
              },
              "fromcurrent": true,
              "mode": "immediate",
              "transition": {
               "duration": 0,
               "easing": "linear"
              }
             }
            ],
            "label": "2019",
            "method": "animate"
           },
           {
            "args": [
             [
              "2020"
             ],
             {
              "frame": {
               "duration": 0,
               "redraw": true
              },
              "fromcurrent": true,
              "mode": "immediate",
              "transition": {
               "duration": 0,
               "easing": "linear"
              }
             }
            ],
            "label": "2020",
            "method": "animate"
           },
           {
            "args": [
             [
              "2021"
             ],
             {
              "frame": {
               "duration": 0,
               "redraw": true
              },
              "fromcurrent": true,
              "mode": "immediate",
              "transition": {
               "duration": 0,
               "easing": "linear"
              }
             }
            ],
            "label": "2021",
            "method": "animate"
           },
           {
            "args": [
             [
              "2022"
             ],
             {
              "frame": {
               "duration": 0,
               "redraw": true
              },
              "fromcurrent": true,
              "mode": "immediate",
              "transition": {
               "duration": 0,
               "easing": "linear"
              }
             }
            ],
            "label": "2022",
            "method": "animate"
           },
           {
            "args": [
             [
              "2023"
             ],
             {
              "frame": {
               "duration": 0,
               "redraw": true
              },
              "fromcurrent": true,
              "mode": "immediate",
              "transition": {
               "duration": 0,
               "easing": "linear"
              }
             }
            ],
            "label": "2023",
            "method": "animate"
           },
           {
            "args": [
             [
              "2024"
             ],
             {
              "frame": {
               "duration": 0,
               "redraw": true
              },
              "fromcurrent": true,
              "mode": "immediate",
              "transition": {
               "duration": 0,
               "easing": "linear"
              }
             }
            ],
            "label": "2024",
            "method": "animate"
           }
          ],
          "x": 0.1,
          "xanchor": "left",
          "y": 0,
          "yanchor": "top"
         }
        ],
        "template": {
         "data": {
          "bar": [
           {
            "error_x": {
             "color": "#2a3f5f"
            },
            "error_y": {
             "color": "#2a3f5f"
            },
            "marker": {
             "line": {
              "color": "#E5ECF6",
              "width": 0.5
             },
             "pattern": {
              "fillmode": "overlay",
              "size": 10,
              "solidity": 0.2
             }
            },
            "type": "bar"
           }
          ],
          "barpolar": [
           {
            "marker": {
             "line": {
              "color": "#E5ECF6",
              "width": 0.5
             },
             "pattern": {
              "fillmode": "overlay",
              "size": 10,
              "solidity": 0.2
             }
            },
            "type": "barpolar"
           }
          ],
          "carpet": [
           {
            "aaxis": {
             "endlinecolor": "#2a3f5f",
             "gridcolor": "white",
             "linecolor": "white",
             "minorgridcolor": "white",
             "startlinecolor": "#2a3f5f"
            },
            "baxis": {
             "endlinecolor": "#2a3f5f",
             "gridcolor": "white",
             "linecolor": "white",
             "minorgridcolor": "white",
             "startlinecolor": "#2a3f5f"
            },
            "type": "carpet"
           }
          ],
          "choropleth": [
           {
            "colorbar": {
             "outlinewidth": 0,
             "ticks": ""
            },
            "type": "choropleth"
           }
          ],
          "contour": [
           {
            "colorbar": {
             "outlinewidth": 0,
             "ticks": ""
            },
            "colorscale": [
             [
              0,
              "#0d0887"
             ],
             [
              0.1111111111111111,
              "#46039f"
             ],
             [
              0.2222222222222222,
              "#7201a8"
             ],
             [
              0.3333333333333333,
              "#9c179e"
             ],
             [
              0.4444444444444444,
              "#bd3786"
             ],
             [
              0.5555555555555556,
              "#d8576b"
             ],
             [
              0.6666666666666666,
              "#ed7953"
             ],
             [
              0.7777777777777778,
              "#fb9f3a"
             ],
             [
              0.8888888888888888,
              "#fdca26"
             ],
             [
              1,
              "#f0f921"
             ]
            ],
            "type": "contour"
           }
          ],
          "contourcarpet": [
           {
            "colorbar": {
             "outlinewidth": 0,
             "ticks": ""
            },
            "type": "contourcarpet"
           }
          ],
          "heatmap": [
           {
            "colorbar": {
             "outlinewidth": 0,
             "ticks": ""
            },
            "colorscale": [
             [
              0,
              "#0d0887"
             ],
             [
              0.1111111111111111,
              "#46039f"
             ],
             [
              0.2222222222222222,
              "#7201a8"
             ],
             [
              0.3333333333333333,
              "#9c179e"
             ],
             [
              0.4444444444444444,
              "#bd3786"
             ],
             [
              0.5555555555555556,
              "#d8576b"
             ],
             [
              0.6666666666666666,
              "#ed7953"
             ],
             [
              0.7777777777777778,
              "#fb9f3a"
             ],
             [
              0.8888888888888888,
              "#fdca26"
             ],
             [
              1,
              "#f0f921"
             ]
            ],
            "type": "heatmap"
           }
          ],
          "heatmapgl": [
           {
            "colorbar": {
             "outlinewidth": 0,
             "ticks": ""
            },
            "colorscale": [
             [
              0,
              "#0d0887"
             ],
             [
              0.1111111111111111,
              "#46039f"
             ],
             [
              0.2222222222222222,
              "#7201a8"
             ],
             [
              0.3333333333333333,
              "#9c179e"
             ],
             [
              0.4444444444444444,
              "#bd3786"
             ],
             [
              0.5555555555555556,
              "#d8576b"
             ],
             [
              0.6666666666666666,
              "#ed7953"
             ],
             [
              0.7777777777777778,
              "#fb9f3a"
             ],
             [
              0.8888888888888888,
              "#fdca26"
             ],
             [
              1,
              "#f0f921"
             ]
            ],
            "type": "heatmapgl"
           }
          ],
          "histogram": [
           {
            "marker": {
             "pattern": {
              "fillmode": "overlay",
              "size": 10,
              "solidity": 0.2
             }
            },
            "type": "histogram"
           }
          ],
          "histogram2d": [
           {
            "colorbar": {
             "outlinewidth": 0,
             "ticks": ""
            },
            "colorscale": [
             [
              0,
              "#0d0887"
             ],
             [
              0.1111111111111111,
              "#46039f"
             ],
             [
              0.2222222222222222,
              "#7201a8"
             ],
             [
              0.3333333333333333,
              "#9c179e"
             ],
             [
              0.4444444444444444,
              "#bd3786"
             ],
             [
              0.5555555555555556,
              "#d8576b"
             ],
             [
              0.6666666666666666,
              "#ed7953"
             ],
             [
              0.7777777777777778,
              "#fb9f3a"
             ],
             [
              0.8888888888888888,
              "#fdca26"
             ],
             [
              1,
              "#f0f921"
             ]
            ],
            "type": "histogram2d"
           }
          ],
          "histogram2dcontour": [
           {
            "colorbar": {
             "outlinewidth": 0,
             "ticks": ""
            },
            "colorscale": [
             [
              0,
              "#0d0887"
             ],
             [
              0.1111111111111111,
              "#46039f"
             ],
             [
              0.2222222222222222,
              "#7201a8"
             ],
             [
              0.3333333333333333,
              "#9c179e"
             ],
             [
              0.4444444444444444,
              "#bd3786"
             ],
             [
              0.5555555555555556,
              "#d8576b"
             ],
             [
              0.6666666666666666,
              "#ed7953"
             ],
             [
              0.7777777777777778,
              "#fb9f3a"
             ],
             [
              0.8888888888888888,
              "#fdca26"
             ],
             [
              1,
              "#f0f921"
             ]
            ],
            "type": "histogram2dcontour"
           }
          ],
          "mesh3d": [
           {
            "colorbar": {
             "outlinewidth": 0,
             "ticks": ""
            },
            "type": "mesh3d"
           }
          ],
          "parcoords": [
           {
            "line": {
             "colorbar": {
              "outlinewidth": 0,
              "ticks": ""
             }
            },
            "type": "parcoords"
           }
          ],
          "pie": [
           {
            "automargin": true,
            "type": "pie"
           }
          ],
          "scatter": [
           {
            "fillpattern": {
             "fillmode": "overlay",
             "size": 10,
             "solidity": 0.2
            },
            "type": "scatter"
           }
          ],
          "scatter3d": [
           {
            "line": {
             "colorbar": {
              "outlinewidth": 0,
              "ticks": ""
             }
            },
            "marker": {
             "colorbar": {
              "outlinewidth": 0,
              "ticks": ""
             }
            },
            "type": "scatter3d"
           }
          ],
          "scattercarpet": [
           {
            "marker": {
             "colorbar": {
              "outlinewidth": 0,
              "ticks": ""
             }
            },
            "type": "scattercarpet"
           }
          ],
          "scattergeo": [
           {
            "marker": {
             "colorbar": {
              "outlinewidth": 0,
              "ticks": ""
             }
            },
            "type": "scattergeo"
           }
          ],
          "scattergl": [
           {
            "marker": {
             "colorbar": {
              "outlinewidth": 0,
              "ticks": ""
             }
            },
            "type": "scattergl"
           }
          ],
          "scattermapbox": [
           {
            "marker": {
             "colorbar": {
              "outlinewidth": 0,
              "ticks": ""
             }
            },
            "type": "scattermapbox"
           }
          ],
          "scatterpolar": [
           {
            "marker": {
             "colorbar": {
              "outlinewidth": 0,
              "ticks": ""
             }
            },
            "type": "scatterpolar"
           }
          ],
          "scatterpolargl": [
           {
            "marker": {
             "colorbar": {
              "outlinewidth": 0,
              "ticks": ""
             }
            },
            "type": "scatterpolargl"
           }
          ],
          "scatterternary": [
           {
            "marker": {
             "colorbar": {
              "outlinewidth": 0,
              "ticks": ""
             }
            },
            "type": "scatterternary"
           }
          ],
          "surface": [
           {
            "colorbar": {
             "outlinewidth": 0,
             "ticks": ""
            },
            "colorscale": [
             [
              0,
              "#0d0887"
             ],
             [
              0.1111111111111111,
              "#46039f"
             ],
             [
              0.2222222222222222,
              "#7201a8"
             ],
             [
              0.3333333333333333,
              "#9c179e"
             ],
             [
              0.4444444444444444,
              "#bd3786"
             ],
             [
              0.5555555555555556,
              "#d8576b"
             ],
             [
              0.6666666666666666,
              "#ed7953"
             ],
             [
              0.7777777777777778,
              "#fb9f3a"
             ],
             [
              0.8888888888888888,
              "#fdca26"
             ],
             [
              1,
              "#f0f921"
             ]
            ],
            "type": "surface"
           }
          ],
          "table": [
           {
            "cells": {
             "fill": {
              "color": "#EBF0F8"
             },
             "line": {
              "color": "white"
             }
            },
            "header": {
             "fill": {
              "color": "#C8D4E3"
             },
             "line": {
              "color": "white"
             }
            },
            "type": "table"
           }
          ]
         },
         "layout": {
          "annotationdefaults": {
           "arrowcolor": "#2a3f5f",
           "arrowhead": 0,
           "arrowwidth": 1
          },
          "autotypenumbers": "strict",
          "coloraxis": {
           "colorbar": {
            "outlinewidth": 0,
            "ticks": ""
           }
          },
          "colorscale": {
           "diverging": [
            [
             0,
             "#8e0152"
            ],
            [
             0.1,
             "#c51b7d"
            ],
            [
             0.2,
             "#de77ae"
            ],
            [
             0.3,
             "#f1b6da"
            ],
            [
             0.4,
             "#fde0ef"
            ],
            [
             0.5,
             "#f7f7f7"
            ],
            [
             0.6,
             "#e6f5d0"
            ],
            [
             0.7,
             "#b8e186"
            ],
            [
             0.8,
             "#7fbc41"
            ],
            [
             0.9,
             "#4d9221"
            ],
            [
             1,
             "#276419"
            ]
           ],
           "sequential": [
            [
             0,
             "#0d0887"
            ],
            [
             0.1111111111111111,
             "#46039f"
            ],
            [
             0.2222222222222222,
             "#7201a8"
            ],
            [
             0.3333333333333333,
             "#9c179e"
            ],
            [
             0.4444444444444444,
             "#bd3786"
            ],
            [
             0.5555555555555556,
             "#d8576b"
            ],
            [
             0.6666666666666666,
             "#ed7953"
            ],
            [
             0.7777777777777778,
             "#fb9f3a"
            ],
            [
             0.8888888888888888,
             "#fdca26"
            ],
            [
             1,
             "#f0f921"
            ]
           ],
           "sequentialminus": [
            [
             0,
             "#0d0887"
            ],
            [
             0.1111111111111111,
             "#46039f"
            ],
            [
             0.2222222222222222,
             "#7201a8"
            ],
            [
             0.3333333333333333,
             "#9c179e"
            ],
            [
             0.4444444444444444,
             "#bd3786"
            ],
            [
             0.5555555555555556,
             "#d8576b"
            ],
            [
             0.6666666666666666,
             "#ed7953"
            ],
            [
             0.7777777777777778,
             "#fb9f3a"
            ],
            [
             0.8888888888888888,
             "#fdca26"
            ],
            [
             1,
             "#f0f921"
            ]
           ]
          },
          "colorway": [
           "#636efa",
           "#EF553B",
           "#00cc96",
           "#ab63fa",
           "#FFA15A",
           "#19d3f3",
           "#FF6692",
           "#B6E880",
           "#FF97FF",
           "#FECB52"
          ],
          "font": {
           "color": "#2a3f5f"
          },
          "geo": {
           "bgcolor": "white",
           "lakecolor": "white",
           "landcolor": "#E5ECF6",
           "showlakes": true,
           "showland": true,
           "subunitcolor": "white"
          },
          "hoverlabel": {
           "align": "left"
          },
          "hovermode": "closest",
          "mapbox": {
           "style": "light"
          },
          "paper_bgcolor": "white",
          "plot_bgcolor": "#E5ECF6",
          "polar": {
           "angularaxis": {
            "gridcolor": "white",
            "linecolor": "white",
            "ticks": ""
           },
           "bgcolor": "#E5ECF6",
           "radialaxis": {
            "gridcolor": "white",
            "linecolor": "white",
            "ticks": ""
           }
          },
          "scene": {
           "xaxis": {
            "backgroundcolor": "#E5ECF6",
            "gridcolor": "white",
            "gridwidth": 2,
            "linecolor": "white",
            "showbackground": true,
            "ticks": "",
            "zerolinecolor": "white"
           },
           "yaxis": {
            "backgroundcolor": "#E5ECF6",
            "gridcolor": "white",
            "gridwidth": 2,
            "linecolor": "white",
            "showbackground": true,
            "ticks": "",
            "zerolinecolor": "white"
           },
           "zaxis": {
            "backgroundcolor": "#E5ECF6",
            "gridcolor": "white",
            "gridwidth": 2,
            "linecolor": "white",
            "showbackground": true,
            "ticks": "",
            "zerolinecolor": "white"
           }
          },
          "shapedefaults": {
           "line": {
            "color": "#2a3f5f"
           }
          },
          "ternary": {
           "aaxis": {
            "gridcolor": "white",
            "linecolor": "white",
            "ticks": ""
           },
           "baxis": {
            "gridcolor": "white",
            "linecolor": "white",
            "ticks": ""
           },
           "bgcolor": "#E5ECF6",
           "caxis": {
            "gridcolor": "white",
            "linecolor": "white",
            "ticks": ""
           }
          },
          "title": {
           "x": 0.05
          },
          "xaxis": {
           "automargin": true,
           "gridcolor": "white",
           "linecolor": "white",
           "ticks": "",
           "title": {
            "standoff": 15
           },
           "zerolinecolor": "white",
           "zerolinewidth": 2
          },
          "yaxis": {
           "automargin": true,
           "gridcolor": "white",
           "linecolor": "white",
           "ticks": "",
           "title": {
            "standoff": 15
           },
           "zerolinecolor": "white",
           "zerolinewidth": 2
          }
         }
        },
        "title": {
         "text": "Niveles Promedio de Contaminación de PM2_5 por Distrito"
        },
        "updatemenus": [
         {
          "buttons": [
           {
            "args": [
             null,
             {
              "frame": {
               "duration": 500,
               "redraw": true
              },
              "fromcurrent": true,
              "mode": "immediate",
              "transition": {
               "duration": 500,
               "easing": "linear"
              }
             }
            ],
            "label": "&#9654;",
            "method": "animate"
           },
           {
            "args": [
             [
              null
             ],
             {
              "frame": {
               "duration": 0,
               "redraw": true
              },
              "fromcurrent": true,
              "mode": "immediate",
              "transition": {
               "duration": 0,
               "easing": "linear"
              }
             }
            ],
            "label": "&#9724;",
            "method": "animate"
           }
          ],
          "direction": "left",
          "pad": {
           "r": 10,
           "t": 70
          },
          "showactive": false,
          "type": "buttons",
          "x": 0.1,
          "xanchor": "right",
          "y": 0,
          "yanchor": "top"
         }
        ],
        "xaxis": {
         "anchor": "y",
         "domain": [
          0,
          1
         ],
         "tickangle": 10,
         "title": {
          "text": "Distrito"
         }
        },
        "yaxis": {
         "anchor": "x",
         "domain": [
          0,
          1
         ],
         "title": {
          "text": "Concentración PM2_5"
         }
        }
       }
      }
     },
     "metadata": {},
     "output_type": "display_data"
    }
   ],
   "source": [
    "# Calcular promedio de contaminantes por distrito y año\n",
    "distrito_pollution = df_filtrado.groupby(['DISTRITO', 'YEAR'])['PM2_5'].mean().reset_index()\n",
    "\n",
    "# Gráfico de barras con escala de color basada en concentración\n",
    "fig_distrito = px.bar(\n",
    "    distrito_pollution, \n",
    "    x='DISTRITO', \n",
    "    y='PM2_5', \n",
    "    color='PM2_5',  # Color basado en concentración\n",
    "    color_continuous_scale='OrRd',  # Escala de color (verde a amarillo a púrpura)\n",
    "    title='Niveles Promedio de Contaminación de PM2_5 por Distrito',\n",
    "    labels={'PM2_5': 'Concentración'},\n",
    "    animation_frame='YEAR',  # Slider de año\n",
    "    animation_group='DISTRITO'\n",
    ")\n",
    "\n",
    "fig_distrito.update_layout(\n",
    "    xaxis_title='Distrito',\n",
    "    yaxis_title='Concentración PM2_5',\n",
    "    xaxis = dict(tickangle = 10), # Rotar etiquetas\n",
    "    margin=dict(b=150) # Aumentar margen inferior\n",
    ")\n",
    "\n",
    "fig_distrito.show()"
   ]
  },
  {
   "cell_type": "code",
   "execution_count": 12,
   "metadata": {},
   "outputs": [
    {
     "data": {
      "application/vnd.plotly.v1+json": {
       "config": {
        "plotlyServerURL": "https://plot.ly"
       },
       "data": [
        {
         "mode": "lines+markers",
         "name": "PM10",
         "type": "scatter",
         "x": [
          "2015-1",
          "2015-2",
          "2015-3",
          "2015-4",
          "2015-5",
          "2015-6",
          "2015-7",
          "2015-8",
          "2015-9",
          "2015-10",
          "2015-11",
          "2015-12",
          "2016-1",
          "2016-2",
          "2016-3",
          "2016-4",
          "2016-5",
          "2016-6",
          "2016-7",
          "2016-8",
          "2016-9",
          "2016-10",
          "2016-11",
          "2016-12",
          "2017-1",
          "2017-2",
          "2017-3",
          "2017-4",
          "2017-5",
          "2017-6",
          "2017-7",
          "2017-8",
          "2017-9",
          "2017-10",
          "2017-11",
          "2017-12",
          "2018-1",
          "2018-2",
          "2018-3",
          "2018-4",
          "2018-5",
          "2018-6",
          "2018-7",
          "2018-8",
          "2018-9",
          "2018-10",
          "2018-11",
          "2018-12",
          "2019-1",
          "2019-2",
          "2019-3",
          "2019-4",
          "2019-5",
          "2019-6",
          "2019-7",
          "2019-8",
          "2019-9",
          "2019-10",
          "2019-11",
          "2019-12",
          "2020-1",
          "2020-2",
          "2020-3",
          "2020-4",
          "2020-5",
          "2020-6",
          "2020-7",
          "2020-8",
          "2020-9",
          "2020-10",
          "2020-11",
          "2020-12",
          "2021-1",
          "2021-2",
          "2021-3",
          "2021-4",
          "2021-5",
          "2021-6",
          "2021-7",
          "2021-8",
          "2021-9",
          "2021-10",
          "2021-11",
          "2021-12",
          "2022-1",
          "2022-2",
          "2022-3",
          "2022-4",
          "2022-5",
          "2022-6",
          "2022-7",
          "2022-8",
          "2022-9",
          "2022-10",
          "2022-11",
          "2022-12",
          "2023-1",
          "2023-2",
          "2023-3",
          "2023-4",
          "2023-5",
          "2023-6",
          "2023-7",
          "2023-8",
          "2023-9",
          "2023-10",
          "2023-11",
          "2023-12",
          "2024-1",
          "2024-2",
          "2024-3",
          "2024-4",
          "2024-5"
         ],
         "y": [
          70.73853377879117,
          74.89518209267122,
          75.16403440938006,
          84.6326001271235,
          74.88916989077103,
          65.48295032355932,
          54.95370287733799,
          58.38634231972469,
          58.333352728167434,
          59.446326401010985,
          61.58505626433761,
          64.40016669412279,
          65.7724317069087,
          66.69937979996982,
          74.30761722390041,
          77.71330992502543,
          85.11410492877206,
          84.35747962405405,
          60.79183501172326,
          56.43105149234885,
          57.118884163701054,
          64.63441437707446,
          71.59003456966703,
          70.42795675613606,
          73.26690944136149,
          77.3194012108545,
          73.62321583792377,
          73.13778813790216,
          65.07216329889864,
          62.44732248280318,
          61.94468448484453,
          61.78684818787905,
          68.43405587776768,
          88.84981172093852,
          68.5295040973221,
          67.95690234962264,
          70.74623841356322,
          61.63286946150619,
          73.42031464850372,
          79.65881482846895,
          81.47345456828411,
          65.18095741013437,
          57.61048156820356,
          58.90279434893586,
          66.90090214011418,
          60.37192966529203,
          67.03659300567227,
          61.15737270758328,
          52.24821222354403,
          51.162352128852184,
          56.146264800352,
          56.84178016330168,
          61.995565348265984,
          55.35564002713321,
          47.900428529284774,
          48.500699322517,
          58.47352073901475,
          64.0076828716979,
          57.818394388516026,
          58.77115340014215,
          44.26647926274927,
          42.39748351016391,
          44.84668875318597,
          39.841357774683075,
          44.74767551958971,
          48.587091040651906,
          63.24542074706634,
          63.003734541342666,
          67.34037900761514,
          62.22132706874659,
          54.873890730284714,
          54.6128906925792,
          58.81155939500994,
          70.36122435916974,
          57.900516513056836,
          56.040965563875645,
          56.9637043936603,
          51.594849870443305,
          66.00437559371699,
          71.85808003765263,
          78.80696347636011,
          55.53347019614955,
          53.20142469470829,
          50.673174483669925,
          42.28130806401034,
          47.23158967609178,
          41.28831121880091,
          53.9549484633973,
          70.8053949292341,
          58.69055457249739,
          59.85971074097591,
          69.47517149801797,
          65.6284601657879,
          64.62498376944465,
          50.03678269450791,
          47.56170300561822,
          51.60577164525034,
          45.68048088602408,
          43.86573751602146,
          37.18422180282427,
          35.741133268249094,
          37.20286357826794,
          41.145009702379895,
          40.27577966457365,
          41.765434723368394,
          41.22625787929826,
          41.8555679211765,
          44.43965690955885,
          38.65681827562437,
          33.745253055692196,
          35.99676810037124,
          47.52657593022335,
          51.77020682574747
         ]
        },
        {
         "mode": "lines+markers",
         "name": "PM2.5",
         "type": "scatter",
         "x": [
          "2015-1",
          "2015-2",
          "2015-3",
          "2015-4",
          "2015-5",
          "2015-6",
          "2015-7",
          "2015-8",
          "2015-9",
          "2015-10",
          "2015-11",
          "2015-12",
          "2016-1",
          "2016-2",
          "2016-3",
          "2016-4",
          "2016-5",
          "2016-6",
          "2016-7",
          "2016-8",
          "2016-9",
          "2016-10",
          "2016-11",
          "2016-12",
          "2017-1",
          "2017-2",
          "2017-3",
          "2017-4",
          "2017-5",
          "2017-6",
          "2017-7",
          "2017-8",
          "2017-9",
          "2017-10",
          "2017-11",
          "2017-12",
          "2018-1",
          "2018-2",
          "2018-3",
          "2018-4",
          "2018-5",
          "2018-6",
          "2018-7",
          "2018-8",
          "2018-9",
          "2018-10",
          "2018-11",
          "2018-12",
          "2019-1",
          "2019-2",
          "2019-3",
          "2019-4",
          "2019-5",
          "2019-6",
          "2019-7",
          "2019-8",
          "2019-9",
          "2019-10",
          "2019-11",
          "2019-12",
          "2020-1",
          "2020-2",
          "2020-3",
          "2020-4",
          "2020-5",
          "2020-6",
          "2020-7",
          "2020-8",
          "2020-9",
          "2020-10",
          "2020-11",
          "2020-12",
          "2021-1",
          "2021-2",
          "2021-3",
          "2021-4",
          "2021-5",
          "2021-6",
          "2021-7",
          "2021-8",
          "2021-9",
          "2021-10",
          "2021-11",
          "2021-12",
          "2022-1",
          "2022-2",
          "2022-3",
          "2022-4",
          "2022-5",
          "2022-6",
          "2022-7",
          "2022-8",
          "2022-9",
          "2022-10",
          "2022-11",
          "2022-12",
          "2023-1",
          "2023-2",
          "2023-3",
          "2023-4",
          "2023-5",
          "2023-6",
          "2023-7",
          "2023-8",
          "2023-9",
          "2023-10",
          "2023-11",
          "2023-12",
          "2024-1",
          "2024-2",
          "2024-3",
          "2024-4",
          "2024-5"
         ],
         "y": [
          17.873104517766556,
          17.36474410612552,
          19.06080431404409,
          25.319018733100407,
          23.178845900051137,
          25.949204133167328,
          21.076495314179564,
          22.799857940158724,
          20.768717326176162,
          21.611748264204724,
          20.91990401403754,
          21.06869138534643,
          19.320614513003946,
          20.047013710968734,
          20.72315125508081,
          26.143220587578497,
          33.395158444055475,
          33.54732842848585,
          25.03375868584838,
          23.717008583656558,
          25.249188775949786,
          20.517679944739267,
          20.202540464961178,
          22.12204800232786,
          19.75561853224425,
          20.566089424854418,
          20.838404638702325,
          21.401322659517103,
          20.39272537339272,
          22.363480977649107,
          22.469951927575185,
          24.077498614331212,
          24.41008897498589,
          28.015767183468586,
          24.57356659440084,
          22.78718039670515,
          21.606046630749017,
          20.18841288348709,
          22.5684118828349,
          24.200033254966925,
          25.15488521342973,
          24.341311863139495,
          23.502683791001946,
          25.50801327099901,
          26.64433399616334,
          22.674365593496997,
          23.038099674386117,
          22.00190083476666,
          22.14372458804859,
          17.729844713890664,
          18.314917906112345,
          23.236058570501903,
          26.793734748229756,
          26.306424551440653,
          28.74279233639272,
          29.967067728859437,
          28.759551806187403,
          27.824819025518938,
          26.61267875987967,
          26.221135922410806,
          16.306684339294446,
          16.40003775912828,
          16.11775452191416,
          14.141661854278421,
          15.6812605837311,
          17.05859280578002,
          24.249636205887974,
          24.376598422770957,
          25.022529777700637,
          21.21036311935969,
          19.82987114039205,
          19.90136473637011,
          14.73512017295385,
          16.755050641650193,
          15.922833091431919,
          25.174708343955476,
          27.45664075335977,
          26.48958390515847,
          33.43632288437167,
          32.47488581522339,
          34.32376597675897,
          29.211939580817663,
          29.488840117227117,
          27.094353454097988,
          19.170451601784723,
          21.309202382115043,
          19.345132716824416,
          28.14019788861195,
          42.12205623452038,
          38.90946727210966,
          38.552087999581516,
          42.102956444273445,
          37.18470893500153,
          34.580509782526946,
          28.33709226394799,
          25.684264339035334,
          24.23445553684436,
          20.434875770863368,
          20.172314111177656,
          18.9396710420069,
          22.501804499734952,
          23.059376820496666,
          23.778987187862082,
          23.470805794962505,
          24.583393825274804,
          24.188333088754824,
          22.508291724185156,
          24.399204769340773,
          20.570440968001854,
          16.38869165860219,
          17.35513139750772,
          22.44497419334923,
          27.44067932875101
         ]
        }
       ],
       "layout": {
        "template": {
         "data": {
          "bar": [
           {
            "error_x": {
             "color": "#2a3f5f"
            },
            "error_y": {
             "color": "#2a3f5f"
            },
            "marker": {
             "line": {
              "color": "#E5ECF6",
              "width": 0.5
             },
             "pattern": {
              "fillmode": "overlay",
              "size": 10,
              "solidity": 0.2
             }
            },
            "type": "bar"
           }
          ],
          "barpolar": [
           {
            "marker": {
             "line": {
              "color": "#E5ECF6",
              "width": 0.5
             },
             "pattern": {
              "fillmode": "overlay",
              "size": 10,
              "solidity": 0.2
             }
            },
            "type": "barpolar"
           }
          ],
          "carpet": [
           {
            "aaxis": {
             "endlinecolor": "#2a3f5f",
             "gridcolor": "white",
             "linecolor": "white",
             "minorgridcolor": "white",
             "startlinecolor": "#2a3f5f"
            },
            "baxis": {
             "endlinecolor": "#2a3f5f",
             "gridcolor": "white",
             "linecolor": "white",
             "minorgridcolor": "white",
             "startlinecolor": "#2a3f5f"
            },
            "type": "carpet"
           }
          ],
          "choropleth": [
           {
            "colorbar": {
             "outlinewidth": 0,
             "ticks": ""
            },
            "type": "choropleth"
           }
          ],
          "contour": [
           {
            "colorbar": {
             "outlinewidth": 0,
             "ticks": ""
            },
            "colorscale": [
             [
              0,
              "#0d0887"
             ],
             [
              0.1111111111111111,
              "#46039f"
             ],
             [
              0.2222222222222222,
              "#7201a8"
             ],
             [
              0.3333333333333333,
              "#9c179e"
             ],
             [
              0.4444444444444444,
              "#bd3786"
             ],
             [
              0.5555555555555556,
              "#d8576b"
             ],
             [
              0.6666666666666666,
              "#ed7953"
             ],
             [
              0.7777777777777778,
              "#fb9f3a"
             ],
             [
              0.8888888888888888,
              "#fdca26"
             ],
             [
              1,
              "#f0f921"
             ]
            ],
            "type": "contour"
           }
          ],
          "contourcarpet": [
           {
            "colorbar": {
             "outlinewidth": 0,
             "ticks": ""
            },
            "type": "contourcarpet"
           }
          ],
          "heatmap": [
           {
            "colorbar": {
             "outlinewidth": 0,
             "ticks": ""
            },
            "colorscale": [
             [
              0,
              "#0d0887"
             ],
             [
              0.1111111111111111,
              "#46039f"
             ],
             [
              0.2222222222222222,
              "#7201a8"
             ],
             [
              0.3333333333333333,
              "#9c179e"
             ],
             [
              0.4444444444444444,
              "#bd3786"
             ],
             [
              0.5555555555555556,
              "#d8576b"
             ],
             [
              0.6666666666666666,
              "#ed7953"
             ],
             [
              0.7777777777777778,
              "#fb9f3a"
             ],
             [
              0.8888888888888888,
              "#fdca26"
             ],
             [
              1,
              "#f0f921"
             ]
            ],
            "type": "heatmap"
           }
          ],
          "heatmapgl": [
           {
            "colorbar": {
             "outlinewidth": 0,
             "ticks": ""
            },
            "colorscale": [
             [
              0,
              "#0d0887"
             ],
             [
              0.1111111111111111,
              "#46039f"
             ],
             [
              0.2222222222222222,
              "#7201a8"
             ],
             [
              0.3333333333333333,
              "#9c179e"
             ],
             [
              0.4444444444444444,
              "#bd3786"
             ],
             [
              0.5555555555555556,
              "#d8576b"
             ],
             [
              0.6666666666666666,
              "#ed7953"
             ],
             [
              0.7777777777777778,
              "#fb9f3a"
             ],
             [
              0.8888888888888888,
              "#fdca26"
             ],
             [
              1,
              "#f0f921"
             ]
            ],
            "type": "heatmapgl"
           }
          ],
          "histogram": [
           {
            "marker": {
             "pattern": {
              "fillmode": "overlay",
              "size": 10,
              "solidity": 0.2
             }
            },
            "type": "histogram"
           }
          ],
          "histogram2d": [
           {
            "colorbar": {
             "outlinewidth": 0,
             "ticks": ""
            },
            "colorscale": [
             [
              0,
              "#0d0887"
             ],
             [
              0.1111111111111111,
              "#46039f"
             ],
             [
              0.2222222222222222,
              "#7201a8"
             ],
             [
              0.3333333333333333,
              "#9c179e"
             ],
             [
              0.4444444444444444,
              "#bd3786"
             ],
             [
              0.5555555555555556,
              "#d8576b"
             ],
             [
              0.6666666666666666,
              "#ed7953"
             ],
             [
              0.7777777777777778,
              "#fb9f3a"
             ],
             [
              0.8888888888888888,
              "#fdca26"
             ],
             [
              1,
              "#f0f921"
             ]
            ],
            "type": "histogram2d"
           }
          ],
          "histogram2dcontour": [
           {
            "colorbar": {
             "outlinewidth": 0,
             "ticks": ""
            },
            "colorscale": [
             [
              0,
              "#0d0887"
             ],
             [
              0.1111111111111111,
              "#46039f"
             ],
             [
              0.2222222222222222,
              "#7201a8"
             ],
             [
              0.3333333333333333,
              "#9c179e"
             ],
             [
              0.4444444444444444,
              "#bd3786"
             ],
             [
              0.5555555555555556,
              "#d8576b"
             ],
             [
              0.6666666666666666,
              "#ed7953"
             ],
             [
              0.7777777777777778,
              "#fb9f3a"
             ],
             [
              0.8888888888888888,
              "#fdca26"
             ],
             [
              1,
              "#f0f921"
             ]
            ],
            "type": "histogram2dcontour"
           }
          ],
          "mesh3d": [
           {
            "colorbar": {
             "outlinewidth": 0,
             "ticks": ""
            },
            "type": "mesh3d"
           }
          ],
          "parcoords": [
           {
            "line": {
             "colorbar": {
              "outlinewidth": 0,
              "ticks": ""
             }
            },
            "type": "parcoords"
           }
          ],
          "pie": [
           {
            "automargin": true,
            "type": "pie"
           }
          ],
          "scatter": [
           {
            "fillpattern": {
             "fillmode": "overlay",
             "size": 10,
             "solidity": 0.2
            },
            "type": "scatter"
           }
          ],
          "scatter3d": [
           {
            "line": {
             "colorbar": {
              "outlinewidth": 0,
              "ticks": ""
             }
            },
            "marker": {
             "colorbar": {
              "outlinewidth": 0,
              "ticks": ""
             }
            },
            "type": "scatter3d"
           }
          ],
          "scattercarpet": [
           {
            "marker": {
             "colorbar": {
              "outlinewidth": 0,
              "ticks": ""
             }
            },
            "type": "scattercarpet"
           }
          ],
          "scattergeo": [
           {
            "marker": {
             "colorbar": {
              "outlinewidth": 0,
              "ticks": ""
             }
            },
            "type": "scattergeo"
           }
          ],
          "scattergl": [
           {
            "marker": {
             "colorbar": {
              "outlinewidth": 0,
              "ticks": ""
             }
            },
            "type": "scattergl"
           }
          ],
          "scattermapbox": [
           {
            "marker": {
             "colorbar": {
              "outlinewidth": 0,
              "ticks": ""
             }
            },
            "type": "scattermapbox"
           }
          ],
          "scatterpolar": [
           {
            "marker": {
             "colorbar": {
              "outlinewidth": 0,
              "ticks": ""
             }
            },
            "type": "scatterpolar"
           }
          ],
          "scatterpolargl": [
           {
            "marker": {
             "colorbar": {
              "outlinewidth": 0,
              "ticks": ""
             }
            },
            "type": "scatterpolargl"
           }
          ],
          "scatterternary": [
           {
            "marker": {
             "colorbar": {
              "outlinewidth": 0,
              "ticks": ""
             }
            },
            "type": "scatterternary"
           }
          ],
          "surface": [
           {
            "colorbar": {
             "outlinewidth": 0,
             "ticks": ""
            },
            "colorscale": [
             [
              0,
              "#0d0887"
             ],
             [
              0.1111111111111111,
              "#46039f"
             ],
             [
              0.2222222222222222,
              "#7201a8"
             ],
             [
              0.3333333333333333,
              "#9c179e"
             ],
             [
              0.4444444444444444,
              "#bd3786"
             ],
             [
              0.5555555555555556,
              "#d8576b"
             ],
             [
              0.6666666666666666,
              "#ed7953"
             ],
             [
              0.7777777777777778,
              "#fb9f3a"
             ],
             [
              0.8888888888888888,
              "#fdca26"
             ],
             [
              1,
              "#f0f921"
             ]
            ],
            "type": "surface"
           }
          ],
          "table": [
           {
            "cells": {
             "fill": {
              "color": "#EBF0F8"
             },
             "line": {
              "color": "white"
             }
            },
            "header": {
             "fill": {
              "color": "#C8D4E3"
             },
             "line": {
              "color": "white"
             }
            },
            "type": "table"
           }
          ]
         },
         "layout": {
          "annotationdefaults": {
           "arrowcolor": "#2a3f5f",
           "arrowhead": 0,
           "arrowwidth": 1
          },
          "autotypenumbers": "strict",
          "coloraxis": {
           "colorbar": {
            "outlinewidth": 0,
            "ticks": ""
           }
          },
          "colorscale": {
           "diverging": [
            [
             0,
             "#8e0152"
            ],
            [
             0.1,
             "#c51b7d"
            ],
            [
             0.2,
             "#de77ae"
            ],
            [
             0.3,
             "#f1b6da"
            ],
            [
             0.4,
             "#fde0ef"
            ],
            [
             0.5,
             "#f7f7f7"
            ],
            [
             0.6,
             "#e6f5d0"
            ],
            [
             0.7,
             "#b8e186"
            ],
            [
             0.8,
             "#7fbc41"
            ],
            [
             0.9,
             "#4d9221"
            ],
            [
             1,
             "#276419"
            ]
           ],
           "sequential": [
            [
             0,
             "#0d0887"
            ],
            [
             0.1111111111111111,
             "#46039f"
            ],
            [
             0.2222222222222222,
             "#7201a8"
            ],
            [
             0.3333333333333333,
             "#9c179e"
            ],
            [
             0.4444444444444444,
             "#bd3786"
            ],
            [
             0.5555555555555556,
             "#d8576b"
            ],
            [
             0.6666666666666666,
             "#ed7953"
            ],
            [
             0.7777777777777778,
             "#fb9f3a"
            ],
            [
             0.8888888888888888,
             "#fdca26"
            ],
            [
             1,
             "#f0f921"
            ]
           ],
           "sequentialminus": [
            [
             0,
             "#0d0887"
            ],
            [
             0.1111111111111111,
             "#46039f"
            ],
            [
             0.2222222222222222,
             "#7201a8"
            ],
            [
             0.3333333333333333,
             "#9c179e"
            ],
            [
             0.4444444444444444,
             "#bd3786"
            ],
            [
             0.5555555555555556,
             "#d8576b"
            ],
            [
             0.6666666666666666,
             "#ed7953"
            ],
            [
             0.7777777777777778,
             "#fb9f3a"
            ],
            [
             0.8888888888888888,
             "#fdca26"
            ],
            [
             1,
             "#f0f921"
            ]
           ]
          },
          "colorway": [
           "#636efa",
           "#EF553B",
           "#00cc96",
           "#ab63fa",
           "#FFA15A",
           "#19d3f3",
           "#FF6692",
           "#B6E880",
           "#FF97FF",
           "#FECB52"
          ],
          "font": {
           "color": "#2a3f5f"
          },
          "geo": {
           "bgcolor": "white",
           "lakecolor": "white",
           "landcolor": "#E5ECF6",
           "showlakes": true,
           "showland": true,
           "subunitcolor": "white"
          },
          "hoverlabel": {
           "align": "left"
          },
          "hovermode": "closest",
          "mapbox": {
           "style": "light"
          },
          "paper_bgcolor": "white",
          "plot_bgcolor": "#E5ECF6",
          "polar": {
           "angularaxis": {
            "gridcolor": "white",
            "linecolor": "white",
            "ticks": ""
           },
           "bgcolor": "#E5ECF6",
           "radialaxis": {
            "gridcolor": "white",
            "linecolor": "white",
            "ticks": ""
           }
          },
          "scene": {
           "xaxis": {
            "backgroundcolor": "#E5ECF6",
            "gridcolor": "white",
            "gridwidth": 2,
            "linecolor": "white",
            "showbackground": true,
            "ticks": "",
            "zerolinecolor": "white"
           },
           "yaxis": {
            "backgroundcolor": "#E5ECF6",
            "gridcolor": "white",
            "gridwidth": 2,
            "linecolor": "white",
            "showbackground": true,
            "ticks": "",
            "zerolinecolor": "white"
           },
           "zaxis": {
            "backgroundcolor": "#E5ECF6",
            "gridcolor": "white",
            "gridwidth": 2,
            "linecolor": "white",
            "showbackground": true,
            "ticks": "",
            "zerolinecolor": "white"
           }
          },
          "shapedefaults": {
           "line": {
            "color": "#2a3f5f"
           }
          },
          "ternary": {
           "aaxis": {
            "gridcolor": "white",
            "linecolor": "white",
            "ticks": ""
           },
           "baxis": {
            "gridcolor": "white",
            "linecolor": "white",
            "ticks": ""
           },
           "bgcolor": "#E5ECF6",
           "caxis": {
            "gridcolor": "white",
            "linecolor": "white",
            "ticks": ""
           }
          },
          "title": {
           "x": 0.05
          },
          "xaxis": {
           "automargin": true,
           "gridcolor": "white",
           "linecolor": "white",
           "ticks": "",
           "title": {
            "standoff": 15
           },
           "zerolinecolor": "white",
           "zerolinewidth": 2
          },
          "yaxis": {
           "automargin": true,
           "gridcolor": "white",
           "linecolor": "white",
           "ticks": "",
           "title": {
            "standoff": 15
           },
           "zerolinecolor": "white",
           "zerolinewidth": 2
          }
         }
        },
        "title": {
         "text": "Niveles de Contaminación a lo Largo del Tiempo"
        },
        "xaxis": {
         "title": {
          "text": "Año-Mes"
         }
        },
        "yaxis": {
         "title": {
          "text": "Concentración"
         }
        }
       }
      }
     },
     "metadata": {},
     "output_type": "display_data"
    }
   ],
   "source": [
    "# Agrupar por año y mes, calcular promedios\n",
    "time_pollution = df_filtrado.groupby(['YEAR', 'MONTH'])[['PM10', 'PM2_5']].mean().reset_index()\n",
    "\n",
    "# Gráfico de líneas de evolución temporal\n",
    "fig_tiempo = go.Figure()\n",
    "\n",
    "# Agregar traza para PM10\n",
    "fig_tiempo.add_trace(go.Scatter(\n",
    "    x=time_pollution['YEAR'].astype(str) + '-' + time_pollution['MONTH'].astype(str),\n",
    "    y=time_pollution['PM10'],\n",
    "    mode='lines+markers',\n",
    "    name='PM10'\n",
    "))\n",
    "\n",
    "# Agregar traza para PM2.5\n",
    "fig_tiempo.add_trace(go.Scatter(\n",
    "    x=time_pollution['YEAR'].astype(str) + '-' + time_pollution['MONTH'].astype(str),\n",
    "    y=time_pollution['PM2_5'],\n",
    "    mode='lines+markers',\n",
    "    name='PM2.5'\n",
    "))\n",
    "\n",
    "fig_tiempo.update_layout(\n",
    "    title='Niveles de Contaminación a lo Largo del Tiempo',\n",
    "    xaxis_title='Año-Mes',\n",
    "    yaxis_title='Concentración'\n",
    ")\n",
    "fig_tiempo.show()"
   ]
  },
  {
   "cell_type": "code",
   "execution_count": 13,
   "metadata": {},
   "outputs": [
    {
     "name": "stdout",
     "output_type": "stream",
     "text": [
      "Total de registros antes del filtrado: 577794\n",
      "Total de registros después del filtrado: 573517\n"
     ]
    }
   ],
   "source": [
    "# Seleccionar solo las columnas necesarias\n",
    "columnas_a_guardar = [\"ESTACION\", \"FECHA\", \"HORA\", \"PM10\", \"DISTRITO\"]\n",
    "df_filtrado = df_filtrado[columnas_a_guardar]\n",
    "\n",
    "# Guardar el dataset limpio\n",
    "df_filtrado.to_csv(\"..\\prediccion_reforestacion\\data\\data_monitoreo_contaminantes_filtrado.csv\", index=False)\n",
    "\n",
    "# Verificar los valores después del filtrado\n",
    "print(f\"Total de registros antes del filtrado: {len(df)}\")\n",
    "print(f\"Total de registros después del filtrado: {len(df_filtrado)}\")"
   ]
  }
 ],
 "metadata": {
  "kernelspec": {
   "display_name": "Python 3",
   "language": "python",
   "name": "python3"
  },
  "language_info": {
   "codemirror_mode": {
    "name": "ipython",
    "version": 3
   },
   "file_extension": ".py",
   "mimetype": "text/x-python",
   "name": "python",
   "nbconvert_exporter": "python",
   "pygments_lexer": "ipython3",
   "version": "3.10.4"
  }
 },
 "nbformat": 4,
 "nbformat_minor": 2
}
